{
 "cells": [
  {
   "cell_type": "code",
   "execution_count": 1,
   "metadata": {},
   "outputs": [],
   "source": [
    "import matplotlib.pyplot as plt\n",
    "import numpy as np\n",
    "import idx2numpy\n",
    "import pandas as pd\n",
    "from tqdm import tqdm"
   ]
  },
  {
   "cell_type": "code",
   "execution_count": 2,
   "metadata": {},
   "outputs": [],
   "source": [
    "test_images = idx2numpy.convert_from_file('../t10k-images.idx3-ubyte')\n",
    "test_labels = idx2numpy.convert_from_file('../t10k-labels.idx1-ubyte')\n",
    "train_images = idx2numpy.convert_from_file('../train-images.idx3-ubyte')\n",
    "train_labels = idx2numpy.convert_from_file('../train-labels.idx1-ubyte')"
   ]
  },
  {
   "cell_type": "code",
   "execution_count": 3,
   "metadata": {},
   "outputs": [
    {
     "name": "stdout",
     "output_type": "stream",
     "text": [
      "(10000, 28, 28)\n",
      "(10000,)\n",
      "(60000, 28, 28)\n",
      "(60000,)\n"
     ]
    }
   ],
   "source": [
    "print(test_images.shape)\n",
    "print(test_labels.shape)\n",
    "print(train_images.shape)\n",
    "print(train_labels.shape)"
   ]
  },
  {
   "cell_type": "code",
   "execution_count": 4,
   "metadata": {},
   "outputs": [],
   "source": [
    "train_images_flat=train_images.reshape(train_images.shape[0], -1).T\n",
    "test_images_flat=test_images.reshape(test_images.shape[0], -1).T"
   ]
  },
  {
   "cell_type": "code",
   "execution_count": 5,
   "metadata": {},
   "outputs": [
    {
     "name": "stdout",
     "output_type": "stream",
     "text": [
      "(784, 60000)\n",
      "(784, 10000)\n",
      "Train Examples=60000\n",
      "Test Examples=10000\n"
     ]
    },
    {
     "data": {
      "text/plain": [
       "(784, 60000)"
      ]
     },
     "execution_count": 5,
     "metadata": {},
     "output_type": "execute_result"
    }
   ],
   "source": [
    "print(train_images_flat.shape)\n",
    "print(test_images_flat.shape)\n",
    "m = train_images_flat.shape[1]\n",
    "m_test = test_images_flat.shape[1]\n",
    "print(f\"Train Examples={m}\")\n",
    "print(f\"Test Examples={m_test}\")\n",
    "X = train_images_flat/255\n",
    "X_test = test_images_flat/255\n",
    "X.shape"
   ]
  },
  {
   "cell_type": "code",
   "execution_count": 6,
   "metadata": {},
   "outputs": [],
   "source": [
    "# Y = train_labels.reshape(train_labels.shape[0],1).T # Y.shape is (1, m)\n",
    "# Y.shape"
   ]
  },
  {
   "cell_type": "code",
   "execution_count": 7,
   "metadata": {},
   "outputs": [],
   "source": [
    "def one_hot(row_vector, no_classes):\n",
    "    one_hot_vector = np.eye(no_classes)[row_vector.reshape(-1)]\n",
    "    return one_hot_vector.T"
   ]
  },
  {
   "cell_type": "code",
   "execution_count": 8,
   "metadata": {},
   "outputs": [
    {
     "name": "stdout",
     "output_type": "stream",
     "text": [
      "No. of Classes=10\n",
      "(10, 60000)\n",
      "(10, 10000)\n"
     ]
    }
   ],
   "source": [
    "C = train_labels.max()+1\n",
    "print(f\"No. of Classes={C}\")\n",
    "Y_hot = one_hot(train_labels,no_classes=C)\n",
    "Y_test_hot = one_hot(test_labels,no_classes=C)\n",
    "print(Y_hot.shape) #Y_hot.shape is (C,m)\n",
    "print(Y_test_hot.shape) #Y_hot.shape is (C,m)"
   ]
  },
  {
   "cell_type": "code",
   "execution_count": 9,
   "metadata": {},
   "outputs": [],
   "source": [
    "def initialize(n_x,C):\n",
    "#     global W,b\n",
    "    W = np.random.randn(train_images_flat.shape[0], C)*0.001 # W.shape is (n_x,1)\n",
    "    b = 0 #np.zeros((1,m)) #b.shape is (1,m)\n",
    "    return W,b"
   ]
  },
  {
   "cell_type": "code",
   "execution_count": 10,
   "metadata": {},
   "outputs": [],
   "source": [
    "# print(W.shape)\n",
    "# print(b.shape)"
   ]
  },
  {
   "cell_type": "code",
   "execution_count": 11,
   "metadata": {},
   "outputs": [],
   "source": [
    "def softmax(z):\n",
    "    t = np.exp(z)\n",
    "    a = t / np.sum(t, keepdims=True, axis=0)\n",
    "    return a"
   ]
  },
  {
   "cell_type": "code",
   "execution_count": 12,
   "metadata": {},
   "outputs": [],
   "source": [
    "def forward(W, X, b):\n",
    "#     global Z,A\n",
    "    Z = np.dot(W.T, X) + b # Z.shape is (C,m)\n",
    "    A = softmax(Z)  # A.shape is (C,m)\n",
    "    return Z, A"
   ]
  },
  {
   "cell_type": "code",
   "execution_count": 13,
   "metadata": {},
   "outputs": [],
   "source": [
    "def cost(A, Y_hot):\n",
    "#     global L,J\n",
    "# Calculate Loss\n",
    "    L = -np.sum(Y_hot*np.log(A), keepdims=True, axis=0) # L.shape is (1,m)   \n",
    "    #calculate Cost\n",
    "    J = np.sum(L, keepdims=True, axis=1)*(1/m) # J.shape is (1,1) \n",
    "    \n",
    "    return J"
   ]
  },
  {
   "cell_type": "code",
   "execution_count": 14,
   "metadata": {},
   "outputs": [],
   "source": [
    "# deivatives\n",
    "def backward(X, Y_hot, A):\n",
    "#     global dZ, dW, db\n",
    "    #dJ/dZ\n",
    "    dZ = A-Y_hot  # dZ.shape is (C,m)   '''BROADCASTING GOING ON HERE'''\n",
    "\n",
    "    #dJ/dW = sum(dL/dW)/m  which is equivalent to np.dot(X,dZ.T)/m\n",
    "    '''\n",
    "    dLdW = X*dZ  # dLdW.shape is (n_x, m)\n",
    "    dW = np.sum(dLdW, keepdims=True, axis=1)/m  #dW.shape is (n_x,1) [same as W.shape]\n",
    "    '''\n",
    "    dW = np.dot(X, dZ.T) / m\n",
    "    #dJ/db\n",
    "    db = np.sum(dZ, keepdims=True, axis=1)/m  # db.shape = (1,1)\n",
    "    \n",
    "    return dW, db"
   ]
  },
  {
   "cell_type": "code",
   "execution_count": 30,
   "metadata": {},
   "outputs": [],
   "source": [
    "# forward()\n",
    "# cost()\n",
    "# backward()\n",
    "# A.shape, Y_hot.shape, L.shape, J.shape,Z.shape, dZ.shape, W.shape, dW.shape, db.shape"
   ]
  },
  {
   "cell_type": "code",
   "execution_count": 15,
   "metadata": {},
   "outputs": [],
   "source": [
    "iterations=2000"
   ]
  },
  {
   "cell_type": "code",
   "execution_count": 19,
   "metadata": {
    "scrolled": true
   },
   "outputs": [],
   "source": [
    "#optimise\n",
    "def optimize(W, X, b, Y_hot, alpha, iterations):\n",
    "#     global costs\n",
    "    costs=[]\n",
    "    for i in range(iterations):\n",
    "        Z, A = forward(W, X, b)\n",
    "        if i%5 ==0:\n",
    "            J = cost(A, Y_hot)\n",
    "            costs.append(J)\n",
    "            print(f'Cost at {i}th loop = {J}')\n",
    "        dW, db = backward(X, Y_hot, A)\n",
    "        W = W - alpha*dW\n",
    "        b = b - alpha*db\n",
    "    return W, b, costs"
   ]
  },
  {
   "cell_type": "code",
   "execution_count": 16,
   "metadata": {},
   "outputs": [],
   "source": [
    "def model(X, Y_hot, C, alpha, iterations):\n",
    "    W, b = initialize(X.shape[1], C)\n",
    "    res_W, res_b, costs = optimize(W, X, b, Y_hot, alpha, iterations)\n",
    "    plt.plot(np.arange(0,iterations,5), np.array(costs).reshape(len(costs),1))\n",
    "    plt.ylabel('cost')\n",
    "    plt.xlabel('iterations')\n",
    "    plt.show()\n",
    "    return res_W, res_b, costs"
   ]
  },
  {
   "cell_type": "code",
   "execution_count": 17,
   "metadata": {},
   "outputs": [],
   "source": [
    "def predict(X_test, Y_test_hot, res_W, res_b):\n",
    "    Z_test, A_test = forward(res_W, X_test, res_b)\n",
    "    J_test = cost(A_test, Y_test_hot)\n",
    "    O_test = (np.max(A_test,axis=0) == A_test).T * np.array([0,1,2,3,4,5,6,7,8,9]).T\n",
    "    predicted_labels = np.sum(O_test,axis=1)\n",
    "    print(f'Accuracy : {100 - np.mean(np.abs(A_test - Y_test_hot))*100}')\n",
    "    print(f'Cost : {J_test}')\n",
    "    return predicted_labels"
   ]
  },
  {
   "cell_type": "code",
   "execution_count": 20,
   "metadata": {
    "scrolled": false
   },
   "outputs": [
    {
     "name": "stdout",
     "output_type": "stream",
     "text": [
      "Cost at 0th loop = [[2.30252698]]\n",
      "Cost at 5th loop = [[2.25474854]]\n",
      "Cost at 10th loop = [[2.20888994]]\n",
      "Cost at 15th loop = [[2.16475498]]\n",
      "Cost at 20th loop = [[2.12220237]]\n",
      "Cost at 25th loop = [[2.08112726]]\n",
      "Cost at 30th loop = [[2.041449]]\n",
      "Cost at 35th loop = [[2.00310293]]\n",
      "Cost at 40th loop = [[1.96603495]]\n",
      "Cost at 45th loop = [[1.93019789]]\n",
      "Cost at 50th loop = [[1.89554911]]\n",
      "Cost at 55th loop = [[1.86204902]]\n",
      "Cost at 60th loop = [[1.82965999]]\n",
      "Cost at 65th loop = [[1.79834583]]\n",
      "Cost at 70th loop = [[1.76807135]]\n",
      "Cost at 75th loop = [[1.7388022]]\n",
      "Cost at 80th loop = [[1.71050469]]\n",
      "Cost at 85th loop = [[1.68314583]]\n",
      "Cost at 90th loop = [[1.65669321]]\n",
      "Cost at 95th loop = [[1.63111512]]\n",
      "Cost at 100th loop = [[1.60638051]]\n",
      "Cost at 105th loop = [[1.58245903]]\n",
      "Cost at 110th loop = [[1.55932106]]\n",
      "Cost at 115th loop = [[1.53693776]]\n",
      "Cost at 120th loop = [[1.51528107]]\n",
      "Cost at 125th loop = [[1.49432371]]\n",
      "Cost at 130th loop = [[1.47403927]]\n",
      "Cost at 135th loop = [[1.45440213]]\n",
      "Cost at 140th loop = [[1.43538754]]\n",
      "Cost at 145th loop = [[1.41697158]]\n",
      "Cost at 150th loop = [[1.39913116]]\n",
      "Cost at 155th loop = [[1.38184404]]\n",
      "Cost at 160th loop = [[1.3650888]]\n",
      "Cost at 165th loop = [[1.34884481]]\n",
      "Cost at 170th loop = [[1.33309226]]\n",
      "Cost at 175th loop = [[1.31781211]]\n",
      "Cost at 180th loop = [[1.30298608]]\n",
      "Cost at 185th loop = [[1.28859663]]\n",
      "Cost at 190th loop = [[1.27462693]]\n",
      "Cost at 195th loop = [[1.26106085]]\n",
      "Cost at 200th loop = [[1.24788294]]\n",
      "Cost at 205th loop = [[1.23507839]]\n",
      "Cost at 210th loop = [[1.22263302]]\n",
      "Cost at 215th loop = [[1.21053324]]\n",
      "Cost at 220th loop = [[1.19876606]]\n",
      "Cost at 225th loop = [[1.18731902]]\n",
      "Cost at 230th loop = [[1.17618021]]\n",
      "Cost at 235th loop = [[1.16533823]]\n",
      "Cost at 240th loop = [[1.15478217]]\n",
      "Cost at 245th loop = [[1.14450158]]\n",
      "Cost at 250th loop = [[1.13448646]]\n",
      "Cost at 255th loop = [[1.12472725]]\n",
      "Cost at 260th loop = [[1.11521477]]\n",
      "Cost at 265th loop = [[1.10594027]]\n",
      "Cost at 270th loop = [[1.09689534]]\n",
      "Cost at 275th loop = [[1.08807194]]\n",
      "Cost at 280th loop = [[1.07946237]]\n",
      "Cost at 285th loop = [[1.07105926]]\n",
      "Cost at 290th loop = [[1.06285554]]\n",
      "Cost at 295th loop = [[1.05484443]]\n",
      "Cost at 300th loop = [[1.04701944]]\n",
      "Cost at 305th loop = [[1.03937436]]\n",
      "Cost at 310th loop = [[1.03190321]]\n",
      "Cost at 315th loop = [[1.02460028]]\n",
      "Cost at 320th loop = [[1.01746008]]\n",
      "Cost at 325th loop = [[1.01047733]]\n",
      "Cost at 330th loop = [[1.00364699]]\n",
      "Cost at 335th loop = [[0.9969642]]\n",
      "Cost at 340th loop = [[0.99042431]]\n",
      "Cost at 345th loop = [[0.98402284]]\n",
      "Cost at 350th loop = [[0.97775549]]\n",
      "Cost at 355th loop = [[0.97161813]]\n",
      "Cost at 360th loop = [[0.9656068]]\n",
      "Cost at 365th loop = [[0.95971767]]\n",
      "Cost at 370th loop = [[0.95394707]]\n",
      "Cost at 375th loop = [[0.94829149]]\n",
      "Cost at 380th loop = [[0.9427475]]\n",
      "Cost at 385th loop = [[0.93731186]]\n",
      "Cost at 390th loop = [[0.93198141]]\n",
      "Cost at 395th loop = [[0.92675312]]\n",
      "Cost at 400th loop = [[0.92162407]]\n",
      "Cost at 405th loop = [[0.91659145]]\n",
      "Cost at 410th loop = [[0.91165255]]\n",
      "Cost at 415th loop = [[0.90680475]]\n",
      "Cost at 420th loop = [[0.90204554]]\n",
      "Cost at 425th loop = [[0.89737249]]\n",
      "Cost at 430th loop = [[0.89278326]]\n",
      "Cost at 435th loop = [[0.88827557]]\n",
      "Cost at 440th loop = [[0.88384726]]\n",
      "Cost at 445th loop = [[0.87949622]]\n",
      "Cost at 450th loop = [[0.8752204]]\n",
      "Cost at 455th loop = [[0.87101784]]\n",
      "Cost at 460th loop = [[0.86688666]]\n",
      "Cost at 465th loop = [[0.862825]]\n",
      "Cost at 470th loop = [[0.8588311]]\n",
      "Cost at 475th loop = [[0.85490325]]\n",
      "Cost at 480th loop = [[0.85103978]]\n",
      "Cost at 485th loop = [[0.84723909]]\n",
      "Cost at 490th loop = [[0.84349963]]\n",
      "Cost at 495th loop = [[0.83981989]]\n",
      "Cost at 500th loop = [[0.83619844]]\n",
      "Cost at 505th loop = [[0.83263384]]\n",
      "Cost at 510th loop = [[0.82912476]]\n",
      "Cost at 515th loop = [[0.82566985]]\n",
      "Cost at 520th loop = [[0.82226785]]\n",
      "Cost at 525th loop = [[0.81891752]]\n",
      "Cost at 530th loop = [[0.81561765]]\n",
      "Cost at 535th loop = [[0.81236708]]\n",
      "Cost at 540th loop = [[0.80916468]]\n",
      "Cost at 545th loop = [[0.80600936]]\n",
      "Cost at 550th loop = [[0.80290005]]\n",
      "Cost at 555th loop = [[0.79983572]]\n",
      "Cost at 560th loop = [[0.79681537]]\n",
      "Cost at 565th loop = [[0.79383803]]\n",
      "Cost at 570th loop = [[0.79090276]]\n",
      "Cost at 575th loop = [[0.78800865]]\n",
      "Cost at 580th loop = [[0.78515479]]\n",
      "Cost at 585th loop = [[0.78234034]]\n",
      "Cost at 590th loop = [[0.77956444]]\n",
      "Cost at 595th loop = [[0.77682629]]\n",
      "Cost at 600th loop = [[0.77412509]]\n",
      "Cost at 605th loop = [[0.77146007]]\n",
      "Cost at 610th loop = [[0.76883048]]\n",
      "Cost at 615th loop = [[0.76623559]]\n",
      "Cost at 620th loop = [[0.7636747]]\n",
      "Cost at 625th loop = [[0.76114711]]\n",
      "Cost at 630th loop = [[0.75865215]]\n",
      "Cost at 635th loop = [[0.75618917]]\n",
      "Cost at 640th loop = [[0.75375753]]\n",
      "Cost at 645th loop = [[0.75135662]]\n",
      "Cost at 650th loop = [[0.74898583]]\n",
      "Cost at 655th loop = [[0.74664458]]\n",
      "Cost at 660th loop = [[0.74433228]]\n",
      "Cost at 665th loop = [[0.7420484]]\n",
      "Cost at 670th loop = [[0.73979237]]\n",
      "Cost at 675th loop = [[0.73756368]]\n",
      "Cost at 680th loop = [[0.73536181]]\n",
      "Cost at 685th loop = [[0.73318625]]\n",
      "Cost at 690th loop = [[0.73103652]]\n",
      "Cost at 695th loop = [[0.72891213]]\n",
      "Cost at 700th loop = [[0.72681263]]\n",
      "Cost at 705th loop = [[0.72473755]]\n",
      "Cost at 710th loop = [[0.72268646]]\n",
      "Cost at 715th loop = [[0.72065892]]\n",
      "Cost at 720th loop = [[0.7186545]]\n",
      "Cost at 725th loop = [[0.71667281]]\n",
      "Cost at 730th loop = [[0.71471342]]\n",
      "Cost at 735th loop = [[0.71277596]]\n",
      "Cost at 740th loop = [[0.71086004]]\n",
      "Cost at 745th loop = [[0.70896527]]\n",
      "Cost at 750th loop = [[0.70709131]]\n",
      "Cost at 755th loop = [[0.70523778]]\n",
      "Cost at 760th loop = [[0.70340435]]\n",
      "Cost at 765th loop = [[0.70159066]]\n",
      "Cost at 770th loop = [[0.69979639]]\n",
      "Cost at 775th loop = [[0.69802121]]\n",
      "Cost at 780th loop = [[0.6962648]]\n",
      "Cost at 785th loop = [[0.69452685]]\n",
      "Cost at 790th loop = [[0.69280706]]\n",
      "Cost at 795th loop = [[0.69110512]]\n",
      "Cost at 800th loop = [[0.68942076]]\n",
      "Cost at 805th loop = [[0.68775367]]\n",
      "Cost at 810th loop = [[0.68610359]]\n",
      "Cost at 815th loop = [[0.68447024]]\n",
      "Cost at 820th loop = [[0.68285335]]\n",
      "Cost at 825th loop = [[0.68125267]]\n",
      "Cost at 830th loop = [[0.67966793]]\n",
      "Cost at 835th loop = [[0.67809889]]\n",
      "Cost at 840th loop = [[0.67654531]]\n",
      "Cost at 845th loop = [[0.67500694]]\n",
      "Cost at 850th loop = [[0.67348354]]\n",
      "Cost at 855th loop = [[0.6719749]]\n",
      "Cost at 860th loop = [[0.67048078]]\n",
      "Cost at 865th loop = [[0.66900097]]\n",
      "Cost at 870th loop = [[0.66753524]]\n",
      "Cost at 875th loop = [[0.66608339]]\n",
      "Cost at 880th loop = [[0.66464521]]\n",
      "Cost at 885th loop = [[0.6632205]]\n",
      "Cost at 890th loop = [[0.66180906]]\n",
      "Cost at 895th loop = [[0.66041068]]\n",
      "Cost at 900th loop = [[0.65902519]]\n",
      "Cost at 905th loop = [[0.65765239]]\n",
      "Cost at 910th loop = [[0.65629211]]\n",
      "Cost at 915th loop = [[0.65494415]]\n",
      "Cost at 920th loop = [[0.65360835]]\n",
      "Cost at 925th loop = [[0.65228453]]\n",
      "Cost at 930th loop = [[0.65097251]]\n",
      "Cost at 935th loop = [[0.64967215]]\n",
      "Cost at 940th loop = [[0.64838326]]\n",
      "Cost at 945th loop = [[0.64710569]]\n",
      "Cost at 950th loop = [[0.64583929]]\n",
      "Cost at 955th loop = [[0.64458389]]\n",
      "Cost at 960th loop = [[0.64333936]]\n",
      "Cost at 965th loop = [[0.64210553]]\n",
      "Cost at 970th loop = [[0.64088226]]\n",
      "Cost at 975th loop = [[0.63966941]]\n",
      "Cost at 980th loop = [[0.63846684]]\n",
      "Cost at 985th loop = [[0.63727442]]\n",
      "Cost at 990th loop = [[0.63609199]]\n",
      "Cost at 995th loop = [[0.63491944]]\n",
      "Cost at 1000th loop = [[0.63375663]]\n",
      "Cost at 1005th loop = [[0.63260344]]\n",
      "Cost at 1010th loop = [[0.63145973]]\n",
      "Cost at 1015th loop = [[0.63032538]]\n",
      "Cost at 1020th loop = [[0.62920027]]\n",
      "Cost at 1025th loop = [[0.62808429]]\n",
      "Cost at 1030th loop = [[0.62697731]]\n",
      "Cost at 1035th loop = [[0.62587922]]\n",
      "Cost at 1040th loop = [[0.62478991]]\n",
      "Cost at 1045th loop = [[0.62370926]]\n",
      "Cost at 1050th loop = [[0.62263717]]\n",
      "Cost at 1055th loop = [[0.62157352]]\n",
      "Cost at 1060th loop = [[0.62051822]]\n",
      "Cost at 1065th loop = [[0.61947115]]\n",
      "Cost at 1070th loop = [[0.61843222]]\n",
      "Cost at 1075th loop = [[0.61740132]]\n",
      "Cost at 1080th loop = [[0.61637836]]\n",
      "Cost at 1085th loop = [[0.61536323]]\n",
      "Cost at 1090th loop = [[0.61435585]]\n",
      "Cost at 1095th loop = [[0.61335612]]\n",
      "Cost at 1100th loop = [[0.61236395]]\n",
      "Cost at 1105th loop = [[0.61137924]]\n",
      "Cost at 1110th loop = [[0.61040191]]\n",
      "Cost at 1115th loop = [[0.60943187]]\n",
      "Cost at 1120th loop = [[0.60846902]]\n",
      "Cost at 1125th loop = [[0.6075133]]\n",
      "Cost at 1130th loop = [[0.6065646]]\n",
      "Cost at 1135th loop = [[0.60562286]]\n",
      "Cost at 1140th loop = [[0.60468799]]\n",
      "Cost at 1145th loop = [[0.6037599]]\n",
      "Cost at 1150th loop = [[0.60283853]]\n",
      "Cost at 1155th loop = [[0.60192379]]\n",
      "Cost at 1160th loop = [[0.60101561]]\n",
      "Cost at 1165th loop = [[0.6001139]]\n",
      "Cost at 1170th loop = [[0.59921861]]\n",
      "Cost at 1175th loop = [[0.59832965]]\n",
      "Cost at 1180th loop = [[0.59744696]]\n",
      "Cost at 1185th loop = [[0.59657046]]\n",
      "Cost at 1190th loop = [[0.59570008]]\n",
      "Cost at 1195th loop = [[0.59483576]]\n",
      "Cost at 1200th loop = [[0.59397743]]\n",
      "Cost at 1205th loop = [[0.59312502]]\n",
      "Cost at 1210th loop = [[0.59227846]]\n",
      "Cost at 1215th loop = [[0.5914377]]\n",
      "Cost at 1220th loop = [[0.59060267]]\n",
      "Cost at 1225th loop = [[0.5897733]]\n",
      "Cost at 1230th loop = [[0.58894954]]\n",
      "Cost at 1235th loop = [[0.58813133]]\n",
      "Cost at 1240th loop = [[0.5873186]]\n",
      "Cost at 1245th loop = [[0.58651129]]\n",
      "Cost at 1250th loop = [[0.58570936]]\n",
      "Cost at 1255th loop = [[0.58491273]]\n",
      "Cost at 1260th loop = [[0.58412136]]\n",
      "Cost at 1265th loop = [[0.58333519]]\n",
      "Cost at 1270th loop = [[0.58255417]]\n",
      "Cost at 1275th loop = [[0.58177823]]\n",
      "Cost at 1280th loop = [[0.58100733]]\n",
      "Cost at 1285th loop = [[0.58024142]]\n",
      "Cost at 1290th loop = [[0.57948044]]\n",
      "Cost at 1295th loop = [[0.57872434]]\n",
      "Cost at 1300th loop = [[0.57797308]]\n",
      "Cost at 1305th loop = [[0.5772266]]\n",
      "Cost at 1310th loop = [[0.57648485]]\n",
      "Cost at 1315th loop = [[0.57574779]]\n",
      "Cost at 1320th loop = [[0.57501536]]\n",
      "Cost at 1325th loop = [[0.57428753]]\n",
      "Cost at 1330th loop = [[0.57356425]]\n",
      "Cost at 1335th loop = [[0.57284546]]\n",
      "Cost at 1340th loop = [[0.57213113]]\n",
      "Cost at 1345th loop = [[0.57142121]]\n",
      "Cost at 1350th loop = [[0.57071566]]\n",
      "Cost at 1355th loop = [[0.57001443]]\n",
      "Cost at 1360th loop = [[0.56931748]]\n",
      "Cost at 1365th loop = [[0.56862477]]\n",
      "Cost at 1370th loop = [[0.56793626]]\n",
      "Cost at 1375th loop = [[0.56725191]]\n",
      "Cost at 1380th loop = [[0.56657167]]\n",
      "Cost at 1385th loop = [[0.56589551]]\n",
      "Cost at 1390th loop = [[0.56522339]]\n",
      "Cost at 1395th loop = [[0.56455527]]\n",
      "Cost at 1400th loop = [[0.5638911]]\n",
      "Cost at 1405th loop = [[0.56323087]]\n",
      "Cost at 1410th loop = [[0.56257451]]\n",
      "Cost at 1415th loop = [[0.56192201]]\n",
      "Cost at 1420th loop = [[0.56127332]]\n",
      "Cost at 1425th loop = [[0.5606284]]\n",
      "Cost at 1430th loop = [[0.55998723]]\n",
      "Cost at 1435th loop = [[0.55934976]]\n",
      "Cost at 1440th loop = [[0.55871597]]\n",
      "Cost at 1445th loop = [[0.55808581]]\n",
      "Cost at 1450th loop = [[0.55745926]]\n",
      "Cost at 1455th loop = [[0.55683628]]\n",
      "Cost at 1460th loop = [[0.55621683]]\n",
      "Cost at 1465th loop = [[0.5556009]]\n",
      "Cost at 1470th loop = [[0.55498843]]\n",
      "Cost at 1475th loop = [[0.55437942]]\n",
      "Cost at 1480th loop = [[0.55377381]]\n",
      "Cost at 1485th loop = [[0.55317158]]\n",
      "Cost at 1490th loop = [[0.5525727]]\n",
      "Cost at 1495th loop = [[0.55197714]]\n",
      "Cost at 1500th loop = [[0.55138488]]\n",
      "Cost at 1505th loop = [[0.55079587]]\n",
      "Cost at 1510th loop = [[0.5502101]]\n",
      "Cost at 1515th loop = [[0.54962753]]\n",
      "Cost at 1520th loop = [[0.54904814]]\n",
      "Cost at 1525th loop = [[0.54847189]]\n",
      "Cost at 1530th loop = [[0.54789876]]\n",
      "Cost at 1535th loop = [[0.54732873]]\n",
      "Cost at 1540th loop = [[0.54676176]]\n",
      "Cost at 1545th loop = [[0.54619783]]\n",
      "Cost at 1550th loop = [[0.54563692]]\n",
      "Cost at 1555th loop = [[0.54507899]]\n",
      "Cost at 1560th loop = [[0.54452402]]\n",
      "Cost at 1565th loop = [[0.54397199]]\n",
      "Cost at 1570th loop = [[0.54342286]]\n",
      "Cost at 1575th loop = [[0.54287663]]\n",
      "Cost at 1580th loop = [[0.54233326]]\n",
      "Cost at 1585th loop = [[0.54179272]]\n",
      "Cost at 1590th loop = [[0.54125499]]\n",
      "Cost at 1595th loop = [[0.54072006]]\n",
      "Cost at 1600th loop = [[0.54018789]]\n",
      "Cost at 1605th loop = [[0.53965847]]\n",
      "Cost at 1610th loop = [[0.53913177]]\n",
      "Cost at 1615th loop = [[0.53860776]]\n",
      "Cost at 1620th loop = [[0.53808643]]\n",
      "Cost at 1625th loop = [[0.53756775]]\n",
      "Cost at 1630th loop = [[0.53705171]]\n",
      "Cost at 1635th loop = [[0.53653827]]\n",
      "Cost at 1640th loop = [[0.53602742]]\n",
      "Cost at 1645th loop = [[0.53551914]]\n",
      "Cost at 1650th loop = [[0.53501341]]\n",
      "Cost at 1655th loop = [[0.5345102]]\n",
      "Cost at 1660th loop = [[0.5340095]]\n",
      "Cost at 1665th loop = [[0.53351128]]\n",
      "Cost at 1670th loop = [[0.53301553]]\n",
      "Cost at 1675th loop = [[0.53252222]]\n",
      "Cost at 1680th loop = [[0.53203134]]\n",
      "Cost at 1685th loop = [[0.53154287]]\n",
      "Cost at 1690th loop = [[0.53105679]]\n",
      "Cost at 1695th loop = [[0.53057307]]\n",
      "Cost at 1700th loop = [[0.5300917]]\n",
      "Cost at 1705th loop = [[0.52961267]]\n",
      "Cost at 1710th loop = [[0.52913595]]\n",
      "Cost at 1715th loop = [[0.52866152]]\n",
      "Cost at 1720th loop = [[0.52818937]]\n",
      "Cost at 1725th loop = [[0.52771948]]\n",
      "Cost at 1730th loop = [[0.52725183]]\n",
      "Cost at 1735th loop = [[0.52678641]]\n",
      "Cost at 1740th loop = [[0.52632319]]\n",
      "Cost at 1745th loop = [[0.52586217]]\n",
      "Cost at 1750th loop = [[0.52540331]]\n",
      "Cost at 1755th loop = [[0.52494662]]\n",
      "Cost at 1760th loop = [[0.52449207]]\n",
      "Cost at 1765th loop = [[0.52403964]]\n",
      "Cost at 1770th loop = [[0.52358932]]\n",
      "Cost at 1775th loop = [[0.52314109]]\n",
      "Cost at 1780th loop = [[0.52269494]]\n",
      "Cost at 1785th loop = [[0.52225084]]\n",
      "Cost at 1790th loop = [[0.5218088]]\n",
      "Cost at 1795th loop = [[0.52136878]]\n",
      "Cost at 1800th loop = [[0.52093078]]\n",
      "Cost at 1805th loop = [[0.52049478]]\n",
      "Cost at 1810th loop = [[0.52006077]]\n",
      "Cost at 1815th loop = [[0.51962872]]\n",
      "Cost at 1820th loop = [[0.51919864]]\n",
      "Cost at 1825th loop = [[0.51877049]]\n",
      "Cost at 1830th loop = [[0.51834427]]\n",
      "Cost at 1835th loop = [[0.51791996]]\n",
      "Cost at 1840th loop = [[0.51749756]]\n",
      "Cost at 1845th loop = [[0.51707704]]\n",
      "Cost at 1850th loop = [[0.51665839]]\n",
      "Cost at 1855th loop = [[0.5162416]]\n",
      "Cost at 1860th loop = [[0.51582665]]\n",
      "Cost at 1865th loop = [[0.51541354]]\n",
      "Cost at 1870th loop = [[0.51500224]]\n",
      "Cost at 1875th loop = [[0.51459275]]\n",
      "Cost at 1880th loop = [[0.51418505]]\n",
      "Cost at 1885th loop = [[0.51377914]]\n",
      "Cost at 1890th loop = [[0.51337499]]\n",
      "Cost at 1895th loop = [[0.51297259]]\n",
      "Cost at 1900th loop = [[0.51257194]]\n",
      "Cost at 1905th loop = [[0.51217302]]\n",
      "Cost at 1910th loop = [[0.51177581]]\n",
      "Cost at 1915th loop = [[0.51138031]]\n",
      "Cost at 1920th loop = [[0.51098651]]\n",
      "Cost at 1925th loop = [[0.51059438]]\n",
      "Cost at 1930th loop = [[0.51020393]]\n",
      "Cost at 1935th loop = [[0.50981514]]\n",
      "Cost at 1940th loop = [[0.50942799]]\n",
      "Cost at 1945th loop = [[0.50904248]]\n",
      "Cost at 1950th loop = [[0.50865859]]\n",
      "Cost at 1955th loop = [[0.50827632]]\n",
      "Cost at 1960th loop = [[0.50789565]]\n",
      "Cost at 1965th loop = [[0.50751657]]\n",
      "Cost at 1970th loop = [[0.50713908]]\n",
      "Cost at 1975th loop = [[0.50676315]]\n",
      "Cost at 1980th loop = [[0.50638878]]\n",
      "Cost at 1985th loop = [[0.50601596]]\n",
      "Cost at 1990th loop = [[0.50564468]]\n",
      "Cost at 1995th loop = [[0.50527493]]\n"
     ]
    },
    {
     "data": {
      "image/png": "[encoded data removed]",
      "text/plain": [
       "<Figure size 432x288 with 1 Axes>"
      ]
     },
     "metadata": {
      "needs_background": "light"
     },
     "output_type": "display_data"
    }
   ],
   "source": [
    "res_W, res_b, costs = model(X, Y_hot, C, alpha=0.009, iterations=2000)"
   ]
  },
  {
   "cell_type": "code",
   "execution_count": 40,
   "metadata": {},
   "outputs": [
    {
     "data": {
      "image/png": "[encoded data removed]",
      "text/plain": [
       "<Figure size 432x288 with 1 Axes>"
      ]
     },
     "metadata": {
      "needs_background": "light"
     },
     "output_type": "display_data"
    }
   ],
   "source": [
    "plt.plot(np.arange(0,iterations,5), np.array(costs).reshape(len(costs),1), label=\"Epoch Loss\")\n",
    "plt.grid()\n",
    "plt.title(\"Single Layer: Learning Curve\")\n",
    "plt.legend()\n",
    "plt.xlabel(\"Numper of Epochs\")\n",
    "plt.ylabel(\"Cross Entropy Loss\")\n",
    "plt.savefig(\"SingleCost.jpeg\")\n",
    "plt.show()"
   ]
  },
  {
   "cell_type": "code",
   "execution_count": 31,
   "metadata": {},
   "outputs": [
    {
     "name": "stdout",
     "output_type": "stream",
     "text": [
      "Accuracy : 93.98342323865816\n",
      "Cost : [[0.50490669]]\n"
     ]
    }
   ],
   "source": [
    "predicted_labels = predict(X, Y_hot, res_W, res_b)"
   ]
  },
  {
   "cell_type": "code",
   "execution_count": 32,
   "metadata": {},
   "outputs": [
    {
     "name": "stdout",
     "output_type": "stream",
     "text": [
      "52507 images correctly labeled out of 60000 for Train Set\n"
     ]
    }
   ],
   "source": [
    "print(f'{np.sum(predicted_labels==train_labels)} images correctly labeled out of {train_labels.shape[0]} for Train Set')"
   ]
  },
  {
   "cell_type": "code",
   "execution_count": 33,
   "metadata": {},
   "outputs": [
    {
     "name": "stdout",
     "output_type": "stream",
     "text": [
      "Accuracy : 94.18144087022407\n",
      "Cost : [[0.08025342]]\n"
     ]
    }
   ],
   "source": [
    "predicted_labels = predict(X_test, Y_test_hot, res_W, res_b)"
   ]
  },
  {
   "cell_type": "code",
   "execution_count": 34,
   "metadata": {},
   "outputs": [
    {
     "name": "stdout",
     "output_type": "stream",
     "text": [
      "8836 images correctly labeled out of 10000 for Test Set\n"
     ]
    }
   ],
   "source": [
    "print(f'{np.sum(predicted_labels==test_labels)} images correctly labeled out of {test_labels.shape[0]} for Test Set')"
   ]
  },
  {
   "cell_type": "code",
   "execution_count": 41,
   "metadata": {},
   "outputs": [
    {
     "name": "stdout",
     "output_type": "stream",
     "text": [
      "The image no. is 7 and my Model predicts 2\n"
     ]
    },
    {
     "data": {
      "image/png": "[encoded data removed]",
      "text/plain": [
       "<Figure size 432x288 with 1 Axes>"
      ]
     },
     "metadata": {
      "needs_background": "light"
     },
     "output_type": "display_data"
    }
   ],
   "source": [
    "image = 5246   # 0-9999\n",
    "plt.imshow(test_images[image])\n",
    "print(f'The image no. is {test_labels[image]} and my Model predicts {predicted_labels[image]}')"
   ]
  },
  {
   "cell_type": "code",
   "execution_count": 42,
   "metadata": {},
   "outputs": [],
   "source": [
    "pd.DataFrame([cost[0][0] for cost in costs], columns=['Cost'], index=np.arange(0,iterations,5)).to_csv('Cost.csv')\n",
    "pd.DataFrame(res_W).to_csv('res_W.csv', header=None,index=None)\n",
    "pd.DataFrame(res_b).to_csv('res_b.csv', header=None,index=None)"
   ]
  },
  {
   "cell_type": "code",
   "execution_count": 22,
   "metadata": {},
   "outputs": [
    {
     "data": {
      "text/plain": [
       "(784, 10)"
      ]
     },
     "execution_count": 22,
     "metadata": {},
     "output_type": "execute_result"
    }
   ],
   "source": [
    "res_W = pd.read_csv('res_W.csv', header=None, index_col=None).to_numpy()\n",
    "res_W.shape"
   ]
  },
  {
   "cell_type": "code",
   "execution_count": 23,
   "metadata": {},
   "outputs": [
    {
     "data": {
      "text/plain": [
       "(10, 1)"
      ]
     },
     "execution_count": 23,
     "metadata": {},
     "output_type": "execute_result"
    }
   ],
   "source": [
    "res_b = pd.read_csv('res_b.csv', header=None, index_col=None).to_numpy()\n",
    "res_b.shape"
   ]
  },
  {
   "cell_type": "code",
   "execution_count": null,
   "metadata": {},
   "outputs": [],
   "source": []
  }
 ],
 "metadata": {
  "interpreter": {
   "hash": "6cbb41571b20674ffee661aa3e8e8b885ec56c497d88337beffcf280b455b3f0"
  },
  "kernelspec": {
   "display_name": "Python 3.9.7 64-bit",
   "name": "python3"
  },
  "language_info": {
   "codemirror_mode": {
    "name": "ipython",
    "version": 3
   },
   "file_extension": ".py",
   "mimetype": "text/x-python",
   "name": "python",
   "nbconvert_exporter": "python",
   "pygments_lexer": "ipython3",
   "version": "3.9.7"
  }
 },
 "nbformat": 4,
 "nbformat_minor": 4
}
