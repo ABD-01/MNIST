{
  "nbformat": 4,
  "nbformat_minor": 0,
  "metadata": {
    "colab": {
      "name": "Pytorch Programming.ipynb",
      "provenance": [],
      "mount_file_id": "https://github.com/ABD-01/MNIST/blob/main/CNN%20Model/Pytorch_Programming.ipynb",
      "authorship_tag": "ABX9TyP/oL0NoJzZwWNaAR6p31e2",
      "include_colab_link": true
    },
    "kernelspec": {
      "name": "python3",
      "display_name": "Python 3"
    }
  },
  "cells": [
    {
      "cell_type": "markdown",
      "metadata": {
        "id": "view-in-github",
        "colab_type": "text"
      },
      "source": [
        "<a href=\"https://colab.research.google.com/github/ABD-01/MNIST/blob/main/CNN%20Model/Pytorch_Programming.ipynb\" target=\"_parent\"><img src=\"https://colab.research.google.com/assets/colab-badge.svg\" alt=\"Open In Colab\"/></a>"
      ]
    },
    {
      "cell_type": "code",
      "metadata": {
        "id": "Eicoo5R_MZ0E"
      },
      "source": [
        "import numpy as np\r\n",
        "import matplotlib.pyplot as plt\r\n",
        "\r\n",
        "import torch\r\n",
        "import torch.nn as nn\r\n",
        "import torch.nn.functional as F\r\n",
        "import torch.optim as optim\r\n",
        "\r\n",
        "import torchvision\r\n",
        "import torchvision.transforms as transforms"
      ],
      "execution_count": 1,
      "outputs": []
    },
    {
      "cell_type": "markdown",
      "metadata": {
        "id": "qoQr8jdbvofG"
      },
      "source": [
        "# Fashion MNIST"
      ]
    },
    {
      "cell_type": "code",
      "metadata": {
        "id": "G-1CO6sAvier"
      },
      "source": [
        "train_set = torchvision.datasets.FashionMNIST(\r\n",
        "    root = '/content/drive/MyDrive/Colab Notebooks/',\r\n",
        "    download = True,\r\n",
        "    train = True,\r\n",
        "    transform = transforms.Compose([\r\n",
        "        transforms.ToTensor()\r\n",
        "    ])\r\n",
        ")\r\n",
        "# Extraction and Transform"
      ],
      "execution_count": 2,
      "outputs": []
    },
    {
      "cell_type": "code",
      "metadata": {
        "id": "TwQBcCyI2NRr"
      },
      "source": [
        "train_loader = torch.utils.data.DataLoader(\r\n",
        "    train_set, batch_size=10\r\n",
        ")\r\n",
        "# Loading Data"
      ],
      "execution_count": 3,
      "outputs": []
    },
    {
      "cell_type": "code",
      "metadata": {
        "id": "Dr30T5kr2Nft"
      },
      "source": [
        "torch.set_printoptions(linewidth=120)"
      ],
      "execution_count": 4,
      "outputs": []
    },
    {
      "cell_type": "code",
      "metadata": {
        "colab": {
          "base_uri": "https://localhost:8080/"
        },
        "id": "sE1YAADt2Nk7",
        "outputId": "65c5743c-a85c-4591-e261-419c1cdde0e4"
      },
      "source": [
        "print(train_set.train_labels)\r\n",
        "print(train_set.train_labels.bincount())"
      ],
      "execution_count": 5,
      "outputs": [
        {
          "output_type": "stream",
          "text": [
            "tensor([9, 0, 0,  ..., 3, 0, 5])\n",
            "tensor([6000, 6000, 6000, 6000, 6000, 6000, 6000, 6000, 6000, 6000])\n"
          ],
          "name": "stdout"
        },
        {
          "output_type": "stream",
          "text": [
            "/usr/local/lib/python3.6/dist-packages/torchvision/datasets/mnist.py:48: UserWarning: train_labels has been renamed targets\n",
            "  warnings.warn(\"train_labels has been renamed targets\")\n"
          ],
          "name": "stderr"
        }
      ]
    },
    {
      "cell_type": "code",
      "metadata": {
        "id": "zhmsG4FO2NrT"
      },
      "source": [
        "sample = next(iter(train_set))"
      ],
      "execution_count": 6,
      "outputs": []
    },
    {
      "cell_type": "code",
      "metadata": {
        "id": "396DYNxU2N7s"
      },
      "source": [
        "image, label = sample"
      ],
      "execution_count": 7,
      "outputs": []
    },
    {
      "cell_type": "code",
      "metadata": {
        "id": "9YQkUr9B5wYc",
        "colab": {
          "base_uri": "https://localhost:8080/"
        },
        "outputId": "60c79b8c-e9d3-4c94-dd88-a9480d695fc2"
      },
      "source": [
        "image.shape"
      ],
      "execution_count": 8,
      "outputs": [
        {
          "output_type": "execute_result",
          "data": {
            "text/plain": [
              "torch.Size([1, 28, 28])"
            ]
          },
          "metadata": {
            "tags": []
          },
          "execution_count": 8
        }
      ]
    },
    {
      "cell_type": "code",
      "metadata": {
        "id": "v1AkFF065wsZ",
        "colab": {
          "base_uri": "https://localhost:8080/",
          "height": 282
        },
        "outputId": "947ab261-53df-40a3-c7f1-260e62c4325d"
      },
      "source": [
        "plt.imshow(image.squeeze(), cmap='gray')\r\n",
        "print('label',label)"
      ],
      "execution_count": 9,
      "outputs": [
        {
          "output_type": "stream",
          "text": [
            "label 9\n"
          ],
          "name": "stdout"
        },
        {
          "output_type": "display_data",
          "data": {
            "image/png": "[encoded data removed]",
            "text/plain": [
              "<Figure size 432x288 with 1 Axes>"
            ]
          },
          "metadata": {
            "tags": [],
            "needs_background": "light"
          }
        }
      ]
    },
    {
      "cell_type": "code",
      "metadata": {
        "id": "t2yHQTGj5w_U"
      },
      "source": [
        "batch = next(iter(train_loader))"
      ],
      "execution_count": 10,
      "outputs": []
    },
    {
      "cell_type": "code",
      "metadata": {
        "id": "FaXBercJ5xPx"
      },
      "source": [
        "images, labels = batch"
      ],
      "execution_count": 11,
      "outputs": []
    },
    {
      "cell_type": "code",
      "metadata": {
        "colab": {
          "base_uri": "https://localhost:8080/"
        },
        "id": "LWLi46Sz2OBp",
        "outputId": "2cb99a5e-b356-4477-c93a-f176386022e8"
      },
      "source": [
        "images.shape"
      ],
      "execution_count": 12,
      "outputs": [
        {
          "output_type": "execute_result",
          "data": {
            "text/plain": [
              "torch.Size([10, 1, 28, 28])"
            ]
          },
          "metadata": {
            "tags": []
          },
          "execution_count": 12
        }
      ]
    },
    {
      "cell_type": "code",
      "metadata": {
        "colab": {
          "base_uri": "https://localhost:8080/"
        },
        "id": "0M5MlC2B2OHJ",
        "outputId": "52b1314b-6dff-4f28-d742-4e4883319ae7"
      },
      "source": [
        "labels.shape"
      ],
      "execution_count": 13,
      "outputs": [
        {
          "output_type": "execute_result",
          "data": {
            "text/plain": [
              "torch.Size([10])"
            ]
          },
          "metadata": {
            "tags": []
          },
          "execution_count": 13
        }
      ]
    },
    {
      "cell_type": "code",
      "metadata": {
        "colab": {
          "base_uri": "https://localhost:8080/",
          "height": 122
        },
        "id": "8rd7lE4Q2OMn",
        "outputId": "647a3176-4fd8-42f5-ad7e-1360ddb78899"
      },
      "source": [
        "grid = torchvision.utils.make_grid(images, nrow=10)\r\n",
        "\r\n",
        "plt.figure(figsize=(15,15))\r\n",
        "plt.imshow(np.transpose(grid, (1,2,0)))\r\n",
        "\r\n",
        "print('labels:', labels)"
      ],
      "execution_count": 14,
      "outputs": [
        {
          "output_type": "stream",
          "text": [
            "labels: tensor([9, 0, 0, 3, 0, 2, 7, 2, 5, 5])\n"
          ],
          "name": "stdout"
        },
        {
          "output_type": "display_data",
          "data": {
            "image/png": "[encoded data removed]",
            "text/plain": [
              "<Figure size 1080x1080 with 1 Axes>"
            ]
          },
          "metadata": {
            "tags": [],
            "needs_background": "light"
          }
        }
      ]
    },
    {
      "cell_type": "code",
      "metadata": {
        "id": "POiKuieT7_BB"
      },
      "source": [
        "class Network(nn.Module):\r\n",
        "  def __init__(self):\r\n",
        "    super(Network, self).__init__()\r\n",
        "    self.conv1 = nn.Conv2d(in_channels=1, out_channels=6, kernel_size=5)   # kernel is refers to filter, out_channels = no. of filters\r\n",
        "    self.conv2 = nn.Conv2d(in_channels=6, out_channels=12, kernel_size=5)\r\n",
        "\r\n",
        "    self.fc1 = nn.Linear(in_features=12*4*4, out_features=120)\r\n",
        "    self.fc2 = nn.Linear(in_features=120, out_features=60)\r\n",
        "    self.out = nn.Linear(in_features=60, out_features=10)\r\n",
        "    # linear, dense, fully connected refers same\r\n",
        "\r\n",
        "  def forward(self, t):\r\n",
        "    t = self.layer(t)\r\n",
        "    return t"
      ],
      "execution_count": 16,
      "outputs": []
    },
    {
      "cell_type": "code",
      "metadata": {
        "id": "xjFpIf-47_Vc",
        "colab": {
          "base_uri": "https://localhost:8080/"
        },
        "outputId": "cdb1cb3b-5ed0-4680-da63-7109eb216a29"
      },
      "source": [
        "network = Network()\r\n",
        "network"
      ],
      "execution_count": 17,
      "outputs": [
        {
          "output_type": "execute_result",
          "data": {
            "text/plain": [
              "Network(\n",
              "  (conv1): Conv2d(1, 6, kernel_size=(5, 5), stride=(1, 1))\n",
              "  (conv2): Conv2d(6, 12, kernel_size=(5, 5), stride=(1, 1))\n",
              "  (fc1): Linear(in_features=192, out_features=120, bias=True)\n",
              "  (fc2): Linear(in_features=120, out_features=60, bias=True)\n",
              "  (out): Linear(in_features=60, out_features=10, bias=True)\n",
              ")"
            ]
          },
          "metadata": {
            "tags": []
          },
          "execution_count": 17
        }
      ]
    },
    {
      "cell_type": "code",
      "metadata": {
        "id": "MgwGzNQE7_mZ",
        "colab": {
          "base_uri": "https://localhost:8080/"
        },
        "outputId": "5b561525-3cf5-4651-831a-cb5891181f09"
      },
      "source": [
        "network.conv1.weight"
      ],
      "execution_count": 19,
      "outputs": [
        {
          "output_type": "execute_result",
          "data": {
            "text/plain": [
              "Parameter containing:\n",
              "tensor([[[[-0.0620,  0.0437, -0.1655, -0.1881, -0.0900],\n",
              "          [ 0.0775,  0.0665,  0.1467,  0.0644, -0.1107],\n",
              "          [ 0.1450, -0.1194,  0.1389,  0.1201, -0.1778],\n",
              "          [ 0.0348, -0.1147, -0.1730, -0.0018, -0.1494],\n",
              "          [-0.0965,  0.1255,  0.1713,  0.0631,  0.1470]]],\n",
              "\n",
              "\n",
              "        [[[ 0.0940,  0.0071,  0.0498,  0.0583,  0.0080],\n",
              "          [-0.0469,  0.0908,  0.1341, -0.1073,  0.1201],\n",
              "          [-0.0274,  0.1561, -0.0796, -0.1877,  0.1350],\n",
              "          [ 0.0854,  0.1017,  0.1989, -0.0375,  0.0055],\n",
              "          [-0.1283,  0.0954, -0.1666, -0.0533, -0.1422]]],\n",
              "\n",
              "\n",
              "        [[[ 0.0189, -0.1458,  0.0442, -0.0238, -0.1316],\n",
              "          [ 0.0243,  0.1316, -0.0020,  0.1348,  0.1357],\n",
              "          [-0.1095,  0.1183, -0.0526,  0.0088,  0.1091],\n",
              "          [ 0.0931,  0.0882,  0.0472, -0.0250, -0.0126],\n",
              "          [ 0.0868,  0.0478, -0.1905, -0.0904,  0.0029]]],\n",
              "\n",
              "\n",
              "        [[[-0.0106, -0.0053,  0.0765,  0.1507, -0.1665],\n",
              "          [ 0.1158, -0.1527,  0.0960, -0.1041, -0.0695],\n",
              "          [-0.0121,  0.1074, -0.1504, -0.0293, -0.0960],\n",
              "          [ 0.1753, -0.1636,  0.1030,  0.0044,  0.0795],\n",
              "          [-0.1216, -0.1860, -0.0224, -0.1745, -0.0256]]],\n",
              "\n",
              "\n",
              "        [[[ 0.1207,  0.0741, -0.0802,  0.0096,  0.1275],\n",
              "          [-0.0907,  0.0869, -0.1706,  0.0659, -0.0760],\n",
              "          [-0.0975, -0.0921, -0.0366, -0.0376,  0.1446],\n",
              "          [-0.1121,  0.0051,  0.1656, -0.0541, -0.0589],\n",
              "          [-0.0902,  0.1156, -0.0835, -0.1251, -0.0955]]],\n",
              "\n",
              "\n",
              "        [[[-0.1784, -0.0910,  0.1142,  0.1670,  0.0420],\n",
              "          [-0.0917,  0.1281,  0.0295, -0.1608, -0.0923],\n",
              "          [ 0.0123, -0.1675, -0.1781, -0.1926,  0.1339],\n",
              "          [-0.1655, -0.0732, -0.1687,  0.0388, -0.0518],\n",
              "          [-0.0588,  0.1021, -0.1047,  0.1034,  0.0811]]]], requires_grad=True)"
            ]
          },
          "metadata": {
            "tags": []
          },
          "execution_count": 19
        }
      ]
    },
    {
      "cell_type": "code",
      "metadata": {
        "id": "7qnLAPmK7_0C",
        "colab": {
          "base_uri": "https://localhost:8080/"
        },
        "outputId": "23936a5c-df27-4c71-d188-43749786f8b4"
      },
      "source": [
        "network.conv1.weight.shape"
      ],
      "execution_count": 20,
      "outputs": [
        {
          "output_type": "execute_result",
          "data": {
            "text/plain": [
              "torch.Size([6, 1, 5, 5])"
            ]
          },
          "metadata": {
            "tags": []
          },
          "execution_count": 20
        }
      ]
    },
    {
      "cell_type": "code",
      "metadata": {
        "id": "xq4yMLcT8AAn",
        "colab": {
          "base_uri": "https://localhost:8080/"
        },
        "outputId": "86d267a3-5941-4475-ccaa-cae8930dff90"
      },
      "source": [
        "network.conv1.bias.shape"
      ],
      "execution_count": 21,
      "outputs": [
        {
          "output_type": "execute_result",
          "data": {
            "text/plain": [
              "torch.Size([6])"
            ]
          },
          "metadata": {
            "tags": []
          },
          "execution_count": 21
        }
      ]
    },
    {
      "cell_type": "code",
      "metadata": {
        "id": "4pvj7dhN8AIj",
        "colab": {
          "base_uri": "https://localhost:8080/"
        },
        "outputId": "8879c8b7-a7c6-4d5c-8972-4c83dd608665"
      },
      "source": [
        "network.conv2.weight.shape"
      ],
      "execution_count": 22,
      "outputs": [
        {
          "output_type": "execute_result",
          "data": {
            "text/plain": [
              "torch.Size([12, 6, 5, 5])"
            ]
          },
          "metadata": {
            "tags": []
          },
          "execution_count": 22
        }
      ]
    },
    {
      "cell_type": "code",
      "metadata": {
        "id": "XC4-pd-Y8AP9",
        "colab": {
          "base_uri": "https://localhost:8080/"
        },
        "outputId": "c631adc7-fe15-4af0-b482-c5e60ff353e7"
      },
      "source": [
        "network.fc1.weight.shape"
      ],
      "execution_count": 23,
      "outputs": [
        {
          "output_type": "execute_result",
          "data": {
            "text/plain": [
              "torch.Size([120, 192])"
            ]
          },
          "metadata": {
            "tags": []
          },
          "execution_count": 23
        }
      ]
    },
    {
      "cell_type": "code",
      "metadata": {
        "id": "vEA8mAIP66ws",
        "colab": {
          "base_uri": "https://localhost:8080/"
        },
        "outputId": "8708c257-b6d5-415b-d2f0-46ee14825644"
      },
      "source": [
        "network.fc2.weight.shape"
      ],
      "execution_count": 24,
      "outputs": [
        {
          "output_type": "execute_result",
          "data": {
            "text/plain": [
              "torch.Size([60, 120])"
            ]
          },
          "metadata": {
            "tags": []
          },
          "execution_count": 24
        }
      ]
    },
    {
      "cell_type": "code",
      "metadata": {
        "id": "4BFecjCu67AN",
        "colab": {
          "base_uri": "https://localhost:8080/"
        },
        "outputId": "91c03441-4220-4558-e1a0-d09356c92f44"
      },
      "source": [
        "network.out.weight.shape"
      ],
      "execution_count": 25,
      "outputs": [
        {
          "output_type": "execute_result",
          "data": {
            "text/plain": [
              "torch.Size([10, 60])"
            ]
          },
          "metadata": {
            "tags": []
          },
          "execution_count": 25
        }
      ]
    },
    {
      "cell_type": "code",
      "metadata": {
        "id": "ahBaZisJ67MU"
      },
      "source": [
        "in_features = torch.tensor([1,2,3,4], dtype=torch.float32)"
      ],
      "execution_count": 29,
      "outputs": []
    },
    {
      "cell_type": "code",
      "metadata": {
        "id": "E2gz-aJj67Zi"
      },
      "source": [
        "weight_matrix = torch.tensor([\r\n",
        "                              [1,2,3,4],\r\n",
        "                              [2,3,4,5],\r\n",
        "                              [3,4,5,6]\r\n",
        "], dtype=torch.float32)"
      ],
      "execution_count": 30,
      "outputs": []
    },
    {
      "cell_type": "code",
      "metadata": {
        "id": "BLK0ZIdj67dY",
        "colab": {
          "base_uri": "https://localhost:8080/"
        },
        "outputId": "eb541e53-7c58-4383-e30b-4d0386da71a0"
      },
      "source": [
        "weight_matrix.matmul(in_features)"
      ],
      "execution_count": 31,
      "outputs": [
        {
          "output_type": "execute_result",
          "data": {
            "text/plain": [
              "tensor([30., 40., 50.])"
            ]
          },
          "metadata": {
            "tags": []
          },
          "execution_count": 31
        }
      ]
    },
    {
      "cell_type": "code",
      "metadata": {
        "id": "LGEy8uI267m1"
      },
      "source": [
        "fc = nn.Linear(in_features=4, out_features=3, bias=False)\r\n",
        "# the weight matrix lives inside the pytorch linear layer class"
      ],
      "execution_count": 44,
      "outputs": []
    },
    {
      "cell_type": "code",
      "metadata": {
        "colab": {
          "base_uri": "https://localhost:8080/"
        },
        "id": "5pqF8Qo3TPEn",
        "outputId": "966dabc1-01a6-4f32-b834-971bc3fe9dc8"
      },
      "source": [
        "fc(in_features)"
      ],
      "execution_count": 45,
      "outputs": [
        {
          "output_type": "execute_result",
          "data": {
            "text/plain": [
              "tensor([1.6618, 2.3367, 0.7863], grad_fn=<SqueezeBackward3>)"
            ]
          },
          "metadata": {
            "tags": []
          },
          "execution_count": 45
        }
      ]
    },
    {
      "cell_type": "code",
      "metadata": {
        "id": "z89cmCWrTPQo"
      },
      "source": [
        "fc.weight = nn.Parameter(weight_matrix)"
      ],
      "execution_count": 46,
      "outputs": []
    },
    {
      "cell_type": "code",
      "metadata": {
        "colab": {
          "base_uri": "https://localhost:8080/"
        },
        "id": "OoOQ_CrYTPZ1",
        "outputId": "9a4f4a20-d101-4ecf-d725-3b739b945cf4"
      },
      "source": [
        "fc(in_features)\r\n",
        "# the difference is due to adding to bias"
      ],
      "execution_count": 47,
      "outputs": [
        {
          "output_type": "execute_result",
          "data": {
            "text/plain": [
              "tensor([30., 40., 50.], grad_fn=<SqueezeBackward3>)"
            ]
          },
          "metadata": {
            "tags": []
          },
          "execution_count": 47
        }
      ]
    },
    {
      "cell_type": "code",
      "metadata": {
        "id": "bjHEFsmcTPy9"
      },
      "source": [
        "class Network(nn.Module):\r\n",
        "  def __init__(self):\r\n",
        "    super(Network, self).__init__()\r\n",
        "    self.conv1 = nn.Conv2d(in_channels=1, out_channels=6, kernel_size=5)   # kernel is refers to filter, out_channels = no. of filters\r\n",
        "    self.conv2 = nn.Conv2d(in_channels=6, out_channels=12, kernel_size=5)\r\n",
        "\r\n",
        "    self.fc1 = nn.Linear(in_features=12*4*4, out_features=120)\r\n",
        "    self.fc2 = nn.Linear(in_features=120, out_features=60)\r\n",
        "    self.out = nn.Linear(in_features=60, out_features=10)\r\n",
        "    # linear, dense, fully connected refers same\r\n",
        "\r\n",
        "  def forward(self, t):\r\n",
        "    # (1) input layer\r\n",
        "    t = t\r\n",
        "\r\n",
        "    # (2) hidden conv layer\r\n",
        "    t = self.conv1(t)\r\n",
        "    t = F.relu(t)\r\n",
        "    t = F.max_pool2d(t, kernel_size=2, stride=2)\r\n",
        "\r\n",
        "    # (3) hidden conv layer\r\n",
        "    t = self.conv2(t)\r\n",
        "    t = F.relu(t)\r\n",
        "    t = F.max_pool2d(t, kernel_size=2, stride=2)\r\n",
        "\r\n",
        "    # (4) hidden linear layer\r\n",
        "    t = t.reshape(-1, 12*4*4)\r\n",
        "    t = self.fc1(t)\r\n",
        "    t = F.relu(t)\r\n",
        "\r\n",
        "    # (5) hidden linear layer\r\n",
        "    t = self.fc2(t)\r\n",
        "    t = F.relu(t)\r\n",
        "\r\n",
        "    # (6) output layer\r\n",
        "    t = self.out(t)\r\n",
        "    \r\n",
        "    # t = F.softmax(t, dim=1)\r\n",
        "\r\n",
        "    # we'll not use softmax because of the loss the loss function we \r\n",
        "    # are using.\r\n",
        "    # We'll be using Cross-entropy Loss function from nn.functional class\r\n",
        "    # which implicitly performs softmax function on it's input\r\n",
        "\r\n",
        "\r\n",
        "    return t"
      ],
      "execution_count": 95,
      "outputs": []
    },
    {
      "cell_type": "code",
      "metadata": {
        "colab": {
          "base_uri": "https://localhost:8080/"
        },
        "id": "msTXFGKzckhv",
        "outputId": "d8993e54-a73d-4146-f69b-c4f60ee2535d"
      },
      "source": [
        "torch.set_grad_enabled(False)\r\n",
        "# this turns off pytorch feature of gradient calculation\r\n",
        "# this will stop pytorch from building computational graph"
      ],
      "execution_count": 96,
      "outputs": [
        {
          "output_type": "execute_result",
          "data": {
            "text/plain": [
              "<torch.autograd.grad_mode.set_grad_enabled at 0x7f9614bbc438>"
            ]
          },
          "metadata": {
            "tags": []
          },
          "execution_count": 96
        }
      ]
    },
    {
      "cell_type": "code",
      "metadata": {
        "id": "CCAsy3DgckX2"
      },
      "source": [
        "network = Network()"
      ],
      "execution_count": 119,
      "outputs": []
    },
    {
      "cell_type": "code",
      "metadata": {
        "colab": {
          "base_uri": "https://localhost:8080/"
        },
        "id": "shdZIKuKeqZ6",
        "outputId": "ee4d3768-e021-4a9f-a1ea-a222efe1ac62"
      },
      "source": [
        "image, label = sample\r\n",
        "image.shape"
      ],
      "execution_count": 98,
      "outputs": [
        {
          "output_type": "execute_result",
          "data": {
            "text/plain": [
              "torch.Size([1, 28, 28])"
            ]
          },
          "metadata": {
            "tags": []
          },
          "execution_count": 98
        }
      ]
    },
    {
      "cell_type": "code",
      "metadata": {
        "colab": {
          "base_uri": "https://localhost:8080/"
        },
        "id": "MvUaO-BJckM0",
        "outputId": "62ae5154-ff31-465f-c140-9ba05633beaa"
      },
      "source": [
        "  # but we can't input a single image as the forward function \r\n",
        "  # expects a batch i.e. a4 dimensional tensor (batch_size, in_channels, height, width)\r\n",
        "  # we just have to make a batch with one image\r\n",
        "  # so we just unsqueeze ther tensor to add an additional dimension\r\n",
        "  \r\n",
        "  image.unsqueeze(0).shape  # gives us a batch of size 1"
      ],
      "execution_count": 99,
      "outputs": [
        {
          "output_type": "execute_result",
          "data": {
            "text/plain": [
              "torch.Size([1, 1, 28, 28])"
            ]
          },
          "metadata": {
            "tags": []
          },
          "execution_count": 99
        }
      ]
    },
    {
      "cell_type": "code",
      "metadata": {
        "id": "CEdgMBGBckCn"
      },
      "source": [
        "pred = network(image.unsqueeze(0))"
      ],
      "execution_count": 100,
      "outputs": []
    },
    {
      "cell_type": "code",
      "metadata": {
        "colab": {
          "base_uri": "https://localhost:8080/"
        },
        "id": "tgzdHgmLgFg4",
        "outputId": "3a844c66-3179-4998-8b60-bb4306bb7917"
      },
      "source": [
        "print(pred)\r\n",
        "print(pred.shape)\r\n",
        "print(pred.argmax(dim=1))"
      ],
      "execution_count": 101,
      "outputs": [
        {
          "output_type": "stream",
          "text": [
            "tensor([[-0.0579,  0.0315, -0.1038,  0.0624,  0.0443,  0.0800, -0.0425,  0.0330,  0.0541, -0.0632]])\n",
            "torch.Size([1, 10])\n",
            "tensor([5])\n"
          ],
          "name": "stdout"
        }
      ]
    },
    {
      "cell_type": "code",
      "metadata": {
        "colab": {
          "base_uri": "https://localhost:8080/"
        },
        "id": "nmOCEYR_TP57",
        "outputId": "9a5ec694-3188-4506-9d2d-3b7346ff9ef0"
      },
      "source": [
        "F.softmax(pred, dim=1)\r\n",
        "# F.softmax(pred, dim=1).sum() equal 1"
      ],
      "execution_count": 102,
      "outputs": [
        {
          "output_type": "execute_result",
          "data": {
            "text/plain": [
              "tensor([[0.0938, 0.1026, 0.0896, 0.1058, 0.1039, 0.1077, 0.0953, 0.1028, 0.1050, 0.0934]])"
            ]
          },
          "metadata": {
            "tags": []
          },
          "execution_count": 102
        }
      ]
    },
    {
      "cell_type": "code",
      "metadata": {
        "colab": {
          "base_uri": "https://localhost:8080/"
        },
        "id": "qZFO7eMVgnWF",
        "outputId": "b793db0b-196c-4aa7-d342-65cbbc68c0ca"
      },
      "source": [
        "images, labels = batch\r\n",
        "print(images.shape)\r\n",
        "print(labels.shape)"
      ],
      "execution_count": 103,
      "outputs": [
        {
          "output_type": "stream",
          "text": [
            "torch.Size([10, 1, 28, 28])\n",
            "torch.Size([10])\n"
          ],
          "name": "stdout"
        }
      ]
    },
    {
      "cell_type": "code",
      "metadata": {
        "id": "a16KJ8YcgnAp"
      },
      "source": [
        "preds = network(images)"
      ],
      "execution_count": 104,
      "outputs": []
    },
    {
      "cell_type": "code",
      "metadata": {
        "colab": {
          "base_uri": "https://localhost:8080/"
        },
        "id": "7_xkXND9gm0_",
        "outputId": "c6d32840-1cd8-486a-f999-3e1491301397"
      },
      "source": [
        "preds.shape"
      ],
      "execution_count": 105,
      "outputs": [
        {
          "output_type": "execute_result",
          "data": {
            "text/plain": [
              "torch.Size([10, 10])"
            ]
          },
          "metadata": {
            "tags": []
          },
          "execution_count": 105
        }
      ]
    },
    {
      "cell_type": "code",
      "metadata": {
        "colab": {
          "base_uri": "https://localhost:8080/"
        },
        "id": "_Ggb7NYRgmmi",
        "outputId": "105dd2b8-63c7-4084-8603-874d56395957"
      },
      "source": [
        "preds"
      ],
      "execution_count": 106,
      "outputs": [
        {
          "output_type": "execute_result",
          "data": {
            "text/plain": [
              "tensor([[-0.0579,  0.0315, -0.1038,  0.0624,  0.0443,  0.0800, -0.0425,  0.0330,  0.0541, -0.0632],\n",
              "        [-0.0562,  0.0384, -0.1145,  0.0706,  0.0514,  0.0736, -0.0364,  0.0364,  0.0561, -0.0661],\n",
              "        [-0.0360,  0.0344, -0.0979,  0.0596,  0.0493,  0.0608, -0.0496,  0.0218,  0.0629, -0.0653],\n",
              "        [-0.0504,  0.0352, -0.1037,  0.0682,  0.0481,  0.0689, -0.0433,  0.0279,  0.0587, -0.0639],\n",
              "        [-0.0493,  0.0403, -0.1055,  0.0841,  0.0409,  0.0682, -0.0383,  0.0277,  0.0553, -0.0697],\n",
              "        [-0.0666,  0.0371, -0.1083,  0.0770,  0.0501,  0.0750, -0.0329,  0.0304,  0.0530, -0.0635],\n",
              "        [-0.0557,  0.0333, -0.1007,  0.0618,  0.0478,  0.0747, -0.0426,  0.0279,  0.0619, -0.0588],\n",
              "        [-0.0659,  0.0349, -0.1085,  0.0812,  0.0437,  0.0807, -0.0318,  0.0280,  0.0437, -0.0712],\n",
              "        [-0.0486,  0.0347, -0.1030,  0.0603,  0.0430,  0.0713, -0.0427,  0.0328,  0.0656, -0.0676],\n",
              "        [-0.0447,  0.0369, -0.1020,  0.0664,  0.0376,  0.0712, -0.0319,  0.0297,  0.0552, -0.0721]])"
            ]
          },
          "metadata": {
            "tags": []
          },
          "execution_count": 106
        }
      ]
    },
    {
      "cell_type": "code",
      "metadata": {
        "colab": {
          "base_uri": "https://localhost:8080/"
        },
        "id": "lwH2OvaATQFU",
        "outputId": "ce0fbff3-e274-4842-bc45-178e807803e6"
      },
      "source": [
        "preds.argmax(dim=1)"
      ],
      "execution_count": 107,
      "outputs": [
        {
          "output_type": "execute_result",
          "data": {
            "text/plain": [
              "tensor([5, 5, 8, 5, 3, 3, 5, 3, 5, 5])"
            ]
          },
          "metadata": {
            "tags": []
          },
          "execution_count": 107
        }
      ]
    },
    {
      "cell_type": "code",
      "metadata": {
        "colab": {
          "base_uri": "https://localhost:8080/"
        },
        "id": "qprXhS22TQMq",
        "outputId": "e43d374e-1141-4914-87dc-8b5e41a88617"
      },
      "source": [
        "labels"
      ],
      "execution_count": 108,
      "outputs": [
        {
          "output_type": "execute_result",
          "data": {
            "text/plain": [
              "tensor([9, 0, 0, 3, 0, 2, 7, 2, 5, 5])"
            ]
          },
          "metadata": {
            "tags": []
          },
          "execution_count": 108
        }
      ]
    },
    {
      "cell_type": "code",
      "metadata": {
        "colab": {
          "base_uri": "https://localhost:8080/"
        },
        "id": "T45DGKu0sRDn",
        "outputId": "50ff2385-c075-4ffa-c942-39f37ed39a2b"
      },
      "source": [
        "preds.argmax(dim=1).eq(labels)"
      ],
      "execution_count": 113,
      "outputs": [
        {
          "output_type": "execute_result",
          "data": {
            "text/plain": [
              "tensor([False, False, False, False, False, False, False, False,  True,  True])"
            ]
          },
          "metadata": {
            "tags": []
          },
          "execution_count": 113
        }
      ]
    },
    {
      "cell_type": "code",
      "metadata": {
        "colab": {
          "base_uri": "https://localhost:8080/"
        },
        "id": "PiesoETCsQt2",
        "outputId": "1540b536-78a2-4260-ec0a-0b7fdee298c4"
      },
      "source": [
        "preds.argmax(dim=1).eq(labels).sum()  # no. of correct predictions"
      ],
      "execution_count": 114,
      "outputs": [
        {
          "output_type": "execute_result",
          "data": {
            "text/plain": [
              "tensor(2)"
            ]
          },
          "metadata": {
            "tags": []
          },
          "execution_count": 114
        }
      ]
    },
    {
      "cell_type": "code",
      "metadata": {
        "colab": {
          "base_uri": "https://localhost:8080/"
        },
        "id": "ZafEOO7ssQbP",
        "outputId": "3f3fcd7e-cb11-40c8-c91b-613393567bc8"
      },
      "source": [
        "def get_num_correct(preds,labels):\r\n",
        "  return preds.argmax(dim=1).eq(labels).sum().item()\r\n",
        "\r\n",
        "get_num_correct(preds,labels)"
      ],
      "execution_count": 115,
      "outputs": [
        {
          "output_type": "execute_result",
          "data": {
            "text/plain": [
              "2"
            ]
          },
          "metadata": {
            "tags": []
          },
          "execution_count": 115
        }
      ]
    },
    {
      "cell_type": "code",
      "metadata": {
        "colab": {
          "base_uri": "https://localhost:8080/"
        },
        "id": "ZXFGl6_4xeTw",
        "outputId": "adf6fc51-63f7-4342-b458-90830ea43803"
      },
      "source": [
        "torch.set_grad_enabled(True)"
      ],
      "execution_count": 117,
      "outputs": [
        {
          "output_type": "execute_result",
          "data": {
            "text/plain": [
              "<torch.autograd.grad_mode.set_grad_enabled at 0x7f9614bbccc0>"
            ]
          },
          "metadata": {
            "tags": []
          },
          "execution_count": 117
        }
      ]
    },
    {
      "cell_type": "code",
      "metadata": {
        "id": "BfInNnu2xeJb"
      },
      "source": [
        "train_loader = torch.utils.data.DataLoader(train_set, batch_size=100)\r\n",
        "batch = next(iter(train_loader))\r\n",
        "images, labels = batch"
      ],
      "execution_count": 118,
      "outputs": []
    },
    {
      "cell_type": "markdown",
      "metadata": {
        "id": "4xwRPw4D9dw_"
      },
      "source": [
        "Calculating the Loss"
      ]
    },
    {
      "cell_type": "code",
      "metadata": {
        "colab": {
          "base_uri": "https://localhost:8080/"
        },
        "id": "WgnWlluPxd7d",
        "outputId": "66ad1422-9295-4371-b95f-9874962c96ec"
      },
      "source": [
        "preds = network(images)\r\n",
        "loss = F.cross_entropy(preds, labels)  # calculating loss\r\n",
        "loss.item()"
      ],
      "execution_count": 121,
      "outputs": [
        {
          "output_type": "execute_result",
          "data": {
            "text/plain": [
              "2.3100481033325195"
            ]
          },
          "metadata": {
            "tags": []
          },
          "execution_count": 121
        }
      ]
    },
    {
      "cell_type": "markdown",
      "metadata": {
        "id": "W7Vl_G6792CS"
      },
      "source": [
        "Calculating the Gradients"
      ]
    },
    {
      "cell_type": "code",
      "metadata": {
        "colab": {
          "base_uri": "https://localhost:8080/"
        },
        "id": "VRNWAya9sQIk",
        "outputId": "cacb9767-6b73-4e09-da9d-cbfbb9946635"
      },
      "source": [
        "print(network.conv1.weight.grad)"
      ],
      "execution_count": 122,
      "outputs": [
        {
          "output_type": "stream",
          "text": [
            "None\n"
          ],
          "name": "stdout"
        }
      ]
    },
    {
      "cell_type": "code",
      "metadata": {
        "id": "La_YrvmnsQEj"
      },
      "source": [
        "loss.backward() # calculation gradients"
      ],
      "execution_count": 123,
      "outputs": []
    },
    {
      "cell_type": "code",
      "metadata": {
        "colab": {
          "base_uri": "https://localhost:8080/"
        },
        "id": "4XoGp9wgsQAk",
        "outputId": "09d5ab26-fcab-49e9-b1ba-e00ae07182a3"
      },
      "source": [
        "network.conv1.weight.grad.shape\r\n",
        "# shape same as weight.shape"
      ],
      "execution_count": 124,
      "outputs": [
        {
          "output_type": "execute_result",
          "data": {
            "text/plain": [
              "torch.Size([6, 1, 5, 5])"
            ]
          },
          "metadata": {
            "tags": []
          },
          "execution_count": 124
        }
      ]
    },
    {
      "cell_type": "markdown",
      "metadata": {
        "id": "CJFUZ8GT_AIj"
      },
      "source": [
        "Updating the weights"
      ]
    },
    {
      "cell_type": "code",
      "metadata": {
        "id": "12JXepEFsP8J"
      },
      "source": [
        "optimizer = optim.Adam(network.parameters(), lr=0.01)\r\n",
        "# optimizer = optim.SGD"
      ],
      "execution_count": 126,
      "outputs": []
    },
    {
      "cell_type": "code",
      "metadata": {
        "colab": {
          "base_uri": "https://localhost:8080/"
        },
        "id": "ktZRtsrTsP3z",
        "outputId": "564bc68d-11f5-43e0-d91a-5490a3a46a2d"
      },
      "source": [
        "loss.item()"
      ],
      "execution_count": 128,
      "outputs": [
        {
          "output_type": "execute_result",
          "data": {
            "text/plain": [
              "2.3100481033325195"
            ]
          },
          "metadata": {
            "tags": []
          },
          "execution_count": 128
        }
      ]
    },
    {
      "cell_type": "code",
      "metadata": {
        "colab": {
          "base_uri": "https://localhost:8080/"
        },
        "id": "Bbol8x04sPz5",
        "outputId": "74e29de1-087f-46e9-d97e-ed43617594a0"
      },
      "source": [
        "get_num_correct(preds, labels)"
      ],
      "execution_count": 130,
      "outputs": [
        {
          "output_type": "execute_result",
          "data": {
            "text/plain": [
              "8"
            ]
          },
          "metadata": {
            "tags": []
          },
          "execution_count": 130
        }
      ]
    },
    {
      "cell_type": "code",
      "metadata": {
        "id": "S2-9wgwWsPuZ"
      },
      "source": [
        "optimizer.step() # Updating the weights"
      ],
      "execution_count": 132,
      "outputs": []
    },
    {
      "cell_type": "code",
      "metadata": {
        "id": "-T7EENMqsPim"
      },
      "source": [
        "preds = network(images)\r\n",
        "loss = F.cross_entropy(preds, labels)"
      ],
      "execution_count": 133,
      "outputs": []
    },
    {
      "cell_type": "code",
      "metadata": {
        "colab": {
          "base_uri": "https://localhost:8080/"
        },
        "id": "fODLWM_dTQQO",
        "outputId": "75cff817-60f6-44f8-b300-ff75f7e7b955"
      },
      "source": [
        "loss.item()"
      ],
      "execution_count": 134,
      "outputs": [
        {
          "output_type": "execute_result",
          "data": {
            "text/plain": [
              "2.2881155014038086"
            ]
          },
          "metadata": {
            "tags": []
          },
          "execution_count": 134
        }
      ]
    },
    {
      "cell_type": "code",
      "metadata": {
        "id": "N-CwXliy64-6",
        "colab": {
          "base_uri": "https://localhost:8080/"
        },
        "outputId": "697048b4-5606-4e19-d3ee-3d421f3fab59"
      },
      "source": [
        "get_num_correct(preds, labels)"
      ],
      "execution_count": 135,
      "outputs": [
        {
          "output_type": "execute_result",
          "data": {
            "text/plain": [
              "18"
            ]
          },
          "metadata": {
            "tags": []
          },
          "execution_count": 135
        }
      ]
    },
    {
      "cell_type": "code",
      "metadata": {
        "colab": {
          "base_uri": "https://localhost:8080/"
        },
        "id": "SBGN-f2xAJDp",
        "outputId": "21e12699-1c89-42a5-d41a-af28881b97b6"
      },
      "source": [
        "# For one batch\r\n",
        "network = Network()\r\n",
        "\r\n",
        "train_loader = torch.utils.data.DataLoader(train_set, batch_size=100)\r\n",
        "optimizer = optim.Adam(network.parameters(), lr=0.01)\r\n",
        "\r\n",
        "batch = next(iter(train_loader))  # get batch\r\n",
        "images, labels = batch\r\n",
        "\r\n",
        "preds = network(images)  # pass batch\r\n",
        "loss = F.cross_entropy(preds, labels)  # calculate loss\r\n",
        "\r\n",
        "loss.backward() # calculate gradients\r\n",
        "optimizer.step() # update weights\r\n",
        "\r\n",
        "#-----------------------------------------------\r\n",
        "\r\n",
        "print('loss1:', loss.item())\r\n",
        "preds = network(images)\r\n",
        "loss = F.cross_entropy(preds, labels)\r\n",
        "print('loss2:', loss.item())"
      ],
      "execution_count": 136,
      "outputs": [
        {
          "output_type": "stream",
          "text": [
            "loss1: 2.3018181324005127\n",
            "loss2: 2.2599966526031494\n"
          ],
          "name": "stdout"
        }
      ]
    },
    {
      "cell_type": "code",
      "metadata": {
        "id": "Ym_1RLavEawu",
        "outputId": "5ed86b55-bda4-4099-de52-9d2597cc433b",
        "colab": {
          "base_uri": "https://localhost:8080/"
        }
      },
      "source": [
        "# Single training Loop\r\n",
        "network = Network()\r\n",
        "\r\n",
        "train_loader = torch.utils.data.DataLoader(train_set, batch_size=100)\r\n",
        "optimizer = optim.Adam(network.parameters(), lr=0.01)\r\n",
        "\r\n",
        "total_loss = 0\r\n",
        "total_correct = 0\r\n",
        "\r\n",
        "for batch in train_loader:  # get batch\r\n",
        "    images, labels = batch\r\n",
        "\r\n",
        "    preds = network(images)  # pass batch\r\n",
        "    loss = F.cross_entropy(preds, labels)  # calculate loss\r\n",
        "\r\n",
        "    optimizer.zero_grad()  # Zero out gradients that are being held\r\n",
        "    # becoz pytorch accumulates gradients i.e. whenever pytorch\r\n",
        "    # calculates new gradient it adds to whatever it currently is.\r\n",
        "    \r\n",
        "    loss.backward() # calculate gradients\r\n",
        "    optimizer.step() # update weights\r\n",
        "\r\n",
        "    total_loss += loss.item()\r\n",
        "    total_correct += get_num_correct(preds, labels)\r\n",
        "\r\n",
        "print(\"epoch:\", 0, \"total_correct:\", total_correct, \"loss:\", total_loss)"
      ],
      "execution_count": 138,
      "outputs": [
        {
          "output_type": "stream",
          "text": [
            "epoch: 0 total_correct: 46088 loss: 365.38856875896454\n"
          ],
          "name": "stdout"
        }
      ]
    },
    {
      "cell_type": "code",
      "metadata": {
        "id": "OYtrw126EabO",
        "outputId": "1f504cab-a383-4684-ce1f-5082109f9c53",
        "colab": {
          "base_uri": "https://localhost:8080/"
        }
      },
      "source": [
        "total_correct / len(train_set)"
      ],
      "execution_count": 139,
      "outputs": [
        {
          "output_type": "execute_result",
          "data": {
            "text/plain": [
              "0.7681333333333333"
            ]
          },
          "metadata": {
            "tags": []
          },
          "execution_count": 139
        }
      ]
    },
    {
      "cell_type": "code",
      "metadata": {
        "id": "09zosNwDI6LX",
        "outputId": "e756f2ad-b52f-47d9-b3b1-66046bd3c110",
        "colab": {
          "base_uri": "https://localhost:8080/"
        }
      },
      "source": [
        "network = Network()\r\n",
        "\r\n",
        "train_loader = torch.utils.data.DataLoader(train_set, batch_size=100)\r\n",
        "optimizer = optim.Adam(network.parameters(), lr=0.01)\r\n",
        "\r\n",
        "for epoch in range(5):\r\n",
        "\r\n",
        "    total_loss = 0\r\n",
        "    total_correct = 0\r\n",
        "\r\n",
        "    for batch in train_loader:  # get batch\r\n",
        "        images, labels = batch\r\n",
        "\r\n",
        "        preds = network(images)  # pass batch\r\n",
        "        loss = F.cross_entropy(preds, labels)  # calculate loss\r\n",
        "\r\n",
        "        optimizer.zero_grad()  # Zero out gradients that are being held\r\n",
        "        # becoz pytorch accumulates gradients i.e. whenever pytorch\r\n",
        "        # calculates new gradient it adds to whatever it currently is.\r\n",
        "        \r\n",
        "        loss.backward() # calculate gradients\r\n",
        "        optimizer.step() # update weights\r\n",
        "\r\n",
        "        total_loss += loss.item()\r\n",
        "        total_correct += get_num_correct(preds, labels)\r\n",
        "\r\n",
        "    print(\"epoch:\", epoch, \"total_correct:\", total_correct, \"loss:\", total_loss)"
      ],
      "execution_count": 140,
      "outputs": [
        {
          "output_type": "stream",
          "text": [
            "epoch: 0 total_correct: 46570 loss: 348.59156361222267\n",
            "epoch: 1 total_correct: 51246 loss: 238.58498458564281\n",
            "epoch: 2 total_correct: 52104 loss: 215.93888346850872\n",
            "epoch: 3 total_correct: 52376 loss: 204.7331473082304\n",
            "epoch: 4 total_correct: 52667 loss: 197.93583169579506\n"
          ],
          "name": "stdout"
        }
      ]
    },
    {
      "cell_type": "code",
      "metadata": {
        "id": "nUX6mvujI5_f",
        "outputId": "6dee4826-ad8c-4653-b286-9e627b2f99c7",
        "colab": {
          "base_uri": "https://localhost:8080/"
        }
      },
      "source": [
        "total_correct / len(train_set)"
      ],
      "execution_count": 141,
      "outputs": [
        {
          "output_type": "execute_result",
          "data": {
            "text/plain": [
              "0.8777833333333334"
            ]
          },
          "metadata": {
            "tags": []
          },
          "execution_count": 141
        }
      ]
    },
    {
      "cell_type": "code",
      "metadata": {
        "id": "G0lWD5W4EaQA"
      },
      "source": [
        ""
      ],
      "execution_count": null,
      "outputs": []
    },
    {
      "cell_type": "code",
      "metadata": {
        "id": "ayC96hVnEaDu"
      },
      "source": [
        ""
      ],
      "execution_count": null,
      "outputs": []
    },
    {
      "cell_type": "code",
      "metadata": {
        "id": "5GHH5S67EZrO"
      },
      "source": [
        ""
      ],
      "execution_count": null,
      "outputs": []
    },
    {
      "cell_type": "code",
      "metadata": {
        "id": "x479V0i6Bdcx"
      },
      "source": [
        ""
      ],
      "execution_count": null,
      "outputs": []
    },
    {
      "cell_type": "code",
      "metadata": {
        "id": "WCXN-14ZBdOT"
      },
      "source": [
        ""
      ],
      "execution_count": null,
      "outputs": []
    },
    {
      "cell_type": "code",
      "metadata": {
        "id": "khEtyh_U_v9W"
      },
      "source": [
        ""
      ],
      "execution_count": null,
      "outputs": []
    },
    {
      "cell_type": "code",
      "metadata": {
        "id": "Eo8qY6YJ_v0h"
      },
      "source": [
        ""
      ],
      "execution_count": null,
      "outputs": []
    },
    {
      "cell_type": "code",
      "metadata": {
        "id": "sOwmNYC-_vtL"
      },
      "source": [
        ""
      ],
      "execution_count": null,
      "outputs": []
    },
    {
      "cell_type": "code",
      "metadata": {
        "id": "6JrMg4JP_vkN"
      },
      "source": [
        ""
      ],
      "execution_count": null,
      "outputs": []
    },
    {
      "cell_type": "code",
      "metadata": {
        "id": "eClH3cXM_vaL"
      },
      "source": [
        ""
      ],
      "execution_count": null,
      "outputs": []
    },
    {
      "cell_type": "code",
      "metadata": {
        "id": "13ETPtU4_vO5"
      },
      "source": [
        ""
      ],
      "execution_count": null,
      "outputs": []
    },
    {
      "cell_type": "markdown",
      "metadata": {
        "id": "TB7ieaU-vlT_"
      },
      "source": [
        "# Basics "
      ]
    },
    {
      "cell_type": "markdown",
      "metadata": {
        "id": "Jw-ibjkjMt7j"
      },
      "source": [
        "1. Tensors contain data of uniform type\r\n",
        "2. Tensors computations between tensors depend on `dtype` and the `device`\r\n"
      ]
    },
    {
      "cell_type": "code",
      "metadata": {
        "colab": {
          "base_uri": "https://localhost:8080/"
        },
        "id": "KcCyJw5PMqBB",
        "outputId": "ebf4b707-9604-4fcc-8c6d-af1f5739132e"
      },
      "source": [
        "data = np.array([1,2,3])\r\n",
        "type(data)"
      ],
      "execution_count": null,
      "outputs": [
        {
          "output_type": "execute_result",
          "data": {
            "text/plain": [
              "numpy.ndarray"
            ]
          },
          "metadata": {
            "tags": []
          },
          "execution_count": 3
        }
      ]
    },
    {
      "cell_type": "code",
      "metadata": {
        "colab": {
          "base_uri": "https://localhost:8080/"
        },
        "id": "0lB4ctOvNOBL",
        "outputId": "c85ce7b9-7074-45ca-fda2-9c714629ad2a"
      },
      "source": [
        "torch.Tensor(data)\r\n",
        "# Class constructor\r\n",
        "# dtype = torch.float32\r\n"
      ],
      "execution_count": null,
      "outputs": [
        {
          "output_type": "execute_result",
          "data": {
            "text/plain": [
              "tensor([1., 2., 3.])"
            ]
          },
          "metadata": {
            "tags": []
          },
          "execution_count": 4
        }
      ]
    },
    {
      "cell_type": "code",
      "metadata": {
        "colab": {
          "base_uri": "https://localhost:8080/"
        },
        "id": "BIqyZM-cNQvg",
        "outputId": "d49b0c74-4609-4ae3-a401-016106ea483e"
      },
      "source": [
        "torch.tensor(data)\r\n",
        "# Factory function that builds Tensor Objects\r\n",
        "# dtype = torch.int32 same as numpy.ndarray"
      ],
      "execution_count": null,
      "outputs": [
        {
          "output_type": "execute_result",
          "data": {
            "text/plain": [
              "tensor([1, 2, 3])"
            ]
          },
          "metadata": {
            "tags": []
          },
          "execution_count": 5
        }
      ]
    },
    {
      "cell_type": "code",
      "metadata": {
        "colab": {
          "base_uri": "https://localhost:8080/"
        },
        "id": "1l7TiMmuNSld",
        "outputId": "3bd45e38-8bdd-44bf-d956-b04d2dc5e24c"
      },
      "source": [
        "torch.as_tensor(data)\r\n",
        "# also factory funtion\r\n",
        "# dtype = torch.int32"
      ],
      "execution_count": null,
      "outputs": [
        {
          "output_type": "execute_result",
          "data": {
            "text/plain": [
              "tensor([1, 2, 3])"
            ]
          },
          "metadata": {
            "tags": []
          },
          "execution_count": 6
        }
      ]
    },
    {
      "cell_type": "code",
      "metadata": {
        "colab": {
          "base_uri": "https://localhost:8080/"
        },
        "id": "-B2e0KnlNUgk",
        "outputId": "bb96d9f6-8225-4248-b6a3-e6ba1392d499"
      },
      "source": [
        "torch.from_numpy(data)\r\n",
        "# also factory funtion\r\n",
        "# dtype = torch.int32"
      ],
      "execution_count": null,
      "outputs": [
        {
          "output_type": "execute_result",
          "data": {
            "text/plain": [
              "tensor([1, 2, 3])"
            ]
          },
          "metadata": {
            "tags": []
          },
          "execution_count": 7
        }
      ]
    },
    {
      "cell_type": "code",
      "metadata": {
        "colab": {
          "base_uri": "https://localhost:8080/"
        },
        "id": "HvrGF9G6Nh9m",
        "outputId": "628934fd-99cd-447b-98dd-6a1591c8a22d"
      },
      "source": [
        "torch.eye(2)\r\n",
        "# Returns Identity Matrix"
      ],
      "execution_count": null,
      "outputs": [
        {
          "output_type": "execute_result",
          "data": {
            "text/plain": [
              "tensor([[1., 0.],\n",
              "        [0., 1.]])"
            ]
          },
          "metadata": {
            "tags": []
          },
          "execution_count": 8
        }
      ]
    },
    {
      "cell_type": "code",
      "metadata": {
        "colab": {
          "base_uri": "https://localhost:8080/"
        },
        "id": "LTN6Ogu2OPfK",
        "outputId": "177c9fac-c921-4ac8-dea6-01965ca66df1"
      },
      "source": [
        "torch.zeros(2,2)"
      ],
      "execution_count": null,
      "outputs": [
        {
          "output_type": "execute_result",
          "data": {
            "text/plain": [
              "tensor([[0., 0.],\n",
              "        [0., 0.]])"
            ]
          },
          "metadata": {
            "tags": []
          },
          "execution_count": 9
        }
      ]
    },
    {
      "cell_type": "code",
      "metadata": {
        "colab": {
          "base_uri": "https://localhost:8080/"
        },
        "id": "jnwficRCObQG",
        "outputId": "745bbd4f-14cb-46dc-8d27-f23e77f209f7"
      },
      "source": [
        "torch.ones(2,2)"
      ],
      "execution_count": null,
      "outputs": [
        {
          "output_type": "execute_result",
          "data": {
            "text/plain": [
              "tensor([[1., 1.],\n",
              "        [1., 1.]])"
            ]
          },
          "metadata": {
            "tags": []
          },
          "execution_count": 10
        }
      ]
    },
    {
      "cell_type": "code",
      "metadata": {
        "colab": {
          "base_uri": "https://localhost:8080/"
        },
        "id": "xZFfcqK4OdiD",
        "outputId": "ac40a207-5f4b-4563-837b-76eaaeca3fd5"
      },
      "source": [
        "torch.rand(2,2)"
      ],
      "execution_count": null,
      "outputs": [
        {
          "output_type": "execute_result",
          "data": {
            "text/plain": [
              "tensor([[0.9852, 0.9010],\n",
              "        [0.5100, 0.9187]])"
            ]
          },
          "metadata": {
            "tags": []
          },
          "execution_count": 11
        }
      ]
    },
    {
      "cell_type": "code",
      "metadata": {
        "colab": {
          "base_uri": "https://localhost:8080/"
        },
        "id": "-dW9nxxeOfQA",
        "outputId": "127e5bd0-67c9-48f1-f13b-0b4d702ca5ff"
      },
      "source": [
        "data = np.array([1,2,3])\r\n",
        "data"
      ],
      "execution_count": null,
      "outputs": [
        {
          "output_type": "execute_result",
          "data": {
            "text/plain": [
              "array([1, 2, 3])"
            ]
          },
          "metadata": {
            "tags": []
          },
          "execution_count": 12
        }
      ]
    },
    {
      "cell_type": "code",
      "metadata": {
        "id": "0XqPbJIsQLTJ"
      },
      "source": [
        "t1 = torch.Tensor(data)\r\n",
        "t2 = torch.tensor(data)\r\n",
        "t3 = torch.as_tensor(data)\r\n",
        "t4 = torch.from_numpy(data)"
      ],
      "execution_count": null,
      "outputs": []
    },
    {
      "cell_type": "code",
      "metadata": {
        "id": "sZ8zKzmhQY0m"
      },
      "source": [
        "data[0] = 0\r\n",
        "data[1] = 0\r\n",
        "data[2] = 0"
      ],
      "execution_count": null,
      "outputs": []
    },
    {
      "cell_type": "markdown",
      "metadata": {
        "id": "L3K2C05MRLN1"
      },
      "source": [
        "![image.png](data:image/png;base64,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)"
      ]
    },
    {
      "cell_type": "code",
      "metadata": {
        "colab": {
          "base_uri": "https://localhost:8080/"
        },
        "id": "WR7S8gf9Qe14",
        "outputId": "63aa6263-ae07-41ab-a282-f5f9c77d2730"
      },
      "source": [
        "print(t1)\r\n",
        "print(t2)\r\n",
        "# Contains the original Data values\r\n",
        "# Data is Copied"
      ],
      "execution_count": null,
      "outputs": [
        {
          "output_type": "stream",
          "text": [
            "tensor([1., 2., 3.])\n",
            "tensor([1, 2, 3])\n"
          ],
          "name": "stdout"
        }
      ]
    },
    {
      "cell_type": "code",
      "metadata": {
        "colab": {
          "base_uri": "https://localhost:8080/"
        },
        "id": "UIWRZB7_QjPC",
        "outputId": "fb62e7ea-bd99-46bf-87ed-1859a5f2c9ea"
      },
      "source": [
        "print(t3)\r\n",
        "print(t4)\r\n",
        "# Contains the same data in the array after the change\r\n",
        "# Data is Shared\r\n",
        "# Zero memory copy, very efficient"
      ],
      "execution_count": null,
      "outputs": [
        {
          "output_type": "stream",
          "text": [
            "tensor([0, 0, 0])\n",
            "tensor([0, 0, 0])\n"
          ],
          "name": "stdout"
        }
      ]
    },
    {
      "cell_type": "code",
      "metadata": {
        "id": "UHWwzs6lQlfs"
      },
      "source": [
        "# Reshaping Operation\r\n",
        "t = torch.tensor([\r\n",
        "                  [1,1,1,1],\r\n",
        "                  [2,2,2,2],\r\n",
        "                  [3,3,3,3]\r\n",
        "], dtype=torch.float32)"
      ],
      "execution_count": null,
      "outputs": []
    },
    {
      "cell_type": "code",
      "metadata": {
        "colab": {
          "base_uri": "https://localhost:8080/"
        },
        "id": "LCtscGo6ZBRk",
        "outputId": "0e39e8c0-d22b-49af-a2bc-7dc0344941bb"
      },
      "source": [
        "t.size() #size method"
      ],
      "execution_count": null,
      "outputs": [
        {
          "output_type": "execute_result",
          "data": {
            "text/plain": [
              "torch.Size([3, 4])"
            ]
          },
          "metadata": {
            "tags": []
          },
          "execution_count": 18
        }
      ]
    },
    {
      "cell_type": "code",
      "metadata": {
        "colab": {
          "base_uri": "https://localhost:8080/"
        },
        "id": "uDjRvEerZkQG",
        "outputId": "555ec64f-5385-4d43-b672-760972b23e81"
      },
      "source": [
        "t.shape #shape attribute"
      ],
      "execution_count": null,
      "outputs": [
        {
          "output_type": "execute_result",
          "data": {
            "text/plain": [
              "torch.Size([3, 4])"
            ]
          },
          "metadata": {
            "tags": []
          },
          "execution_count": 19
        }
      ]
    },
    {
      "cell_type": "code",
      "metadata": {
        "colab": {
          "base_uri": "https://localhost:8080/"
        },
        "id": "2q2QKOqkZlmt",
        "outputId": "650a98dd-8c3b-415e-8e3a-550336865693"
      },
      "source": [
        "len(t.shape) # rank"
      ],
      "execution_count": null,
      "outputs": [
        {
          "output_type": "execute_result",
          "data": {
            "text/plain": [
              "2"
            ]
          },
          "metadata": {
            "tags": []
          },
          "execution_count": 21
        }
      ]
    },
    {
      "cell_type": "code",
      "metadata": {
        "colab": {
          "base_uri": "https://localhost:8080/"
        },
        "id": "zcKvQ91-Zx2K",
        "outputId": "ec65cc56-7cf4-4d57-fa08-aedba31d14d6"
      },
      "source": [
        "torch.tensor(t.shape).prod()\r\n",
        "# no. of elements"
      ],
      "execution_count": null,
      "outputs": [
        {
          "output_type": "execute_result",
          "data": {
            "text/plain": [
              "tensor(12)"
            ]
          },
          "metadata": {
            "tags": []
          },
          "execution_count": 22
        }
      ]
    },
    {
      "cell_type": "code",
      "metadata": {
        "colab": {
          "base_uri": "https://localhost:8080/"
        },
        "id": "Ha5xX_bDaDM-",
        "outputId": "ca663cc0-a9d6-4b16-c80f-3a0e9896ea5d"
      },
      "source": [
        "t.numel()"
      ],
      "execution_count": null,
      "outputs": [
        {
          "output_type": "execute_result",
          "data": {
            "text/plain": [
              "12"
            ]
          },
          "metadata": {
            "tags": []
          },
          "execution_count": 23
        }
      ]
    },
    {
      "cell_type": "code",
      "metadata": {
        "colab": {
          "base_uri": "https://localhost:8080/"
        },
        "id": "sRsA2Y5YaE63",
        "outputId": "e815c27f-58a9-4e68-ad27-ace8c6e11e61"
      },
      "source": [
        "t.reshape(1,12)"
      ],
      "execution_count": null,
      "outputs": [
        {
          "output_type": "execute_result",
          "data": {
            "text/plain": [
              "tensor([[1., 1., 1., 1., 2., 2., 2., 2., 3., 3., 3., 3.]])"
            ]
          },
          "metadata": {
            "tags": []
          },
          "execution_count": 24
        }
      ]
    },
    {
      "cell_type": "code",
      "metadata": {
        "colab": {
          "base_uri": "https://localhost:8080/"
        },
        "id": "MrV4Hpc3aK6E",
        "outputId": "676e33fe-ecec-4687-e331-3930139f14d4"
      },
      "source": [
        "t.reshape(2,6)"
      ],
      "execution_count": null,
      "outputs": [
        {
          "output_type": "execute_result",
          "data": {
            "text/plain": [
              "tensor([[1., 1., 1., 1., 2., 2.],\n",
              "        [2., 2., 3., 3., 3., 3.]])"
            ]
          },
          "metadata": {
            "tags": []
          },
          "execution_count": 25
        }
      ]
    },
    {
      "cell_type": "code",
      "metadata": {
        "colab": {
          "base_uri": "https://localhost:8080/"
        },
        "id": "NvVel2CyaMX2",
        "outputId": "5272a1bc-9294-4b2b-b4db-f43606430533"
      },
      "source": [
        "t.reshape(3,4)"
      ],
      "execution_count": null,
      "outputs": [
        {
          "output_type": "execute_result",
          "data": {
            "text/plain": [
              "tensor([[1., 1., 1., 1.],\n",
              "        [2., 2., 2., 2.],\n",
              "        [3., 3., 3., 3.]])"
            ]
          },
          "metadata": {
            "tags": []
          },
          "execution_count": 26
        }
      ]
    },
    {
      "cell_type": "code",
      "metadata": {
        "colab": {
          "base_uri": "https://localhost:8080/"
        },
        "id": "gRm9biZ4aNjN",
        "outputId": "01bf9a8b-bdb1-4156-d3ef-1d0377bb5263"
      },
      "source": [
        "t.reshape(2,2,3)\r\n",
        "# changing rank to 3"
      ],
      "execution_count": null,
      "outputs": [
        {
          "output_type": "execute_result",
          "data": {
            "text/plain": [
              "tensor([[[1., 1., 1.],\n",
              "         [1., 2., 2.]],\n",
              "\n",
              "        [[2., 2., 3.],\n",
              "         [3., 3., 3.]]])"
            ]
          },
          "metadata": {
            "tags": []
          },
          "execution_count": 28
        }
      ]
    },
    {
      "cell_type": "code",
      "metadata": {
        "colab": {
          "base_uri": "https://localhost:8080/"
        },
        "id": "J2DFXNR1aX7o",
        "outputId": "f1a8d2a4-7861-4654-e898-56696eddef62"
      },
      "source": [
        "print(t.reshape(1,12).squeeze())\r\n",
        "print(t.reshape(1,12).squeeze().shape)\r\n",
        "# squeezing a tensor removes axes that have lenght of one"
      ],
      "execution_count": null,
      "outputs": [
        {
          "output_type": "stream",
          "text": [
            "tensor([1., 1., 1., 1., 2., 2., 2., 2., 3., 3., 3., 3.])\n",
            "torch.Size([12])\n"
          ],
          "name": "stdout"
        }
      ]
    },
    {
      "cell_type": "code",
      "metadata": {
        "colab": {
          "base_uri": "https://localhost:8080/"
        },
        "id": "JBe267_rbKD2",
        "outputId": "cf72cfda-9e74-4f04-a918-1665dbfd307c"
      },
      "source": [
        "print(t.reshape(1,12).squeeze().unsqueeze(dim=0))\r\n",
        "print(t.reshape(1,12).squeeze().unsqueeze(dim=0).shape)\r\n",
        "# unsqueezing a tensor adda dimension with a lenght of one"
      ],
      "execution_count": null,
      "outputs": [
        {
          "output_type": "stream",
          "text": [
            "tensor([[1., 1., 1., 1., 2., 2., 2., 2., 3., 3., 3., 3.]])\n",
            "torch.Size([1, 12])\n"
          ],
          "name": "stdout"
        }
      ]
    },
    {
      "cell_type": "code",
      "metadata": {
        "id": "uiMuQppAbT7X"
      },
      "source": [
        "def flatten(t):\r\n",
        "  t = t.reshape(1,-1)\r\n",
        "  t = t.squeeze()\r\n",
        "  return t\r\n",
        "# also equivalent to\r\n",
        "# t.reshape(1,-1)[0]\r\n",
        "# t.reshape(-1)\r\n",
        "# t.flatten()"
      ],
      "execution_count": null,
      "outputs": []
    },
    {
      "cell_type": "code",
      "metadata": {
        "colab": {
          "base_uri": "https://localhost:8080/"
        },
        "id": "LR2P4pl1cDkc",
        "outputId": "4bd8b86a-054d-40b9-cd64-522a2529e2ec"
      },
      "source": [
        "flatten(t)"
      ],
      "execution_count": null,
      "outputs": [
        {
          "output_type": "execute_result",
          "data": {
            "text/plain": [
              "tensor([1., 1., 1., 1., 2., 2., 2., 2., 3., 3., 3., 3.])"
            ]
          },
          "metadata": {
            "tags": []
          },
          "execution_count": 46
        }
      ]
    },
    {
      "cell_type": "code",
      "metadata": {
        "id": "md75MGqXcH-1"
      },
      "source": [
        "t1 = torch.tensor([\r\n",
        "                   [1,1,1,1],\r\n",
        "                   [1,1,1,1],\r\n",
        "                   [1,1,1,1],\r\n",
        "                   [1,1,1,1]\r\n",
        "])\r\n",
        "\r\n",
        "t2 = torch.tensor([\r\n",
        "                   [2,2,2,2],\r\n",
        "                   [2,2,2,2],\r\n",
        "                   [2,2,2,2],\r\n",
        "                   [2,2,2,2]\r\n",
        "])\r\n",
        "\r\n",
        "t3 = torch.tensor([\r\n",
        "                   [3,3,3,3],\r\n",
        "                   [3,3,3,3],\r\n",
        "                   [3,3,3,3],\r\n",
        "                   [3,3,3,3]\r\n",
        "])"
      ],
      "execution_count": null,
      "outputs": []
    },
    {
      "cell_type": "code",
      "metadata": {
        "colab": {
          "base_uri": "https://localhost:8080/"
        },
        "id": "DtwfarTaciR3",
        "outputId": "a0a1043e-92c7-4755-ea8f-f41621ac802c"
      },
      "source": [
        "t = torch.stack((t1,t2,t3))\r\n",
        "t.shape"
      ],
      "execution_count": null,
      "outputs": [
        {
          "output_type": "execute_result",
          "data": {
            "text/plain": [
              "torch.Size([3, 4, 4])"
            ]
          },
          "metadata": {
            "tags": []
          },
          "execution_count": 49
        }
      ]
    },
    {
      "cell_type": "code",
      "metadata": {
        "colab": {
          "base_uri": "https://localhost:8080/"
        },
        "id": "XndfR_3vh3fF",
        "outputId": "6a8b56f5-4835-432c-ecc1-5190fcaaa25b"
      },
      "source": [
        "t"
      ],
      "execution_count": null,
      "outputs": [
        {
          "output_type": "execute_result",
          "data": {
            "text/plain": [
              "tensor([[[1, 1, 1, 1],\n",
              "         [1, 1, 1, 1],\n",
              "         [1, 1, 1, 1],\n",
              "         [1, 1, 1, 1]],\n",
              "\n",
              "        [[2, 2, 2, 2],\n",
              "         [2, 2, 2, 2],\n",
              "         [2, 2, 2, 2],\n",
              "         [2, 2, 2, 2]],\n",
              "\n",
              "        [[3, 3, 3, 3],\n",
              "         [3, 3, 3, 3],\n",
              "         [3, 3, 3, 3],\n",
              "         [3, 3, 3, 3]]])"
            ]
          },
          "metadata": {
            "tags": []
          },
          "execution_count": 50
        }
      ]
    },
    {
      "cell_type": "code",
      "metadata": {
        "colab": {
          "base_uri": "https://localhost:8080/"
        },
        "id": "1Xo9zeLah4m7",
        "outputId": "ef81b910-5aee-404b-88af-ef9e610114ae"
      },
      "source": [
        "t = t.reshape(3,1,4,4)\r\n",
        "t"
      ],
      "execution_count": null,
      "outputs": [
        {
          "output_type": "execute_result",
          "data": {
            "text/plain": [
              "tensor([[[[1, 1, 1, 1],\n",
              "          [1, 1, 1, 1],\n",
              "          [1, 1, 1, 1],\n",
              "          [1, 1, 1, 1]]],\n",
              "\n",
              "\n",
              "        [[[2, 2, 2, 2],\n",
              "          [2, 2, 2, 2],\n",
              "          [2, 2, 2, 2],\n",
              "          [2, 2, 2, 2]]],\n",
              "\n",
              "\n",
              "        [[[3, 3, 3, 3],\n",
              "          [3, 3, 3, 3],\n",
              "          [3, 3, 3, 3],\n",
              "          [3, 3, 3, 3]]]])"
            ]
          },
          "metadata": {
            "tags": []
          },
          "execution_count": 52
        }
      ]
    },
    {
      "cell_type": "code",
      "metadata": {
        "colab": {
          "base_uri": "https://localhost:8080/"
        },
        "id": "76_j7nKZiFaU",
        "outputId": "ad045332-e46d-4b8d-a280-df85022c3e71"
      },
      "source": [
        "# now to flatten only image and not the batch\r\n",
        "t.flatten(start_dim=1)\r\n",
        "# start_dim tells which axis it should start with when it begins flatten"
      ],
      "execution_count": null,
      "outputs": [
        {
          "output_type": "execute_result",
          "data": {
            "text/plain": [
              "tensor([[1, 1, 1, 1, 1, 1, 1, 1, 1, 1, 1, 1, 1, 1, 1, 1],\n",
              "        [2, 2, 2, 2, 2, 2, 2, 2, 2, 2, 2, 2, 2, 2, 2, 2],\n",
              "        [3, 3, 3, 3, 3, 3, 3, 3, 3, 3, 3, 3, 3, 3, 3, 3]])"
            ]
          },
          "metadata": {
            "tags": []
          },
          "execution_count": 53
        }
      ]
    },
    {
      "cell_type": "code",
      "metadata": {
        "colab": {
          "base_uri": "https://localhost:8080/"
        },
        "id": "ImJtKizijzZj",
        "outputId": "380111ef-d283-4f7a-ed72-9592836e6f26"
      },
      "source": [
        "t.flatten(start_dim=1).shape"
      ],
      "execution_count": null,
      "outputs": [
        {
          "output_type": "execute_result",
          "data": {
            "text/plain": [
              "torch.Size([3, 16])"
            ]
          },
          "metadata": {
            "tags": []
          },
          "execution_count": 54
        }
      ]
    },
    {
      "cell_type": "code",
      "metadata": {
        "id": "m_OWvOwWj1rJ"
      },
      "source": [
        "t1 = torch.tensor([\r\n",
        "                   [1,2],\r\n",
        "                   [3,4]\r\n",
        "], dtype=torch.float32)\r\n",
        "\r\n",
        "t2 = torch.tensor([\r\n",
        "                   [9,8],\r\n",
        "                   [7,6]\r\n",
        "], dtype=torch.float32)"
      ],
      "execution_count": null,
      "outputs": []
    },
    {
      "cell_type": "code",
      "metadata": {
        "colab": {
          "base_uri": "https://localhost:8080/"
        },
        "id": "ZK9rCgaTl3Ht",
        "outputId": "0c77adbd-8d71-4201-de4c-4f34864ef6cd"
      },
      "source": [
        "t1[0] # firstaxis"
      ],
      "execution_count": null,
      "outputs": [
        {
          "output_type": "execute_result",
          "data": {
            "text/plain": [
              "tensor([1., 2.])"
            ]
          },
          "metadata": {
            "tags": []
          },
          "execution_count": 60
        }
      ]
    },
    {
      "cell_type": "code",
      "metadata": {
        "colab": {
          "base_uri": "https://localhost:8080/"
        },
        "id": "YR3HIykbl5h1",
        "outputId": "601b1830-3d82-4d0f-8572-0ddb93a1ce7e"
      },
      "source": [
        "t1[0][0] #second axis"
      ],
      "execution_count": null,
      "outputs": [
        {
          "output_type": "execute_result",
          "data": {
            "text/plain": [
              "tensor(1.)"
            ]
          },
          "metadata": {
            "tags": []
          },
          "execution_count": 61
        }
      ]
    },
    {
      "cell_type": "code",
      "metadata": {
        "colab": {
          "base_uri": "https://localhost:8080/"
        },
        "id": "h3IP8GWMl7Nv",
        "outputId": "fc637d88-b3bf-480a-d200-43d87e945e3a"
      },
      "source": [
        "t2[0][0]"
      ],
      "execution_count": null,
      "outputs": [
        {
          "output_type": "execute_result",
          "data": {
            "text/plain": [
              "tensor(9.)"
            ]
          },
          "metadata": {
            "tags": []
          },
          "execution_count": 62
        }
      ]
    },
    {
      "cell_type": "markdown",
      "metadata": {
        "id": "G499PGbymbd3"
      },
      "source": [
        "# Two tensors must have same shape in order to perform Elementwise Operation"
      ]
    },
    {
      "cell_type": "code",
      "metadata": {
        "colab": {
          "base_uri": "https://localhost:8080/"
        },
        "id": "dh8d3t4pmCKX",
        "outputId": "741555d5-e759-41c4-80ef-d9640a43b784"
      },
      "source": [
        "#elementwise operation, and returns tensor of same shape\r\n",
        "t1+t2"
      ],
      "execution_count": null,
      "outputs": [
        {
          "output_type": "execute_result",
          "data": {
            "text/plain": [
              "tensor([[10., 10.],\n",
              "        [10., 10.]])"
            ]
          },
          "metadata": {
            "tags": []
          },
          "execution_count": 64
        }
      ]
    },
    {
      "cell_type": "code",
      "metadata": {
        "colab": {
          "base_uri": "https://localhost:8080/"
        },
        "id": "fi29bC_VmUhw",
        "outputId": "e18f5efc-0c70-4bb4-d87f-a8212f959f73"
      },
      "source": [
        "print(t1 + 2)\r\n",
        "# Broadcasting, the scaler value tensor is being broadcasted to the shape of t1\r\n",
        "print(np.broadcast_to(2, t1.shape))"
      ],
      "execution_count": null,
      "outputs": [
        {
          "output_type": "stream",
          "text": [
            "tensor([[3., 4.],\n",
            "        [5., 6.]])\n",
            "[[2 2]\n",
            " [2 2]]\n"
          ],
          "name": "stdout"
        }
      ]
    },
    {
      "cell_type": "code",
      "metadata": {
        "colab": {
          "base_uri": "https://localhost:8080/"
        },
        "id": "5i4ME9PRmmUz",
        "outputId": "e8fca23c-a321-4b02-dc84-0b9728d495f6"
      },
      "source": [
        "t1.add(2)"
      ],
      "execution_count": null,
      "outputs": [
        {
          "output_type": "execute_result",
          "data": {
            "text/plain": [
              "tensor([[3., 4.],\n",
              "        [5., 6.]])"
            ]
          },
          "metadata": {
            "tags": []
          },
          "execution_count": 69
        }
      ]
    },
    {
      "cell_type": "code",
      "metadata": {
        "id": "eN6ezsbhmuKI"
      },
      "source": [
        "t1 = torch.tensor([\r\n",
        "                   [1,1],\r\n",
        "                   [1,1]\r\n",
        "], dtype=torch.float32)\r\n",
        "\r\n",
        "t2 = torch.tensor([2,4], dtype=torch.float32)"
      ],
      "execution_count": null,
      "outputs": []
    },
    {
      "cell_type": "code",
      "metadata": {
        "colab": {
          "base_uri": "https://localhost:8080/"
        },
        "id": "ihtVWfZHns8z",
        "outputId": "9620b2aa-ae73-4304-a52e-5638af3b6afb"
      },
      "source": [
        "t1.shape"
      ],
      "execution_count": null,
      "outputs": [
        {
          "output_type": "execute_result",
          "data": {
            "text/plain": [
              "torch.Size([2, 2])"
            ]
          },
          "metadata": {
            "tags": []
          },
          "execution_count": 71
        }
      ]
    },
    {
      "cell_type": "code",
      "metadata": {
        "colab": {
          "base_uri": "https://localhost:8080/"
        },
        "id": "2Mlm9QhXntyo",
        "outputId": "2ab8e745-f7bc-4780-b5b8-f4e12fefebe1"
      },
      "source": [
        "t2.shape"
      ],
      "execution_count": null,
      "outputs": [
        {
          "output_type": "execute_result",
          "data": {
            "text/plain": [
              "torch.Size([2])"
            ]
          },
          "metadata": {
            "tags": []
          },
          "execution_count": 72
        }
      ]
    },
    {
      "cell_type": "code",
      "metadata": {
        "colab": {
          "base_uri": "https://localhost:8080/"
        },
        "id": "s4yb1-RsnuX_",
        "outputId": "5ca855f7-7d7c-4af3-a32c-becee9c91421"
      },
      "source": [
        "t1 + t2  # Broadcasting !!"
      ],
      "execution_count": null,
      "outputs": [
        {
          "output_type": "execute_result",
          "data": {
            "text/plain": [
              "tensor([[3., 5.],\n",
              "        [3., 5.]])"
            ]
          },
          "metadata": {
            "tags": []
          },
          "execution_count": 74
        }
      ]
    },
    {
      "cell_type": "code",
      "metadata": {
        "id": "ymDzRtQOnxac"
      },
      "source": [
        "t = torch.tensor([\r\n",
        "                  [0,5,7],\r\n",
        "                  [6,0,7],\r\n",
        "                  [0,8,0]\r\n",
        "], dtype=torch.float32)"
      ],
      "execution_count": null,
      "outputs": []
    },
    {
      "cell_type": "code",
      "metadata": {
        "colab": {
          "base_uri": "https://localhost:8080/"
        },
        "id": "RafRwz0noVBZ",
        "outputId": "ce425369-abfb-49df-df21-9f2ad3f8ac6f"
      },
      "source": [
        "t.eq(0)"
      ],
      "execution_count": null,
      "outputs": [
        {
          "output_type": "execute_result",
          "data": {
            "text/plain": [
              "tensor([[ True, False, False],\n",
              "        [False,  True, False],\n",
              "        [ True, False,  True]])"
            ]
          },
          "metadata": {
            "tags": []
          },
          "execution_count": 77
        }
      ]
    },
    {
      "cell_type": "code",
      "metadata": {
        "colab": {
          "base_uri": "https://localhost:8080/"
        },
        "id": "ZwD3vlPdoooP",
        "outputId": "fd17e9c6-5b21-42cc-9944-e8b4b468213f"
      },
      "source": [
        "t.ge(0)"
      ],
      "execution_count": null,
      "outputs": [
        {
          "output_type": "execute_result",
          "data": {
            "text/plain": [
              "tensor([[True, True, True],\n",
              "        [True, True, True],\n",
              "        [True, True, True]])"
            ]
          },
          "metadata": {
            "tags": []
          },
          "execution_count": 78
        }
      ]
    },
    {
      "cell_type": "code",
      "metadata": {
        "colab": {
          "base_uri": "https://localhost:8080/"
        },
        "id": "90mbRoA9osxh",
        "outputId": "80aec854-172e-4933-93ab-3e3ad58e99f2"
      },
      "source": [
        "t.gt(0)"
      ],
      "execution_count": null,
      "outputs": [
        {
          "output_type": "execute_result",
          "data": {
            "text/plain": [
              "tensor([[False,  True,  True],\n",
              "        [ True, False,  True],\n",
              "        [False,  True, False]])"
            ]
          },
          "metadata": {
            "tags": []
          },
          "execution_count": 79
        }
      ]
    },
    {
      "cell_type": "code",
      "metadata": {
        "colab": {
          "base_uri": "https://localhost:8080/"
        },
        "id": "kN8nv3sYou-e",
        "outputId": "533f5009-1ab5-450c-da08-fcce5e114778"
      },
      "source": [
        "t.le(0)"
      ],
      "execution_count": null,
      "outputs": [
        {
          "output_type": "execute_result",
          "data": {
            "text/plain": [
              "tensor([[ True, False, False],\n",
              "        [False,  True, False],\n",
              "        [ True, False,  True]])"
            ]
          },
          "metadata": {
            "tags": []
          },
          "execution_count": 80
        }
      ]
    },
    {
      "cell_type": "code",
      "metadata": {
        "colab": {
          "base_uri": "https://localhost:8080/"
        },
        "id": "FIKi5e1UowD1",
        "outputId": "e74a3377-40f4-414e-eeaa-1a784fae811a"
      },
      "source": [
        "t.lt(0)"
      ],
      "execution_count": null,
      "outputs": [
        {
          "output_type": "execute_result",
          "data": {
            "text/plain": [
              "tensor([[False, False, False],\n",
              "        [False, False, False],\n",
              "        [False, False, False]])"
            ]
          },
          "metadata": {
            "tags": []
          },
          "execution_count": 81
        }
      ]
    },
    {
      "cell_type": "code",
      "metadata": {
        "colab": {
          "base_uri": "https://localhost:8080/"
        },
        "id": "txlvWculoxw6",
        "outputId": "d51ee46e-4307-47a5-c2ca-11c98281d581"
      },
      "source": [
        "t.abs()"
      ],
      "execution_count": null,
      "outputs": [
        {
          "output_type": "execute_result",
          "data": {
            "text/plain": [
              "tensor([[0., 5., 7.],\n",
              "        [6., 0., 7.],\n",
              "        [0., 8., 0.]])"
            ]
          },
          "metadata": {
            "tags": []
          },
          "execution_count": 84
        }
      ]
    },
    {
      "cell_type": "code",
      "metadata": {
        "colab": {
          "base_uri": "https://localhost:8080/"
        },
        "id": "SAzUJzoYo5XN",
        "outputId": "ee88d3dd-d696-410d-a53f-0e82262c58fb"
      },
      "source": [
        "t.sqrt()"
      ],
      "execution_count": null,
      "outputs": [
        {
          "output_type": "execute_result",
          "data": {
            "text/plain": [
              "tensor([[0.0000, 2.2361, 2.6458],\n",
              "        [2.4495, 0.0000, 2.6458],\n",
              "        [0.0000, 2.8284, 0.0000]])"
            ]
          },
          "metadata": {
            "tags": []
          },
          "execution_count": 85
        }
      ]
    },
    {
      "cell_type": "code",
      "metadata": {
        "colab": {
          "base_uri": "https://localhost:8080/"
        },
        "id": "yIli9aRQpEq2",
        "outputId": "6e44555e-f406-44fa-9f28-1df5c3d42d11"
      },
      "source": [
        "t.neg()"
      ],
      "execution_count": null,
      "outputs": [
        {
          "output_type": "execute_result",
          "data": {
            "text/plain": [
              "tensor([[-0., -5., -7.],\n",
              "        [-6., -0., -7.],\n",
              "        [-0., -8., -0.]])"
            ]
          },
          "metadata": {
            "tags": []
          },
          "execution_count": 86
        }
      ]
    },
    {
      "cell_type": "markdown",
      "metadata": {
        "id": "n2d8jGnpp2xx"
      },
      "source": [
        "# A reduction operation on a tensor is anoperations that reduces the no. of elements contained within the tensor"
      ]
    },
    {
      "cell_type": "code",
      "metadata": {
        "colab": {
          "base_uri": "https://localhost:8080/"
        },
        "id": "2za3dqWmpFmi",
        "outputId": "0c1c061b-b82f-42c1-d701-ddf6f9c0b0a2"
      },
      "source": [
        "t.sum()"
      ],
      "execution_count": null,
      "outputs": [
        {
          "output_type": "execute_result",
          "data": {
            "text/plain": [
              "tensor(33.)"
            ]
          },
          "metadata": {
            "tags": []
          },
          "execution_count": 90
        }
      ]
    },
    {
      "cell_type": "code",
      "metadata": {
        "colab": {
          "base_uri": "https://localhost:8080/"
        },
        "id": "Tt8so3GkpHVf",
        "outputId": "81688527-2673-4ad9-9852-30ae033783e1"
      },
      "source": [
        "t.numel()"
      ],
      "execution_count": null,
      "outputs": [
        {
          "output_type": "execute_result",
          "data": {
            "text/plain": [
              "9"
            ]
          },
          "metadata": {
            "tags": []
          },
          "execution_count": 91
        }
      ]
    },
    {
      "cell_type": "code",
      "metadata": {
        "colab": {
          "base_uri": "https://localhost:8080/"
        },
        "id": "A5_98W4oqDYd",
        "outputId": "5e953b14-85b6-4f72-caae-732da21ce194"
      },
      "source": [
        "t.prod()"
      ],
      "execution_count": null,
      "outputs": [
        {
          "output_type": "execute_result",
          "data": {
            "text/plain": [
              "tensor(0.)"
            ]
          },
          "metadata": {
            "tags": []
          },
          "execution_count": 92
        }
      ]
    },
    {
      "cell_type": "code",
      "metadata": {
        "colab": {
          "base_uri": "https://localhost:8080/"
        },
        "id": "nH44lWTCqIiH",
        "outputId": "f9d91099-2238-4b5b-fb65-8ee8af7fce4c"
      },
      "source": [
        "t.mean()"
      ],
      "execution_count": null,
      "outputs": [
        {
          "output_type": "execute_result",
          "data": {
            "text/plain": [
              "tensor(3.6667)"
            ]
          },
          "metadata": {
            "tags": []
          },
          "execution_count": 93
        }
      ]
    },
    {
      "cell_type": "code",
      "metadata": {
        "colab": {
          "base_uri": "https://localhost:8080/"
        },
        "id": "XJ1AbCp7qJo4",
        "outputId": "1600f850-f199-4576-ff58-7dea14a619a8"
      },
      "source": [
        "t.std()"
      ],
      "execution_count": null,
      "outputs": [
        {
          "output_type": "execute_result",
          "data": {
            "text/plain": [
              "tensor(3.5707)"
            ]
          },
          "metadata": {
            "tags": []
          },
          "execution_count": 94
        }
      ]
    },
    {
      "cell_type": "code",
      "metadata": {
        "id": "K6Q9AhYtqLaT"
      },
      "source": [
        " t = torch.tensor([\r\n",
        "                  [1,1,1,1],\r\n",
        "                  [2,2,2,2],\r\n",
        "                  [3,3,3,3]\r\n",
        "], dtype=torch.float32)"
      ],
      "execution_count": null,
      "outputs": []
    },
    {
      "cell_type": "code",
      "metadata": {
        "colab": {
          "base_uri": "https://localhost:8080/"
        },
        "id": "paLBpiAEqXDa",
        "outputId": "496a3f1e-5974-4400-e863-a87e88402e80"
      },
      "source": [
        "t.sum(dim=0)"
      ],
      "execution_count": null,
      "outputs": [
        {
          "output_type": "execute_result",
          "data": {
            "text/plain": [
              "tensor([6., 6., 6., 6.])"
            ]
          },
          "metadata": {
            "tags": []
          },
          "execution_count": 96
        }
      ]
    },
    {
      "cell_type": "code",
      "metadata": {
        "colab": {
          "base_uri": "https://localhost:8080/"
        },
        "id": "FvZCNE6LqbDx",
        "outputId": "5dad2975-5285-4a1b-8f0a-8cee4b45bf75"
      },
      "source": [
        "t.sum(dim=1)"
      ],
      "execution_count": null,
      "outputs": [
        {
          "output_type": "execute_result",
          "data": {
            "text/plain": [
              "tensor([ 4.,  8., 12.])"
            ]
          },
          "metadata": {
            "tags": []
          },
          "execution_count": 97
        }
      ]
    },
    {
      "cell_type": "code",
      "metadata": {
        "id": "AdDrljzgqcEZ"
      },
      "source": [
        " t = torch.tensor([\r\n",
        "                  [1,0,0,2],\r\n",
        "                  [0,3,3,0],\r\n",
        "                  [4,0,0,5]\r\n",
        "], dtype=torch.float32)"
      ],
      "execution_count": null,
      "outputs": []
    },
    {
      "cell_type": "code",
      "metadata": {
        "colab": {
          "base_uri": "https://localhost:8080/"
        },
        "id": "LULaTo0drITN",
        "outputId": "9ec0631c-d594-4506-e7d2-4b6cee844f91"
      },
      "source": [
        "t.max()"
      ],
      "execution_count": null,
      "outputs": [
        {
          "output_type": "execute_result",
          "data": {
            "text/plain": [
              "tensor(5.)"
            ]
          },
          "metadata": {
            "tags": []
          },
          "execution_count": 99
        }
      ]
    },
    {
      "cell_type": "code",
      "metadata": {
        "colab": {
          "base_uri": "https://localhost:8080/"
        },
        "id": "fibhfNzArJnt",
        "outputId": "d6a0b353-7c74-4a5b-f487-6a624c151814"
      },
      "source": [
        "t.argmax()"
      ],
      "execution_count": null,
      "outputs": [
        {
          "output_type": "execute_result",
          "data": {
            "text/plain": [
              "tensor(11)"
            ]
          },
          "metadata": {
            "tags": []
          },
          "execution_count": 100
        }
      ]
    },
    {
      "cell_type": "code",
      "metadata": {
        "colab": {
          "base_uri": "https://localhost:8080/"
        },
        "id": "zw-WOXygrKZK",
        "outputId": "db6c5059-1f08-4b98-f66f-64d8b4feffd2"
      },
      "source": [
        "t.flatten()\r\n",
        "# 11th position gives the max"
      ],
      "execution_count": null,
      "outputs": [
        {
          "output_type": "execute_result",
          "data": {
            "text/plain": [
              "tensor([1., 0., 0., 2., 0., 3., 3., 0., 4., 0., 0., 5.])"
            ]
          },
          "metadata": {
            "tags": []
          },
          "execution_count": 103
        }
      ]
    },
    {
      "cell_type": "code",
      "metadata": {
        "colab": {
          "base_uri": "https://localhost:8080/"
        },
        "id": "IZRLHEsarNIc",
        "outputId": "7838cd04-238f-4424-860a-5ccc364facac"
      },
      "source": [
        "t.max(dim=0)"
      ],
      "execution_count": null,
      "outputs": [
        {
          "output_type": "execute_result",
          "data": {
            "text/plain": [
              "torch.return_types.max(values=tensor([4., 3., 3., 5.]), indices=tensor([2, 1, 1, 2]))"
            ]
          },
          "metadata": {
            "tags": []
          },
          "execution_count": 104
        }
      ]
    },
    {
      "cell_type": "code",
      "metadata": {
        "colab": {
          "base_uri": "https://localhost:8080/"
        },
        "id": "8d05fV_JrOUk",
        "outputId": "78e85f25-423d-415a-c92a-3d951e177940"
      },
      "source": [
        "t.argmax(dim=0)"
      ],
      "execution_count": null,
      "outputs": [
        {
          "output_type": "execute_result",
          "data": {
            "text/plain": [
              "tensor([2, 1, 1, 2])"
            ]
          },
          "metadata": {
            "tags": []
          },
          "execution_count": 105
        }
      ]
    },
    {
      "cell_type": "code",
      "metadata": {
        "colab": {
          "base_uri": "https://localhost:8080/"
        },
        "id": "zfoEyliFrZMI",
        "outputId": "bc81a4fc-4cbe-4e66-8d48-97ec9ce75012"
      },
      "source": [
        "t.max(dim=1)"
      ],
      "execution_count": null,
      "outputs": [
        {
          "output_type": "execute_result",
          "data": {
            "text/plain": [
              "torch.return_types.max(values=tensor([2., 3., 5.]), indices=tensor([3, 1, 3]))"
            ]
          },
          "metadata": {
            "tags": []
          },
          "execution_count": 106
        }
      ]
    },
    {
      "cell_type": "code",
      "metadata": {
        "colab": {
          "base_uri": "https://localhost:8080/"
        },
        "id": "iHH-9Kaqrln6",
        "outputId": "c49098cc-dbba-434b-da11-7a6529f2a6e4"
      },
      "source": [
        "# item method only works with scalar value tensors\r\n",
        "print(t.mean())\r\n",
        "print(t.mean().item())"
      ],
      "execution_count": null,
      "outputs": [
        {
          "output_type": "stream",
          "text": [
            "tensor(1.5000)\n",
            "1.5\n"
          ],
          "name": "stdout"
        }
      ]
    },
    {
      "cell_type": "code",
      "metadata": {
        "colab": {
          "base_uri": "https://localhost:8080/"
        },
        "id": "kX3VxbaIsBab",
        "outputId": "9ee4e6c1-e996-4ccc-baec-55ae0687ba13"
      },
      "source": [
        "t.mean(dim=0).tolist()"
      ],
      "execution_count": null,
      "outputs": [
        {
          "output_type": "execute_result",
          "data": {
            "text/plain": [
              "[1.6666666269302368, 1.0, 1.0, 2.3333332538604736]"
            ]
          },
          "metadata": {
            "tags": []
          },
          "execution_count": 110
        }
      ]
    },
    {
      "cell_type": "code",
      "metadata": {
        "colab": {
          "base_uri": "https://localhost:8080/"
        },
        "id": "Eu44gSDEsKlQ",
        "outputId": "abfb1276-3c43-4f40-df37-7ae0d2dd440e"
      },
      "source": [
        "t.mean(dim=0).numpy()"
      ],
      "execution_count": null,
      "outputs": [
        {
          "output_type": "execute_result",
          "data": {
            "text/plain": [
              "array([1.6666666, 1.       , 1.       , 2.3333333], dtype=float32)"
            ]
          },
          "metadata": {
            "tags": []
          },
          "execution_count": 111
        }
      ]
    },
    {
      "cell_type": "code",
      "metadata": {
        "id": "wXSDE35RsOpo"
      },
      "source": [
        ""
      ],
      "execution_count": null,
      "outputs": []
    }
  ]
}