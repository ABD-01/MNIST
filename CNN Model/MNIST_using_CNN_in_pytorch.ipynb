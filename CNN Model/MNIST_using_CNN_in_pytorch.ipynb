{
  "nbformat": 4,
  "nbformat_minor": 0,
  "metadata": {
    "colab": {
      "name": "MNIST using CNN in pytorch.ipynb",
      "provenance": [],
      "collapsed_sections": [],
      "mount_file_id": "1S5QzHtyltXZempAiG3ql9YLbVJEUaVEf",
      "authorship_tag": "ABX9TyPSU2BDR5RCU0d+VRtDiBd+",
      "include_colab_link": true
    },
    "kernelspec": {
      "name": "python3",
      "display_name": "Python 3"
    }
  },
  "cells": [
    {
      "cell_type": "markdown",
      "metadata": {
        "id": "view-in-github",
        "colab_type": "text"
      },
      "source": [
        "<a href=\"https://colab.research.google.com/github/ABD-01/MNIST/blob/main/CNN%20Model/MNIST_using_CNN_in_pytorch.ipynb\" target=\"_parent\"><img src=\"https://colab.research.google.com/assets/colab-badge.svg\" alt=\"Open In Colab\"/></a>"
      ]
    },
    {
      "cell_type": "code",
      "metadata": {
        "colab": {
          "base_uri": "https://localhost:8080/"
        },
        "id": "sUJds7DSmMcN",
        "outputId": "31d5ba45-14f1-4858-a609-ea926c603f70"
      },
      "source": [
        "!pip install idx2numpy"
      ],
      "execution_count": 1,
      "outputs": [
        {
          "output_type": "stream",
          "text": [
            "Collecting idx2numpy\n",
            "  Downloading https://files.pythonhosted.org/packages/7e/6b/80628f6cc2f44d80b27f1ef7b57b257ed4c73766113b77d13ad110c091b4/idx2numpy-1.2.3.tar.gz\n",
            "Requirement already satisfied: numpy in /usr/local/lib/python3.6/dist-packages (from idx2numpy) (1.19.4)\n",
            "Requirement already satisfied: six in /usr/local/lib/python3.6/dist-packages (from idx2numpy) (1.15.0)\n",
            "Building wheels for collected packages: idx2numpy\n",
            "  Building wheel for idx2numpy (setup.py) ... \u001b[?25l\u001b[?25hdone\n",
            "  Created wheel for idx2numpy: filename=idx2numpy-1.2.3-cp36-none-any.whl size=7905 sha256=78917dc3901afdc15b0eb22a07b82cfec934900c27db45d67dbe6db2675c7c40\n",
            "  Stored in directory: /root/.cache/pip/wheels/7a/c1/da/284ce80a748fab898b8d1fa95468a386e7cf3b81da18511f9d\n",
            "Successfully built idx2numpy\n",
            "Installing collected packages: idx2numpy\n",
            "Successfully installed idx2numpy-1.2.3\n"
          ],
          "name": "stdout"
        }
      ]
    },
    {
      "cell_type": "code",
      "metadata": {
        "id": "9D5VmOFHlvoq"
      },
      "source": [
        "import matplotlib.pyplot as plt\r\n",
        "import numpy as np\r\n",
        "import pandas as pd\r\n",
        "\r\n",
        "import idx2numpy\r\n",
        "\r\n",
        "import torch\r\n",
        "import torch.nn as nn\r\n",
        "import torch.nn.functional as F\r\n",
        "import torch.optim as optim"
      ],
      "execution_count": 29,
      "outputs": []
    },
    {
      "cell_type": "code",
      "metadata": {
        "id": "cvPo10EomKg0"
      },
      "source": [
        "test_images = idx2numpy.convert_from_file('/content/drive/MyDrive/Colab Notebooks/t10k-images.idx3-ubyte')\r\n",
        "test_labels = idx2numpy.convert_from_file('/content/drive/MyDrive/Colab Notebooks/t10k-labels.idx1-ubyte')\r\n",
        "train_images = idx2numpy.convert_from_file('/content/drive/MyDrive/Colab Notebooks/train-images.idx3-ubyte')\r\n",
        "train_labels = idx2numpy.convert_from_file('/content/drive/MyDrive/Colab Notebooks/train-labels.idx1-ubyte')"
      ],
      "execution_count": 52,
      "outputs": []
    },
    {
      "cell_type": "code",
      "metadata": {
        "id": "mDywm9Dqmcq2"
      },
      "source": [
        "test_images = torch.Tensor(test_images).unsqueeze(1)\r\n",
        "test_labels = torch.LongTensor(test_labels)\r\n",
        "train_images = torch.Tensor(train_images).unsqueeze(1)\r\n",
        "train_labels = torch.LongTensor(train_labels)"
      ],
      "execution_count": 53,
      "outputs": []
    },
    {
      "cell_type": "code",
      "metadata": {
        "id": "BqONvS0vm7A4"
      },
      "source": [
        "test_dataset = torch.utils.data.TensorDataset(test_images, test_labels)\r\n",
        "train_dataset = torch.utils.data.TensorDataset(train_images, train_labels)"
      ],
      "execution_count": 134,
      "outputs": []
    },
    {
      "cell_type": "code",
      "metadata": {
        "id": "j0BfXCj46mx0"
      },
      "source": [
        "test_loader = torch.utils.data.DataLoader(test_dataset, batch_size=100)\r\n",
        "train_loader = torch.utils.data.DataLoader(train_dataset, batch_size=100)"
      ],
      "execution_count": 135,
      "outputs": []
    },
    {
      "cell_type": "code",
      "metadata": {
        "colab": {
          "base_uri": "https://localhost:8080/",
          "height": 282
        },
        "id": "-aktajS58F7A",
        "outputId": "743e0696-1bed-472b-aba8-29db519975b9"
      },
      "source": [
        "plt.imshow(train_images[2589].squeeze(), cmap='gray')\r\n",
        "print('label:',train_labels[2589].item())"
      ],
      "execution_count": 146,
      "outputs": [
        {
          "output_type": "stream",
          "text": [
            "label: 4\n"
          ],
          "name": "stdout"
        },
        {
          "output_type": "display_data",
          "data": {
            "image/png": "[encoded data removed]",
            "text/plain": [
              "<Figure size 432x288 with 1 Axes>"
            ]
          },
          "metadata": {
            "tags": [],
            "needs_background": "light"
          }
        }
      ]
    },
    {
      "cell_type": "code",
      "metadata": {
        "id": "e90QQG-J8qo2"
      },
      "source": [
        "class Network(nn.Module):\r\n",
        "    def __init__(self):\r\n",
        "        super(Network, self).__init__()\r\n",
        "        self.conv1 = nn.Conv2d(in_channels=1, out_channels=6, kernel_size=5)\r\n",
        "        self.conv2 = nn.Conv2d(in_channels=6, out_channels=12, kernel_size=5)\r\n",
        "\r\n",
        "        self.fc1 = nn.Linear(in_features=4*4*12, out_features=120)\r\n",
        "        self.fc2 = nn.Linear(in_features=120, out_features=60)\r\n",
        "        self.out = nn.Linear(in_features=60, out_features=10)\r\n",
        "\r\n",
        "    def forward(self, t):\r\n",
        "\r\n",
        "        t = self.conv1(t)\r\n",
        "        t = F.relu(t)\r\n",
        "        t = F.max_pool2d(t, kernel_size=2)\r\n",
        "\r\n",
        "        t = self.conv2(t)\r\n",
        "        t = F.relu(t)\r\n",
        "        t = F.max_pool2d(t, kernel_size=2)\r\n",
        "\r\n",
        "        t = t.reshape(-1, 4*4*12)\r\n",
        "        # t.flatten(start_dim=1)\r\n",
        "        t = self.fc1(t)\r\n",
        "        t = F.relu(t)\r\n",
        "\r\n",
        "        t = self.fc2(t)\r\n",
        "        t = F.relu(t)\r\n",
        "\r\n",
        "        t = self.out(t)\r\n",
        "\r\n",
        "        # t = F.softmax(t)\r\n",
        "        # https://discord.com/channels/707642124081823765/707642125050839053/794623821663174667\r\n",
        "\r\n",
        "        return t"
      ],
      "execution_count": 66,
      "outputs": []
    },
    {
      "cell_type": "code",
      "metadata": {
        "colab": {
          "base_uri": "https://localhost:8080/"
        },
        "id": "yu2v7a9fKas6",
        "outputId": "14dedb6b-6e16-49f3-a7ef-a0d566b9b886"
      },
      "source": [
        "network = Network()\r\n",
        "network"
      ],
      "execution_count": 104,
      "outputs": [
        {
          "output_type": "execute_result",
          "data": {
            "text/plain": [
              "Network(\n",
              "  (conv1): Conv2d(1, 6, kernel_size=(5, 5), stride=(1, 1))\n",
              "  (conv2): Conv2d(6, 12, kernel_size=(5, 5), stride=(1, 1))\n",
              "  (fc1): Linear(in_features=192, out_features=120, bias=True)\n",
              "  (fc2): Linear(in_features=120, out_features=60, bias=True)\n",
              "  (out): Linear(in_features=60, out_features=10, bias=True)\n",
              ")"
            ]
          },
          "metadata": {
            "tags": []
          },
          "execution_count": 104
        }
      ]
    },
    {
      "cell_type": "code",
      "metadata": {
        "colab": {
          "base_uri": "https://localhost:8080/"
        },
        "id": "KSlHBLFOKdMr",
        "outputId": "ae10b675-0925-41d0-9485-bb6a148190d2"
      },
      "source": [
        "# def Model(dataset, batch_size=100, lr=0.01, iterations=10):\r\n",
        "batch_size=100\r\n",
        "lr=0.002\r\n",
        "iterations=50\r\n",
        "loader = torch.utils.data.DataLoader(train_dataset, batch_size=batch_size)\r\n",
        "optimizer = optim.Adam(network.parameters(), lr=lr)\r\n",
        "\r\n",
        "total_loss = []\r\n",
        "total_correct = []\r\n",
        "\r\n",
        "for epoch in range(iterations):\r\n",
        "\r\n",
        "    epoch_loss = 0\r\n",
        "    epoch_correct = 0\r\n",
        "    for batch in loader:\r\n",
        "        images, labels = batch\r\n",
        "\r\n",
        "        preds = network(images)\r\n",
        "        loss = F.cross_entropy(preds, labels)\r\n",
        "\r\n",
        "        optimizer.zero_grad()\r\n",
        "\r\n",
        "        loss.backward()\r\n",
        "        optimizer.step()\r\n",
        "\r\n",
        "        epoch_loss += loss.item()\r\n",
        "        epoch_correct += preds.argmax(dim=1).eq(labels).sum().item()\r\n",
        "\r\n",
        "        total_loss.append(epoch_loss)\r\n",
        "        total_correct.append(epoch_correct)\r\n",
        "    \r\n",
        "    print('Epoch:', epoch, 'Loss:', epoch_loss, 'Accuracy:', epoch_correct/600)\r\n",
        "    \r\n",
        "    # total_loss.append(epoch_loss)\r\n",
        "    # total_correct.append(epoch_correct)"
      ],
      "execution_count": 105,
      "outputs": [
        {
          "output_type": "stream",
          "text": [
            "Epoch: 0 Loss: 131.7340019159601 Accuracy: 93.45\n",
            "Epoch: 1 Loss: 44.20532345085667 Accuracy: 97.775\n",
            "Epoch: 2 Loss: 35.75510681817832 Accuracy: 98.20166666666667\n",
            "Epoch: 3 Loss: 30.02418030408444 Accuracy: 98.46166666666667\n",
            "Epoch: 4 Loss: 27.872805855782644 Accuracy: 98.585\n",
            "Epoch: 5 Loss: 24.59688749659108 Accuracy: 98.795\n",
            "Epoch: 6 Loss: 24.872958550758995 Accuracy: 98.76833333333333\n",
            "Epoch: 7 Loss: 24.62027454721101 Accuracy: 98.795\n",
            "Epoch: 8 Loss: 22.209674114437803 Accuracy: 98.89833333333333\n",
            "Epoch: 9 Loss: 21.727317668439355 Accuracy: 98.935\n",
            "Epoch: 10 Loss: 20.549138637538817 Accuracy: 98.995\n",
            "Epoch: 11 Loss: 18.377909442097888 Accuracy: 99.12\n",
            "Epoch: 12 Loss: 19.462706661361153 Accuracy: 99.06333333333333\n",
            "Epoch: 13 Loss: 19.281485425603933 Accuracy: 99.06\n",
            "Epoch: 14 Loss: 15.303053667887866 Accuracy: 99.28833333333333\n",
            "Epoch: 15 Loss: 18.434095228548358 Accuracy: 99.15333333333334\n",
            "Epoch: 16 Loss: 18.32393035608635 Accuracy: 99.17\n",
            "Epoch: 17 Loss: 16.719736558835393 Accuracy: 99.2\n",
            "Epoch: 18 Loss: 16.353575065682783 Accuracy: 99.265\n",
            "Epoch: 19 Loss: 15.341700014669811 Accuracy: 99.30666666666667\n",
            "Epoch: 20 Loss: 18.49821742253016 Accuracy: 99.23166666666667\n",
            "Epoch: 21 Loss: 14.195333529025163 Accuracy: 99.40333333333334\n",
            "Epoch: 22 Loss: 12.183839680967864 Accuracy: 99.46666666666667\n",
            "Epoch: 23 Loss: 15.303304474933395 Accuracy: 99.34\n",
            "Epoch: 24 Loss: 18.102282585448393 Accuracy: 99.295\n",
            "Epoch: 25 Loss: 11.463352059170404 Accuracy: 99.47833333333334\n",
            "Epoch: 26 Loss: 15.302753179497614 Accuracy: 99.39166666666667\n",
            "Epoch: 27 Loss: 17.423751923854137 Accuracy: 99.33\n",
            "Epoch: 28 Loss: 12.549843116969729 Accuracy: 99.47\n",
            "Epoch: 29 Loss: 20.310732053207904 Accuracy: 99.28833333333333\n",
            "Epoch: 30 Loss: 12.405516898970149 Accuracy: 99.47166666666666\n",
            "Epoch: 31 Loss: 11.341030214101721 Accuracy: 99.51166666666667\n",
            "Epoch: 32 Loss: 16.15855894789705 Accuracy: 99.43333333333334\n",
            "Epoch: 33 Loss: 12.781303324384638 Accuracy: 99.49833333333333\n",
            "Epoch: 34 Loss: 16.303314258801493 Accuracy: 99.395\n",
            "Epoch: 35 Loss: 12.253452921589343 Accuracy: 99.58\n",
            "Epoch: 36 Loss: 9.934548417394554 Accuracy: 99.57\n",
            "Epoch: 37 Loss: 12.823448766446514 Accuracy: 99.46\n",
            "Epoch: 38 Loss: 17.01065703252206 Accuracy: 99.41\n",
            "Epoch: 39 Loss: 14.213295638463272 Accuracy: 99.45666666666666\n",
            "Epoch: 40 Loss: 10.359068921079825 Accuracy: 99.61333333333333\n",
            "Epoch: 41 Loss: 15.134604498317852 Accuracy: 99.45333333333333\n",
            "Epoch: 42 Loss: 15.738780731711813 Accuracy: 99.40833333333333\n",
            "Epoch: 43 Loss: 16.637834273993466 Accuracy: 99.41\n",
            "Epoch: 44 Loss: 15.025603647693853 Accuracy: 99.52833333333334\n",
            "Epoch: 45 Loss: 11.16025359133013 Accuracy: 99.61333333333333\n",
            "Epoch: 46 Loss: 10.21330545905332 Accuracy: 99.655\n",
            "Epoch: 47 Loss: 14.272562600020784 Accuracy: 99.53666666666666\n",
            "Epoch: 48 Loss: 14.138372795705573 Accuracy: 99.49166666666666\n",
            "Epoch: 49 Loss: 8.6309978992665 Accuracy: 99.68\n"
          ],
          "name": "stdout"
        }
      ]
    },
    {
      "cell_type": "code",
      "metadata": {
        "colab": {
          "base_uri": "https://localhost:8080/",
          "height": 279
        },
        "id": "iVYBm5gOfr84",
        "outputId": "c6859fa0-1b54-4742-dbea-622e008101bd"
      },
      "source": [
        "plt.xlabel('Total Iterations')\r\n",
        "plt.ylabel('Cost')\r\n",
        "plt.plot(np.arange(30000), total_loss)\r\n",
        "plt.show()"
      ],
      "execution_count": 156,
      "outputs": [
        {
          "output_type": "display_data",
          "data": {
            "image/png": "[encoded data removed]",
            "text/plain": [
              "<Figure size 432x288 with 1 Axes>"
            ]
          },
          "metadata": {
            "tags": [],
            "needs_background": "light"
          }
        }
      ]
    },
    {
      "cell_type": "code",
      "metadata": {
        "colab": {
          "base_uri": "https://localhost:8080/",
          "height": 279
        },
        "id": "xBVamNFzg2e_",
        "outputId": "b9db5ca2-3caf-4e1d-d84d-e492004a95cf"
      },
      "source": [
        "plt.xlabel('Total Iterations')\r\n",
        "plt.ylabel('Accuracy')\r\n",
        "plt.plot(np.arange(30000), total_correct)\r\n",
        "plt.show()"
      ],
      "execution_count": 170,
      "outputs": [
        {
          "output_type": "display_data",
          "data": {
            "image/png": "[encoded data removed]",
            "text/plain": [
              "<Figure size 432x288 with 1 Axes>"
            ]
          },
          "metadata": {
            "tags": [],
            "needs_background": "light"
          }
        }
      ]
    },
    {
      "cell_type": "code",
      "metadata": {
        "id": "8bDayTvtZIiF"
      },
      "source": [
        "def get_all_preds(model, loader):\r\n",
        "    all_preds = torch.tensor([])\r\n",
        "    for batch in loader:\r\n",
        "        images, labels = batch\r\n",
        "\r\n",
        "        preds = model(images)\r\n",
        "        all_preds = torch.cat(\r\n",
        "            (all_preds, preds)\r\n",
        "            ,dim=0\r\n",
        "        )\r\n",
        "    return all_preds"
      ],
      "execution_count": 124,
      "outputs": []
    },
    {
      "cell_type": "code",
      "metadata": {
        "colab": {
          "base_uri": "https://localhost:8080/"
        },
        "id": "DXcryH95YUtG",
        "outputId": "4369f48d-ddce-44b9-9333-f0959a833d91"
      },
      "source": [
        "train_preds = get_all_preds(network, loader)\r\n",
        "print(train_preds.argmax(1).eq(train_labels).sum().item(), 'correctly labeled out of', len(train_images))\r\n",
        "print('Accuracy on Train Set:', train_preds.argmax(1).eq(train_labels).sum().item() / len(train_images) * 100)"
      ],
      "execution_count": 176,
      "outputs": [
        {
          "output_type": "stream",
          "text": [
            "59745 correctly labeled out of 60000\n",
            "Accuracy on Train Set: 99.575\n"
          ],
          "name": "stdout"
        }
      ]
    },
    {
      "cell_type": "code",
      "metadata": {
        "colab": {
          "base_uri": "https://localhost:8080/"
        },
        "id": "c4jMU5pNZdJr",
        "outputId": "f293e2a3-ba28-45ec-ea5e-2caacd7d17e3"
      },
      "source": [
        "train_preds.argmax(1).eq(train_labels).sum() / len(train_images)"
      ],
      "execution_count": 132,
      "outputs": [
        {
          "output_type": "execute_result",
          "data": {
            "text/plain": [
              "tensor(0.9958)"
            ]
          },
          "metadata": {
            "tags": []
          },
          "execution_count": 132
        }
      ]
    },
    {
      "cell_type": "code",
      "metadata": {
        "colab": {
          "base_uri": "https://localhost:8080/"
        },
        "id": "Gr82--QJajZU",
        "outputId": "99761585-db08-4aa4-8250-d82f9b3eb835"
      },
      "source": [
        "test_preds = get_all_preds(network, test_loader)\r\n",
        "print(test_preds.argmax(1).eq(test_labels).sum().item(), 'correctly labeled out of', len(test_images))\r\n",
        "print('Accuracy on Train Set:', test_preds.argmax(1).eq(test_labels).sum().item() / len(test_images) * 100)"
      ],
      "execution_count": 177,
      "outputs": [
        {
          "output_type": "stream",
          "text": [
            "9864 correctly labeled out of 10000\n",
            "Accuracy on Train Set: 98.64\n"
          ],
          "name": "stdout"
        }
      ]
    },
    {
      "cell_type": "code",
      "metadata": {
        "colab": {
          "base_uri": "https://localhost:8080/"
        },
        "id": "WU7WcQWjayeY",
        "outputId": "f14fa090-bdb0-494d-f3bc-a166cb8112e7"
      },
      "source": [
        "test_preds.argmax(1).eq(test_labels).sum() "
      ],
      "execution_count": 138,
      "outputs": [
        {
          "output_type": "execute_result",
          "data": {
            "text/plain": [
              "tensor(9864)"
            ]
          },
          "metadata": {
            "tags": []
          },
          "execution_count": 138
        }
      ]
    },
    {
      "cell_type": "code",
      "metadata": {
        "colab": {
          "base_uri": "https://localhost:8080/",
          "height": 282
        },
        "id": "_Y5GhRylLgdA",
        "outputId": "11d48d2d-dce5-436e-db67-a3f05490689e"
      },
      "source": [
        "i = 9925\r\n",
        "plt.imshow(test_images[i].reshape(28,28))\r\n",
        "plt.show()\r\n",
        "print('The model predicts', test_preds.argmax(1)[i].item())"
      ],
      "execution_count": 143,
      "outputs": [
        {
          "output_type": "display_data",
          "data": {
            "image/png": "[encoded data removed]",
            "text/plain": [
              "<Figure size 432x288 with 1 Axes>"
            ]
          },
          "metadata": {
            "tags": [],
            "needs_background": "light"
          }
        },
        {
          "output_type": "stream",
          "text": [
            "The model predicts 3\n"
          ],
          "name": "stdout"
        }
      ]
    },
    {
      "cell_type": "code",
      "metadata": {
        "id": "BXW-k9pyWkWB"
      },
      "source": [
        "# Saving the state_dict of Model\r\n",
        "# PATH = '/content/drive/MyDrive/Colab Notebooks/MNIST_cnn_model'\r\n",
        "# torch.save(network.state_dict(), PATH)"
      ],
      "execution_count": 147,
      "outputs": []
    },
    {
      "cell_type": "code",
      "metadata": {
        "colab": {
          "base_uri": "https://localhost:8080/"
        },
        "id": "saqrDt-6e3Do",
        "outputId": "93a2fcb4-77a0-4622-f388-00c2c6c9dd5d"
      },
      "source": [
        "# Loadel the saved Model\r\n",
        "# the_network = Network()\r\n",
        "# the_network.load_state_dict(torch.load(PATH))\r\n",
        "# the_network.eval()"
      ],
      "execution_count": 171,
      "outputs": [
        {
          "output_type": "execute_result",
          "data": {
            "text/plain": [
              "<All keys matched successfully>"
            ]
          },
          "metadata": {
            "tags": []
          },
          "execution_count": 171
        }
      ]
    },
    {
      "cell_type": "markdown",
      "metadata": {
        "id": "Z6-xYUb7qxEq"
      },
      "source": [
        "-------------------------------------------------------------------\r\n",
        "\r\n"
      ]
    },
    {
      "cell_type": "code",
      "metadata": {
        "colab": {
          "base_uri": "https://localhost:8080/"
        },
        "id": "3W8bEjCIq0Ip",
        "outputId": "f695e5c1-df0a-417c-aa3a-0a6bb33c2c83"
      },
      "source": [
        "train_images.shape"
      ],
      "execution_count": 178,
      "outputs": [
        {
          "output_type": "execute_result",
          "data": {
            "text/plain": [
              "torch.Size([60000, 1, 28, 28])"
            ]
          },
          "metadata": {
            "tags": []
          },
          "execution_count": 178
        }
      ]
    },
    {
      "cell_type": "code",
      "metadata": {
        "colab": {
          "base_uri": "https://localhost:8080/"
        },
        "id": "fty0LNDxq3Sw",
        "outputId": "29db0234-284c-4dc7-afc1-8f40abeb7276"
      },
      "source": [
        "train_images[529].unsqueeze(1).shape"
      ],
      "execution_count": 183,
      "outputs": [
        {
          "output_type": "execute_result",
          "data": {
            "text/plain": [
              "torch.Size([1, 1, 28, 28])"
            ]
          },
          "metadata": {
            "tags": []
          },
          "execution_count": 183
        }
      ]
    },
    {
      "cell_type": "code",
      "metadata": {
        "colab": {
          "base_uri": "https://localhost:8080/",
          "height": 282
        },
        "id": "yKuBJLc3q8zN",
        "outputId": "7e84c109-76c3-4d7b-90ab-9f2d81d22ea9"
      },
      "source": [
        "plt.imshow(train_images[529].squeeze(), cmap='gray')"
      ],
      "execution_count": 230,
      "outputs": [
        {
          "output_type": "execute_result",
          "data": {
            "text/plain": [
              "<matplotlib.image.AxesImage at 0x7f3e395eb5c0>"
            ]
          },
          "metadata": {
            "tags": []
          },
          "execution_count": 230
        },
        {
          "output_type": "display_data",
          "data": {
            "image/png": "[encoded data removed]",
            "text/plain": [
              "<Figure size 432x288 with 1 Axes>"
            ]
          },
          "metadata": {
            "tags": [],
            "needs_background": "light"
          }
        }
      ]
    },
    {
      "cell_type": "code",
      "metadata": {
        "id": "8HlmzUZ4rBdO"
      },
      "source": [
        "with torch.no_grad():\r\n",
        "    t = network.conv1(train_images[529].unsqueeze(1))\r\n",
        "    t = F.relu(t)\r\n",
        "    t = F.max_pool2d(t, kernel_size=2)\r\n",
        "\r\n",
        "    t = network.conv2(t)\r\n",
        "    t = F.relu(t)\r\n",
        "    t = F.max_pool2d(t, kernel_size=2)"
      ],
      "execution_count": 240,
      "outputs": []
    },
    {
      "cell_type": "code",
      "metadata": {
        "colab": {
          "base_uri": "https://localhost:8080/"
        },
        "id": "uzwoSXG9rU39",
        "outputId": "ecba298c-f030-4965-cff1-101d7747d15c"
      },
      "source": [
        "t.squeeze().shape"
      ],
      "execution_count": 241,
      "outputs": [
        {
          "output_type": "execute_result",
          "data": {
            "text/plain": [
              "torch.Size([12, 4, 4])"
            ]
          },
          "metadata": {
            "tags": []
          },
          "execution_count": 241
        }
      ]
    },
    {
      "cell_type": "code",
      "metadata": {
        "colab": {
          "base_uri": "https://localhost:8080/",
          "height": 301
        },
        "id": "oGbrjquQu3ki",
        "outputId": "52a317d6-5978-4553-9d2f-090899134cb9"
      },
      "source": [
        "plt.figure()\r\n",
        "f, axarr = plt.subplots(2,3) \r\n",
        "k=0\r\n",
        "for i in range(2):\r\n",
        "    for j in range(3):\r\n",
        "        axarr[i][j].imshow(t.squeeze()[k], cmap='gray')\r\n",
        "        k += 1\r\n",
        "plt.show()\r\n",
        "print('After Conv1')"
      ],
      "execution_count": 234,
      "outputs": [
        {
          "output_type": "display_data",
          "data": {
            "text/plain": [
              "<Figure size 432x288 with 0 Axes>"
            ]
          },
          "metadata": {
            "tags": []
          }
        },
        {
          "output_type": "display_data",
          "data": {
            "image/png": "[encoded data removed]",
            "text/plain": [
              "<Figure size 432x288 with 6 Axes>"
            ]
          },
          "metadata": {
            "tags": [],
            "needs_background": "light"
          }
        },
        {
          "output_type": "stream",
          "text": [
            "After Conv1\n"
          ],
          "name": "stdout"
        }
      ]
    },
    {
      "cell_type": "code",
      "metadata": {
        "colab": {
          "base_uri": "https://localhost:8080/",
          "height": 299
        },
        "id": "frLPMmzKtefV",
        "outputId": "ce7687ef-97e8-4fde-b24c-3d93ccbfdf28"
      },
      "source": [
        "plt.figure()\r\n",
        "f, axarr = plt.subplots(3,4) \r\n",
        "k=0\r\n",
        "for i in range(3):\r\n",
        "    for j in range(4):\r\n",
        "        axarr[i][j].imshow(t.squeeze()[k], cmap='gray')\r\n",
        "        k += 1\r\n",
        "plt.show()\r\n",
        "print('After Pool1 and then after Conv2')"
      ],
      "execution_count": 238,
      "outputs": [
        {
          "output_type": "display_data",
          "data": {
            "text/plain": [
              "<Figure size 432x288 with 0 Axes>"
            ]
          },
          "metadata": {
            "tags": []
          }
        },
        {
          "output_type": "display_data",
          "data": {
            "image/png": "[encoded data removed]",
            "text/plain": [
              "<Figure size 432x288 with 12 Axes>"
            ]
          },
          "metadata": {
            "tags": [],
            "needs_background": "light"
          }
        },
        {
          "output_type": "stream",
          "text": [
            "After Pool1 and then after Conv2\n"
          ],
          "name": "stdout"
        }
      ]
    },
    {
      "cell_type": "code",
      "metadata": {
        "colab": {
          "base_uri": "https://localhost:8080/",
          "height": 299
        },
        "id": "qj7uGPmsrVua",
        "outputId": "a1a166d9-1a39-4788-fe7e-3e13f2c906e1"
      },
      "source": [
        "plt.figure()\r\n",
        "f, axarr = plt.subplots(3,4) \r\n",
        "k=0\r\n",
        "for i in range(3):\r\n",
        "    for j in range(4):\r\n",
        "        axarr[i][j].imshow(t.squeeze()[k], cmap='gray')\r\n",
        "        k += 1\r\n",
        "plt.show()\r\n",
        "print('After Pool2 i.e after all convolutional layers')"
      ],
      "execution_count": 242,
      "outputs": [
        {
          "output_type": "display_data",
          "data": {
            "text/plain": [
              "<Figure size 432x288 with 0 Axes>"
            ]
          },
          "metadata": {
            "tags": []
          }
        },
        {
          "output_type": "display_data",
          "data": {
            "image/png": "[encoded data removed]",
            "text/plain": [
              "<Figure size 432x288 with 12 Axes>"
            ]
          },
          "metadata": {
            "tags": [],
            "needs_background": "light"
          }
        },
        {
          "output_type": "stream",
          "text": [
            "After Pool2 i.e after all convolutional layers\n"
          ],
          "name": "stdout"
        }
      ]
    },
    {
      "cell_type": "code",
      "metadata": {
        "id": "L1L4hR8YrmNA"
      },
      "source": [
        ""
      ],
      "execution_count": null,
      "outputs": []
    }
  ]
}