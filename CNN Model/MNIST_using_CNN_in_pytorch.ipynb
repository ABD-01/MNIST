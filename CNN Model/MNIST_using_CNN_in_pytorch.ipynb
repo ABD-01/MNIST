{
  "cells": [
    {
      "cell_type": "markdown",
      "metadata": {
        "colab_type": "text",
        "id": "view-in-github"
      },
      "source": [
        "<a href=\"https://colab.research.google.com/github/ABD-01/MNIST/blob/main/CNN%20Model/MNIST_using_CNN_in_pytorch.ipynb\" target=\"_parent\"><img src=\"https://colab.research.google.com/assets/colab-badge.svg\" alt=\"Open In Colab\"/></a>"
      ]
    },
    {
      "cell_type": "code",
      "execution_count": 1,
      "metadata": {
        "id": "9D5VmOFHlvoq"
      },
      "outputs": [],
      "source": [
        "import matplotlib.pyplot as plt\n",
        "import numpy as np\n",
        "import pandas as pd\n",
        "\n",
        "import idx2numpy\n",
        "\n",
        "import torch\n",
        "import torch.nn as nn\n",
        "import torch.nn.functional as F\n",
        "import torch.optim as optim"
      ]
    },
    {
      "cell_type": "code",
      "execution_count": 12,
      "metadata": {},
      "outputs": [
        {
          "data": {
            "text/plain": [
              "device(type='cuda')"
            ]
          },
          "execution_count": 12,
          "metadata": {},
          "output_type": "execute_result"
        }
      ],
      "source": [
        "DEVICE = torch.device(\"cuda\" if torch.cuda.is_available else \"cpu\")\n",
        "DEVICE"
      ]
    },
    {
      "cell_type": "code",
      "execution_count": 32,
      "metadata": {
        "id": "cvPo10EomKg0"
      },
      "outputs": [],
      "source": [
        "test_images = idx2numpy.convert_from_file('../t10k-images.idx3-ubyte')\n",
        "test_labels = idx2numpy.convert_from_file('../t10k-labels.idx1-ubyte')\n",
        "train_images = idx2numpy.convert_from_file('../train-images.idx3-ubyte')\n",
        "train_labels = idx2numpy.convert_from_file('../train-labels.idx1-ubyte')"
      ]
    },
    {
      "cell_type": "code",
      "execution_count": 33,
      "metadata": {
        "id": "mDywm9Dqmcq2"
      },
      "outputs": [],
      "source": [
        "test_images = torch.Tensor(test_images).unsqueeze(1)\n",
        "test_labels = torch.LongTensor(test_labels)\n",
        "train_images = torch.Tensor(train_images).unsqueeze(1)\n",
        "train_labels = torch.LongTensor(train_labels)"
      ]
    },
    {
      "cell_type": "code",
      "execution_count": 34,
      "metadata": {
        "id": "BqONvS0vm7A4"
      },
      "outputs": [],
      "source": [
        "test_dataset = torch.utils.data.TensorDataset(test_images, test_labels)\n",
        "train_dataset = torch.utils.data.TensorDataset(train_images, train_labels)"
      ]
    },
    {
      "cell_type": "code",
      "execution_count": 35,
      "metadata": {
        "id": "j0BfXCj46mx0"
      },
      "outputs": [],
      "source": [
        "test_loader = torch.utils.data.DataLoader(test_dataset, batch_size=100)\n",
        "train_loader = torch.utils.data.DataLoader(train_dataset, batch_size=100)"
      ]
    },
    {
      "cell_type": "code",
      "execution_count": 36,
      "metadata": {
        "colab": {
          "base_uri": "https://localhost:8080/",
          "height": 282
        },
        "id": "-aktajS58F7A",
        "outputId": "743e0696-1bed-472b-aba8-29db519975b9"
      },
      "outputs": [
        {
          "name": "stdout",
          "output_type": "stream",
          "text": [
            "label: 4\n"
          ]
        },
        {
          "data": {
            "image/png": "[encoded data removed]",
            "text/plain": [
              "<Figure size 432x288 with 1 Axes>"
            ]
          },
          "metadata": {
            "needs_background": "light"
          },
          "output_type": "display_data"
        }
      ],
      "source": [
        "plt.imshow(train_images[2589].squeeze(), cmap='gray')\n",
        "print('label:',train_labels[2589].item())"
      ]
    },
    {
      "cell_type": "code",
      "execution_count": 37,
      "metadata": {
        "id": "e90QQG-J8qo2"
      },
      "outputs": [],
      "source": [
        "class Network(nn.Module):\n",
        "    def __init__(self):\n",
        "        super(Network, self).__init__()\n",
        "        self.conv1 = nn.Conv2d(in_channels=1, out_channels=6, kernel_size=5)\n",
        "        self.conv2 = nn.Conv2d(in_channels=6, out_channels=12, kernel_size=5)\n",
        "\n",
        "        self.fc1 = nn.Linear(in_features=4*4*12, out_features=120)\n",
        "        self.fc2 = nn.Linear(in_features=120, out_features=60)\n",
        "        self.out = nn.Linear(in_features=60, out_features=10)\n",
        "\n",
        "    def forward(self, t):\n",
        "\n",
        "        t = self.conv1(t)\n",
        "        t = F.relu(t)\n",
        "        t = F.max_pool2d(t, kernel_size=2)\n",
        "\n",
        "        t = self.conv2(t)\n",
        "        t = F.relu(t)\n",
        "        t = F.max_pool2d(t, kernel_size=2)\n",
        "\n",
        "        t = t.reshape(-1, 4*4*12)\n",
        "        # t.flatten(start_dim=1)\n",
        "        t = self.fc1(t)\n",
        "        t = F.relu(t)\n",
        "\n",
        "        t = self.fc2(t)\n",
        "        t = F.relu(t)\n",
        "\n",
        "        t = self.out(t)\n",
        "\n",
        "        # t = F.softmax(t)\n",
        "        # https://discord.com/channels/707642124081823765/707642125050839053/794623821663174667\n",
        "\n",
        "        return t"
      ]
    },
    {
      "cell_type": "code",
      "execution_count": 41,
      "metadata": {
        "colab": {
          "base_uri": "https://localhost:8080/"
        },
        "id": "yu2v7a9fKas6",
        "outputId": "14dedb6b-6e16-49f3-a7ef-a0d566b9b886"
      },
      "outputs": [
        {
          "data": {
            "text/plain": [
              "Network(\n",
              "  (conv1): Conv2d(1, 6, kernel_size=(5, 5), stride=(1, 1))\n",
              "  (conv2): Conv2d(6, 12, kernel_size=(5, 5), stride=(1, 1))\n",
              "  (fc1): Linear(in_features=192, out_features=120, bias=True)\n",
              "  (fc2): Linear(in_features=120, out_features=60, bias=True)\n",
              "  (out): Linear(in_features=60, out_features=10, bias=True)\n",
              ")"
            ]
          },
          "execution_count": 41,
          "metadata": {},
          "output_type": "execute_result"
        }
      ],
      "source": [
        "network = Network()\n",
        "network.to(DEVICE)"
      ]
    },
    {
      "cell_type": "code",
      "execution_count": 42,
      "metadata": {
        "colab": {
          "base_uri": "https://localhost:8080/"
        },
        "id": "KSlHBLFOKdMr",
        "outputId": "ae10b675-0925-41d0-9485-bb6a148190d2"
      },
      "outputs": [
        {
          "name": "stdout",
          "output_type": "stream",
          "text": [
            "Epoch: 0 Loss: 113.14091622596607 Accuracy: 94.25333333333333\n",
            "Epoch: 1 Loss: 42.208260844039614 Accuracy: 97.82833333333333\n",
            "Epoch: 2 Loss: 32.1909788475823 Accuracy: 98.325\n",
            "Epoch: 3 Loss: 27.980155930879846 Accuracy: 98.63333333333334\n",
            "Epoch: 4 Loss: 27.476427561807213 Accuracy: 98.64333333333333\n",
            "Epoch: 5 Loss: 25.219726547933533 Accuracy: 98.73666666666666\n",
            "Epoch: 6 Loss: 22.234924466869415 Accuracy: 98.88333333333334\n",
            "Epoch: 7 Loss: 22.121395733964164 Accuracy: 98.91666666666667\n",
            "Epoch: 8 Loss: 21.76725953165851 Accuracy: 98.92166666666667\n",
            "Epoch: 9 Loss: 19.445616837803755 Accuracy: 99.07666666666667\n",
            "Epoch: 10 Loss: 18.532085501577967 Accuracy: 99.12333333333333\n",
            "Epoch: 11 Loss: 21.659755386883262 Accuracy: 98.97333333333333\n",
            "Epoch: 12 Loss: 17.38552808456734 Accuracy: 99.15833333333333\n",
            "Epoch: 13 Loss: 15.784962758082656 Accuracy: 99.195\n",
            "Epoch: 14 Loss: 22.169243920910503 Accuracy: 99.03\n",
            "Epoch: 15 Loss: 14.755914668847254 Accuracy: 99.28166666666667\n",
            "Epoch: 16 Loss: 16.207333667142848 Accuracy: 99.29\n",
            "Epoch: 17 Loss: 16.27245378751394 Accuracy: 99.27333333333333\n",
            "Epoch: 18 Loss: 16.20149188619871 Accuracy: 99.325\n",
            "Epoch: 19 Loss: 15.848889438836636 Accuracy: 99.285\n",
            "Epoch: 20 Loss: 13.291752500425389 Accuracy: 99.36833333333334\n",
            "Epoch: 21 Loss: 17.688853432586825 Accuracy: 99.22333333333333\n",
            "Epoch: 22 Loss: 16.022286183921437 Accuracy: 99.31\n",
            "Epoch: 23 Loss: 14.240891493699223 Accuracy: 99.37\n",
            "Epoch: 24 Loss: 13.588975288851664 Accuracy: 99.43166666666667\n",
            "Epoch: 25 Loss: 15.325186333923 Accuracy: 99.37833333333333\n",
            "Epoch: 26 Loss: 14.442364143626548 Accuracy: 99.40166666666667\n",
            "Epoch: 27 Loss: 13.826557236866279 Accuracy: 99.385\n",
            "Epoch: 28 Loss: 12.588147730191423 Accuracy: 99.46\n",
            "Epoch: 29 Loss: 13.639836125618672 Accuracy: 99.45333333333333\n",
            "Epoch: 30 Loss: 13.441541768151723 Accuracy: 99.46166666666667\n",
            "Epoch: 31 Loss: 15.487378041296514 Accuracy: 99.41166666666666\n",
            "Epoch: 32 Loss: 13.907595512437297 Accuracy: 99.51333333333334\n",
            "Epoch: 33 Loss: 14.375044332372383 Accuracy: 99.47166666666666\n",
            "Epoch: 34 Loss: 11.657943930617755 Accuracy: 99.56666666666666\n",
            "Epoch: 35 Loss: 14.506135311801083 Accuracy: 99.43\n",
            "Epoch: 36 Loss: 16.757338639972204 Accuracy: 99.405\n",
            "Epoch: 37 Loss: 12.042124341298328 Accuracy: 99.57333333333334\n",
            "Epoch: 38 Loss: 12.220196165886179 Accuracy: 99.58666666666667\n",
            "Epoch: 39 Loss: 11.903311723517698 Accuracy: 99.57\n",
            "Epoch: 40 Loss: 11.370072745615978 Accuracy: 99.58\n",
            "Epoch: 41 Loss: 17.134328230300014 Accuracy: 99.425\n",
            "Epoch: 42 Loss: 10.813316601033435 Accuracy: 99.615\n",
            "Epoch: 43 Loss: 14.003695745208038 Accuracy: 99.535\n",
            "Epoch: 44 Loss: 16.42342045219208 Accuracy: 99.5\n",
            "Epoch: 45 Loss: 12.607116080937175 Accuracy: 99.58833333333334\n",
            "Epoch: 46 Loss: 9.84850604827573 Accuracy: 99.635\n",
            "Epoch: 47 Loss: 10.799256273794699 Accuracy: 99.60666666666667\n",
            "Epoch: 48 Loss: 14.579387676238913 Accuracy: 99.555\n",
            "Epoch: 49 Loss: 16.09764739315417 Accuracy: 99.48\n"
          ]
        }
      ],
      "source": [
        "# def Model(dataset, batch_size=100, lr=0.01, iterations=10):\n",
        "batch_size=100\n",
        "lr=0.002\n",
        "iterations=50\n",
        "loader = torch.utils.data.DataLoader(train_dataset, batch_size=batch_size)\n",
        "optimizer = optim.Adam(network.parameters(), lr=lr)\n",
        "\n",
        "batch_loss = []\n",
        "correct = []\n",
        "\n",
        "for epoch in range(iterations):\n",
        "\n",
        "    epoch_loss = 0\n",
        "    epoch_correct = 0\n",
        "    for batch in loader:\n",
        "        images, labels = batch\n",
        "        images, labels = images.to(DEVICE), labels.to(DEVICE)\n",
        "\n",
        "        preds = network(images)\n",
        "        loss = F.cross_entropy(preds, labels)\n",
        "\n",
        "        optimizer.zero_grad()\n",
        "\n",
        "        loss.backward()\n",
        "        optimizer.step()\n",
        "\n",
        "        epoch_loss += loss.item()\n",
        "        batch_correct = preds.argmax(dim=1).eq(labels).sum().item()\n",
        "        epoch_correct += batch_correct\n",
        "\n",
        "        batch_loss.append(loss.item())\n",
        "        correct.append(batch_correct)\n",
        "    \n",
        "    print('Epoch:', epoch, 'Loss:', epoch_loss, 'Accuracy:', epoch_correct/600)"
      ]
    },
    {
      "cell_type": "code",
      "execution_count": 51,
      "metadata": {
        "colab": {
          "base_uri": "https://localhost:8080/",
          "height": 279
        },
        "id": "iVYBm5gOfr84",
        "outputId": "c6859fa0-1b54-4742-dbea-622e008101bd"
      },
      "outputs": [
        {
          "data": {
            "image/png": "[encoded data removed]",
            "text/plain": [
              "<Figure size 432x288 with 1 Axes>"
            ]
          },
          "metadata": {
            "needs_background": "light"
          },
          "output_type": "display_data"
        }
      ],
      "source": [
        "plt.plot(np.arange(30000), batch_loss, label=\"Batch Loss\")\n",
        "plt.grid()\n",
        "plt.title(\"CNN: Learning Curve\")\n",
        "plt.legend()\n",
        "plt.xlabel(\"Numper of Epochs\")\n",
        "plt.ylabel(\"Cross Entropy Loss\")\n",
        "plt.savefig(\"CNNCost.jpeg\")\n",
        "plt.show()"
      ]
    },
    {
      "cell_type": "code",
      "execution_count": 58,
      "metadata": {},
      "outputs": [
        {
          "data": {
            "image/png": "[encoded data removed]",
            "text/plain": [
              "<Figure size 432x288 with 1 Axes>"
            ]
          },
          "metadata": {
            "needs_background": "light"
          },
          "output_type": "display_data"
        }
      ],
      "source": [
        "plt.plot(np.arange(30000), correct, label=\"Accuracy\", c=\"tab:orange\")\n",
        "plt.grid()\n",
        "plt.title(\"CNN: Learning Curve\")\n",
        "plt.legend()\n",
        "plt.xlabel(\"Numper of Epochs\")\n",
        "plt.ylabel(\"Accuracy\")\n",
        "plt.savefig(\"CNNacc.jpeg\")\n",
        "plt.show()"
      ]
    },
    {
      "cell_type": "code",
      "execution_count": 59,
      "metadata": {
        "id": "8bDayTvtZIiF"
      },
      "outputs": [],
      "source": [
        "def get_all_preds(model, loader):\n",
        "    all_preds = torch.tensor([])\n",
        "    for batch in loader:\n",
        "        images, labels = batch\n",
        "\n",
        "        preds = model(images)\n",
        "        all_preds = torch.cat(\n",
        "            (all_preds, preds)\n",
        "            ,dim=0\n",
        "        )\n",
        "    return all_preds"
      ]
    },
    {
      "cell_type": "code",
      "execution_count": 61,
      "metadata": {
        "colab": {
          "base_uri": "https://localhost:8080/"
        },
        "id": "DXcryH95YUtG",
        "outputId": "4369f48d-ddce-44b9-9333-f0959a833d91"
      },
      "outputs": [
        {
          "name": "stdout",
          "output_type": "stream",
          "text": [
            "59641 correctly labeled out of 60000\n",
            "Accuracy on Train Set: 99.40166666666667\n"
          ]
        }
      ],
      "source": [
        "network.cpu()\n",
        "train_preds = get_all_preds(network, loader)\n",
        "print(train_preds.argmax(1).eq(train_labels).sum().item(), 'correctly labeled out of', len(train_images))\n",
        "print('Accuracy on Train Set:', train_preds.argmax(1).eq(train_labels).sum().item() / len(train_images) * 100)"
      ]
    },
    {
      "cell_type": "code",
      "execution_count": 62,
      "metadata": {
        "colab": {
          "base_uri": "https://localhost:8080/"
        },
        "id": "c4jMU5pNZdJr",
        "outputId": "f293e2a3-ba28-45ec-ea5e-2caacd7d17e3"
      },
      "outputs": [
        {
          "data": {
            "text/plain": [
              "tensor(0.9940)"
            ]
          },
          "execution_count": 62,
          "metadata": {},
          "output_type": "execute_result"
        }
      ],
      "source": [
        "train_preds.argmax(1).eq(train_labels).sum() / len(train_images)"
      ]
    },
    {
      "cell_type": "code",
      "execution_count": 63,
      "metadata": {
        "colab": {
          "base_uri": "https://localhost:8080/"
        },
        "id": "Gr82--QJajZU",
        "outputId": "99761585-db08-4aa4-8250-d82f9b3eb835"
      },
      "outputs": [
        {
          "name": "stdout",
          "output_type": "stream",
          "text": [
            "9859 correctly labeled out of 10000\n",
            "Accuracy on Train Set: 98.59\n"
          ]
        }
      ],
      "source": [
        "test_preds = get_all_preds(network, test_loader)\n",
        "print(test_preds.argmax(1).eq(test_labels).sum().item(), 'correctly labeled out of', len(test_images))\n",
        "print('Accuracy on Train Set:', test_preds.argmax(1).eq(test_labels).sum().item() / len(test_images) * 100)"
      ]
    },
    {
      "cell_type": "code",
      "execution_count": 64,
      "metadata": {
        "colab": {
          "base_uri": "https://localhost:8080/"
        },
        "id": "WU7WcQWjayeY",
        "outputId": "f14fa090-bdb0-494d-f3bc-a166cb8112e7"
      },
      "outputs": [
        {
          "data": {
            "text/plain": [
              "tensor(9859)"
            ]
          },
          "execution_count": 64,
          "metadata": {},
          "output_type": "execute_result"
        }
      ],
      "source": [
        "test_preds.argmax(1).eq(test_labels).sum() "
      ]
    },
    {
      "cell_type": "code",
      "execution_count": 65,
      "metadata": {
        "colab": {
          "base_uri": "https://localhost:8080/",
          "height": 282
        },
        "id": "_Y5GhRylLgdA",
        "outputId": "11d48d2d-dce5-436e-db67-a3f05490689e"
      },
      "outputs": [
        {
          "data": {
            "image/png": "[encoded data removed]",
            "text/plain": [
              "<Figure size 432x288 with 1 Axes>"
            ]
          },
          "metadata": {
            "needs_background": "light"
          },
          "output_type": "display_data"
        },
        {
          "name": "stdout",
          "output_type": "stream",
          "text": [
            "The model predicts 3\n"
          ]
        }
      ],
      "source": [
        "i = 9925\n",
        "plt.imshow(test_images[i].reshape(28,28))\n",
        "plt.show()\n",
        "print('The model predicts', test_preds.argmax(1)[i].item())"
      ]
    },
    {
      "cell_type": "code",
      "execution_count": 73,
      "metadata": {
        "id": "BXW-k9pyWkWB"
      },
      "outputs": [],
      "source": [
        "# Saving the state_dict of Model\n",
        "PATH = 'MNIST_cnn_model.pth'\n",
        "torch.save(network.state_dict(), PATH)"
      ]
    },
    {
      "cell_type": "code",
      "execution_count": 171,
      "metadata": {
        "colab": {
          "base_uri": "https://localhost:8080/"
        },
        "id": "saqrDt-6e3Do",
        "outputId": "93a2fcb4-77a0-4622-f388-00c2c6c9dd5d"
      },
      "outputs": [
        {
          "data": {
            "text/plain": [
              "<All keys matched successfully>"
            ]
          },
          "execution_count": 171,
          "metadata": {
            "tags": []
          },
          "output_type": "execute_result"
        }
      ],
      "source": [
        "# Loadel the saved Model\n",
        "# the_network = Network()\n",
        "# the_network.load_state_dict(torch.load(PATH))\n",
        "# the_network.eval()"
      ]
    },
    {
      "cell_type": "markdown",
      "metadata": {
        "id": "Z6-xYUb7qxEq"
      },
      "source": [
        "-------------------------------------------------------------------\n",
        "\n"
      ]
    },
    {
      "cell_type": "code",
      "execution_count": null,
      "metadata": {},
      "outputs": [],
      "source": []
    }
  ],
  "metadata": {
    "colab": {
      "authorship_tag": "ABX9TyPSU2BDR5RCU0d+VRtDiBd+",
      "collapsed_sections": [],
      "include_colab_link": true,
      "mount_file_id": "1S5QzHtyltXZempAiG3ql9YLbVJEUaVEf",
      "name": "MNIST using CNN in pytorch.ipynb",
      "provenance": []
    },
    "interpreter": {
      "hash": "6cbb41571b20674ffee661aa3e8e8b885ec56c497d88337beffcf280b455b3f0"
    },
    "kernelspec": {
      "display_name": "Python 3.9.7 64-bit",
      "name": "python3"
    },
    "language_info": {
      "codemirror_mode": {
        "name": "ipython",
        "version": 3
      },
      "file_extension": ".py",
      "mimetype": "text/x-python",
      "name": "python",
      "nbconvert_exporter": "python",
      "pygments_lexer": "ipython3",
      "version": "3.9.7"
    }
  },
  "nbformat": 4,
  "nbformat_minor": 0
}
