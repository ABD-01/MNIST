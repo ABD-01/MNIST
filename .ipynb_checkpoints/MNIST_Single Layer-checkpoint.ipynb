{
 "cells": [
  {
   "cell_type": "code",
   "execution_count": 1,
   "metadata": {},
   "outputs": [],
   "source": [
    "import matplotlib.pyplot as plt\n",
    "import numpy as np\n",
    "import idx2numpy\n",
    "from tqdm import tqdm"
   ]
  },
  {
   "cell_type": "code",
   "execution_count": 2,
   "metadata": {},
   "outputs": [],
   "source": [
    "test_images = idx2numpy.convert_from_file('t10k-images.idx3-ubyte')\n",
    "test_labels = idx2numpy.convert_from_file('t10k-labels.idx1-ubyte')\n",
    "train_images = idx2numpy.convert_from_file('train-images.idx3-ubyte')\n",
    "train_labels = idx2numpy.convert_from_file('train-labels.idx1-ubyte')"
   ]
  },
  {
   "cell_type": "code",
   "execution_count": 3,
   "metadata": {},
   "outputs": [
    {
     "name": "stdout",
     "output_type": "stream",
     "text": [
      "(10000, 28, 28)\n",
      "(10000,)\n",
      "(60000, 28, 28)\n",
      "(60000,)\n"
     ]
    }
   ],
   "source": [
    "print(test_images.shape)\n",
    "print(test_labels.shape)\n",
    "print(train_images.shape)\n",
    "print(train_labels.shape)"
   ]
  },
  {
   "cell_type": "code",
   "execution_count": 4,
   "metadata": {},
   "outputs": [],
   "source": [
    "train_images_flat=train_images.reshape(train_images.shape[0], -1).T\n",
    "test_images_flat=test_images.reshape(test_images.shape[0], -1).T"
   ]
  },
  {
   "cell_type": "code",
   "execution_count": 5,
   "metadata": {},
   "outputs": [
    {
     "name": "stdout",
     "output_type": "stream",
     "text": [
      "(784, 60000)\n",
      "(784, 10000)\n",
      "Train Examples=60000\n",
      "Test Examples=10000\n"
     ]
    }
   ],
   "source": [
    "print(train_images_flat.shape)\n",
    "print(test_images_flat.shape)\n",
    "m = train_images_flat.shape[1]\n",
    "m_test = test_images_flat.shape[1]\n",
    "print(f\"Train Examples={m}\")\n",
    "print(f\"Test Examples={m_test}\")\n",
    "X = train_images_flat/255\n",
    "X_test = test_images_flat/255"
   ]
  },
  {
   "cell_type": "code",
   "execution_count": 8,
   "metadata": {},
   "outputs": [
    {
     "data": {
      "text/plain": [
       "(1, 60000)"
      ]
     },
     "execution_count": 8,
     "metadata": {},
     "output_type": "execute_result"
    }
   ],
   "source": [
    "# Y = train_labels.reshape(train_labels.shape[0],1).T # Y.shape is (1, m)\n",
    "# Y.shape"
   ]
  },
  {
   "cell_type": "code",
   "execution_count": 6,
   "metadata": {},
   "outputs": [],
   "source": [
    "def one_hot(row_vector, no_classes):\n",
    "    one_hot_vector = np.eye(no_classes)[row_vector.reshape(-1)]\n",
    "    return one_hot_vector.T"
   ]
  },
  {
   "cell_type": "code",
   "execution_count": 152,
   "metadata": {},
   "outputs": [
    {
     "name": "stdout",
     "output_type": "stream",
     "text": [
      "No. of Classes=10\n",
      "(10, 60000)\n",
      "(10, 10000)\n"
     ]
    }
   ],
   "source": [
    "C = train_labels.max()+1\n",
    "print(f\"No. of Classes={C}\")\n",
    "Y_hot = one_hot(train_labels,no_classes=C)\n",
    "Y_test_hot = one_hot(test_labels,no_classes=C)\n",
    "print(Y_hot.shape) #Y_hot.shape is (C,m)\n",
    "print(Y_test_hot.shape) #Y_hot.shape is (C,m)"
   ]
  },
  {
   "cell_type": "code",
   "execution_count": 64,
   "metadata": {},
   "outputs": [],
   "source": [
    "def initialize():\n",
    "    global W,b\n",
    "    W = np.random.randn(train_images_flat.shape[0], C)*0.001 # W.shape is (n_x,1)\n",
    "    b = np.zeros((1,m)) #b.shape is (1,m)\n",
    "initialize()"
   ]
  },
  {
   "cell_type": "code",
   "execution_count": 65,
   "metadata": {},
   "outputs": [
    {
     "name": "stdout",
     "output_type": "stream",
     "text": [
      "(784, 10)\n",
      "(1, 60000)\n"
     ]
    }
   ],
   "source": [
    "print(W.shape)\n",
    "print(b.shape)"
   ]
  },
  {
   "cell_type": "code",
   "execution_count": 66,
   "metadata": {},
   "outputs": [],
   "source": [
    "def softmax(z):\n",
    "    t = np.exp(z)\n",
    "    a = t / np.sum(t)\n",
    "    return a"
   ]
  },
  {
   "cell_type": "code",
   "execution_count": 67,
   "metadata": {},
   "outputs": [],
   "source": [
    "def forward():\n",
    "    global Z,A\n",
    "    Z = np.dot(W.T, X) + b # Z.shape is (C,m)\n",
    "    A = softmax(Z)  # A.shape is (C,m)"
   ]
  },
  {
   "cell_type": "code",
   "execution_count": 68,
   "metadata": {},
   "outputs": [],
   "source": [
    "def cost():\n",
    "    global L,J\n",
    "# Calculate Loss\n",
    "    L = -np.sum(Y_hot*np.log(A), keepdims=True, axis=0) # L.shape is (1,m)   '''NO BROADCASTING GOING ON HERE'''\n",
    "    #calculate Cost\n",
    "    J = np.sum(L, keepdims=True, axis=1)*(1/m) # J.shape is (1,1) "
   ]
  },
  {
   "cell_type": "code",
   "execution_count": 69,
   "metadata": {},
   "outputs": [],
   "source": [
    "# deivatives\n",
    "def backward():\n",
    "    global dZ, dW, db\n",
    "    #dJ/dZ\n",
    "    dZ = A-Y_hot  # dZ.shape is (C,m)   '''BROADCASTING GOING ON HERE'''\n",
    "\n",
    "    #dJ/dW = sum(dL/dW)/m  which is equivalent to np.dot(X,dZ.T)/m\n",
    "    '''\n",
    "    dLdW = X*dZ  # dLdW.shape is (n_x, m)\n",
    "    dW = np.sum(dLdW, keepdims=True, axis=1)/m  #dW.shape is (n_x,1) [same as W.shape]\n",
    "    '''\n",
    "    dW = np.dot(X, dZ.T) / m\n",
    "    #dJ/db\n",
    "    db = np.sum(dZ, keepdims=True, axis=1)/m  # db.shape = (1,1)"
   ]
  },
  {
   "cell_type": "code",
   "execution_count": 74,
   "metadata": {},
   "outputs": [
    {
     "data": {
      "text/plain": [
       "((10, 60000),\n",
       " (10, 60000),\n",
       " (1, 60000),\n",
       " (1, 1),\n",
       " (10, 60000),\n",
       " (10, 60000),\n",
       " (784, 10),\n",
       " (784, 10),\n",
       " (10, 1))"
      ]
     },
     "execution_count": 74,
     "metadata": {},
     "output_type": "execute_result"
    }
   ],
   "source": [
    "forward()\n",
    "cost()\n",
    "backward()\n",
    "A.shape, Y_hot.shape, L.shape, J.shape,Z.shape, dZ.shape, W.shape, dW.shape, db.shape"
   ]
  },
  {
   "cell_type": "code",
   "execution_count": 88,
   "metadata": {},
   "outputs": [],
   "source": [
    "initialize()"
   ]
  },
  {
   "cell_type": "code",
   "execution_count": 89,
   "metadata": {
    "scrolled": false
   },
   "outputs": [
    {
     "name": "stdout",
     "output_type": "stream",
     "text": [
      "Cost at 0th loop = [[13.30515299]]\n",
      "Cost at 5th loop = [[13.29974696]]\n",
      "Cost at 10th loop = [[13.29438038]]\n",
      "Cost at 15th loop = [[13.28905343]]\n",
      "Cost at 20th loop = [[13.2837663]]\n",
      "Cost at 25th loop = [[13.27851918]]\n",
      "Cost at 30th loop = [[13.27331225]]\n",
      "Cost at 35th loop = [[13.26814571]]\n",
      "Cost at 40th loop = [[13.26301974]]\n",
      "Cost at 45th loop = [[13.25793454]]\n",
      "Cost at 50th loop = [[13.2528903]]\n",
      "Cost at 55th loop = [[13.24788723]]\n",
      "Cost at 60th loop = [[13.24292552]]\n",
      "Cost at 65th loop = [[13.23800537]]\n",
      "Cost at 70th loop = [[13.23312699]]\n",
      "Cost at 75th loop = [[13.22829058]]\n",
      "Cost at 80th loop = [[13.22349635]]\n",
      "Cost at 85th loop = [[13.2187445]]\n",
      "Cost at 90th loop = [[13.21403524]]\n",
      "Cost at 95th loop = [[13.2093688]]\n",
      "Cost at 100th loop = [[13.20474537]]\n",
      "Cost at 105th loop = [[13.20016519]]\n",
      "Cost at 110th loop = [[13.19562846]]\n",
      "Cost at 115th loop = [[13.19113541]]\n",
      "Cost at 120th loop = [[13.18668627]]\n",
      "Cost at 125th loop = [[13.18228124]]\n",
      "Cost at 130th loop = [[13.17792058]]\n",
      "Cost at 135th loop = [[13.17360449]]\n",
      "Cost at 140th loop = [[13.16933322]]\n",
      "Cost at 145th loop = [[13.165107]]\n",
      "Cost at 150th loop = [[13.16092606]]\n",
      "Cost at 155th loop = [[13.15679065]]\n",
      "Cost at 160th loop = [[13.152701]]\n",
      "Cost at 165th loop = [[13.14865736]]\n",
      "Cost at 170th loop = [[13.14465997]]\n",
      "Cost at 175th loop = [[13.14070909]]\n",
      "Cost at 180th loop = [[13.13680496]]\n",
      "Cost at 185th loop = [[13.13294783]]\n",
      "Cost at 190th loop = [[13.12913797]]\n",
      "Cost at 195th loop = [[13.12537563]]\n",
      "Cost at 200th loop = [[13.12166108]]\n",
      "Cost at 205th loop = [[13.11799457]]\n",
      "Cost at 210th loop = [[13.11437637]]\n",
      "Cost at 215th loop = [[13.11080676]]\n",
      "Cost at 220th loop = [[13.107286]]\n",
      "Cost at 225th loop = [[13.10381438]]\n",
      "Cost at 230th loop = [[13.10039216]]\n",
      "Cost at 235th loop = [[13.09701964]]\n",
      "Cost at 240th loop = [[13.09369709]]\n",
      "Cost at 245th loop = [[13.0904248]]\n",
      "Cost at 250th loop = [[13.08720306]]\n",
      "Cost at 255th loop = [[13.08403217]]\n",
      "Cost at 260th loop = [[13.08091241]]\n",
      "Cost at 265th loop = [[13.0778441]]\n",
      "Cost at 270th loop = [[13.07482753]]\n",
      "Cost at 275th loop = [[13.07186301]]\n",
      "Cost at 280th loop = [[13.06895085]]\n",
      "Cost at 285th loop = [[13.06609136]]\n",
      "Cost at 290th loop = [[13.06328485]]\n",
      "Cost at 295th loop = [[13.06053165]]\n",
      "Cost at 300th loop = [[13.05783208]]\n",
      "Cost at 305th loop = [[13.05518646]]\n",
      "Cost at 310th loop = [[13.05259513]]\n",
      "Cost at 315th loop = [[13.05005841]]\n",
      "Cost at 320th loop = [[13.04757665]]\n",
      "Cost at 325th loop = [[13.04515018]]\n",
      "Cost at 330th loop = [[13.04277935]]\n",
      "Cost at 335th loop = [[13.04046451]]\n",
      "Cost at 340th loop = [[13.03820601]]\n",
      "Cost at 345th loop = [[13.0360042]]\n",
      "Cost at 350th loop = [[13.03385945]]\n",
      "Cost at 355th loop = [[13.03177211]]\n",
      "Cost at 360th loop = [[13.02974256]]\n",
      "Cost at 365th loop = [[13.02777117]]\n",
      "Cost at 370th loop = [[13.02585831]]\n",
      "Cost at 375th loop = [[13.02400436]]\n",
      "Cost at 380th loop = [[13.02220971]]\n",
      "Cost at 385th loop = [[13.02047473]]\n",
      "Cost at 390th loop = [[13.01879984]]\n",
      "Cost at 395th loop = [[13.01718541]]\n",
      "Cost at 400th loop = [[13.01563186]]\n",
      "Cost at 405th loop = [[13.01413959]]\n",
      "Cost at 410th loop = [[13.012709]]\n",
      "Cost at 415th loop = [[13.01134051]]\n",
      "Cost at 420th loop = [[13.01003454]]\n",
      "Cost at 425th loop = [[13.00879151]]\n",
      "Cost at 430th loop = [[13.00761185]]\n",
      "Cost at 435th loop = [[13.00649599]]\n",
      "Cost at 440th loop = [[13.00544437]]\n",
      "Cost at 445th loop = [[13.00445742]]\n",
      "Cost at 450th loop = [[13.0035356]]\n",
      "Cost at 455th loop = [[13.00267935]]\n",
      "Cost at 460th loop = [[13.00188913]]\n",
      "Cost at 465th loop = [[13.0011654]]\n",
      "Cost at 470th loop = [[13.00050863]]\n",
      "Cost at 475th loop = [[12.99991927]]\n",
      "Cost at 480th loop = [[12.99939782]]\n",
      "Cost at 485th loop = [[12.99894474]]\n",
      "Cost at 490th loop = [[12.99856053]]\n",
      "Cost at 495th loop = [[12.99824566]]\n"
     ]
    }
   ],
   "source": [
    "#optimise\n",
    "alpha = 0.001\n",
    "iterations = 500\n",
    "global costs\n",
    "costs=[]\n",
    "for i in range(iterations):\n",
    "    forward()\n",
    "    if i%5 ==0:\n",
    "        cost()\n",
    "        costs.append(J)\n",
    "        print(f'Cost at {i}th loop = {J}')\n",
    "    backward()\n",
    "    W = W - alpha*dW\n",
    "    b = b - alpha*db"
   ]
  },
  {
   "cell_type": "code",
   "execution_count": 90,
   "metadata": {},
   "outputs": [
    {
     "data": {
      "text/plain": [
       "100"
      ]
     },
     "execution_count": 90,
     "metadata": {},
     "output_type": "execute_result"
    },
    {
     "data": {
      "image/png": "[encoded data removed]",
      "text/plain": [
       "<Figure size 432x288 with 1 Axes>"
      ]
     },
     "metadata": {
      "needs_background": "light"
     },
     "output_type": "display_data"
    }
   ],
   "source": [
    "plt.plot(np.arange(0,len(costs),1), np.array(costs).reshape(len(costs),1))\n",
    "len(costs)\n"
   ]
  },
  {
   "cell_type": "code",
   "execution_count": 122,
   "metadata": {},
   "outputs": [],
   "source": [
    "# A[:,0].max() == A[:,0]\n",
    "O = (np.max(A,axis=0) == A).T * np.array([0,1,2,3,4,5,6,7,8,9]).T"
   ]
  },
  {
   "cell_type": "code",
   "execution_count": 134,
   "metadata": {},
   "outputs": [
    {
     "data": {
      "text/plain": [
       "(array([3, 0, 4, ..., 8, 0, 8]), array([5, 0, 4, ..., 5, 6, 8], dtype=uint8))"
      ]
     },
     "execution_count": 134,
     "metadata": {},
     "output_type": "execute_result"
    }
   ],
   "source": [
    "F = np.sum(O,axis=1)\n",
    "F,train_labels"
   ]
  },
  {
   "cell_type": "code",
   "execution_count": 143,
   "metadata": {},
   "outputs": [
    {
     "name": "stdout",
     "output_type": "stream",
     "text": [
      "40421 images correctly labeled out of 60000\n"
     ]
    }
   ],
   "source": [
    "print(f'{np.sum(F==train_labels)} images correctly labeled out of {train_labels.shape[0]}')"
   ]
  },
  {
   "cell_type": "code",
   "execution_count": 144,
   "metadata": {},
   "outputs": [
    {
     "name": "stdout",
     "output_type": "stream",
     "text": [
      "Accuracy : 89.99989719763204 on Train Set\n"
     ]
    }
   ],
   "source": [
    "print(f'Accuracy : {100 - np.mean(np.abs(A- Y_hot))*100} on Train Set')"
   ]
  },
  {
   "cell_type": "code",
   "execution_count": 148,
   "metadata": {},
   "outputs": [
    {
     "name": "stdout",
     "output_type": "stream",
     "text": [
      "Cost for training was [[12.99824566]]\n"
     ]
    }
   ],
   "source": [
    "print(f'Cost for training was {costs[-1]}')"
   ]
  },
  {
   "cell_type": "code",
   "execution_count": 157,
   "metadata": {},
   "outputs": [
    {
     "ename": "ValueError",
     "evalue": "operands could not be broadcast together with shapes (10,10000) (10,) ",
     "output_type": "error",
     "traceback": [
      "\u001b[1;31m---------------------------------------------------------------------------\u001b[0m",
      "\u001b[1;31mValueError\u001b[0m                                Traceback (most recent call last)",
      "\u001b[1;32m<ipython-input-157-ca3d20ee2eb2>\u001b[0m in \u001b[0;36m<module>\u001b[1;34m\u001b[0m\n\u001b[0;32m      1\u001b[0m \u001b[1;31m# test\u001b[0m\u001b[1;33m\u001b[0m\u001b[1;33m\u001b[0m\u001b[1;33m\u001b[0m\u001b[0m\n\u001b[1;32m----> 2\u001b[1;33m \u001b[0mZ_test\u001b[0m \u001b[1;33m=\u001b[0m \u001b[0mnp\u001b[0m\u001b[1;33m.\u001b[0m\u001b[0mdot\u001b[0m\u001b[1;33m(\u001b[0m\u001b[0mW\u001b[0m\u001b[1;33m.\u001b[0m\u001b[0mT\u001b[0m\u001b[1;33m,\u001b[0m \u001b[0mX_test\u001b[0m\u001b[1;33m)\u001b[0m \u001b[1;33m+\u001b[0m \u001b[0mb\u001b[0m\u001b[1;33m[\u001b[0m\u001b[1;33m:\u001b[0m\u001b[1;33m,\u001b[0m\u001b[1;36m10000\u001b[0m\u001b[1;33m]\u001b[0m\u001b[1;33m\u001b[0m\u001b[1;33m\u001b[0m\u001b[0m\n\u001b[0m\u001b[0;32m      3\u001b[0m \u001b[0mA_test\u001b[0m \u001b[1;33m=\u001b[0m \u001b[0msoftmax\u001b[0m\u001b[1;33m(\u001b[0m\u001b[0mZ_test\u001b[0m\u001b[1;33m)\u001b[0m\u001b[1;33m\u001b[0m\u001b[1;33m\u001b[0m\u001b[0m\n\u001b[0;32m      4\u001b[0m \u001b[0mL_test\u001b[0m \u001b[1;33m=\u001b[0m \u001b[1;33m-\u001b[0m\u001b[0mnp\u001b[0m\u001b[1;33m.\u001b[0m\u001b[0msum\u001b[0m\u001b[1;33m(\u001b[0m\u001b[0mY_test_hot\u001b[0m\u001b[1;33m*\u001b[0m\u001b[0mnp\u001b[0m\u001b[1;33m.\u001b[0m\u001b[0mlog\u001b[0m\u001b[1;33m(\u001b[0m\u001b[0mA_test\u001b[0m\u001b[1;33m)\u001b[0m\u001b[1;33m,\u001b[0m \u001b[0mkeepdims\u001b[0m\u001b[1;33m=\u001b[0m\u001b[1;32mTrue\u001b[0m\u001b[1;33m,\u001b[0m \u001b[0maxis\u001b[0m\u001b[1;33m=\u001b[0m\u001b[1;36m0\u001b[0m\u001b[1;33m)\u001b[0m\u001b[1;33m\u001b[0m\u001b[1;33m\u001b[0m\u001b[0m\n\u001b[0;32m      5\u001b[0m \u001b[0mJ_test\u001b[0m \u001b[1;33m=\u001b[0m \u001b[0mnp\u001b[0m\u001b[1;33m.\u001b[0m\u001b[0msum\u001b[0m\u001b[1;33m(\u001b[0m\u001b[0mL_test\u001b[0m\u001b[1;33m,\u001b[0m \u001b[0mkeepdims\u001b[0m\u001b[1;33m=\u001b[0m\u001b[1;32mTrue\u001b[0m\u001b[1;33m,\u001b[0m \u001b[0maxis\u001b[0m\u001b[1;33m=\u001b[0m\u001b[1;36m1\u001b[0m\u001b[1;33m)\u001b[0m\u001b[1;33m*\u001b[0m\u001b[1;33m(\u001b[0m\u001b[1;36m1\u001b[0m\u001b[1;33m/\u001b[0m\u001b[0mm\u001b[0m\u001b[1;33m)\u001b[0m\u001b[1;33m\u001b[0m\u001b[1;33m\u001b[0m\u001b[0m\n",
      "\u001b[1;31mValueError\u001b[0m: operands could not be broadcast together with shapes (10,10000) (10,) "
     ]
    }
   ],
   "source": [
    "# test\n",
    "Z_test = np.dot(W.T, X_test) + b[:,:10000]\n",
    "A_test = softmax(Z_test)\n",
    "L_test = -np.sum(Y_test_hot*np.log(A_test), keepdims=True, axis=0)\n",
    "J_test = np.sum(L_test, keepdims=True, axis=1)*(1/m)"
   ]
  },
  {
   "cell_type": "code",
   "execution_count": 158,
   "metadata": {},
   "outputs": [
    {
     "data": {
      "text/plain": [
       "(10, 10000)"
      ]
     },
     "execution_count": 158,
     "metadata": {},
     "output_type": "execute_result"
    }
   ],
   "source": [
    "Z_test.shape"
   ]
  },
  {
   "cell_type": "code",
   "execution_count": 165,
   "metadata": {},
   "outputs": [
    {
     "data": {
      "text/plain": [
       "(10, 10000)"
      ]
     },
     "execution_count": 165,
     "metadata": {},
     "output_type": "execute_result"
    }
   ],
   "source": [
    "b[:,:10000].shape"
   ]
  },
  {
   "cell_type": "code",
   "execution_count": null,
   "metadata": {},
   "outputs": [],
   "source": []
  },
  {
   "cell_type": "code",
   "execution_count": null,
   "metadata": {},
   "outputs": [],
   "source": []
  }
 ],
 "metadata": {
  "kernelspec": {
   "display_name": "Python 3",
   "language": "python",
   "name": "python3"
  },
  "language_info": {
   "codemirror_mode": {
    "name": "ipython",
    "version": 3
   },
   "file_extension": ".py",
   "mimetype": "text/x-python",
   "name": "python",
   "nbconvert_exporter": "python",
   "pygments_lexer": "ipython3",
   "version": "3.8.3"
  }
 },
 "nbformat": 4,
 "nbformat_minor": 4
}
