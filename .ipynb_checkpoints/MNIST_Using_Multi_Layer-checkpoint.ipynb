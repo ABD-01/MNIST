{
 "cells": [
  {
   "cell_type": "markdown",
   "metadata": {
    "colab_type": "text",
    "id": "view-in-github"
   },
   "source": [
    "<a href=\"https://colab.research.google.com/github/ABD-01/MNIST/blob/main/MNIST_Using_Multi_Layer.ipynb\" target=\"_parent\"><img src=\"https://colab.research.google.com/assets/colab-badge.svg\" alt=\"Open In Colab\"/></a>"
   ]
  },
  {
   "cell_type": "code",
   "execution_count": null,
   "metadata": {
    "id": "fNcOOmvI4xMD"
   },
   "outputs": [],
   "source": [
    "import matplotlib.pyplot as plt\n",
    "import numpy as np\n",
    "import idx2numpy\n",
    "from tqdm import tqdm\n",
    "import os"
   ]
  },
  {
   "cell_type": "code",
   "execution_count": null,
   "metadata": {
    "id": "fwAi4pFHARq8"
   },
   "outputs": [],
   "source": [
    "test_images = idx2numpy.convert_from_file('/content/drive/MyDrive/Colab Notebooks/t10k-images.idx3-ubyte')\n",
    "test_labels = idx2numpy.convert_from_file('/content/drive/MyDrive/Colab Notebooks/t10k-labels.idx1-ubyte')\n",
    "train_images = idx2numpy.convert_from_file('/content/drive/MyDrive/Colab Notebooks/train-images.idx3-ubyte')\n",
    "train_labels = idx2numpy.convert_from_file('/content/drive/MyDrive/Colab Notebooks/train-labels.idx1-ubyte')"
   ]
  },
  {
   "cell_type": "code",
   "execution_count": null,
   "metadata": {
    "colab": {
     "base_uri": "https://localhost:8080/"
    },
    "id": "NkeaeqVdQRkT",
    "outputId": "5d854403-3848-44f7-8369-af3f3914f134"
   },
   "outputs": [
    {
     "name": "stdout",
     "output_type": "stream",
     "text": [
      "(10000, 28, 28)\n",
      "(10000,)\n",
      "(60000, 28, 28)\n",
      "(60000,)\n"
     ]
    }
   ],
   "source": [
    "print(test_images.shape)\n",
    "print(test_labels.shape)\n",
    "print(train_images.shape)\n",
    "print(train_labels.shape)"
   ]
  },
  {
   "cell_type": "code",
   "execution_count": null,
   "metadata": {
    "id": "pHQax7Q3YdxG"
   },
   "outputs": [],
   "source": [
    "train_images_flat=train_images.reshape(train_images.shape[0], -1).T\n",
    "test_images_flat=test_images.reshape(test_images.shape[0], -1).T"
   ]
  },
  {
   "cell_type": "code",
   "execution_count": null,
   "metadata": {
    "colab": {
     "base_uri": "https://localhost:8080/"
    },
    "id": "H1a01P5UYfVs",
    "outputId": "128b4c65-6125-4985-98d4-87fc68fca9a5"
   },
   "outputs": [
    {
     "name": "stdout",
     "output_type": "stream",
     "text": [
      "Train Examples(m)=60000\n",
      "Test Examples(m_test)=10000\n",
      "X.shape= (784, 60000)\n",
      "X_test.shape= (784, 10000)\n"
     ]
    }
   ],
   "source": [
    "m = train_images_flat.shape[1]\n",
    "m_test = test_images_flat.shape[1]\n",
    "print(f\"Train Examples(m)={m}\")\n",
    "print(f\"Test Examples(m_test)={m_test}\")\n",
    "X = train_images_flat/255\n",
    "X_test = test_images_flat/255\n",
    "print('X.shape=',X.shape)\n",
    "print('X_test.shape=',X_test.shape)"
   ]
  },
  {
   "cell_type": "code",
   "execution_count": null,
   "metadata": {
    "id": "DU8gKiyBYkaX"
   },
   "outputs": [],
   "source": [
    "def one_hot(row_vector, no_classes):\n",
    "    one_hot_vector = np.eye(no_classes)[row_vector.reshape(-1)]\n",
    "    return one_hot_vector.T"
   ]
  },
  {
   "cell_type": "code",
   "execution_count": null,
   "metadata": {
    "colab": {
     "base_uri": "https://localhost:8080/"
    },
    "id": "_w9oxkQqYluQ",
    "outputId": "50b0eeab-937f-4403-fbbc-05379dea9d1b"
   },
   "outputs": [
    {
     "name": "stdout",
     "output_type": "stream",
     "text": [
      "No. of Classes=10\n",
      "Y_hot.shape= (10, 60000)\n",
      "Y_test_hot.shape= (10, 10000)\n"
     ]
    }
   ],
   "source": [
    "C = train_labels.max()+1\n",
    "print(f\"No. of Classes={C}\")\n",
    "Y_hot = one_hot(train_labels,no_classes=C)\n",
    "Y_test_hot = one_hot(test_labels,no_classes=C)\n",
    "print('Y_hot.shape=',Y_hot.shape) #Y_hot.shape is (C,m)\n",
    "print('Y_test_hot.shape=',Y_test_hot.shape) #Y_hot.shape is (C,m)"
   ]
  },
  {
   "cell_type": "code",
   "execution_count": 32,
   "metadata": {
    "colab": {
     "base_uri": "https://localhost:8080/"
    },
    "id": "odldvdgZagll",
    "outputId": "e3c12bf0-ff4b-401e-e9c0-90907a9b49ce"
   },
   "outputs": [
    {
     "data": {
      "text/plain": [
       "[784, 512, 128, 32, 10]"
      ]
     },
     "execution_count": 32,
     "metadata": {
      "tags": []
     },
     "output_type": "execute_result"
    }
   ],
   "source": [
    "no_of_layers = 4\n",
    "nodes = [X.shape[0], 512, 128, 32, 10]   # 4 layers with size 512, 128, 32, 10\n",
    "nodes"
   ]
  },
  {
   "cell_type": "code",
   "execution_count": 36,
   "metadata": {
    "id": "_Fj2-ZzFYm9m"
   },
   "outputs": [],
   "source": [
    "def initialize():\n",
    "  global WW, bb\n",
    "  WW = {}\n",
    "  bb = {}\n",
    "  for l in range(1,no_of_layers+1):\n",
    "    WW['W'+str(l)] = np.random.randn(nodes[l], nodes[l-1])*np.sqrt(2/nodes[l-1])\n",
    "    bb['b'+str(l)] = np.zeros((nodes[l],1))"
   ]
  },
  {
   "cell_type": "code",
   "execution_count": 34,
   "metadata": {
    "colab": {
     "base_uri": "https://localhost:8080/"
    },
    "id": "izW1U12ix7pU",
    "outputId": "eeee8a4e-8e6c-49ec-fbdb-a7896a02f395"
   },
   "outputs": [
    {
     "data": {
      "text/plain": [
       "[1, 2, 3, 4]"
      ]
     },
     "execution_count": 34,
     "metadata": {
      "tags": []
     },
     "output_type": "execute_result"
    }
   ],
   "source": [
    "list(range(1,no_of_layers+1))"
   ]
  },
  {
   "cell_type": "code",
   "execution_count": 76,
   "metadata": {
    "id": "05S-PZnWx802"
   },
   "outputs": [],
   "source": [
    "initialize()"
   ]
  },
  {
   "cell_type": "code",
   "execution_count": 77,
   "metadata": {
    "colab": {
     "base_uri": "https://localhost:8080/"
    },
    "id": "etzHnhyiywhj",
    "outputId": "20f44fa7-50bf-4ac9-ec39-723025147583"
   },
   "outputs": [
    {
     "data": {
      "text/plain": [
       "((512, 784), (128, 512), (32, 128), (10, 32))"
      ]
     },
     "execution_count": 77,
     "metadata": {
      "tags": []
     },
     "output_type": "execute_result"
    }
   ],
   "source": [
    "WW['W1'].shape, WW['W2'].shape,WW['W3'].shape, WW['W4'].shape"
   ]
  },
  {
   "cell_type": "code",
   "execution_count": 78,
   "metadata": {
    "colab": {
     "base_uri": "https://localhost:8080/"
    },
    "id": "wr1QOUezyx4z",
    "outputId": "86b03e7e-5d4e-45ff-9ad0-255758f7bfab"
   },
   "outputs": [
    {
     "data": {
      "text/plain": [
       "((512, 1), (128, 1), (32, 1), (10, 1))"
      ]
     },
     "execution_count": 78,
     "metadata": {
      "tags": []
     },
     "output_type": "execute_result"
    }
   ],
   "source": [
    "bb['b1'].shape, bb['b2'].shape,bb['b3'].shape, bb['b4'].shape"
   ]
  },
  {
   "cell_type": "code",
   "execution_count": 80,
   "metadata": {
    "id": "XBl5RbTZzN_E"
   },
   "outputs": [],
   "source": [
    "def relu(z):\n",
    "  a = np.maximum(0,z)\n",
    "  return a\n",
    "\n",
    "def softmax(z):\n",
    "  t = np.exp(z)\n",
    "  a = t / np.sum(t, keepdims=True, axis=0)\n",
    "  return a\n",
    "\n",
    "# def derivative_relu(z)"
   ]
  },
  {
   "cell_type": "code",
   "execution_count": 81,
   "metadata": {
    "id": "nNg7xCVP0Og-"
   },
   "outputs": [],
   "source": [
    "def forward():\n",
    "  global ZZ, AA\n",
    "  ZZ={}\n",
    "  AA={}\n",
    "  AA['A'+str(0)] = X\n",
    "  for l in range(1,no_of_layers):\n",
    "    ZZ['Z'+str(l)] = np.dot(WW['W'+str(l)], AA['A'+str(l-1)]) +  bb['b'+str(l)]\n",
    "    AA['A'+str(l)] = relu(ZZ['Z'+str(l)])\n",
    "\n",
    "  ZZ['Z'+str(no_of_layers)] = np.dot(WW['W'+str(no_of_layers)], AA['A'+str(no_of_layers-1)]) +  bb['b'+str(no_of_layers)]\n",
    "  AA['A'+str(no_of_layers)] = relu(ZZ['Z'+str(no_of_layers)])"
   ]
  },
  {
   "cell_type": "code",
   "execution_count": 82,
   "metadata": {
    "id": "dZ0xbPh20OlQ"
   },
   "outputs": [],
   "source": [
    "forward()"
   ]
  },
  {
   "cell_type": "code",
   "execution_count": 83,
   "metadata": {
    "colab": {
     "base_uri": "https://localhost:8080/"
    },
    "id": "oM1Vz_ti-UCI",
    "outputId": "fded3808-7f6b-496e-8f10-7de946b68717"
   },
   "outputs": [
    {
     "data": {
      "text/plain": [
       "([('Z1', (512, 60000)),\n",
       "  ('Z2', (128, 60000)),\n",
       "  ('Z3', (32, 60000)),\n",
       "  ('Z4', (10, 60000))],\n",
       " [('A0', (784, 60000)),\n",
       "  ('A1', (512, 60000)),\n",
       "  ('A2', (128, 60000)),\n",
       "  ('A3', (32, 60000)),\n",
       "  ('A4', (10, 60000))])"
      ]
     },
     "execution_count": 83,
     "metadata": {
      "tags": []
     },
     "output_type": "execute_result"
    }
   ],
   "source": [
    "[(z[0],z[1].shape) for z in ZZ.items()], [(a[0],a[1].shape) for a in AA.items()]"
   ]
  },
  {
   "cell_type": "code",
   "execution_count": 94,
   "metadata": {
    "id": "0Nh_ayDu-blE"
   },
   "outputs": [],
   "source": [
    "def cost():\n",
    "  global L,J\n",
    "  L = -np.sum(Y_hot*np.log(AA['A'+str(no_of_layers)] + 1e-08), keepdims=True, axis=0)\n",
    "  J = np.sum(L, keepdims=True, axis=1)*(1/m)"
   ]
  },
  {
   "cell_type": "code",
   "execution_count": 95,
   "metadata": {
    "id": "-JX4eS0PANr7"
   },
   "outputs": [],
   "source": [
    "cost()"
   ]
  },
  {
   "cell_type": "code",
   "execution_count": 70,
   "metadata": {
    "colab": {
     "base_uri": "https://localhost:8080/"
    },
    "id": "LRC3doBuDeac",
    "outputId": "ef69d1ee-a640-4f3e-ef03-bb3185048612"
   },
   "outputs": [
    {
     "data": {
      "text/plain": [
       "((1, 60000), (1, 1))"
      ]
     },
     "execution_count": 70,
     "metadata": {
      "tags": []
     },
     "output_type": "execute_result"
    }
   ],
   "source": [
    "L.shape , J.shape"
   ]
  },
  {
   "cell_type": "code",
   "execution_count": 72,
   "metadata": {
    "id": "FqGE93RyD5Yn"
   },
   "outputs": [],
   "source": [
    "def backward():\n",
    "  global dZZ, dWW, dbb\n",
    "  dZZ['dZ'+str(no_of_layers)] = "
   ]
  },
  {
   "cell_type": "code",
   "execution_count": 93,
   "metadata": {
    "colab": {
     "base_uri": "https://localhost:8080/"
    },
    "id": "rYADjsrGENo6",
    "outputId": "425377a0-89a0-4c93-81c1-ecd75f504f40"
   },
   "outputs": [
    {
     "data": {
      "text/plain": [
       "True"
      ]
     },
     "execution_count": 93,
     "metadata": {
      "tags": []
     },
     "output_type": "execute_result"
    }
   ],
   "source": [
    "AA['A4'].any()"
   ]
  },
  {
   "cell_type": "code",
   "execution_count": 2,
   "metadata": {
    "id": "3p9E3N6BHWrH"
   },
   "outputs": [
    {
     "ename": "FileNotFoundError",
     "evalue": "[Errno 2] No such file or directory: '/content/drive/MyDrive/Colab Notebooks/t10k-images.idx3-ubyte'",
     "output_type": "error",
     "traceback": [
      "\u001b[1;31m---------------------------------------------------------------------------\u001b[0m",
      "\u001b[1;31mFileNotFoundError\u001b[0m                         Traceback (most recent call last)",
      "\u001b[1;32m<ipython-input-2-775c5081652e>\u001b[0m in \u001b[0;36m<module>\u001b[1;34m\u001b[0m\n\u001b[0;32m      5\u001b[0m \u001b[1;32mimport\u001b[0m \u001b[0mos\u001b[0m\u001b[1;33m\u001b[0m\u001b[1;33m\u001b[0m\u001b[0m\n\u001b[0;32m      6\u001b[0m \u001b[1;33m\u001b[0m\u001b[0m\n\u001b[1;32m----> 7\u001b[1;33m \u001b[0mtest_images\u001b[0m \u001b[1;33m=\u001b[0m \u001b[0midx2numpy\u001b[0m\u001b[1;33m.\u001b[0m\u001b[0mconvert_from_file\u001b[0m\u001b[1;33m(\u001b[0m\u001b[1;34m'/content/drive/MyDrive/Colab Notebooks/t10k-images.idx3-ubyte'\u001b[0m\u001b[1;33m)\u001b[0m\u001b[1;33m\u001b[0m\u001b[1;33m\u001b[0m\u001b[0m\n\u001b[0m\u001b[0;32m      8\u001b[0m \u001b[0mtest_labels\u001b[0m \u001b[1;33m=\u001b[0m \u001b[0midx2numpy\u001b[0m\u001b[1;33m.\u001b[0m\u001b[0mconvert_from_file\u001b[0m\u001b[1;33m(\u001b[0m\u001b[1;34m'/content/drive/MyDrive/Colab Notebooks/t10k-labels.idx1-ubyte'\u001b[0m\u001b[1;33m)\u001b[0m\u001b[1;33m\u001b[0m\u001b[1;33m\u001b[0m\u001b[0m\n\u001b[0;32m      9\u001b[0m \u001b[0mtrain_images\u001b[0m \u001b[1;33m=\u001b[0m \u001b[0midx2numpy\u001b[0m\u001b[1;33m.\u001b[0m\u001b[0mconvert_from_file\u001b[0m\u001b[1;33m(\u001b[0m\u001b[1;34m'/content/drive/MyDrive/Colab Notebooks/train-images.idx3-ubyte'\u001b[0m\u001b[1;33m)\u001b[0m\u001b[1;33m\u001b[0m\u001b[1;33m\u001b[0m\u001b[0m\n",
      "\u001b[1;32mc:\\users\\abdu\\appdata\\local\\programs\\python\\python38-32\\lib\\site-packages\\idx2numpy\\converters.py\u001b[0m in \u001b[0;36mconvert_from_file\u001b[1;34m(file)\u001b[0m\n\u001b[0;32m     54\u001b[0m     \"\"\"\n\u001b[0;32m     55\u001b[0m     \u001b[1;32mif\u001b[0m \u001b[0misinstance\u001b[0m\u001b[1;33m(\u001b[0m\u001b[0mfile\u001b[0m\u001b[1;33m,\u001b[0m \u001b[0msix_string_types\u001b[0m\u001b[1;33m)\u001b[0m\u001b[1;33m:\u001b[0m\u001b[1;33m\u001b[0m\u001b[1;33m\u001b[0m\u001b[0m\n\u001b[1;32m---> 56\u001b[1;33m         \u001b[1;32mwith\u001b[0m \u001b[0mopen\u001b[0m\u001b[1;33m(\u001b[0m\u001b[0mfile\u001b[0m\u001b[1;33m,\u001b[0m \u001b[1;34m'rb'\u001b[0m\u001b[1;33m)\u001b[0m \u001b[1;32mas\u001b[0m \u001b[0mf\u001b[0m\u001b[1;33m:\u001b[0m\u001b[1;33m\u001b[0m\u001b[1;33m\u001b[0m\u001b[0m\n\u001b[0m\u001b[0;32m     57\u001b[0m             \u001b[1;32mreturn\u001b[0m \u001b[0m_internal_convert\u001b[0m\u001b[1;33m(\u001b[0m\u001b[0mf\u001b[0m\u001b[1;33m)\u001b[0m\u001b[1;33m\u001b[0m\u001b[1;33m\u001b[0m\u001b[0m\n\u001b[0;32m     58\u001b[0m     \u001b[1;32melse\u001b[0m\u001b[1;33m:\u001b[0m\u001b[1;33m\u001b[0m\u001b[1;33m\u001b[0m\u001b[0m\n",
      "\u001b[1;31mFileNotFoundError\u001b[0m: [Errno 2] No such file or directory: '/content/drive/MyDrive/Colab Notebooks/t10k-images.idx3-ubyte'"
     ]
    }
   ],
   "source": [
    "import matplotlib.pyplot as plt\n",
    "import numpy as np\n",
    "import idx2numpy\n",
    "from tqdm import tqdm\n",
    "import os\n",
    "\n",
    "test_images = idx2numpy.convert_from_file('/content/drive/MyDrive/Colab Notebooks/t10k-images.idx3-ubyte')\n",
    "test_labels = idx2numpy.convert_from_file('/content/drive/MyDrive/Colab Notebooks/t10k-labels.idx1-ubyte')\n",
    "train_images = idx2numpy.convert_from_file('/content/drive/MyDrive/Colab Notebooks/train-images.idx3-ubyte')\n",
    "train_labels = idx2numpy.convert_from_file('/content/drive/MyDrive/Colab Notebooks/train-labels.idx1-ubyte')\n",
    "\n",
    "print(test_images.shape)\n",
    "print(test_labels.shape)\n",
    "print(train_images.shape)\n",
    "print(train_labels.shape)\n",
    "\n",
    "train_images_flat=train_images.reshape(train_images.shape[0], -1).T\n",
    "test_images_flat=test_images.reshape(test_images.shape[0], -1).T\n",
    "\n",
    "m = train_images_flat.shape[1]\n",
    "m_test = test_images_flat.shape[1]\n",
    "print(f\"Train Examples(m)={m}\")\n",
    "print(f\"Test Examples(m_test)={m_test}\")\n",
    "X = train_images_flat/255\n",
    "X_test = test_images_flat/255\n",
    "print('X.shape=',X.shape)\n",
    "print('X_test.shape=',X_test.shape)\n",
    "\n",
    "def one_hot(row_vector, no_classes):\n",
    "    one_hot_vector = np.eye(no_classes)[row_vector.reshape(-1)]\n",
    "    return one_hot_vector.T\n",
    "\n",
    "C = train_labels.max()+1\n",
    "print(f\"No. of Classes={C}\")\n",
    "Y_hot = one_hot(train_labels,no_classes=C)\n",
    "Y_test_hot = one_hot(test_labels,no_classes=C)\n",
    "print('Y_hot.shape=',Y_hot.shape) #Y_hot.shape is (C,m)\n",
    "print('Y_test_hot.shape=',Y_test_hot.shape) #Y_hot.shape is (C,m)\n",
    "\n",
    "no_of_layers = 4\n",
    "nodes = [X.shape[0], 512, 128, 32, 10]   # 4 layers with size 512, 128, 32, 10\n",
    "nodes\n",
    "\n",
    "def initialize():\n",
    "  global WW, bb\n",
    "  WW = {}\n",
    "  bb = {}\n",
    "  for l in range(1,no_of_layers+1):\n",
    "    WW['W'+str(l)] = np.random.randn(nodes[l], nodes[l-1])*np.sqrt(2/nodes[l-1])\n",
    "    bb['b'+str(l)] = np.zeros((nodes[l],1))\n",
    "\n",
    "list(range(1,no_of_layers+1))\n",
    "\n",
    "initialize()\n",
    "\n",
    "WW['W1'].shape, WW['W2'].shape,WW['W3'].shape, WW['W4'].shape\n",
    "\n",
    "bb['b1'].shape, bb['b2'].shape,bb['b3'].shape, bb['b4'].shape\n",
    "\n",
    "def relu(z):\n",
    "  a = np.maximum(0,z)\n",
    "  return a\n",
    "\n",
    "def softmax(z):\n",
    "  t = np.exp(z)\n",
    "  a = t / (np.sum(t, keepdims=True, axis=0))\n",
    "  return a  #+ 1e-08\n",
    "\n",
    "def derivative_relu(da,z):\n",
    "  dz = np.array(da, copy=True)\n",
    "  dz[z <= 0] = 0\n",
    "  return dz\n",
    "\n",
    "\n",
    "def forward():\n",
    "  global ZZ, AA\n",
    "  ZZ={}\n",
    "  AA={}\n",
    "  AA['A'+str(0)] = X\n",
    "  for l in range(1,no_of_layers):\n",
    "    ZZ['Z'+str(l)] = np.dot(WW['W'+str(l)], AA['A'+str(l-1)]) +  bb['b'+str(l)]\n",
    "    AA['A'+str(l)] = relu(ZZ['Z'+str(l)])\n",
    "\n",
    "  ZZ['Z'+str(no_of_layers)] = np.dot(WW['W'+str(no_of_layers)], AA['A'+str(no_of_layers-1)]) +  bb['b'+str(no_of_layers)]\n",
    "  AA['A'+str(no_of_layers)] = softmax(ZZ['Z'+str(no_of_layers)])\n",
    "\n",
    "forward()\n",
    "\n",
    "[(z[0],z[1].shape) for z in ZZ.items()], [(a[0],a[1].shape) for a in AA.items()]\n",
    "\n",
    "def cost():\n",
    "  global L,J\n",
    "  L = -np.sum(Y_hot*np.log(AA['A'+str(no_of_layers)]), keepdims=True, axis=0)\n",
    "  J = np.sum(L, keepdims=True, axis=1)*(1/m)\n",
    "\n",
    "cost()\n",
    "\n",
    "L.shape , J.shape\n",
    "\n",
    "def backward():\n",
    "  global dAA, dZZ, dWW, dbb\n",
    "  dAA = {}\n",
    "  dZZ = {}\n",
    "  dWW = {}\n",
    "  dbb = {}\n",
    "  dZZ['dZ'+str(no_of_layers)] = AA['A'+str(no_of_layers)] - Y_hot\n",
    "  dWW['dW'+str(no_of_layers)] = np.dot(dZZ['dZ'+str(no_of_layers)], X.T) / m\n",
    "  dbb['db'+str(no_of_layers)] = np.sum(dZZ['dZ'+str(no_of_layers)], axis=1, keepdims=True) / m\n",
    "  dAA['dA'+str(no_of_layers-1)] = np.dot(WW['W'+str(no_of_layers)].T, dZZ['dZ'+str(no_of_layers)])\n",
    "\n",
    "  for l in range(no_of_layers-1,0,-1):\n",
    "    dZZ['dZ'+str(l)] = np.multiply(dAA['dA'+str(l)] , derivative_relu(dAA['dA'+str(l)], ZZ['Z'+str(l)]))\n",
    "    dWW['dW'+str(l)] = np.dot(dZZ['dZ'+str(l)], AA['A'+str(l-1)].T) / m\n",
    "    dbb['db'+str(l)] = np.sum(dZZ['dZ'+str(l)], axis=1, keepdims=True) / m\n",
    "    dAA['dA'+str(l-1)] = np.dot(WW['W'+str(l)].T, dZZ['dZ'+str(l)])\n",
    "\n",
    "backward()\n",
    "\n",
    "[(dz[0],dz[1].shape) for dz in dZZ.items()], [(da[0],da[1].shape) for da in dAA.items()]\n",
    "\n",
    "[(dw[0],dw[1].shape) for dw in dWW.items()], [(db[0],db[1].shape) for db in dbb.items()]\n",
    "\n",
    "initialize()\n",
    "\n",
    "#optimise\n",
    "alpha = 0.009\n",
    "iterations = 20\n",
    "global costs\n",
    "costs=[]\n",
    "for i in range(iterations):\n",
    "    forward()\n",
    "    # if i%4 ==0:\n",
    "    cost()\n",
    "    costs.append(J)\n",
    "    print(f'Cost at {i}th loop = {J}')\n",
    "    backward()\n",
    "    for i in range(1,no_of_layers+1):\n",
    "      WW['W'+str(l)] -= alpha*dWW['dW'+str(l)]\n",
    "      bb['b'+str(l)] -= alpha*dbb['db'+str(l)]\n",
    "\n"
   ]
  },
  {
   "cell_type": "code",
   "execution_count": null,
   "metadata": {},
   "outputs": [],
   "source": []
  }
 ],
 "metadata": {
  "colab": {
   "authorship_tag": "ABX9TyOKEQPaYSESOpyN1RfeCocP",
   "collapsed_sections": [],
   "include_colab_link": true,
   "mount_file_id": "1_pEtElvQceHQjDbWBjqBsFZiRIBSYajc",
   "name": "MNIST Using Multi Layer.ipynb",
   "provenance": []
  },
  "kernelspec": {
   "display_name": "Python 3",
   "language": "python",
   "name": "python3"
  },
  "language_info": {
   "codemirror_mode": {
    "name": "ipython",
    "version": 3
   },
   "file_extension": ".py",
   "mimetype": "text/x-python",
   "name": "python",
   "nbconvert_exporter": "python",
   "pygments_lexer": "ipython3",
   "version": "3.8.3"
  }
 },
 "nbformat": 4,
 "nbformat_minor": 1
}
