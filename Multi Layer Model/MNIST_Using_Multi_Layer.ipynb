{
  "nbformat": 4,
  "nbformat_minor": 0,
  "metadata": {
    "colab": {
      "name": "MNIST Using Multi Layer.ipynb",
      "provenance": [],
      "collapsed_sections": [],
      "mount_file_id": "1_pEtElvQceHQjDbWBjqBsFZiRIBSYajc",
      "authorship_tag": "ABX9TyPPfJzMKJTRDkyRlRtknxJW",
      "include_colab_link": true
    },
    "kernelspec": {
      "display_name": "Python 3",
      "name": "python3"
    }
  },
  "cells": [
    {
      "cell_type": "markdown",
      "metadata": {
        "id": "view-in-github",
        "colab_type": "text"
      },
      "source": [
        "<a href=\"https://colab.research.google.com/github/ABD-01/MNIST/blob/main/Multi%20Layer%20Model/MNIST_Using_Multi_Layer.ipynb\" target=\"_parent\"><img src=\"https://colab.research.google.com/assets/colab-badge.svg\" alt=\"Open In Colab\"/></a>"
      ]
    },
    {
      "cell_type": "code",
      "metadata": {
        "id": "iaqI_A_uFcu2"
      },
      "source": [
        "!pip install idx2numpy"
      ],
      "execution_count": null,
      "outputs": []
    },
    {
      "cell_type": "code",
      "metadata": {
        "id": "fNcOOmvI4xMD"
      },
      "source": [
        "import matplotlib.pyplot as plt\n",
        "import numpy as np\n",
        "import idx2numpy\n",
        "from tqdm import tqdm\n",
        "import pandas as pd"
      ],
      "execution_count": null,
      "outputs": []
    },
    {
      "cell_type": "code",
      "metadata": {
        "id": "7rUzHbKNyK8O"
      },
      "source": [
        "!wget https://github.com/ABD-01/MNIST/raw/main/t10k-images.idx3-ubyte\n",
        "!wget https://github.com/ABD-01/MNIST/raw/main/t10k-labels.idx1-ubyte\n",
        "!wget https://github.com/ABD-01/MNIST/raw/main/train-images.idx3-ubyte\n",
        "!wget https://github.com/ABD-01/MNIST/raw/main/train-labels.idx1-ubyte"
      ],
      "execution_count": null,
      "outputs": []
    },
    {
      "cell_type": "code",
      "metadata": {
        "id": "fwAi4pFHARq8"
      },
      "source": [
        "test_images = idx2numpy.convert_from_file('t10k-images.idx3-ubyte')\n",
        "test_labels = idx2numpy.convert_from_file('t10k-labels.idx1-ubyte')\n",
        "train_images = idx2numpy.convert_from_file('train-images.idx3-ubyte')\n",
        "train_labels = idx2numpy.convert_from_file('train-labels.idx1-ubyte')"
      ],
      "execution_count": null,
      "outputs": []
    },
    {
      "cell_type": "code",
      "metadata": {
        "colab": {
          "base_uri": "https://localhost:8080/"
        },
        "id": "NkeaeqVdQRkT",
        "outputId": "a8c6314e-d8ab-41d7-848e-12a2c82a61be"
      },
      "source": [
        "print(test_images.shape)\n",
        "print(test_labels.shape)\n",
        "print(train_images.shape)\n",
        "print(train_labels.shape)"
      ],
      "execution_count": null,
      "outputs": [
        {
          "name": "stdout",
          "output_type": "stream",
          "text": [
            "(10000, 28, 28)\n",
            "(10000,)\n",
            "(60000, 28, 28)\n",
            "(60000,)\n"
          ]
        }
      ]
    },
    {
      "cell_type": "code",
      "metadata": {
        "id": "pHQax7Q3YdxG"
      },
      "source": [
        "train_images_flat=train_images.reshape(train_images.shape[0], -1).T\n",
        "test_images_flat=test_images.reshape(test_images.shape[0], -1).T"
      ],
      "execution_count": null,
      "outputs": []
    },
    {
      "cell_type": "code",
      "metadata": {
        "colab": {
          "base_uri": "https://localhost:8080/"
        },
        "id": "H1a01P5UYfVs",
        "outputId": "93eddd7b-998a-4ede-c182-57cf4c968ae3"
      },
      "source": [
        "m = train_images_flat.shape[1]\n",
        "m_test = test_images_flat.shape[1]\n",
        "print(f\"Train Examples(m)={m}\")\n",
        "print(f\"Test Examples(m_test)={m_test}\")\n",
        "X = train_images_flat/255\n",
        "X_test = test_images_flat/255\n",
        "print('X.shape=',X.shape)\n",
        "print('X_test.shape=',X_test.shape)"
      ],
      "execution_count": null,
      "outputs": [
        {
          "name": "stdout",
          "output_type": "stream",
          "text": [
            "Train Examples(m)=60000\n",
            "Test Examples(m_test)=10000\n",
            "X.shape= (784, 60000)\n",
            "X_test.shape= (784, 10000)\n"
          ]
        }
      ]
    },
    {
      "cell_type": "code",
      "metadata": {
        "id": "DU8gKiyBYkaX"
      },
      "source": [
        "def one_hot(row_vector, no_classes):\n",
        "    one_hot_vector = np.eye(no_classes)[row_vector.reshape(-1)]\n",
        "    return one_hot_vector.T"
      ],
      "execution_count": null,
      "outputs": []
    },
    {
      "cell_type": "code",
      "metadata": {
        "colab": {
          "base_uri": "https://localhost:8080/"
        },
        "id": "_w9oxkQqYluQ",
        "outputId": "8aaf9935-43e0-4579-a2be-90c573405188"
      },
      "source": [
        "C = train_labels.max()+1\n",
        "print(f\"No. of Classes={C}\")\n",
        "Y_hot = one_hot(train_labels,no_classes=C)\n",
        "Y_test_hot = one_hot(test_labels,no_classes=C)\n",
        "print('Y_hot.shape=',Y_hot.shape) #Y_hot.shape is (C,m)\n",
        "print('Y_test_hot.shape=',Y_test_hot.shape) #Y_hot.shape is (C,m)"
      ],
      "execution_count": null,
      "outputs": [
        {
          "name": "stdout",
          "output_type": "stream",
          "text": [
            "No. of Classes=10\n",
            "Y_hot.shape= (10, 60000)\n",
            "Y_test_hot.shape= (10, 10000)\n"
          ]
        }
      ]
    },
    {
      "cell_type": "code",
      "metadata": {
        "colab": {
          "base_uri": "https://localhost:8080/"
        },
        "id": "odldvdgZagll",
        "outputId": "6a2536fa-2c03-4c54-b8e7-e906b0089db5"
      },
      "source": [
        "no_of_layers = 4\n",
        "nodes = [X.shape[0], 512, 128, 32, 10]   # 4 layers with size 512, 128, 32, 10\n",
        "nodes"
      ],
      "execution_count": null,
      "outputs": [
        {
          "data": {
            "text/plain": [
              "[784, 512, 128, 32, 10]"
            ]
          },
          "execution_count": 15,
          "metadata": {},
          "output_type": "execute_result"
        }
      ]
    },
    {
      "cell_type": "code",
      "metadata": {
        "id": "_Fj2-ZzFYm9m"
      },
      "source": [
        "def initialize():\n",
        "  global WW, bb\n",
        "  WW = {}\n",
        "  bb = {}\n",
        "  for l in range(1,no_of_layers+1):\n",
        "    WW['W'+str(l)] = np.random.randn(nodes[l], nodes[l-1])*np.sqrt(2/nodes[l-1])\n",
        "    bb['b'+str(l)] = np.zeros((nodes[l],1))"
      ],
      "execution_count": null,
      "outputs": []
    },
    {
      "cell_type": "code",
      "metadata": {
        "colab": {
          "base_uri": "https://localhost:8080/"
        },
        "id": "izW1U12ix7pU",
        "outputId": "de955bd6-b297-4585-d8b0-ffc6070c3466"
      },
      "source": [
        "list(range(1,no_of_layers+1))"
      ],
      "execution_count": null,
      "outputs": [
        {
          "data": {
            "text/plain": [
              "[1, 2, 3, 4]"
            ]
          },
          "execution_count": 17,
          "metadata": {},
          "output_type": "execute_result"
        }
      ]
    },
    {
      "cell_type": "code",
      "metadata": {
        "id": "05S-PZnWx802"
      },
      "source": [
        "initialize()"
      ],
      "execution_count": null,
      "outputs": []
    },
    {
      "cell_type": "code",
      "metadata": {
        "colab": {
          "base_uri": "https://localhost:8080/"
        },
        "id": "etzHnhyiywhj",
        "outputId": "8121e0c2-43a9-4dfc-d495-8cccab6584a2"
      },
      "source": [
        "WW['W1'].shape, WW['W2'].shape,WW['W3'].shape, WW['W4'].shape"
      ],
      "execution_count": null,
      "outputs": [
        {
          "data": {
            "text/plain": [
              "((512, 784), (128, 512), (32, 128), (10, 32))"
            ]
          },
          "execution_count": 19,
          "metadata": {},
          "output_type": "execute_result"
        }
      ]
    },
    {
      "cell_type": "code",
      "metadata": {
        "colab": {
          "base_uri": "https://localhost:8080/"
        },
        "id": "wr1QOUezyx4z",
        "outputId": "02894a72-2486-4f99-9638-25e2ac1b0185"
      },
      "source": [
        "bb['b1'].shape, bb['b2'].shape,bb['b3'].shape, bb['b4'].shape"
      ],
      "execution_count": null,
      "outputs": [
        {
          "data": {
            "text/plain": [
              "((512, 1), (128, 1), (32, 1), (10, 1))"
            ]
          },
          "execution_count": 20,
          "metadata": {},
          "output_type": "execute_result"
        }
      ]
    },
    {
      "cell_type": "code",
      "metadata": {
        "id": "XBl5RbTZzN_E"
      },
      "source": [
        "def relu(z):\n",
        "  a = np.maximum(0,z)\n",
        "  return a\n",
        "\n",
        "def softmax(z):\n",
        "  t = np.exp(z)\n",
        "  a = t / (np.sum(t, keepdims=True, axis=0))\n",
        "  return a  #+ 1e-08\n",
        "\n",
        "def derivative_relu(da,z):\n",
        "  dz = np.array(da, copy=True)\n",
        "  dz[z<=0] = 0\n",
        "  dz[z>0] = 1\n",
        "  return dz\n"
      ],
      "execution_count": null,
      "outputs": []
    },
    {
      "cell_type": "code",
      "metadata": {
        "id": "nNg7xCVP0Og-"
      },
      "source": [
        "def forward():\n",
        "  global ZZ, AA\n",
        "  ZZ={}\n",
        "  AA={}\n",
        "  AA['A'+str(0)] = X\n",
        "  for l in range(1,no_of_layers):\n",
        "    ZZ['Z'+str(l)] = np.dot(WW['W'+str(l)], AA['A'+str(l-1)]) +  bb['b'+str(l)]\n",
        "    AA['A'+str(l)] = relu(ZZ['Z'+str(l)])\n",
        "\n",
        "  ZZ['Z'+str(no_of_layers)] = np.dot(WW['W'+str(no_of_layers)], AA['A'+str(no_of_layers-1)]) +  bb['b'+str(no_of_layers)]\n",
        "  AA['A'+str(no_of_layers)] = softmax(ZZ['Z'+str(no_of_layers)])"
      ],
      "execution_count": null,
      "outputs": []
    },
    {
      "cell_type": "code",
      "metadata": {
        "id": "dZ0xbPh20OlQ"
      },
      "source": [
        "forward()"
      ],
      "execution_count": null,
      "outputs": []
    },
    {
      "cell_type": "code",
      "metadata": {
        "colab": {
          "base_uri": "https://localhost:8080/"
        },
        "id": "oM1Vz_ti-UCI",
        "outputId": "5baca5d9-c6dc-4ecc-bb2d-4a9bc16f9b42"
      },
      "source": [
        "[(z[0],z[1].shape) for z in ZZ.items()], [(a[0],a[1].shape) for a in AA.items()]"
      ],
      "execution_count": null,
      "outputs": [
        {
          "data": {
            "text/plain": [
              "([('Z1', (512, 60000)),\n",
              "  ('Z2', (128, 60000)),\n",
              "  ('Z3', (32, 60000)),\n",
              "  ('Z4', (10, 60000))],\n",
              " [('A0', (784, 60000)),\n",
              "  ('A1', (512, 60000)),\n",
              "  ('A2', (128, 60000)),\n",
              "  ('A3', (32, 60000)),\n",
              "  ('A4', (10, 60000))])"
            ]
          },
          "execution_count": 24,
          "metadata": {},
          "output_type": "execute_result"
        }
      ]
    },
    {
      "cell_type": "code",
      "metadata": {
        "id": "0Nh_ayDu-blE"
      },
      "source": [
        "def cost():\n",
        "  global L,J\n",
        "  L = -np.sum(Y_hot*np.log(AA['A'+str(no_of_layers)]), keepdims=True, axis=0)\n",
        "  J = np.sum(L, keepdims=True, axis=1)*(1/m)\n",
        "  # J = -np.sum(Y_hot*np.log(AA['A'+str(no_of_layers)]), keepdims=True) / m"
      ],
      "execution_count": null,
      "outputs": []
    },
    {
      "cell_type": "code",
      "metadata": {
        "id": "-JX4eS0PANr7"
      },
      "source": [
        "cost()"
      ],
      "execution_count": null,
      "outputs": []
    },
    {
      "cell_type": "code",
      "metadata": {
        "colab": {
          "base_uri": "https://localhost:8080/"
        },
        "id": "LRC3doBuDeac",
        "outputId": "3139b332-66b5-4fe9-d4e3-508a9d6b5aa7"
      },
      "source": [
        "L.shape , J.shape"
      ],
      "execution_count": null,
      "outputs": [
        {
          "data": {
            "text/plain": [
              "((1, 60000), (1, 1))"
            ]
          },
          "execution_count": 27,
          "metadata": {},
          "output_type": "execute_result"
        }
      ]
    },
    {
      "cell_type": "code",
      "metadata": {
        "id": "FqGE93RyD5Yn"
      },
      "source": [
        "def backward():\n",
        "  global dAA, dZZ, dWW, dbb\n",
        "  dAA = {}\n",
        "  dZZ = {}\n",
        "  dWW = {}\n",
        "  dbb = {}\n",
        "  dZZ['dZ'+str(no_of_layers)] = AA['A'+str(no_of_layers)] - Y_hot\n",
        "  dWW['dW'+str(no_of_layers)] = np.dot(dZZ['dZ'+str(no_of_layers)], AA['A'+str(no_of_layers-1)].T) / m\n",
        "  dbb['db'+str(no_of_layers)] = np.sum(dZZ['dZ'+str(no_of_layers)], axis=1, keepdims=True) / m\n",
        "  dAA['dA'+str(no_of_layers-1)] = np.dot(WW['W'+str(no_of_layers)].T, dZZ['dZ'+str(no_of_layers)])\n",
        "\n",
        "  for l in range(no_of_layers-1,0,-1):\n",
        "    dZZ['dZ'+str(l)] = np.multiply(dAA['dA'+str(l)] , derivative_relu(dAA['dA'+str(l)], ZZ['Z'+str(l)]))\n",
        "    dWW['dW'+str(l)] = np.dot(dZZ['dZ'+str(l)], AA['A'+str(l-1)].T) / m\n",
        "    dbb['db'+str(l)] = np.sum(dZZ['dZ'+str(l)], axis=1, keepdims=True) / m\n",
        "    dAA['dA'+str(l-1)] = np.dot(WW['W'+str(l)].T, dZZ['dZ'+str(l)])"
      ],
      "execution_count": null,
      "outputs": []
    },
    {
      "cell_type": "code",
      "metadata": {
        "id": "rYADjsrGENo6"
      },
      "source": [
        "backward()"
      ],
      "execution_count": null,
      "outputs": []
    },
    {
      "cell_type": "code",
      "metadata": {
        "colab": {
          "base_uri": "https://localhost:8080/"
        },
        "id": "3p9E3N6BHWrH",
        "outputId": "bfa47615-1fc8-48f0-e7db-babb55a6dd01"
      },
      "source": [
        "[(dz[0],dz[1].shape) for dz in dZZ.items()], [(da[0],da[1].shape) for da in dAA.items()]"
      ],
      "execution_count": null,
      "outputs": [
        {
          "data": {
            "text/plain": [
              "([('dZ4', (10, 60000)),\n",
              "  ('dZ3', (32, 60000)),\n",
              "  ('dZ2', (128, 60000)),\n",
              "  ('dZ1', (512, 60000))],\n",
              " [('dA3', (32, 60000)),\n",
              "  ('dA2', (128, 60000)),\n",
              "  ('dA1', (512, 60000)),\n",
              "  ('dA0', (784, 60000))])"
            ]
          },
          "execution_count": 30,
          "metadata": {},
          "output_type": "execute_result"
        }
      ]
    },
    {
      "cell_type": "code",
      "metadata": {
        "colab": {
          "base_uri": "https://localhost:8080/"
        },
        "id": "omzv56EAmITm",
        "outputId": "41492c9c-38b1-4715-8834-e7e5a9462ac3"
      },
      "source": [
        "[(dw[0],dw[1].shape) for dw in dWW.items()], [(db[0],db[1].shape) for db in dbb.items()]"
      ],
      "execution_count": null,
      "outputs": [
        {
          "data": {
            "text/plain": [
              "([('dW4', (10, 32)),\n",
              "  ('dW3', (32, 128)),\n",
              "  ('dW2', (128, 512)),\n",
              "  ('dW1', (512, 784))],\n",
              " [('db4', (10, 1)), ('db3', (32, 1)), ('db2', (128, 1)), ('db1', (512, 1))])"
            ]
          },
          "execution_count": 31,
          "metadata": {},
          "output_type": "execute_result"
        }
      ]
    },
    {
      "cell_type": "code",
      "metadata": {
        "id": "H_ioOyXqmJaO"
      },
      "source": [
        "initialize()"
      ],
      "execution_count": null,
      "outputs": []
    },
    {
      "cell_type": "code",
      "metadata": {
        "colab": {
          "background_save": true,
          "base_uri": "https://localhost:8080/"
        },
        "id": "EvEAG2q7qmtF",
        "outputId": "c29c9c2f-3769-41f2-8996-0bf0bf2e54f3"
      },
      "source": [
        "#optimise\n",
        "alpha = 0.11\n",
        "iterations = 1000\n",
        "global costs\n",
        "costs=[]\n",
        "for i in range(iterations):\n",
        "    forward()\n",
        "    if i%4 ==0:\n",
        "      cost()\n",
        "      costs.append(J)\n",
        "      print(f'Cost at {i}th loop = {J}')\n",
        "    backward()\n",
        "    for l in range(1,no_of_layers+1):\n",
        "      WW['W'+str(l)] = WW['W'+str(l)] - (alpha*dWW['dW'+str(l)])\n",
        "      bb['b'+str(l)] = bb['b'+str(l)] - (alpha*dbb['db'+str(l)])"
      ],
      "execution_count": null,
      "outputs": [
        {
          "name": "stdout",
          "output_type": "stream",
          "text": [
            "Cost at 0th loop = [[2.36484472]]\n",
            "Cost at 4th loop = [[2.01051556]]\n",
            "Cost at 8th loop = [[1.67912192]]\n",
            "Cost at 12th loop = [[1.31578452]]\n",
            "Cost at 16th loop = [[1.75320285]]\n",
            "Cost at 20th loop = [[0.95061448]]\n",
            "Cost at 24th loop = [[1.03564894]]\n",
            "Cost at 28th loop = [[0.7562739]]\n",
            "Cost at 32th loop = [[0.70137146]]\n",
            "Cost at 36th loop = [[0.62247438]]\n",
            "Cost at 40th loop = [[0.59295722]]\n",
            "Cost at 44th loop = [[0.55479752]]\n",
            "Cost at 48th loop = [[0.48481893]]\n",
            "Cost at 52th loop = [[0.44434587]]\n",
            "Cost at 56th loop = [[0.43351902]]\n",
            "Cost at 60th loop = [[0.52332695]]\n",
            "Cost at 64th loop = [[0.49213975]]\n",
            "Cost at 68th loop = [[0.38295426]]\n",
            "Cost at 72th loop = [[0.3646384]]\n",
            "Cost at 76th loop = [[0.3529582]]\n",
            "Cost at 80th loop = [[0.34395951]]\n",
            "Cost at 84th loop = [[0.33678121]]\n",
            "Cost at 88th loop = [[0.33154]]\n",
            "Cost at 92th loop = [[0.3291225]]\n",
            "Cost at 96th loop = [[0.33084058]]\n",
            "Cost at 100th loop = [[0.33297214]]\n",
            "Cost at 104th loop = [[0.32549666]]\n",
            "Cost at 108th loop = [[0.31189783]]\n",
            "Cost at 112th loop = [[0.30121564]]\n",
            "Cost at 116th loop = [[0.2938841]]\n",
            "Cost at 120th loop = [[0.28833537]]\n",
            "Cost at 124th loop = [[0.28371807]]\n",
            "Cost at 128th loop = [[0.27961456]]\n",
            "Cost at 132th loop = [[0.27584731]]\n",
            "Cost at 136th loop = [[0.27237338]]\n",
            "Cost at 140th loop = [[0.26918739]]\n",
            "Cost at 144th loop = [[0.26644404]]\n",
            "Cost at 148th loop = [[0.2646693]]\n",
            "Cost at 152th loop = [[0.26556078]]\n",
            "Cost at 156th loop = [[0.27566385]]\n",
            "Cost at 160th loop = [[0.32353486]]\n",
            "Cost at 164th loop = [[0.42546086]]\n",
            "Cost at 168th loop = [[0.25775092]]\n",
            "Cost at 172th loop = [[0.24804895]]\n",
            "Cost at 176th loop = [[0.24470389]]\n",
            "Cost at 180th loop = [[0.2417499]]\n",
            "Cost at 184th loop = [[0.23900628]]\n",
            "Cost at 188th loop = [[0.2364125]]\n",
            "Cost at 192th loop = [[0.23393286]]\n",
            "Cost at 196th loop = [[0.23154704]]\n",
            "Cost at 200th loop = [[0.22924425]]\n",
            "Cost at 204th loop = [[0.22701158]]\n",
            "Cost at 208th loop = [[0.22484664]]\n",
            "Cost at 212th loop = [[0.22274374]]\n",
            "Cost at 216th loop = [[0.22069136]]\n",
            "Cost at 220th loop = [[0.21868758]]\n",
            "Cost at 224th loop = [[0.21673144]]\n",
            "Cost at 228th loop = [[0.21481922]]\n",
            "Cost at 232th loop = [[0.21294568]]\n",
            "Cost at 236th loop = [[0.21111046]]\n",
            "Cost at 240th loop = [[0.20931145]]\n",
            "Cost at 244th loop = [[0.20754684]]\n",
            "Cost at 248th loop = [[0.20581431]]\n",
            "Cost at 252th loop = [[0.20411184]]\n",
            "Cost at 256th loop = [[0.20243816]]\n",
            "Cost at 260th loop = [[0.2007906]]\n",
            "Cost at 264th loop = [[0.19917093]]\n",
            "Cost at 268th loop = [[0.19757814]]\n",
            "Cost at 272th loop = [[0.19601154]]\n",
            "Cost at 276th loop = [[0.19447115]]\n",
            "Cost at 280th loop = [[0.19295864]]\n",
            "Cost at 284th loop = [[0.19146809]]\n",
            "Cost at 288th loop = [[0.19000307]]\n",
            "Cost at 292th loop = [[0.18856112]]\n",
            "Cost at 296th loop = [[0.1871424]]\n",
            "Cost at 300th loop = [[0.18574586]]\n",
            "Cost at 304th loop = [[0.18437003]]\n",
            "Cost at 308th loop = [[0.18301492]]\n",
            "Cost at 312th loop = [[0.18167832]]\n",
            "Cost at 316th loop = [[0.18036206]]\n",
            "Cost at 320th loop = [[0.17906465]]\n",
            "Cost at 324th loop = [[0.17778581]]\n",
            "Cost at 328th loop = [[0.17652431]]\n",
            "Cost at 332th loop = [[0.17527993]]\n",
            "Cost at 336th loop = [[0.1740527]]\n",
            "Cost at 340th loop = [[0.17284368]]\n",
            "Cost at 344th loop = [[0.17165018]]\n",
            "Cost at 348th loop = [[0.17047205]]\n",
            "Cost at 352th loop = [[0.1693097]]\n",
            "Cost at 356th loop = [[0.168163]]\n",
            "Cost at 360th loop = [[0.16703169]]\n",
            "Cost at 364th loop = [[0.16591443]]\n",
            "Cost at 368th loop = [[0.16481158]]\n",
            "Cost at 372th loop = [[0.16372262]]\n",
            "Cost at 376th loop = [[0.16264586]]\n",
            "Cost at 380th loop = [[0.1615833]]\n",
            "Cost at 384th loop = [[0.16053381]]\n",
            "Cost at 388th loop = [[0.15949626]]\n",
            "Cost at 392th loop = [[0.15847078]]\n",
            "Cost at 396th loop = [[0.15745813]]\n",
            "Cost at 400th loop = [[0.15645756]]\n",
            "Cost at 404th loop = [[0.15546895]]\n",
            "Cost at 408th loop = [[0.154492]]\n",
            "Cost at 412th loop = [[0.15352695]]\n",
            "Cost at 416th loop = [[0.15257295]]\n",
            "Cost at 420th loop = [[0.15163049]]\n",
            "Cost at 424th loop = [[0.15069791]]\n",
            "Cost at 428th loop = [[0.14977662]]\n",
            "Cost at 432th loop = [[0.14886684]]\n",
            "Cost at 436th loop = [[0.14796774]]\n",
            "Cost at 440th loop = [[0.14707914]]\n",
            "Cost at 444th loop = [[0.14620046]]\n",
            "Cost at 448th loop = [[0.14533129]]\n",
            "Cost at 452th loop = [[0.14447197]]\n",
            "Cost at 456th loop = [[0.14362157]]\n",
            "Cost at 460th loop = [[0.14277989]]\n",
            "Cost at 464th loop = [[0.14194688]]\n",
            "Cost at 468th loop = [[0.14112151]]\n",
            "Cost at 472th loop = [[0.14030459]]\n",
            "Cost at 476th loop = [[0.13949606]]\n",
            "Cost at 480th loop = [[0.13869634]]\n",
            "Cost at 484th loop = [[0.13790421]]\n",
            "Cost at 488th loop = [[0.13712036]]\n",
            "Cost at 492th loop = [[0.1363442]]\n",
            "Cost at 496th loop = [[0.13557563]]\n",
            "Cost at 500th loop = [[0.13481464]]\n",
            "Cost at 504th loop = [[0.13406197]]\n",
            "Cost at 508th loop = [[0.13331739]]\n",
            "Cost at 512th loop = [[0.13258071]]\n",
            "Cost at 516th loop = [[0.13185161]]\n",
            "Cost at 520th loop = [[0.13113111]]\n",
            "Cost at 524th loop = [[0.13041822]]\n",
            "Cost at 528th loop = [[0.12971223]]\n",
            "Cost at 532th loop = [[0.12901316]]\n",
            "Cost at 536th loop = [[0.12832137]]\n",
            "Cost at 540th loop = [[0.12763624]]\n",
            "Cost at 544th loop = [[0.12695755]]\n",
            "Cost at 548th loop = [[0.12628557]]\n",
            "Cost at 552th loop = [[0.12561965]]\n",
            "Cost at 556th loop = [[0.12496002]]\n",
            "Cost at 560th loop = [[0.12430665]]\n",
            "Cost at 564th loop = [[0.12365952]]\n",
            "Cost at 568th loop = [[0.12301864]]\n",
            "Cost at 572th loop = [[0.12238369]]\n",
            "Cost at 576th loop = [[0.12175445]]\n",
            "Cost at 580th loop = [[0.12113097]]\n",
            "Cost at 584th loop = [[0.12051354]]\n",
            "Cost at 588th loop = [[0.11990165]]\n",
            "Cost at 592th loop = [[0.11929527]]\n",
            "Cost at 596th loop = [[0.11869451]]\n",
            "Cost at 600th loop = [[0.11809907]]\n",
            "Cost at 604th loop = [[0.11750859]]\n",
            "Cost at 608th loop = [[0.11692297]]\n",
            "Cost at 612th loop = [[0.11634214]]\n",
            "Cost at 616th loop = [[0.1157662]]\n",
            "Cost at 620th loop = [[0.11519501]]\n",
            "Cost at 624th loop = [[0.11462828]]\n",
            "Cost at 628th loop = [[0.11406587]]\n",
            "Cost at 632th loop = [[0.11350781]]\n",
            "Cost at 636th loop = [[0.11295408]]\n",
            "Cost at 640th loop = [[0.11240469]]\n",
            "Cost at 644th loop = [[0.11186007]]\n",
            "Cost at 648th loop = [[0.11131988]]\n",
            "Cost at 652th loop = [[0.11078402]]\n",
            "Cost at 656th loop = [[0.11025272]]\n",
            "Cost at 660th loop = [[0.10972584]]\n",
            "Cost at 664th loop = [[0.10920345]]\n",
            "Cost at 668th loop = [[0.10868472]]\n",
            "Cost at 672th loop = [[0.10816946]]\n",
            "Cost at 676th loop = [[0.10765771]]\n",
            "Cost at 680th loop = [[0.10714952]]\n",
            "Cost at 684th loop = [[0.10664529]]\n",
            "Cost at 688th loop = [[0.10614516]]\n",
            "Cost at 692th loop = [[0.10564844]]\n",
            "Cost at 696th loop = [[0.10515548]]\n",
            "Cost at 700th loop = [[0.10466679]]\n",
            "Cost at 704th loop = [[0.10418202]]\n",
            "Cost at 708th loop = [[0.1037005]]\n",
            "Cost at 712th loop = [[0.10322268]]\n",
            "Cost at 716th loop = [[0.10274832]]\n",
            "Cost at 720th loop = [[0.10227725]]\n",
            "Cost at 724th loop = [[0.10180992]]\n",
            "Cost at 728th loop = [[0.10134591]]\n",
            "Cost at 732th loop = [[0.10088554]]\n",
            "Cost at 736th loop = [[0.10042865]]\n",
            "Cost at 740th loop = [[0.09997542]]\n",
            "Cost at 744th loop = [[0.09952573]]\n",
            "Cost at 748th loop = [[0.09907907]]\n",
            "Cost at 752th loop = [[0.09863577]]\n",
            "Cost at 756th loop = [[0.09819606]]\n",
            "Cost at 760th loop = [[0.09775931]]\n",
            "Cost at 764th loop = [[0.09732518]]\n",
            "Cost at 768th loop = [[0.09689388]]\n",
            "Cost at 772th loop = [[0.09646493]]\n",
            "Cost at 776th loop = [[0.09603899]]\n",
            "Cost at 780th loop = [[0.09561633]]\n",
            "Cost at 784th loop = [[0.09519618]]\n",
            "Cost at 788th loop = [[0.0947784]]\n",
            "Cost at 792th loop = [[0.09436405]]\n",
            "Cost at 796th loop = [[0.09395298]]\n",
            "Cost at 800th loop = [[0.09354497]]\n",
            "Cost at 804th loop = [[0.09313985]]\n",
            "Cost at 808th loop = [[0.0927374]]\n",
            "Cost at 812th loop = [[0.09233768]]\n",
            "Cost at 816th loop = [[0.09194104]]\n",
            "Cost at 820th loop = [[0.0915467]]\n",
            "Cost at 824th loop = [[0.09115508]]\n",
            "Cost at 828th loop = [[0.0907664]]\n",
            "Cost at 832th loop = [[0.09038093]]\n",
            "Cost at 836th loop = [[0.08999769]]\n",
            "Cost at 840th loop = [[0.08961766]]\n",
            "Cost at 844th loop = [[0.08924001]]\n",
            "Cost at 848th loop = [[0.08886545]]\n",
            "Cost at 852th loop = [[0.08849229]]\n",
            "Cost at 856th loop = [[0.08812155]]\n",
            "Cost at 860th loop = [[0.08775229]]\n",
            "Cost at 864th loop = [[0.08738498]]\n",
            "Cost at 868th loop = [[0.08701986]]\n",
            "Cost at 872th loop = [[0.08665649]]\n",
            "Cost at 876th loop = [[0.08629511]]\n",
            "Cost at 880th loop = [[0.08593585]]\n",
            "Cost at 884th loop = [[0.08557902]]\n",
            "Cost at 888th loop = [[0.08522439]]\n",
            "Cost at 892th loop = [[0.08487242]]\n",
            "Cost at 896th loop = [[0.08452291]]\n",
            "Cost at 900th loop = [[0.08417627]]\n",
            "Cost at 904th loop = [[0.08383275]]\n",
            "Cost at 908th loop = [[0.0834914]]\n",
            "Cost at 912th loop = [[0.08315234]]\n",
            "Cost at 916th loop = [[0.08281593]]\n",
            "Cost at 920th loop = [[0.08248136]]\n",
            "Cost at 924th loop = [[0.08214947]]\n",
            "Cost at 928th loop = [[0.08182029]]\n",
            "Cost at 932th loop = [[0.08149331]]\n",
            "Cost at 936th loop = [[0.08116752]]\n",
            "Cost at 940th loop = [[0.08084229]]\n",
            "Cost at 944th loop = [[0.08051911]]\n",
            "Cost at 948th loop = [[0.0801967]]\n",
            "Cost at 952th loop = [[0.07987552]]\n",
            "Cost at 956th loop = [[0.07955548]]\n",
            "Cost at 960th loop = [[0.07923558]]\n",
            "Cost at 964th loop = [[0.07891636]]\n",
            "Cost at 968th loop = [[0.07859735]]\n",
            "Cost at 972th loop = [[0.07827998]]\n",
            "Cost at 976th loop = [[0.07796652]]\n",
            "Cost at 980th loop = [[0.07765411]]\n",
            "Cost at 984th loop = [[0.07734388]]\n",
            "Cost at 988th loop = [[0.07703637]]\n",
            "Cost at 992th loop = [[0.07673147]]\n",
            "Cost at 996th loop = [[0.07642731]]\n"
          ]
        }
      ]
    },
    {
      "cell_type": "code",
      "metadata": {
        "colab": {
          "base_uri": "https://localhost:8080/",
          "height": 295
        },
        "id": "aVhZgZmwxNk4",
        "outputId": "d21d6ff7-8e7a-4bf6-889e-6c3efd3c9817"
      },
      "source": [
        "plt.plot(np.linespace(0,1000,len(costs)), np.array(costs).reshape(len(costs),1), label=\"Epoch Loss\")\n",
        "plt.grid()\n",
        "plt.title(\"Multi Layer: Learning Curve\")\n",
        "plt.legend()\n",
        "plt.xlabel(\"Numper of Epochs\")\n",
        "plt.ylabel(\"Cross Entropy Loss\")\n",
        "plt.savefig(\"/content/drive/MyDrive/Colab Notebooks/MultiCost.jpeg\")\n",
        "plt.show()"
      ],
      "execution_count": 3,
      "outputs": [
        {
          "output_type": "display_data",
          "data": {
            "image/png": "[encoded data removed]",
            "text/plain": [
              "<Figure size 432x288 with 1 Axes>"
            ]
          },
          "metadata": {
            "needs_background": "light"
          }
        }
      ]
    },
    {
      "cell_type": "code",
      "metadata": {
        "colab": {
          "base_uri": "https://localhost:8080/",
          "height": 279
        },
        "id": "J7FkJReoqtB_",
        "outputId": "d5724b6c-5450-4d3e-fdda-c16e98d4c762"
      },
      "source": [
        "plt.plot(np.arange(0,401,4), np.array(costs).reshape(len(costs),1))\n",
        "plt.ylabel('cost')\n",
        "plt.xlabel('iterations')\n",
        "cimg = plt.show()"
      ],
      "execution_count": null,
      "outputs": [
        {
          "data": {
            "image/png": "[encoded data removed]",
            "text/plain": [
              "<Figure size 432x288 with 1 Axes>"
            ]
          },
          "metadata": {
            "tags": []
          },
          "output_type": "display_data"
        }
      ]
    },
    {
      "cell_type": "code",
      "metadata": {
        "colab": {
          "base_uri": "https://localhost:8080/"
        },
        "id": "8z84GL-9HOnx",
        "outputId": "33235250-af11-4969-9a1e-9cc9e732981d"
      },
      "source": [
        "a = np.abs(AA['A4']- Y_hot)\n",
        "print(f'Accuracy : {100 - np.mean(a)*100} on Train Set')"
      ],
      "execution_count": null,
      "outputs": [
        {
          "name": "stdout",
          "output_type": "stream",
          "text": [
            "Accuracy : 98.27236926433604 on Train Set\n"
          ]
        }
      ]
    },
    {
      "cell_type": "code",
      "metadata": {
        "colab": {
          "base_uri": "https://localhost:8080/"
        },
        "id": "dnFNcTksYnQO",
        "outputId": "517d820c-3e26-4711-a9f6-e2374c5ff76e"
      },
      "source": [
        "O = (np.max(AA['A4'],axis=0) == AA['A4']).T * np.array([0,1,2,3,4,5,6,7,8,9]).T\n",
        "\n",
        "F = np.sum(O,axis=1)\n",
        "F,train_labels\n",
        "\n",
        "print(f'{np.sum(F==train_labels)} images correctly labeled out of {train_labels.shape[0]} for Train Set')"
      ],
      "execution_count": null,
      "outputs": [
        {
          "name": "stdout",
          "output_type": "stream",
          "text": [
            "57291 images correctly labeled out of 60000 for Train Set\n"
          ]
        }
      ]
    },
    {
      "cell_type": "code",
      "metadata": {
        "id": "E2yrH7uL8yf4"
      },
      "source": [
        "# test\n",
        "ZZ_test={}\n",
        "AA_test={}\n",
        "AA_test['A'+str(0)] = X_test\n",
        "for l in range(1,no_of_layers):\n",
        "  ZZ_test['Z'+str(l)] = np.dot(WW['W'+str(l)], AA_test['A'+str(l-1)]) +  bb['b'+str(l)]\n",
        "  AA_test['A'+str(l)] = relu(ZZ_test['Z'+str(l)])\n",
        "\n",
        "ZZ_test['Z'+str(no_of_layers)] = np.dot(WW['W'+str(no_of_layers)], AA_test['A'+str(no_of_layers-1)]) +  bb['b'+str(no_of_layers)]\n",
        "AA_test['A'+str(no_of_layers)] = softmax(ZZ_test['Z'+str(no_of_layers)])"
      ],
      "execution_count": null,
      "outputs": []
    },
    {
      "cell_type": "code",
      "metadata": {
        "colab": {
          "base_uri": "https://localhost:8080/"
        },
        "id": "D8hfxdYR-BgF",
        "outputId": "a60f5bfe-d7cc-48a0-8e79-db00a6f0acf7"
      },
      "source": [
        "O = (np.max(AA_test['A4'],axis=0) == AA_test['A4']).T * np.array([0,1,2,3,4,5,6,7,8,9]).T\n",
        "\n",
        "F_test = np.sum(O,axis=1)\n",
        "F_test,train_labels\n",
        "\n",
        "print(f'{np.sum(F_test==test_labels)} images correctly labeled out of {test_labels.shape[0]} for Test Set')"
      ],
      "execution_count": null,
      "outputs": [
        {
          "name": "stdout",
          "output_type": "stream",
          "text": [
            "9505 images correctly labeled out of 10000 for Test Set\n"
          ]
        }
      ]
    },
    {
      "cell_type": "code",
      "metadata": {
        "colab": {
          "base_uri": "https://localhost:8080/"
        },
        "id": "jpFbZ4mq-C2Y",
        "outputId": "1ff2e1a5-5d5b-4bd2-c030-688204682137"
      },
      "source": [
        "a_test = np.abs(AA_test['A4']- Y_test_hot)\n",
        "print(f'Accuracy : {100 - np.mean(a_test)*100} on Test Set')"
      ],
      "execution_count": null,
      "outputs": [
        {
          "name": "stdout",
          "output_type": "stream",
          "text": [
            "Accuracy : 98.25963568404327 on Test Set\n"
          ]
        }
      ]
    },
    {
      "cell_type": "code",
      "metadata": {
        "colab": {
          "base_uri": "https://localhost:8080/",
          "height": 282
        },
        "id": "AZ6QQuuN--yD",
        "outputId": "42437ca3-a883-404f-bcb6-e3bde890c33c"
      },
      "source": [
        "image = 9925   # 0-9999\n",
        "plt.imshow(test_images[image])\n",
        "print(f'The image no. is {test_labels[image]} and my Model predicts {F_test[image]}')"
      ],
      "execution_count": null,
      "outputs": [
        {
          "name": "stdout",
          "output_type": "stream",
          "text": [
            "The image no. is 3 and my Model predicts 2\n"
          ]
        },
        {
          "data": {
            "image/png": "[encoded data removed]",
            "text/plain": [
              "<Figure size 432x288 with 1 Axes>"
            ]
          },
          "metadata": {
            "tags": []
          },
          "output_type": "display_data"
        }
      ]
    },
    {
      "cell_type": "code",
      "metadata": {
        "id": "oMNqArRnMEf6"
      },
      "source": [
        ""
      ],
      "execution_count": null,
      "outputs": []
    }
  ]
}