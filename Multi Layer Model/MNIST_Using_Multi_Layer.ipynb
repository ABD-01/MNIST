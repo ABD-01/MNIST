{
  "nbformat": 4,
  "nbformat_minor": 0,
  "metadata": {
    "colab": {
      "name": "MNIST Using Multi Layer.ipynb",
      "provenance": [],
      "collapsed_sections": [],
      "mount_file_id": "1_pEtElvQceHQjDbWBjqBsFZiRIBSYajc",
      "authorship_tag": "ABX9TyNAe2VmWQ8EWNww1TKkWwJ5",
      "include_colab_link": true
    },
    "kernelspec": {
      "name": "python3",
      "display_name": "Python 3"
    }
  },
  "cells": [
    {
      "cell_type": "markdown",
      "metadata": {
        "id": "view-in-github",
        "colab_type": "text"
      },
      "source": [
        "<a href=\"https://colab.research.google.com/github/ABD-01/MNIST/blob/main/Muli%20Layer%20Model/MNIST_Using_Multi_Layer.ipynb\" target=\"_parent\"><img src=\"https://colab.research.google.com/assets/colab-badge.svg\" alt=\"Open In Colab\"/></a>"
      ]
    },
    {
      "cell_type": "code",
      "metadata": {
        "colab": {
          "base_uri": "https://localhost:8080/"
        },
        "id": "iaqI_A_uFcu2",
        "outputId": "bbacdfef-b60c-4c9e-af98-3cf625cd8969"
      },
      "source": [
        "!pip install idx2numpy"
      ],
      "execution_count": 2,
      "outputs": [
        {
          "output_type": "stream",
          "text": [
            "Collecting idx2numpy\n",
            "  Downloading https://files.pythonhosted.org/packages/7e/6b/80628f6cc2f44d80b27f1ef7b57b257ed4c73766113b77d13ad110c091b4/idx2numpy-1.2.3.tar.gz\n",
            "Requirement already satisfied: numpy in /usr/local/lib/python3.6/dist-packages (from idx2numpy) (1.18.5)\n",
            "Requirement already satisfied: six in /usr/local/lib/python3.6/dist-packages (from idx2numpy) (1.15.0)\n",
            "Building wheels for collected packages: idx2numpy\n",
            "  Building wheel for idx2numpy (setup.py) ... \u001b[?25l\u001b[?25hdone\n",
            "  Created wheel for idx2numpy: filename=idx2numpy-1.2.3-cp36-none-any.whl size=7905 sha256=758be74ed7ac537f5a5290ed3d24e0cfd9e1890b7f804101e0ea930814d71cdd\n",
            "  Stored in directory: /root/.cache/pip/wheels/7a/c1/da/284ce80a748fab898b8d1fa95468a386e7cf3b81da18511f9d\n",
            "Successfully built idx2numpy\n",
            "Installing collected packages: idx2numpy\n",
            "Successfully installed idx2numpy-1.2.3\n"
          ],
          "name": "stdout"
        }
      ]
    },
    {
      "cell_type": "code",
      "metadata": {
        "id": "fNcOOmvI4xMD"
      },
      "source": [
        "import matplotlib.pyplot as plt\n",
        "import numpy as np\n",
        "import idx2numpy\n",
        "from tqdm import tqdm\n",
        "import os"
      ],
      "execution_count": 4,
      "outputs": []
    },
    {
      "cell_type": "code",
      "metadata": {
        "id": "fwAi4pFHARq8"
      },
      "source": [
        "test_images = idx2numpy.convert_from_file('/content/drive/MyDrive/Colab Notebooks/t10k-images.idx3-ubyte')\n",
        "test_labels = idx2numpy.convert_from_file('/content/drive/MyDrive/Colab Notebooks/t10k-labels.idx1-ubyte')\n",
        "train_images = idx2numpy.convert_from_file('/content/drive/MyDrive/Colab Notebooks/train-images.idx3-ubyte')\n",
        "train_labels = idx2numpy.convert_from_file('/content/drive/MyDrive/Colab Notebooks/train-labels.idx1-ubyte')"
      ],
      "execution_count": 5,
      "outputs": []
    },
    {
      "cell_type": "code",
      "metadata": {
        "colab": {
          "base_uri": "https://localhost:8080/"
        },
        "id": "NkeaeqVdQRkT",
        "outputId": "83becc1d-f985-4c27-94a4-2224b675f6f7"
      },
      "source": [
        "print(test_images.shape)\n",
        "print(test_labels.shape)\n",
        "print(train_images.shape)\n",
        "print(train_labels.shape)"
      ],
      "execution_count": 6,
      "outputs": [
        {
          "output_type": "stream",
          "text": [
            "(10000, 28, 28)\n",
            "(10000,)\n",
            "(60000, 28, 28)\n",
            "(60000,)\n"
          ],
          "name": "stdout"
        }
      ]
    },
    {
      "cell_type": "code",
      "metadata": {
        "id": "pHQax7Q3YdxG"
      },
      "source": [
        "train_images_flat=train_images.reshape(train_images.shape[0], -1).T\n",
        "test_images_flat=test_images.reshape(test_images.shape[0], -1).T"
      ],
      "execution_count": 7,
      "outputs": []
    },
    {
      "cell_type": "code",
      "metadata": {
        "colab": {
          "base_uri": "https://localhost:8080/"
        },
        "id": "H1a01P5UYfVs",
        "outputId": "fbac87fb-8014-4568-a34c-fb38b7e528da"
      },
      "source": [
        "m = train_images_flat.shape[1]\n",
        "m_test = test_images_flat.shape[1]\n",
        "print(f\"Train Examples(m)={m}\")\n",
        "print(f\"Test Examples(m_test)={m_test}\")\n",
        "X = train_images_flat/255\n",
        "X_test = test_images_flat/255\n",
        "print('X.shape=',X.shape)\n",
        "print('X_test.shape=',X_test.shape)"
      ],
      "execution_count": 8,
      "outputs": [
        {
          "output_type": "stream",
          "text": [
            "Train Examples(m)=60000\n",
            "Test Examples(m_test)=10000\n",
            "X.shape= (784, 60000)\n",
            "X_test.shape= (784, 10000)\n"
          ],
          "name": "stdout"
        }
      ]
    },
    {
      "cell_type": "code",
      "metadata": {
        "id": "DU8gKiyBYkaX"
      },
      "source": [
        "def one_hot(row_vector, no_classes):\n",
        "    one_hot_vector = np.eye(no_classes)[row_vector.reshape(-1)]\n",
        "    return one_hot_vector.T"
      ],
      "execution_count": 9,
      "outputs": []
    },
    {
      "cell_type": "code",
      "metadata": {
        "colab": {
          "base_uri": "https://localhost:8080/"
        },
        "id": "_w9oxkQqYluQ",
        "outputId": "8fb547f9-6197-4429-d04b-3177faa1b07b"
      },
      "source": [
        "C = train_labels.max()+1\n",
        "print(f\"No. of Classes={C}\")\n",
        "Y_hot = one_hot(train_labels,no_classes=C)\n",
        "Y_test_hot = one_hot(test_labels,no_classes=C)\n",
        "print('Y_hot.shape=',Y_hot.shape) #Y_hot.shape is (C,m)\n",
        "print('Y_test_hot.shape=',Y_test_hot.shape) #Y_hot.shape is (C,m)"
      ],
      "execution_count": 10,
      "outputs": [
        {
          "output_type": "stream",
          "text": [
            "No. of Classes=10\n",
            "Y_hot.shape= (10, 60000)\n",
            "Y_test_hot.shape= (10, 10000)\n"
          ],
          "name": "stdout"
        }
      ]
    },
    {
      "cell_type": "code",
      "metadata": {
        "colab": {
          "base_uri": "https://localhost:8080/"
        },
        "id": "odldvdgZagll",
        "outputId": "61ac1a76-2e14-43a6-ebfb-18a4f625bede"
      },
      "source": [
        "no_of_layers = 4\n",
        "nodes = [X.shape[0], 512, 128, 32, 10]   # 4 layers with size 512, 128, 32, 10\n",
        "nodes"
      ],
      "execution_count": 132,
      "outputs": [
        {
          "output_type": "execute_result",
          "data": {
            "text/plain": [
              "[784, 512, 128, 32, 10]"
            ]
          },
          "metadata": {
            "tags": []
          },
          "execution_count": 132
        }
      ]
    },
    {
      "cell_type": "code",
      "metadata": {
        "id": "_Fj2-ZzFYm9m"
      },
      "source": [
        "def initialize():\n",
        "  global WW, bb\n",
        "  WW = {}\n",
        "  bb = {}\n",
        "  for l in range(1,no_of_layers+1):\n",
        "    WW['W'+str(l)] = np.random.randn(nodes[l], nodes[l-1])*np.sqrt(2/nodes[l-1])\n",
        "    bb['b'+str(l)] = np.zeros((nodes[l],1))"
      ],
      "execution_count": 133,
      "outputs": []
    },
    {
      "cell_type": "code",
      "metadata": {
        "colab": {
          "base_uri": "https://localhost:8080/"
        },
        "id": "izW1U12ix7pU",
        "outputId": "0fd76c42-91e5-43ad-e128-97232b05844d"
      },
      "source": [
        "list(range(1,no_of_layers+1))"
      ],
      "execution_count": 134,
      "outputs": [
        {
          "output_type": "execute_result",
          "data": {
            "text/plain": [
              "[1, 2, 3, 4]"
            ]
          },
          "metadata": {
            "tags": []
          },
          "execution_count": 134
        }
      ]
    },
    {
      "cell_type": "code",
      "metadata": {
        "id": "05S-PZnWx802"
      },
      "source": [
        "initialize()"
      ],
      "execution_count": 135,
      "outputs": []
    },
    {
      "cell_type": "code",
      "metadata": {
        "colab": {
          "base_uri": "https://localhost:8080/"
        },
        "id": "etzHnhyiywhj",
        "outputId": "a09c104d-e800-4e81-b89d-7f1397fb1db5"
      },
      "source": [
        "WW['W1'].shape, WW['W2'].shape,WW['W3'].shape, WW['W4'].shape"
      ],
      "execution_count": 136,
      "outputs": [
        {
          "output_type": "execute_result",
          "data": {
            "text/plain": [
              "((512, 784), (128, 512), (32, 128), (10, 32))"
            ]
          },
          "metadata": {
            "tags": []
          },
          "execution_count": 136
        }
      ]
    },
    {
      "cell_type": "code",
      "metadata": {
        "colab": {
          "base_uri": "https://localhost:8080/"
        },
        "id": "wr1QOUezyx4z",
        "outputId": "f7bb8971-3175-4087-cc3c-2211fd96243c"
      },
      "source": [
        "bb['b1'].shape, bb['b2'].shape,bb['b3'].shape, bb['b4'].shape"
      ],
      "execution_count": 137,
      "outputs": [
        {
          "output_type": "execute_result",
          "data": {
            "text/plain": [
              "((512, 1), (128, 1), (32, 1), (10, 1))"
            ]
          },
          "metadata": {
            "tags": []
          },
          "execution_count": 137
        }
      ]
    },
    {
      "cell_type": "code",
      "metadata": {
        "id": "XBl5RbTZzN_E"
      },
      "source": [
        "def relu(z):\n",
        "  a = np.maximum(0,z)\n",
        "  return a\n",
        "\n",
        "def softmax(z):\n",
        "  t = np.exp(z)\n",
        "  a = t / (np.sum(t, keepdims=True, axis=0))\n",
        "  return a  #+ 1e-08\n",
        "\n",
        "def derivative_relu(da,z):\n",
        "  dz = np.array(da, copy=True)\n",
        "  dz[z<=0] = 0\n",
        "  dz[z>0] = 1\n",
        "  return dz\n"
      ],
      "execution_count": 138,
      "outputs": []
    },
    {
      "cell_type": "code",
      "metadata": {
        "id": "nNg7xCVP0Og-"
      },
      "source": [
        "def forward():\n",
        "  global ZZ, AA\n",
        "  ZZ={}\n",
        "  AA={}\n",
        "  AA['A'+str(0)] = X\n",
        "  for l in range(1,no_of_layers):\n",
        "    ZZ['Z'+str(l)] = np.dot(WW['W'+str(l)], AA['A'+str(l-1)]) +  bb['b'+str(l)]\n",
        "    AA['A'+str(l)] = relu(ZZ['Z'+str(l)])\n",
        "\n",
        "  ZZ['Z'+str(no_of_layers)] = np.dot(WW['W'+str(no_of_layers)], AA['A'+str(no_of_layers-1)]) +  bb['b'+str(no_of_layers)]\n",
        "  AA['A'+str(no_of_layers)] = softmax(ZZ['Z'+str(no_of_layers)])"
      ],
      "execution_count": 139,
      "outputs": []
    },
    {
      "cell_type": "code",
      "metadata": {
        "id": "dZ0xbPh20OlQ"
      },
      "source": [
        "forward()"
      ],
      "execution_count": 140,
      "outputs": []
    },
    {
      "cell_type": "code",
      "metadata": {
        "colab": {
          "base_uri": "https://localhost:8080/"
        },
        "id": "oM1Vz_ti-UCI",
        "outputId": "eb3a0fda-9f6b-4289-9a42-c10d0355f731"
      },
      "source": [
        "[(z[0],z[1].shape) for z in ZZ.items()], [(a[0],a[1].shape) for a in AA.items()]"
      ],
      "execution_count": 141,
      "outputs": [
        {
          "output_type": "execute_result",
          "data": {
            "text/plain": [
              "([('Z1', (512, 60000)),\n",
              "  ('Z2', (128, 60000)),\n",
              "  ('Z3', (32, 60000)),\n",
              "  ('Z4', (10, 60000))],\n",
              " [('A0', (784, 60000)),\n",
              "  ('A1', (512, 60000)),\n",
              "  ('A2', (128, 60000)),\n",
              "  ('A3', (32, 60000)),\n",
              "  ('A4', (10, 60000))])"
            ]
          },
          "metadata": {
            "tags": []
          },
          "execution_count": 141
        }
      ]
    },
    {
      "cell_type": "code",
      "metadata": {
        "id": "0Nh_ayDu-blE"
      },
      "source": [
        "def cost():\n",
        "  global L,J\n",
        "  L = -np.sum(Y_hot*np.log(AA['A'+str(no_of_layers)]), keepdims=True, axis=0)\n",
        "  J = np.sum(L, keepdims=True, axis=1)*(1/m)\n",
        "  # J = -np.sum(Y_hot*np.log(AA['A'+str(no_of_layers)]), keepdims=True) / m"
      ],
      "execution_count": 142,
      "outputs": []
    },
    {
      "cell_type": "code",
      "metadata": {
        "id": "-JX4eS0PANr7"
      },
      "source": [
        "cost()"
      ],
      "execution_count": 143,
      "outputs": []
    },
    {
      "cell_type": "code",
      "metadata": {
        "colab": {
          "base_uri": "https://localhost:8080/"
        },
        "id": "LRC3doBuDeac",
        "outputId": "98391641-f473-482e-e9d1-6dc020cf895b"
      },
      "source": [
        "L.shape , J.shape"
      ],
      "execution_count": 144,
      "outputs": [
        {
          "output_type": "execute_result",
          "data": {
            "text/plain": [
              "((1, 60000), (1, 1))"
            ]
          },
          "metadata": {
            "tags": []
          },
          "execution_count": 144
        }
      ]
    },
    {
      "cell_type": "code",
      "metadata": {
        "id": "FqGE93RyD5Yn"
      },
      "source": [
        "def backward():\n",
        "  global dAA, dZZ, dWW, dbb\n",
        "  dAA = {}\n",
        "  dZZ = {}\n",
        "  dWW = {}\n",
        "  dbb = {}\n",
        "  dZZ['dZ'+str(no_of_layers)] = AA['A'+str(no_of_layers)] - Y_hot\n",
        "  dWW['dW'+str(no_of_layers)] = np.dot(dZZ['dZ'+str(no_of_layers)], AA['A'+str(no_of_layers-1)].T) / m\n",
        "  dbb['db'+str(no_of_layers)] = np.sum(dZZ['dZ'+str(no_of_layers)], axis=1, keepdims=True) / m\n",
        "  dAA['dA'+str(no_of_layers-1)] = np.dot(WW['W'+str(no_of_layers)].T, dZZ['dZ'+str(no_of_layers)])\n",
        "\n",
        "  for l in range(no_of_layers-1,0,-1):\n",
        "    dZZ['dZ'+str(l)] = np.multiply(dAA['dA'+str(l)] , derivative_relu(dAA['dA'+str(l)], ZZ['Z'+str(l)]))\n",
        "    dWW['dW'+str(l)] = np.dot(dZZ['dZ'+str(l)], AA['A'+str(l-1)].T) / m\n",
        "    dbb['db'+str(l)] = np.sum(dZZ['dZ'+str(l)], axis=1, keepdims=True) / m\n",
        "    dAA['dA'+str(l-1)] = np.dot(WW['W'+str(l)].T, dZZ['dZ'+str(l)])"
      ],
      "execution_count": 145,
      "outputs": []
    },
    {
      "cell_type": "code",
      "metadata": {
        "id": "rYADjsrGENo6"
      },
      "source": [
        "backward()"
      ],
      "execution_count": 146,
      "outputs": []
    },
    {
      "cell_type": "code",
      "metadata": {
        "colab": {
          "base_uri": "https://localhost:8080/"
        },
        "id": "3p9E3N6BHWrH",
        "outputId": "269d3d38-9862-4d37-a091-25cf2f3e3b85"
      },
      "source": [
        "[(dz[0],dz[1].shape) for dz in dZZ.items()], [(da[0],da[1].shape) for da in dAA.items()]"
      ],
      "execution_count": 147,
      "outputs": [
        {
          "output_type": "execute_result",
          "data": {
            "text/plain": [
              "([('dZ4', (10, 60000)),\n",
              "  ('dZ3', (32, 60000)),\n",
              "  ('dZ2', (128, 60000)),\n",
              "  ('dZ1', (512, 60000))],\n",
              " [('dA3', (32, 60000)),\n",
              "  ('dA2', (128, 60000)),\n",
              "  ('dA1', (512, 60000)),\n",
              "  ('dA0', (784, 60000))])"
            ]
          },
          "metadata": {
            "tags": []
          },
          "execution_count": 147
        }
      ]
    },
    {
      "cell_type": "code",
      "metadata": {
        "colab": {
          "base_uri": "https://localhost:8080/"
        },
        "id": "omzv56EAmITm",
        "outputId": "2f9a58e9-9b85-4a44-eba7-22dda629d7dd"
      },
      "source": [
        "[(dw[0],dw[1].shape) for dw in dWW.items()], [(db[0],db[1].shape) for db in dbb.items()]"
      ],
      "execution_count": 148,
      "outputs": [
        {
          "output_type": "execute_result",
          "data": {
            "text/plain": [
              "([('dW4', (10, 32)),\n",
              "  ('dW3', (32, 128)),\n",
              "  ('dW2', (128, 512)),\n",
              "  ('dW1', (512, 784))],\n",
              " [('db4', (10, 1)), ('db3', (32, 1)), ('db2', (128, 1)), ('db1', (512, 1))])"
            ]
          },
          "metadata": {
            "tags": []
          },
          "execution_count": 148
        }
      ]
    },
    {
      "cell_type": "code",
      "metadata": {
        "id": "H_ioOyXqmJaO"
      },
      "source": [
        "initialize()"
      ],
      "execution_count": 219,
      "outputs": []
    },
    {
      "cell_type": "code",
      "metadata": {
        "colab": {
          "base_uri": "https://localhost:8080/",
          "height": 1000
        },
        "id": "EvEAG2q7qmtF",
        "outputId": "78ac42f0-867c-4d21-e015-4258c47ea158"
      },
      "source": [
        "#optimise\n",
        "alpha = 0.11\n",
        "iterations = 1000\n",
        "global costs\n",
        "costs=[]\n",
        "for i in range(iterations):\n",
        "    forward()\n",
        "    if i%4 ==0:\n",
        "      cost()\n",
        "      costs.append(J)\n",
        "      print(f'Cost at {i}th loop = {J}')\n",
        "    backward()\n",
        "    for l in range(1,no_of_layers+1):\n",
        "      WW['W'+str(l)] = WW['W'+str(l)] - (alpha*dWW['dW'+str(l)])\n",
        "      bb['b'+str(l)] = bb['b'+str(l)] - (alpha*dbb['db'+str(l)])"
      ],
      "execution_count": 220,
      "outputs": [
        {
          "output_type": "stream",
          "text": [
            "Cost at 0th loop = [[2.37237445]]\n",
            "Cost at 4th loop = [[2.02765695]]\n",
            "Cost at 8th loop = [[1.66279196]]\n",
            "Cost at 12th loop = [[1.29193793]]\n",
            "Cost at 16th loop = [[1.02811015]]\n",
            "Cost at 20th loop = [[1.40839643]]\n",
            "Cost at 24th loop = [[0.76487419]]\n",
            "Cost at 28th loop = [[0.79157197]]\n",
            "Cost at 32th loop = [[0.66798897]]\n",
            "Cost at 36th loop = [[0.6665675]]\n",
            "Cost at 40th loop = [[0.61961786]]\n",
            "Cost at 44th loop = [[0.49228145]]\n",
            "Cost at 48th loop = [[0.46357559]]\n",
            "Cost at 52th loop = [[0.5065854]]\n",
            "Cost at 56th loop = [[0.49838989]]\n",
            "Cost at 60th loop = [[0.4168359]]\n",
            "Cost at 64th loop = [[0.39743369]]\n",
            "Cost at 68th loop = [[0.39046535]]\n",
            "Cost at 72th loop = [[0.39784327]]\n",
            "Cost at 76th loop = [[0.41517257]]\n",
            "Cost at 80th loop = [[0.38420772]]\n",
            "Cost at 84th loop = [[0.3480635]]\n",
            "Cost at 88th loop = [[0.33362672]]\n",
            "Cost at 92th loop = [[0.32523419]]\n",
            "Cost at 96th loop = [[0.31887199]]\n",
            "Cost at 100th loop = [[0.31454059]]\n",
            "Cost at 104th loop = [[0.31544828]]\n",
            "Cost at 108th loop = [[0.33213329]]\n",
            "Cost at 112th loop = [[0.3607885]]\n",
            "Cost at 116th loop = [[0.31919256]]\n",
            "Cost at 120th loop = [[0.29165465]]\n",
            "Cost at 124th loop = [[0.28434088]]\n",
            "Cost at 128th loop = [[0.27968423]]\n",
            "Cost at 132th loop = [[0.27563197]]\n",
            "Cost at 136th loop = [[0.27186438]]\n",
            "Cost at 140th loop = [[0.26830247]]\n",
            "Cost at 144th loop = [[0.26490438]]\n",
            "Cost at 148th loop = [[0.26164647]]\n",
            "Cost at 152th loop = [[0.25851707]]\n",
            "Cost at 156th loop = [[0.2555047]]\n",
            "Cost at 160th loop = [[0.25260264]]\n",
            "Cost at 164th loop = [[0.24980053]]\n",
            "Cost at 168th loop = [[0.24708829]]\n",
            "Cost at 172th loop = [[0.24446422]]\n",
            "Cost at 176th loop = [[0.24192041]]\n",
            "Cost at 180th loop = [[0.23946199]]\n",
            "Cost at 184th loop = [[0.2370821]]\n",
            "Cost at 188th loop = [[0.23479276]]\n",
            "Cost at 192th loop = [[0.23260095]]\n",
            "Cost at 196th loop = [[0.23052625]]\n",
            "Cost at 200th loop = [[0.22863875]]\n",
            "Cost at 204th loop = [[0.22700851]]\n",
            "Cost at 208th loop = [[0.22572032]]\n",
            "Cost at 212th loop = [[0.22502424]]\n",
            "Cost at 216th loop = [[0.22524629]]\n",
            "Cost at 220th loop = [[0.22687009]]\n",
            "Cost at 224th loop = [[0.2297186]]\n",
            "Cost at 228th loop = [[0.23147499]]\n",
            "Cost at 232th loop = [[0.22660896]]\n",
            "Cost at 236th loop = [[0.21701471]]\n",
            "Cost at 240th loop = [[0.21098684]]\n",
            "Cost at 244th loop = [[0.20793843]]\n",
            "Cost at 248th loop = [[0.20587637]]\n",
            "Cost at 252th loop = [[0.20411295]]\n",
            "Cost at 256th loop = [[0.20246449]]\n",
            "Cost at 260th loop = [[0.20087297]]\n",
            "Cost at 264th loop = [[0.19932527]]\n",
            "Cost at 268th loop = [[0.19780855]]\n",
            "Cost at 272th loop = [[0.19631707]]\n",
            "Cost at 276th loop = [[0.19485356]]\n",
            "Cost at 280th loop = [[0.19341752]]\n",
            "Cost at 284th loop = [[0.1920071]]\n",
            "Cost at 288th loop = [[0.1906205]]\n",
            "Cost at 292th loop = [[0.18925914]]\n",
            "Cost at 296th loop = [[0.18792091]]\n",
            "Cost at 300th loop = [[0.18660406]]\n",
            "Cost at 304th loop = [[0.18530799]]\n",
            "Cost at 308th loop = [[0.18403171]]\n",
            "Cost at 312th loop = [[0.18277432]]\n",
            "Cost at 316th loop = [[0.18153451]]\n",
            "Cost at 320th loop = [[0.18031383]]\n",
            "Cost at 324th loop = [[0.17910995]]\n",
            "Cost at 328th loop = [[0.17792361]]\n",
            "Cost at 332th loop = [[0.17675395]]\n",
            "Cost at 336th loop = [[0.17560036]]\n",
            "Cost at 340th loop = [[0.17446374]]\n",
            "Cost at 344th loop = [[0.1733429]]\n",
            "Cost at 348th loop = [[0.17223768]]\n",
            "Cost at 352th loop = [[0.17114664]]\n",
            "Cost at 356th loop = [[0.1700682]]\n",
            "Cost at 360th loop = [[0.16900436]]\n",
            "Cost at 364th loop = [[0.16795499]]\n",
            "Cost at 368th loop = [[0.16691843]]\n",
            "Cost at 372th loop = [[0.1658963]]\n",
            "Cost at 376th loop = [[0.16488701]]\n",
            "Cost at 380th loop = [[0.16389097]]\n",
            "Cost at 384th loop = [[0.16290772]]\n",
            "Cost at 388th loop = [[0.1619373]]\n",
            "Cost at 392th loop = [[0.16097859]]\n",
            "Cost at 396th loop = [[0.16003199]]\n",
            "Cost at 400th loop = [[0.15909629]]\n"
          ],
          "name": "stdout"
        },
        {
          "output_type": "error",
          "ename": "KeyboardInterrupt",
          "evalue": "ignored",
          "traceback": [
            "\u001b[0;31m---------------------------------------------------------------------------\u001b[0m",
            "\u001b[0;31mKeyboardInterrupt\u001b[0m                         Traceback (most recent call last)",
            "\u001b[0;32m<ipython-input-220-66a117a1faf3>\u001b[0m in \u001b[0;36m<module>\u001b[0;34m()\u001b[0m\n\u001b[1;32m     10\u001b[0m       \u001b[0mcosts\u001b[0m\u001b[0;34m.\u001b[0m\u001b[0mappend\u001b[0m\u001b[0;34m(\u001b[0m\u001b[0mJ\u001b[0m\u001b[0;34m)\u001b[0m\u001b[0;34m\u001b[0m\u001b[0;34m\u001b[0m\u001b[0m\n\u001b[1;32m     11\u001b[0m       \u001b[0mprint\u001b[0m\u001b[0;34m(\u001b[0m\u001b[0;34mf'Cost at {i}th loop = {J}'\u001b[0m\u001b[0;34m)\u001b[0m\u001b[0;34m\u001b[0m\u001b[0;34m\u001b[0m\u001b[0m\n\u001b[0;32m---> 12\u001b[0;31m     \u001b[0mbackward\u001b[0m\u001b[0;34m(\u001b[0m\u001b[0;34m)\u001b[0m\u001b[0;34m\u001b[0m\u001b[0;34m\u001b[0m\u001b[0m\n\u001b[0m\u001b[1;32m     13\u001b[0m     \u001b[0;32mfor\u001b[0m \u001b[0ml\u001b[0m \u001b[0;32min\u001b[0m \u001b[0mrange\u001b[0m\u001b[0;34m(\u001b[0m\u001b[0;36m1\u001b[0m\u001b[0;34m,\u001b[0m\u001b[0mno_of_layers\u001b[0m\u001b[0;34m+\u001b[0m\u001b[0;36m1\u001b[0m\u001b[0;34m)\u001b[0m\u001b[0;34m:\u001b[0m\u001b[0;34m\u001b[0m\u001b[0;34m\u001b[0m\u001b[0m\n\u001b[1;32m     14\u001b[0m       \u001b[0mWW\u001b[0m\u001b[0;34m[\u001b[0m\u001b[0;34m'W'\u001b[0m\u001b[0;34m+\u001b[0m\u001b[0mstr\u001b[0m\u001b[0;34m(\u001b[0m\u001b[0ml\u001b[0m\u001b[0;34m)\u001b[0m\u001b[0;34m]\u001b[0m \u001b[0;34m=\u001b[0m \u001b[0mWW\u001b[0m\u001b[0;34m[\u001b[0m\u001b[0;34m'W'\u001b[0m\u001b[0;34m+\u001b[0m\u001b[0mstr\u001b[0m\u001b[0;34m(\u001b[0m\u001b[0ml\u001b[0m\u001b[0;34m)\u001b[0m\u001b[0;34m]\u001b[0m \u001b[0;34m-\u001b[0m \u001b[0;34m(\u001b[0m\u001b[0malpha\u001b[0m\u001b[0;34m*\u001b[0m\u001b[0mdWW\u001b[0m\u001b[0;34m[\u001b[0m\u001b[0;34m'dW'\u001b[0m\u001b[0;34m+\u001b[0m\u001b[0mstr\u001b[0m\u001b[0;34m(\u001b[0m\u001b[0ml\u001b[0m\u001b[0;34m)\u001b[0m\u001b[0;34m]\u001b[0m\u001b[0;34m)\u001b[0m\u001b[0;34m\u001b[0m\u001b[0;34m\u001b[0m\u001b[0m\n",
            "\u001b[0;32m<ipython-input-145-bbca8ed643d3>\u001b[0m in \u001b[0;36mbackward\u001b[0;34m()\u001b[0m\n\u001b[1;32m     12\u001b[0m   \u001b[0;32mfor\u001b[0m \u001b[0ml\u001b[0m \u001b[0;32min\u001b[0m \u001b[0mrange\u001b[0m\u001b[0;34m(\u001b[0m\u001b[0mno_of_layers\u001b[0m\u001b[0;34m-\u001b[0m\u001b[0;36m1\u001b[0m\u001b[0;34m,\u001b[0m\u001b[0;36m0\u001b[0m\u001b[0;34m,\u001b[0m\u001b[0;34m-\u001b[0m\u001b[0;36m1\u001b[0m\u001b[0;34m)\u001b[0m\u001b[0;34m:\u001b[0m\u001b[0;34m\u001b[0m\u001b[0;34m\u001b[0m\u001b[0m\n\u001b[1;32m     13\u001b[0m     \u001b[0mdZZ\u001b[0m\u001b[0;34m[\u001b[0m\u001b[0;34m'dZ'\u001b[0m\u001b[0;34m+\u001b[0m\u001b[0mstr\u001b[0m\u001b[0;34m(\u001b[0m\u001b[0ml\u001b[0m\u001b[0;34m)\u001b[0m\u001b[0;34m]\u001b[0m \u001b[0;34m=\u001b[0m \u001b[0mnp\u001b[0m\u001b[0;34m.\u001b[0m\u001b[0mmultiply\u001b[0m\u001b[0;34m(\u001b[0m\u001b[0mdAA\u001b[0m\u001b[0;34m[\u001b[0m\u001b[0;34m'dA'\u001b[0m\u001b[0;34m+\u001b[0m\u001b[0mstr\u001b[0m\u001b[0;34m(\u001b[0m\u001b[0ml\u001b[0m\u001b[0;34m)\u001b[0m\u001b[0;34m]\u001b[0m \u001b[0;34m,\u001b[0m \u001b[0mderivative_relu\u001b[0m\u001b[0;34m(\u001b[0m\u001b[0mdAA\u001b[0m\u001b[0;34m[\u001b[0m\u001b[0;34m'dA'\u001b[0m\u001b[0;34m+\u001b[0m\u001b[0mstr\u001b[0m\u001b[0;34m(\u001b[0m\u001b[0ml\u001b[0m\u001b[0;34m)\u001b[0m\u001b[0;34m]\u001b[0m\u001b[0;34m,\u001b[0m \u001b[0mZZ\u001b[0m\u001b[0;34m[\u001b[0m\u001b[0;34m'Z'\u001b[0m\u001b[0;34m+\u001b[0m\u001b[0mstr\u001b[0m\u001b[0;34m(\u001b[0m\u001b[0ml\u001b[0m\u001b[0;34m)\u001b[0m\u001b[0;34m]\u001b[0m\u001b[0;34m)\u001b[0m\u001b[0;34m)\u001b[0m\u001b[0;34m\u001b[0m\u001b[0;34m\u001b[0m\u001b[0m\n\u001b[0;32m---> 14\u001b[0;31m     \u001b[0mdWW\u001b[0m\u001b[0;34m[\u001b[0m\u001b[0;34m'dW'\u001b[0m\u001b[0;34m+\u001b[0m\u001b[0mstr\u001b[0m\u001b[0;34m(\u001b[0m\u001b[0ml\u001b[0m\u001b[0;34m)\u001b[0m\u001b[0;34m]\u001b[0m \u001b[0;34m=\u001b[0m \u001b[0mnp\u001b[0m\u001b[0;34m.\u001b[0m\u001b[0mdot\u001b[0m\u001b[0;34m(\u001b[0m\u001b[0mdZZ\u001b[0m\u001b[0;34m[\u001b[0m\u001b[0;34m'dZ'\u001b[0m\u001b[0;34m+\u001b[0m\u001b[0mstr\u001b[0m\u001b[0;34m(\u001b[0m\u001b[0ml\u001b[0m\u001b[0;34m)\u001b[0m\u001b[0;34m]\u001b[0m\u001b[0;34m,\u001b[0m \u001b[0mAA\u001b[0m\u001b[0;34m[\u001b[0m\u001b[0;34m'A'\u001b[0m\u001b[0;34m+\u001b[0m\u001b[0mstr\u001b[0m\u001b[0;34m(\u001b[0m\u001b[0ml\u001b[0m\u001b[0;34m-\u001b[0m\u001b[0;36m1\u001b[0m\u001b[0;34m)\u001b[0m\u001b[0;34m]\u001b[0m\u001b[0;34m.\u001b[0m\u001b[0mT\u001b[0m\u001b[0;34m)\u001b[0m \u001b[0;34m/\u001b[0m \u001b[0mm\u001b[0m\u001b[0;34m\u001b[0m\u001b[0;34m\u001b[0m\u001b[0m\n\u001b[0m\u001b[1;32m     15\u001b[0m     \u001b[0mdbb\u001b[0m\u001b[0;34m[\u001b[0m\u001b[0;34m'db'\u001b[0m\u001b[0;34m+\u001b[0m\u001b[0mstr\u001b[0m\u001b[0;34m(\u001b[0m\u001b[0ml\u001b[0m\u001b[0;34m)\u001b[0m\u001b[0;34m]\u001b[0m \u001b[0;34m=\u001b[0m \u001b[0mnp\u001b[0m\u001b[0;34m.\u001b[0m\u001b[0msum\u001b[0m\u001b[0;34m(\u001b[0m\u001b[0mdZZ\u001b[0m\u001b[0;34m[\u001b[0m\u001b[0;34m'dZ'\u001b[0m\u001b[0;34m+\u001b[0m\u001b[0mstr\u001b[0m\u001b[0;34m(\u001b[0m\u001b[0ml\u001b[0m\u001b[0;34m)\u001b[0m\u001b[0;34m]\u001b[0m\u001b[0;34m,\u001b[0m \u001b[0maxis\u001b[0m\u001b[0;34m=\u001b[0m\u001b[0;36m1\u001b[0m\u001b[0;34m,\u001b[0m \u001b[0mkeepdims\u001b[0m\u001b[0;34m=\u001b[0m\u001b[0;32mTrue\u001b[0m\u001b[0;34m)\u001b[0m \u001b[0;34m/\u001b[0m \u001b[0mm\u001b[0m\u001b[0;34m\u001b[0m\u001b[0;34m\u001b[0m\u001b[0m\n\u001b[1;32m     16\u001b[0m     \u001b[0mdAA\u001b[0m\u001b[0;34m[\u001b[0m\u001b[0;34m'dA'\u001b[0m\u001b[0;34m+\u001b[0m\u001b[0mstr\u001b[0m\u001b[0;34m(\u001b[0m\u001b[0ml\u001b[0m\u001b[0;34m-\u001b[0m\u001b[0;36m1\u001b[0m\u001b[0;34m)\u001b[0m\u001b[0;34m]\u001b[0m \u001b[0;34m=\u001b[0m \u001b[0mnp\u001b[0m\u001b[0;34m.\u001b[0m\u001b[0mdot\u001b[0m\u001b[0;34m(\u001b[0m\u001b[0mWW\u001b[0m\u001b[0;34m[\u001b[0m\u001b[0;34m'W'\u001b[0m\u001b[0;34m+\u001b[0m\u001b[0mstr\u001b[0m\u001b[0;34m(\u001b[0m\u001b[0ml\u001b[0m\u001b[0;34m)\u001b[0m\u001b[0;34m]\u001b[0m\u001b[0;34m.\u001b[0m\u001b[0mT\u001b[0m\u001b[0;34m,\u001b[0m \u001b[0mdZZ\u001b[0m\u001b[0;34m[\u001b[0m\u001b[0;34m'dZ'\u001b[0m\u001b[0;34m+\u001b[0m\u001b[0mstr\u001b[0m\u001b[0;34m(\u001b[0m\u001b[0ml\u001b[0m\u001b[0;34m)\u001b[0m\u001b[0;34m]\u001b[0m\u001b[0;34m)\u001b[0m\u001b[0;34m\u001b[0m\u001b[0;34m\u001b[0m\u001b[0m\n",
            "\u001b[0;32m<__array_function__ internals>\u001b[0m in \u001b[0;36mdot\u001b[0;34m(*args, **kwargs)\u001b[0m\n",
            "\u001b[0;31mKeyboardInterrupt\u001b[0m: "
          ]
        }
      ]
    },
    {
      "cell_type": "code",
      "metadata": {
        "id": "J7FkJReoqtB_",
        "colab": {
          "base_uri": "https://localhost:8080/",
          "height": 279
        },
        "outputId": "221ff57d-3440-4bea-c395-986ce7d66a6c"
      },
      "source": [
        "plt.plot(np.arange(0,401,4), np.array(costs).reshape(len(costs),1))\n",
        "plt.ylabel('cost')\n",
        "plt.xlabel('iterations')\n",
        "cimg = plt.show()"
      ],
      "execution_count": 244,
      "outputs": [
        {
          "output_type": "display_data",
          "data": {
            "image/png": "[encoded data removed]",
            "text/plain": [
              "<Figure size 432x288 with 1 Axes>"
            ]
          },
          "metadata": {
            "tags": [],
            "needs_background": "light"
          }
        }
      ]
    },
    {
      "cell_type": "code",
      "metadata": {
        "colab": {
          "base_uri": "https://localhost:8080/"
        },
        "id": "8z84GL-9HOnx",
        "outputId": "e371093d-6a17-42c7-b8fc-9085e08c20f4"
      },
      "source": [
        "a = np.abs(AA['A4']- Y_hot)\n",
        "print(f'Accuracy : {100 - np.mean(a)*100} on Train Set')"
      ],
      "execution_count": 252,
      "outputs": [
        {
          "output_type": "stream",
          "text": [
            "Accuracy : 98.27236926433604 on Train Set\n"
          ],
          "name": "stdout"
        }
      ]
    },
    {
      "cell_type": "code",
      "metadata": {
        "colab": {
          "base_uri": "https://localhost:8080/"
        },
        "id": "dnFNcTksYnQO",
        "outputId": "e016aa06-5ac0-4edd-d525-10570f74bc70"
      },
      "source": [
        "O = (np.max(AA['A4'],axis=0) == AA['A4']).T * np.array([0,1,2,3,4,5,6,7,8,9]).T\n",
        "\n",
        "F = np.sum(O,axis=1)\n",
        "F,train_labels\n",
        "\n",
        "print(f'{np.sum(F==train_labels)} images correctly labeled out of {train_labels.shape[0]} for Train Set')"
      ],
      "execution_count": 253,
      "outputs": [
        {
          "output_type": "stream",
          "text": [
            "57291 images correctly labeled out of 60000 for Train Set\n"
          ],
          "name": "stdout"
        }
      ]
    },
    {
      "cell_type": "code",
      "metadata": {
        "id": "E2yrH7uL8yf4"
      },
      "source": [
        "# test\n",
        "ZZ_test={}\n",
        "AA_test={}\n",
        "AA_test['A'+str(0)] = X_test\n",
        "for l in range(1,no_of_layers):\n",
        "  ZZ_test['Z'+str(l)] = np.dot(WW['W'+str(l)], AA_test['A'+str(l-1)]) +  bb['b'+str(l)]\n",
        "  AA_test['A'+str(l)] = relu(ZZ_test['Z'+str(l)])\n",
        "\n",
        "ZZ_test['Z'+str(no_of_layers)] = np.dot(WW['W'+str(no_of_layers)], AA_test['A'+str(no_of_layers-1)]) +  bb['b'+str(no_of_layers)]\n",
        "AA_test['A'+str(no_of_layers)] = softmax(ZZ_test['Z'+str(no_of_layers)])"
      ],
      "execution_count": 254,
      "outputs": []
    },
    {
      "cell_type": "code",
      "metadata": {
        "colab": {
          "base_uri": "https://localhost:8080/"
        },
        "id": "D8hfxdYR-BgF",
        "outputId": "30ede3de-f65b-4dbd-8d99-ae872ac3b1cd"
      },
      "source": [
        "O = (np.max(AA_test['A4'],axis=0) == AA_test['A4']).T * np.array([0,1,2,3,4,5,6,7,8,9]).T\n",
        "\n",
        "F_test = np.sum(O,axis=1)\n",
        "F_test,train_labels\n",
        "\n",
        "print(f'{np.sum(F_test==test_labels)} images correctly labeled out of {test_labels.shape[0]} for Test Set')"
      ],
      "execution_count": 255,
      "outputs": [
        {
          "output_type": "stream",
          "text": [
            "9505 images correctly labeled out of 10000 for Test Set\n"
          ],
          "name": "stdout"
        }
      ]
    },
    {
      "cell_type": "code",
      "metadata": {
        "colab": {
          "base_uri": "https://localhost:8080/"
        },
        "id": "jpFbZ4mq-C2Y",
        "outputId": "34b6633f-aeae-4cd2-ca9e-f46c20450fdb"
      },
      "source": [
        "a_test = np.abs(AA_test['A4']- Y_test_hot)\n",
        "print(f'Accuracy : {100 - np.mean(a_test)*100} on Test Set')"
      ],
      "execution_count": 256,
      "outputs": [
        {
          "output_type": "stream",
          "text": [
            "Accuracy : 98.25963568404327 on Test Set\n"
          ],
          "name": "stdout"
        }
      ]
    },
    {
      "cell_type": "code",
      "metadata": {
        "colab": {
          "base_uri": "https://localhost:8080/",
          "height": 282
        },
        "id": "AZ6QQuuN--yD",
        "outputId": "98e53a9e-0a24-4922-a4ff-eee82faed382"
      },
      "source": [
        "image = 5246   # 0-9999\n",
        "plt.imshow(test_images[image])\n",
        "print(f'The image no. is {test_labels[image]} and my Model predicts {F_test[image]}')"
      ],
      "execution_count": 257,
      "outputs": [
        {
          "output_type": "stream",
          "text": [
            "The image no. is 7 and my Model predicts 7\n"
          ],
          "name": "stdout"
        },
        {
          "output_type": "display_data",
          "data": {
            "image/png": "[encoded data removed]",
            "text/plain": [
              "<Figure size 432x288 with 1 Axes>"
            ]
          },
          "metadata": {
            "tags": [],
            "needs_background": "light"
          }
        }
      ]
    },
    {
      "cell_type": "code",
      "metadata": {
        "id": "VSZ16C8-_P4D"
      },
      "source": [
        ""
      ],
      "execution_count": null,
      "outputs": []
    }
  ]
}