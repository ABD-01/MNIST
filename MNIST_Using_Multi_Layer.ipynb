{
 "cells": [
  {
   "cell_type": "markdown",
   "metadata": {
    "colab_type": "text",
    "id": "view-in-github"
   },
   "source": [
    "<a href=\"https://colab.research.google.com/github/ABD-01/MNIST/blob/main/MNIST_Using_Multi_Layer.ipynb\" target=\"_parent\"><img src=\"https://colab.research.google.com/assets/colab-badge.svg\" alt=\"Open In Colab\"/></a>"
   ]
  },
  {
   "cell_type": "code",
   "execution_count": null,
   "metadata": {
    "id": "fNcOOmvI4xMD"
   },
   "outputs": [],
   "source": [
    "import matplotlib.pyplot as plt\n",
    "import numpy as np\n",
    "import idx2numpy\n",
    "from tqdm import tqdm\n",
    "import os"
   ]
  },
  {
   "cell_type": "code",
   "execution_count": null,
   "metadata": {
    "id": "fwAi4pFHARq8"
   },
   "outputs": [],
   "source": [
    "test_images = idx2numpy.convert_from_file('/content/drive/MyDrive/Colab Notebooks/t10k-images.idx3-ubyte')\n",
    "test_labels = idx2numpy.convert_from_file('/content/drive/MyDrive/Colab Notebooks/t10k-labels.idx1-ubyte')\n",
    "train_images = idx2numpy.convert_from_file('/content/drive/MyDrive/Colab Notebooks/train-images.idx3-ubyte')\n",
    "train_labels = idx2numpy.convert_from_file('/content/drive/MyDrive/Colab Notebooks/train-labels.idx1-ubyte')"
   ]
  },
  {
   "cell_type": "code",
   "execution_count": null,
   "metadata": {
    "colab": {
     "base_uri": "https://localhost:8080/"
    },
    "id": "NkeaeqVdQRkT",
    "outputId": "5d854403-3848-44f7-8369-af3f3914f134"
   },
   "outputs": [
    {
     "name": "stdout",
     "output_type": "stream",
     "text": [
      "(10000, 28, 28)\n",
      "(10000,)\n",
      "(60000, 28, 28)\n",
      "(60000,)\n"
     ]
    }
   ],
   "source": [
    "print(test_images.shape)\n",
    "print(test_labels.shape)\n",
    "print(train_images.shape)\n",
    "print(train_labels.shape)"
   ]
  },
  {
   "cell_type": "code",
   "execution_count": null,
   "metadata": {
    "id": "pHQax7Q3YdxG"
   },
   "outputs": [],
   "source": [
    "train_images_flat=train_images.reshape(train_images.shape[0], -1).T\n",
    "test_images_flat=test_images.reshape(test_images.shape[0], -1).T"
   ]
  },
  {
   "cell_type": "code",
   "execution_count": null,
   "metadata": {
    "colab": {
     "base_uri": "https://localhost:8080/"
    },
    "id": "H1a01P5UYfVs",
    "outputId": "128b4c65-6125-4985-98d4-87fc68fca9a5"
   },
   "outputs": [
    {
     "name": "stdout",
     "output_type": "stream",
     "text": [
      "Train Examples(m)=60000\n",
      "Test Examples(m_test)=10000\n",
      "X.shape= (784, 60000)\n",
      "X_test.shape= (784, 10000)\n"
     ]
    }
   ],
   "source": [
    "m = train_images_flat.shape[1]\n",
    "m_test = test_images_flat.shape[1]\n",
    "print(f\"Train Examples(m)={m}\")\n",
    "print(f\"Test Examples(m_test)={m_test}\")\n",
    "X = train_images_flat/255\n",
    "X_test = test_images_flat/255\n",
    "print('X.shape=',X.shape)\n",
    "print('X_test.shape=',X_test.shape)"
   ]
  },
  {
   "cell_type": "code",
   "execution_count": null,
   "metadata": {
    "id": "DU8gKiyBYkaX"
   },
   "outputs": [],
   "source": [
    "def one_hot(row_vector, no_classes):\n",
    "    one_hot_vector = np.eye(no_classes)[row_vector.reshape(-1)]\n",
    "    return one_hot_vector.T"
   ]
  },
  {
   "cell_type": "code",
   "execution_count": null,
   "metadata": {
    "colab": {
     "base_uri": "https://localhost:8080/"
    },
    "id": "_w9oxkQqYluQ",
    "outputId": "50b0eeab-937f-4403-fbbc-05379dea9d1b"
   },
   "outputs": [
    {
     "name": "stdout",
     "output_type": "stream",
     "text": [
      "No. of Classes=10\n",
      "Y_hot.shape= (10, 60000)\n",
      "Y_test_hot.shape= (10, 10000)\n"
     ]
    }
   ],
   "source": [
    "C = train_labels.max()+1\n",
    "print(f\"No. of Classes={C}\")\n",
    "Y_hot = one_hot(train_labels,no_classes=C)\n",
    "Y_test_hot = one_hot(test_labels,no_classes=C)\n",
    "print('Y_hot.shape=',Y_hot.shape) #Y_hot.shape is (C,m)\n",
    "print('Y_test_hot.shape=',Y_test_hot.shape) #Y_hot.shape is (C,m)"
   ]
  },
  {
   "cell_type": "code",
   "execution_count": 32,
   "metadata": {
    "colab": {
     "base_uri": "https://localhost:8080/"
    },
    "id": "odldvdgZagll",
    "outputId": "e3c12bf0-ff4b-401e-e9c0-90907a9b49ce"
   },
   "outputs": [
    {
     "data": {
      "text/plain": [
       "[784, 512, 128, 32, 10]"
      ]
     },
     "execution_count": 32,
     "metadata": {
      "tags": []
     },
     "output_type": "execute_result"
    }
   ],
   "source": [
    "no_of_layers = 4\n",
    "nodes = [X.shape[0], 512, 128, 32, 10]   # 4 layers with size 512, 128, 32, 10\n",
    "nodes"
   ]
  },
  {
   "cell_type": "code",
   "execution_count": 36,
   "metadata": {
    "id": "_Fj2-ZzFYm9m"
   },
   "outputs": [],
   "source": [
    "def initialize():\n",
    "  global WW, bb\n",
    "  WW = {}\n",
    "  bb = {}\n",
    "  for l in range(1,no_of_layers+1):\n",
    "    WW['W'+str(l)] = np.random.randn(nodes[l], nodes[l-1])*np.sqrt(2/nodes[l-1])\n",
    "    bb['b'+str(l)] = np.zeros((nodes[l],1))"
   ]
  },
  {
   "cell_type": "code",
   "execution_count": 34,
   "metadata": {
    "colab": {
     "base_uri": "https://localhost:8080/"
    },
    "id": "izW1U12ix7pU",
    "outputId": "eeee8a4e-8e6c-49ec-fbdb-a7896a02f395"
   },
   "outputs": [
    {
     "data": {
      "text/plain": [
       "[1, 2, 3, 4]"
      ]
     },
     "execution_count": 34,
     "metadata": {
      "tags": []
     },
     "output_type": "execute_result"
    }
   ],
   "source": [
    "list(range(1,no_of_layers+1))"
   ]
  },
  {
   "cell_type": "code",
   "execution_count": 76,
   "metadata": {
    "id": "05S-PZnWx802"
   },
   "outputs": [],
   "source": [
    "initialize()"
   ]
  },
  {
   "cell_type": "code",
   "execution_count": 77,
   "metadata": {
    "colab": {
     "base_uri": "https://localhost:8080/"
    },
    "id": "etzHnhyiywhj",
    "outputId": "20f44fa7-50bf-4ac9-ec39-723025147583"
   },
   "outputs": [
    {
     "data": {
      "text/plain": [
       "((512, 784), (128, 512), (32, 128), (10, 32))"
      ]
     },
     "execution_count": 77,
     "metadata": {
      "tags": []
     },
     "output_type": "execute_result"
    }
   ],
   "source": [
    "WW['W1'].shape, WW['W2'].shape,WW['W3'].shape, WW['W4'].shape"
   ]
  },
  {
   "cell_type": "code",
   "execution_count": 78,
   "metadata": {
    "colab": {
     "base_uri": "https://localhost:8080/"
    },
    "id": "wr1QOUezyx4z",
    "outputId": "86b03e7e-5d4e-45ff-9ad0-255758f7bfab"
   },
   "outputs": [
    {
     "data": {
      "text/plain": [
       "((512, 1), (128, 1), (32, 1), (10, 1))"
      ]
     },
     "execution_count": 78,
     "metadata": {
      "tags": []
     },
     "output_type": "execute_result"
    }
   ],
   "source": [
    "bb['b1'].shape, bb['b2'].shape,bb['b3'].shape, bb['b4'].shape"
   ]
  },
  {
   "cell_type": "code",
   "execution_count": 80,
   "metadata": {
    "id": "XBl5RbTZzN_E"
   },
   "outputs": [],
   "source": [
    "def relu(z):\n",
    "  a = np.maximum(0,z)\n",
    "  return a\n",
    "\n",
    "def softmax(z):\n",
    "  t = np.exp(z)\n",
    "  a = t / np.sum(t, keepdims=True, axis=0)\n",
    "  return a\n",
    "\n",
    "# def derivative_relu(z)"
   ]
  },
  {
   "cell_type": "code",
   "execution_count": 81,
   "metadata": {
    "id": "nNg7xCVP0Og-"
   },
   "outputs": [],
   "source": [
    "def forward():\n",
    "  global ZZ, AA\n",
    "  ZZ={}\n",
    "  AA={}\n",
    "  AA['A'+str(0)] = X\n",
    "  for l in range(1,no_of_layers):\n",
    "    ZZ['Z'+str(l)] = np.dot(WW['W'+str(l)], AA['A'+str(l-1)]) +  bb['b'+str(l)]\n",
    "    AA['A'+str(l)] = relu(ZZ['Z'+str(l)])\n",
    "\n",
    "  ZZ['Z'+str(no_of_layers)] = np.dot(WW['W'+str(no_of_layers)], AA['A'+str(no_of_layers-1)]) +  bb['b'+str(no_of_layers)]\n",
    "  AA['A'+str(no_of_layers)] = relu(ZZ['Z'+str(no_of_layers)])"
   ]
  },
  {
   "cell_type": "code",
   "execution_count": 82,
   "metadata": {
    "id": "dZ0xbPh20OlQ"
   },
   "outputs": [],
   "source": [
    "forward()"
   ]
  },
  {
   "cell_type": "code",
   "execution_count": 83,
   "metadata": {
    "colab": {
     "base_uri": "https://localhost:8080/"
    },
    "id": "oM1Vz_ti-UCI",
    "outputId": "fded3808-7f6b-496e-8f10-7de946b68717"
   },
   "outputs": [
    {
     "data": {
      "text/plain": [
       "([('Z1', (512, 60000)),\n",
       "  ('Z2', (128, 60000)),\n",
       "  ('Z3', (32, 60000)),\n",
       "  ('Z4', (10, 60000))],\n",
       " [('A0', (784, 60000)),\n",
       "  ('A1', (512, 60000)),\n",
       "  ('A2', (128, 60000)),\n",
       "  ('A3', (32, 60000)),\n",
       "  ('A4', (10, 60000))])"
      ]
     },
     "execution_count": 83,
     "metadata": {
      "tags": []
     },
     "output_type": "execute_result"
    }
   ],
   "source": [
    "[(z[0],z[1].shape) for z in ZZ.items()], [(a[0],a[1].shape) for a in AA.items()]"
   ]
  },
  {
   "cell_type": "code",
   "execution_count": 94,
   "metadata": {
    "id": "0Nh_ayDu-blE"
   },
   "outputs": [],
   "source": [
    "def cost():\n",
    "  global L,J\n",
    "  L = -np.sum(Y_hot*np.log(AA['A'+str(no_of_layers)] + 1e-08), keepdims=True, axis=0)\n",
    "  J = np.sum(L, keepdims=True, axis=1)*(1/m)"
   ]
  },
  {
   "cell_type": "code",
   "execution_count": 95,
   "metadata": {
    "id": "-JX4eS0PANr7"
   },
   "outputs": [],
   "source": [
    "cost()"
   ]
  },
  {
   "cell_type": "code",
   "execution_count": 70,
   "metadata": {
    "colab": {
     "base_uri": "https://localhost:8080/"
    },
    "id": "LRC3doBuDeac",
    "outputId": "ef69d1ee-a640-4f3e-ef03-bb3185048612"
   },
   "outputs": [
    {
     "data": {
      "text/plain": [
       "((1, 60000), (1, 1))"
      ]
     },
     "execution_count": 70,
     "metadata": {
      "tags": []
     },
     "output_type": "execute_result"
    }
   ],
   "source": [
    "L.shape , J.shape"
   ]
  },
  {
   "cell_type": "code",
   "execution_count": 72,
   "metadata": {
    "id": "FqGE93RyD5Yn"
   },
   "outputs": [],
   "source": [
    "def backward():\n",
    "  global dZZ, dWW, dbb\n",
    "  dZZ['dZ'+str(no_of_layers)] = "
   ]
  },
  {
   "cell_type": "code",
   "execution_count": 93,
   "metadata": {
    "colab": {
     "base_uri": "https://localhost:8080/"
    },
    "id": "rYADjsrGENo6",
    "outputId": "425377a0-89a0-4c93-81c1-ecd75f504f40"
   },
   "outputs": [
    {
     "data": {
      "text/plain": [
       "True"
      ]
     },
     "execution_count": 93,
     "metadata": {
      "tags": []
     },
     "output_type": "execute_result"
    }
   ],
   "source": [
    "AA['A4'].any()"
   ]
  },
  {
   "cell_type": "code",
   "execution_count": 2,
   "metadata": {},
   "outputs": [],
   "source": [
    "import pandas as pd"
   ]
  },
  {
   "cell_type": "code",
   "execution_count": 32,
   "metadata": {},
   "outputs": [],
   "source": [
    "a=np.array(([1,2,3]))"
   ]
  },
  {
   "cell_type": "code",
   "execution_count": 33,
   "metadata": {},
   "outputs": [
    {
     "data": {
      "text/plain": [
       "(3,)"
      ]
     },
     "execution_count": 33,
     "metadata": {},
     "output_type": "execute_result"
    }
   ],
   "source": [
    "a.shape"
   ]
  },
  {
   "cell_type": "code",
   "execution_count": 36,
   "metadata": {},
   "outputs": [],
   "source": [
    "p=pd.DataFrame(a,columns=['Cost'],index=[2,6,4])"
   ]
  },
  {
   "cell_type": "code",
   "execution_count": 28,
   "metadata": {},
   "outputs": [
    {
     "name": "stdout",
     "output_type": "stream",
     "text": [
      "\n",
      "    Two-dimensional, size-mutable, potentially heterogeneous tabular data.\n",
      "\n",
      "    Data structure also contains labeled axes (rows and columns).\n",
      "    Arithmetic operations align on both row and column labels. Can be\n",
      "    thought of as a dict-like container for Series objects. The primary\n",
      "    pandas data structure.\n",
      "\n",
      "    Parameters\n",
      "    ----------\n",
      "    data : ndarray (structured or homogeneous), Iterable, dict, or DataFrame\n",
      "        Dict can contain Series, arrays, constants, or list-like objects.\n",
      "\n",
      "        .. versionchanged:: 0.23.0\n",
      "           If data is a dict, column order follows insertion-order for\n",
      "           Python 3.6 and later.\n",
      "\n",
      "        .. versionchanged:: 0.25.0\n",
      "           If data is a list of dicts, column order follows insertion-order\n",
      "           for Python 3.6 and later.\n",
      "\n",
      "    index : Index or array-like\n",
      "        Index to use for resulting frame. Will default to RangeIndex if\n",
      "        no indexing information part of input data and no index provided.\n",
      "    columns : Index or array-like\n",
      "        Column labels to use for resulting frame. Will default to\n",
      "        RangeIndex (0, 1, 2, ..., n) if no column labels are provided.\n",
      "    dtype : dtype, default None\n",
      "        Data type to force. Only a single dtype is allowed. If None, infer.\n",
      "    copy : bool, default False\n",
      "        Copy data from inputs. Only affects DataFrame / 2d ndarray input.\n",
      "\n",
      "    See Also\n",
      "    --------\n",
      "    DataFrame.from_records : Constructor from tuples, also record arrays.\n",
      "    DataFrame.from_dict : From dicts of Series, arrays, or dicts.\n",
      "    read_csv : Read a comma-separated values (csv) file into DataFrame.\n",
      "    read_table : Read general delimited file into DataFrame.\n",
      "    read_clipboard : Read text from clipboard into DataFrame.\n",
      "\n",
      "    Examples\n",
      "    --------\n",
      "    Constructing DataFrame from a dictionary.\n",
      "\n",
      "    >>> d = {'col1': [1, 2], 'col2': [3, 4]}\n",
      "    >>> df = pd.DataFrame(data=d)\n",
      "    >>> df\n",
      "       col1  col2\n",
      "    0     1     3\n",
      "    1     2     4\n",
      "\n",
      "    Notice that the inferred dtype is int64.\n",
      "\n",
      "    >>> df.dtypes\n",
      "    col1    int64\n",
      "    col2    int64\n",
      "    dtype: object\n",
      "\n",
      "    To enforce a single dtype:\n",
      "\n",
      "    >>> df = pd.DataFrame(data=d, dtype=np.int8)\n",
      "    >>> df.dtypes\n",
      "    col1    int8\n",
      "    col2    int8\n",
      "    dtype: object\n",
      "\n",
      "    Constructing DataFrame from numpy ndarray:\n",
      "\n",
      "    >>> df2 = pd.DataFrame(np.array([[1, 2, 3], [4, 5, 6], [7, 8, 9]]),\n",
      "    ...                    columns=['a', 'b', 'c'])\n",
      "    >>> df2\n",
      "       a  b  c\n",
      "    0  1  2  3\n",
      "    1  4  5  6\n",
      "    2  7  8  9\n",
      "    \n"
     ]
    }
   ],
   "source": [
    "print(pd.DataFrame().__doc__)"
   ]
  },
  {
   "cell_type": "code",
   "execution_count": 37,
   "metadata": {},
   "outputs": [
    {
     "data": {
      "text/html": [
       "<div>\n",
       "<style scoped>\n",
       "    .dataframe tbody tr th:only-of-type {\n",
       "        vertical-align: middle;\n",
       "    }\n",
       "\n",
       "    .dataframe tbody tr th {\n",
       "        vertical-align: top;\n",
       "    }\n",
       "\n",
       "    .dataframe thead th {\n",
       "        text-align: right;\n",
       "    }\n",
       "</style>\n",
       "<table border=\"1\" class=\"dataframe\">\n",
       "  <thead>\n",
       "    <tr style=\"text-align: right;\">\n",
       "      <th></th>\n",
       "      <th>Cost</th>\n",
       "    </tr>\n",
       "  </thead>\n",
       "  <tbody>\n",
       "    <tr>\n",
       "      <th>2</th>\n",
       "      <td>1</td>\n",
       "    </tr>\n",
       "    <tr>\n",
       "      <th>6</th>\n",
       "      <td>2</td>\n",
       "    </tr>\n",
       "    <tr>\n",
       "      <th>4</th>\n",
       "      <td>3</td>\n",
       "    </tr>\n",
       "  </tbody>\n",
       "</table>\n",
       "</div>"
      ],
      "text/plain": [
       "   Cost\n",
       "2     1\n",
       "6     2\n",
       "4     3"
      ]
     },
     "execution_count": 37,
     "metadata": {},
     "output_type": "execute_result"
    }
   ],
   "source": [
    "p"
   ]
  },
  {
   "cell_type": "code",
   "execution_count": null,
   "metadata": {},
   "outputs": [],
   "source": []
  }
 ],
 "metadata": {
  "colab": {
   "authorship_tag": "ABX9TyOKEQPaYSESOpyN1RfeCocP",
   "collapsed_sections": [],
   "include_colab_link": true,
   "mount_file_id": "1_pEtElvQceHQjDbWBjqBsFZiRIBSYajc",
   "name": "MNIST Using Multi Layer.ipynb",
   "provenance": []
  },
  "kernelspec": {
   "display_name": "Python 3",
   "language": "python",
   "name": "python3"
  }
 },
 "nbformat": 4,
 "nbformat_minor": 1
}
