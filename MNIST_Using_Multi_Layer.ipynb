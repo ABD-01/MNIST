{
  "nbformat": 4,
  "nbformat_minor": 0,
  "metadata": {
    "colab": {
      "name": "MNIST Using Multi Layer.ipynb",
      "provenance": [],
      "collapsed_sections": [],
      "mount_file_id": "1_pEtElvQceHQjDbWBjqBsFZiRIBSYajc",
      "authorship_tag": "ABX9TyOKEQPaYSESOpyN1RfeCocP",
      "include_colab_link": true
    },
    "kernelspec": {
      "name": "python3",
      "display_name": "Python 3"
    }
  },
  "cells": [
    {
      "cell_type": "markdown",
      "metadata": {
        "id": "view-in-github",
        "colab_type": "text"
      },
      "source": [
        "<a href=\"https://colab.research.google.com/github/ABD-01/MNIST/blob/main/MNIST_Using_Multi_Layer.ipynb\" target=\"_parent\"><img src=\"https://colab.research.google.com/assets/colab-badge.svg\" alt=\"Open In Colab\"/></a>"
      ]
    },
    {
      "cell_type": "code",
      "metadata": {
        "id": "fNcOOmvI4xMD"
      },
      "source": [
        "import matplotlib.pyplot as plt\n",
        "import numpy as np\n",
        "import idx2numpy\n",
        "from tqdm import tqdm\n",
        "import os"
      ],
      "execution_count": null,
      "outputs": []
    },
    {
      "cell_type": "code",
      "metadata": {
        "id": "fwAi4pFHARq8"
      },
      "source": [
        "test_images = idx2numpy.convert_from_file('/content/drive/MyDrive/Colab Notebooks/t10k-images.idx3-ubyte')\n",
        "test_labels = idx2numpy.convert_from_file('/content/drive/MyDrive/Colab Notebooks/t10k-labels.idx1-ubyte')\n",
        "train_images = idx2numpy.convert_from_file('/content/drive/MyDrive/Colab Notebooks/train-images.idx3-ubyte')\n",
        "train_labels = idx2numpy.convert_from_file('/content/drive/MyDrive/Colab Notebooks/train-labels.idx1-ubyte')"
      ],
      "execution_count": null,
      "outputs": []
    },
    {
      "cell_type": "code",
      "metadata": {
        "colab": {
          "base_uri": "https://localhost:8080/"
        },
        "id": "NkeaeqVdQRkT",
        "outputId": "5d854403-3848-44f7-8369-af3f3914f134"
      },
      "source": [
        "print(test_images.shape)\n",
        "print(test_labels.shape)\n",
        "print(train_images.shape)\n",
        "print(train_labels.shape)"
      ],
      "execution_count": null,
      "outputs": [
        {
          "output_type": "stream",
          "text": [
            "(10000, 28, 28)\n",
            "(10000,)\n",
            "(60000, 28, 28)\n",
            "(60000,)\n"
          ],
          "name": "stdout"
        }
      ]
    },
    {
      "cell_type": "code",
      "metadata": {
        "id": "pHQax7Q3YdxG"
      },
      "source": [
        "train_images_flat=train_images.reshape(train_images.shape[0], -1).T\n",
        "test_images_flat=test_images.reshape(test_images.shape[0], -1).T"
      ],
      "execution_count": null,
      "outputs": []
    },
    {
      "cell_type": "code",
      "metadata": {
        "colab": {
          "base_uri": "https://localhost:8080/"
        },
        "id": "H1a01P5UYfVs",
        "outputId": "128b4c65-6125-4985-98d4-87fc68fca9a5"
      },
      "source": [
        "m = train_images_flat.shape[1]\n",
        "m_test = test_images_flat.shape[1]\n",
        "print(f\"Train Examples(m)={m}\")\n",
        "print(f\"Test Examples(m_test)={m_test}\")\n",
        "X = train_images_flat/255\n",
        "X_test = test_images_flat/255\n",
        "print('X.shape=',X.shape)\n",
        "print('X_test.shape=',X_test.shape)"
      ],
      "execution_count": null,
      "outputs": [
        {
          "output_type": "stream",
          "text": [
            "Train Examples(m)=60000\n",
            "Test Examples(m_test)=10000\n",
            "X.shape= (784, 60000)\n",
            "X_test.shape= (784, 10000)\n"
          ],
          "name": "stdout"
        }
      ]
    },
    {
      "cell_type": "code",
      "metadata": {
        "id": "DU8gKiyBYkaX"
      },
      "source": [
        "def one_hot(row_vector, no_classes):\n",
        "    one_hot_vector = np.eye(no_classes)[row_vector.reshape(-1)]\n",
        "    return one_hot_vector.T"
      ],
      "execution_count": null,
      "outputs": []
    },
    {
      "cell_type": "code",
      "metadata": {
        "colab": {
          "base_uri": "https://localhost:8080/"
        },
        "id": "_w9oxkQqYluQ",
        "outputId": "50b0eeab-937f-4403-fbbc-05379dea9d1b"
      },
      "source": [
        "C = train_labels.max()+1\n",
        "print(f\"No. of Classes={C}\")\n",
        "Y_hot = one_hot(train_labels,no_classes=C)\n",
        "Y_test_hot = one_hot(test_labels,no_classes=C)\n",
        "print('Y_hot.shape=',Y_hot.shape) #Y_hot.shape is (C,m)\n",
        "print('Y_test_hot.shape=',Y_test_hot.shape) #Y_hot.shape is (C,m)"
      ],
      "execution_count": null,
      "outputs": [
        {
          "output_type": "stream",
          "text": [
            "No. of Classes=10\n",
            "Y_hot.shape= (10, 60000)\n",
            "Y_test_hot.shape= (10, 10000)\n"
          ],
          "name": "stdout"
        }
      ]
    },
    {
      "cell_type": "code",
      "metadata": {
        "colab": {
          "base_uri": "https://localhost:8080/"
        },
        "id": "odldvdgZagll",
        "outputId": "e3c12bf0-ff4b-401e-e9c0-90907a9b49ce"
      },
      "source": [
        "no_of_layers = 4\n",
        "nodes = [X.shape[0], 512, 128, 32, 10]   # 4 layers with size 512, 128, 32, 10\n",
        "nodes"
      ],
      "execution_count": 32,
      "outputs": [
        {
          "output_type": "execute_result",
          "data": {
            "text/plain": [
              "[784, 512, 128, 32, 10]"
            ]
          },
          "metadata": {
            "tags": []
          },
          "execution_count": 32
        }
      ]
    },
    {
      "cell_type": "code",
      "metadata": {
        "id": "_Fj2-ZzFYm9m"
      },
      "source": [
        "def initialize():\n",
        "  global WW, bb\n",
        "  WW = {}\n",
        "  bb = {}\n",
        "  for l in range(1,no_of_layers+1):\n",
        "    WW['W'+str(l)] = np.random.randn(nodes[l], nodes[l-1])*np.sqrt(2/nodes[l-1])\n",
        "    bb['b'+str(l)] = np.zeros((nodes[l],1))"
      ],
      "execution_count": 36,
      "outputs": []
    },
    {
      "cell_type": "code",
      "metadata": {
        "colab": {
          "base_uri": "https://localhost:8080/"
        },
        "id": "izW1U12ix7pU",
        "outputId": "eeee8a4e-8e6c-49ec-fbdb-a7896a02f395"
      },
      "source": [
        "list(range(1,no_of_layers+1))"
      ],
      "execution_count": 34,
      "outputs": [
        {
          "output_type": "execute_result",
          "data": {
            "text/plain": [
              "[1, 2, 3, 4]"
            ]
          },
          "metadata": {
            "tags": []
          },
          "execution_count": 34
        }
      ]
    },
    {
      "cell_type": "code",
      "metadata": {
        "id": "05S-PZnWx802"
      },
      "source": [
        "initialize()"
      ],
      "execution_count": 76,
      "outputs": []
    },
    {
      "cell_type": "code",
      "metadata": {
        "colab": {
          "base_uri": "https://localhost:8080/"
        },
        "id": "etzHnhyiywhj",
        "outputId": "20f44fa7-50bf-4ac9-ec39-723025147583"
      },
      "source": [
        "WW['W1'].shape, WW['W2'].shape,WW['W3'].shape, WW['W4'].shape"
      ],
      "execution_count": 77,
      "outputs": [
        {
          "output_type": "execute_result",
          "data": {
            "text/plain": [
              "((512, 784), (128, 512), (32, 128), (10, 32))"
            ]
          },
          "metadata": {
            "tags": []
          },
          "execution_count": 77
        }
      ]
    },
    {
      "cell_type": "code",
      "metadata": {
        "colab": {
          "base_uri": "https://localhost:8080/"
        },
        "id": "wr1QOUezyx4z",
        "outputId": "86b03e7e-5d4e-45ff-9ad0-255758f7bfab"
      },
      "source": [
        "bb['b1'].shape, bb['b2'].shape,bb['b3'].shape, bb['b4'].shape"
      ],
      "execution_count": 78,
      "outputs": [
        {
          "output_type": "execute_result",
          "data": {
            "text/plain": [
              "((512, 1), (128, 1), (32, 1), (10, 1))"
            ]
          },
          "metadata": {
            "tags": []
          },
          "execution_count": 78
        }
      ]
    },
    {
      "cell_type": "code",
      "metadata": {
        "id": "XBl5RbTZzN_E"
      },
      "source": [
        "def relu(z):\n",
        "  a = np.maximum(0,z)\n",
        "  return a\n",
        "\n",
        "def softmax(z):\n",
        "  t = np.exp(z)\n",
        "  a = t / np.sum(t, keepdims=True, axis=0)\n",
        "  return a\n",
        "\n",
        "# def derivative_relu(z)"
      ],
      "execution_count": 80,
      "outputs": []
    },
    {
      "cell_type": "code",
      "metadata": {
        "id": "nNg7xCVP0Og-"
      },
      "source": [
        "def forward():\n",
        "  global ZZ, AA\n",
        "  ZZ={}\n",
        "  AA={}\n",
        "  AA['A'+str(0)] = X\n",
        "  for l in range(1,no_of_layers):\n",
        "    ZZ['Z'+str(l)] = np.dot(WW['W'+str(l)], AA['A'+str(l-1)]) +  bb['b'+str(l)]\n",
        "    AA['A'+str(l)] = relu(ZZ['Z'+str(l)])\n",
        "\n",
        "  ZZ['Z'+str(no_of_layers)] = np.dot(WW['W'+str(no_of_layers)], AA['A'+str(no_of_layers-1)]) +  bb['b'+str(no_of_layers)]\n",
        "  AA['A'+str(no_of_layers)] = relu(ZZ['Z'+str(no_of_layers)])"
      ],
      "execution_count": 81,
      "outputs": []
    },
    {
      "cell_type": "code",
      "metadata": {
        "id": "dZ0xbPh20OlQ"
      },
      "source": [
        "forward()"
      ],
      "execution_count": 82,
      "outputs": []
    },
    {
      "cell_type": "code",
      "metadata": {
        "colab": {
          "base_uri": "https://localhost:8080/"
        },
        "id": "oM1Vz_ti-UCI",
        "outputId": "fded3808-7f6b-496e-8f10-7de946b68717"
      },
      "source": [
        "[(z[0],z[1].shape) for z in ZZ.items()], [(a[0],a[1].shape) for a in AA.items()]"
      ],
      "execution_count": 83,
      "outputs": [
        {
          "output_type": "execute_result",
          "data": {
            "text/plain": [
              "([('Z1', (512, 60000)),\n",
              "  ('Z2', (128, 60000)),\n",
              "  ('Z3', (32, 60000)),\n",
              "  ('Z4', (10, 60000))],\n",
              " [('A0', (784, 60000)),\n",
              "  ('A1', (512, 60000)),\n",
              "  ('A2', (128, 60000)),\n",
              "  ('A3', (32, 60000)),\n",
              "  ('A4', (10, 60000))])"
            ]
          },
          "metadata": {
            "tags": []
          },
          "execution_count": 83
        }
      ]
    },
    {
      "cell_type": "code",
      "metadata": {
        "id": "0Nh_ayDu-blE"
      },
      "source": [
        "def cost():\n",
        "  global L,J\n",
        "  L = -np.sum(Y_hot*np.log(AA['A'+str(no_of_layers)] + 1e-08), keepdims=True, axis=0)\n",
        "  J = np.sum(L, keepdims=True, axis=1)*(1/m)"
      ],
      "execution_count": 94,
      "outputs": []
    },
    {
      "cell_type": "code",
      "metadata": {
        "id": "-JX4eS0PANr7"
      },
      "source": [
        "cost()"
      ],
      "execution_count": 95,
      "outputs": []
    },
    {
      "cell_type": "code",
      "metadata": {
        "colab": {
          "base_uri": "https://localhost:8080/"
        },
        "id": "LRC3doBuDeac",
        "outputId": "ef69d1ee-a640-4f3e-ef03-bb3185048612"
      },
      "source": [
        "L.shape , J.shape"
      ],
      "execution_count": 70,
      "outputs": [
        {
          "output_type": "execute_result",
          "data": {
            "text/plain": [
              "((1, 60000), (1, 1))"
            ]
          },
          "metadata": {
            "tags": []
          },
          "execution_count": 70
        }
      ]
    },
    {
      "cell_type": "code",
      "metadata": {
        "id": "FqGE93RyD5Yn"
      },
      "source": [
        "def backward():\n",
        "  global dZZ, dWW, dbb\n",
        "  dZZ['dZ'+str(no_of_layers)] = "
      ],
      "execution_count": 72,
      "outputs": []
    },
    {
      "cell_type": "code",
      "metadata": {
        "colab": {
          "base_uri": "https://localhost:8080/"
        },
        "id": "rYADjsrGENo6",
        "outputId": "425377a0-89a0-4c93-81c1-ecd75f504f40"
      },
      "source": [
        "AA['A4'].any()"
      ],
      "execution_count": 93,
      "outputs": [
        {
          "output_type": "execute_result",
          "data": {
            "text/plain": [
              "True"
            ]
          },
          "metadata": {
            "tags": []
          },
          "execution_count": 93
        }
      ]
    },
    {
      "cell_type": "code",
      "metadata": {
        "id": "3p9E3N6BHWrH"
      },
      "source": [
        ""
      ],
      "execution_count": null,
      "outputs": []
    }
  ]
}