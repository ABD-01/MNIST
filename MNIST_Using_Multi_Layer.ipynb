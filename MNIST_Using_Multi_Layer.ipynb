{
  "nbformat": 4,
  "nbformat_minor": 0,
  "metadata": {
    "colab": {
      "name": "MNIST Using Multi Layer.ipynb",
      "provenance": [],
      "collapsed_sections": [],
      "mount_file_id": "1_pEtElvQceHQjDbWBjqBsFZiRIBSYajc",
      "authorship_tag": "ABX9TyMocfTPS7jKQ43/G8JjNxF/",
      "include_colab_link": true
    },
    "kernelspec": {
      "name": "python3",
      "display_name": "Python 3"
    }
  },
  "cells": [
    {
      "cell_type": "markdown",
      "metadata": {
        "id": "view-in-github",
        "colab_type": "text"
      },
      "source": [
        "<a href=\"https://colab.research.google.com/github/ABD-01/MNIST/blob/main/MNIST_Using_Multi_Layer.ipynb\" target=\"_parent\"><img src=\"https://colab.research.google.com/assets/colab-badge.svg\" alt=\"Open In Colab\"/></a>"
      ]
    },
    {
      "cell_type": "code",
      "metadata": {
        "colab": {
          "base_uri": "https://localhost:8080/"
        },
        "id": "iaqI_A_uFcu2",
        "outputId": "bbacdfef-b60c-4c9e-af98-3cf625cd8969"
      },
      "source": [
        "!pip install idx2numpy"
      ],
      "execution_count": 2,
      "outputs": [
        {
          "output_type": "stream",
          "text": [
            "Collecting idx2numpy\n",
            "  Downloading https://files.pythonhosted.org/packages/7e/6b/80628f6cc2f44d80b27f1ef7b57b257ed4c73766113b77d13ad110c091b4/idx2numpy-1.2.3.tar.gz\n",
            "Requirement already satisfied: numpy in /usr/local/lib/python3.6/dist-packages (from idx2numpy) (1.18.5)\n",
            "Requirement already satisfied: six in /usr/local/lib/python3.6/dist-packages (from idx2numpy) (1.15.0)\n",
            "Building wheels for collected packages: idx2numpy\n",
            "  Building wheel for idx2numpy (setup.py) ... \u001b[?25l\u001b[?25hdone\n",
            "  Created wheel for idx2numpy: filename=idx2numpy-1.2.3-cp36-none-any.whl size=7905 sha256=758be74ed7ac537f5a5290ed3d24e0cfd9e1890b7f804101e0ea930814d71cdd\n",
            "  Stored in directory: /root/.cache/pip/wheels/7a/c1/da/284ce80a748fab898b8d1fa95468a386e7cf3b81da18511f9d\n",
            "Successfully built idx2numpy\n",
            "Installing collected packages: idx2numpy\n",
            "Successfully installed idx2numpy-1.2.3\n"
          ],
          "name": "stdout"
        }
      ]
    },
    {
      "cell_type": "code",
      "metadata": {
        "id": "fNcOOmvI4xMD"
      },
      "source": [
        "import matplotlib.pyplot as plt\n",
        "import numpy as np\n",
        "import idx2numpy\n",
        "from tqdm import tqdm\n",
        "import os"
      ],
      "execution_count": 4,
      "outputs": []
    },
    {
      "cell_type": "code",
      "metadata": {
        "id": "fwAi4pFHARq8"
      },
      "source": [
        "test_images = idx2numpy.convert_from_file('/content/drive/MyDrive/Colab Notebooks/t10k-images.idx3-ubyte')\n",
        "test_labels = idx2numpy.convert_from_file('/content/drive/MyDrive/Colab Notebooks/t10k-labels.idx1-ubyte')\n",
        "train_images = idx2numpy.convert_from_file('/content/drive/MyDrive/Colab Notebooks/train-images.idx3-ubyte')\n",
        "train_labels = idx2numpy.convert_from_file('/content/drive/MyDrive/Colab Notebooks/train-labels.idx1-ubyte')"
      ],
      "execution_count": 5,
      "outputs": []
    },
    {
      "cell_type": "code",
      "metadata": {
        "colab": {
          "base_uri": "https://localhost:8080/"
        },
        "id": "NkeaeqVdQRkT",
        "outputId": "83becc1d-f985-4c27-94a4-2224b675f6f7"
      },
      "source": [
        "print(test_images.shape)\n",
        "print(test_labels.shape)\n",
        "print(train_images.shape)\n",
        "print(train_labels.shape)"
      ],
      "execution_count": 6,
      "outputs": [
        {
          "output_type": "stream",
          "text": [
            "(10000, 28, 28)\n",
            "(10000,)\n",
            "(60000, 28, 28)\n",
            "(60000,)\n"
          ],
          "name": "stdout"
        }
      ]
    },
    {
      "cell_type": "code",
      "metadata": {
        "id": "pHQax7Q3YdxG"
      },
      "source": [
        "train_images_flat=train_images.reshape(train_images.shape[0], -1).T\n",
        "test_images_flat=test_images.reshape(test_images.shape[0], -1).T"
      ],
      "execution_count": 7,
      "outputs": []
    },
    {
      "cell_type": "code",
      "metadata": {
        "colab": {
          "base_uri": "https://localhost:8080/"
        },
        "id": "H1a01P5UYfVs",
        "outputId": "fbac87fb-8014-4568-a34c-fb38b7e528da"
      },
      "source": [
        "m = train_images_flat.shape[1]\n",
        "m_test = test_images_flat.shape[1]\n",
        "print(f\"Train Examples(m)={m}\")\n",
        "print(f\"Test Examples(m_test)={m_test}\")\n",
        "X = train_images_flat/255\n",
        "X_test = test_images_flat/255\n",
        "print('X.shape=',X.shape)\n",
        "print('X_test.shape=',X_test.shape)"
      ],
      "execution_count": 8,
      "outputs": [
        {
          "output_type": "stream",
          "text": [
            "Train Examples(m)=60000\n",
            "Test Examples(m_test)=10000\n",
            "X.shape= (784, 60000)\n",
            "X_test.shape= (784, 10000)\n"
          ],
          "name": "stdout"
        }
      ]
    },
    {
      "cell_type": "code",
      "metadata": {
        "id": "DU8gKiyBYkaX"
      },
      "source": [
        "def one_hot(row_vector, no_classes):\n",
        "    one_hot_vector = np.eye(no_classes)[row_vector.reshape(-1)]\n",
        "    return one_hot_vector.T"
      ],
      "execution_count": 9,
      "outputs": []
    },
    {
      "cell_type": "code",
      "metadata": {
        "colab": {
          "base_uri": "https://localhost:8080/"
        },
        "id": "_w9oxkQqYluQ",
        "outputId": "8fb547f9-6197-4429-d04b-3177faa1b07b"
      },
      "source": [
        "C = train_labels.max()+1\n",
        "print(f\"No. of Classes={C}\")\n",
        "Y_hot = one_hot(train_labels,no_classes=C)\n",
        "Y_test_hot = one_hot(test_labels,no_classes=C)\n",
        "print('Y_hot.shape=',Y_hot.shape) #Y_hot.shape is (C,m)\n",
        "print('Y_test_hot.shape=',Y_test_hot.shape) #Y_hot.shape is (C,m)"
      ],
      "execution_count": 10,
      "outputs": [
        {
          "output_type": "stream",
          "text": [
            "No. of Classes=10\n",
            "Y_hot.shape= (10, 60000)\n",
            "Y_test_hot.shape= (10, 10000)\n"
          ],
          "name": "stdout"
        }
      ]
    },
    {
      "cell_type": "code",
      "metadata": {
        "colab": {
          "base_uri": "https://localhost:8080/"
        },
        "id": "odldvdgZagll",
        "outputId": "61ac1a76-2e14-43a6-ebfb-18a4f625bede"
      },
      "source": [
        "no_of_layers = 4\n",
        "nodes = [X.shape[0], 512, 128, 32, 10]   # 4 layers with size 512, 128, 32, 10\n",
        "nodes"
      ],
      "execution_count": 132,
      "outputs": [
        {
          "output_type": "execute_result",
          "data": {
            "text/plain": [
              "[784, 512, 128, 32, 10]"
            ]
          },
          "metadata": {
            "tags": []
          },
          "execution_count": 132
        }
      ]
    },
    {
      "cell_type": "code",
      "metadata": {
        "id": "_Fj2-ZzFYm9m"
      },
      "source": [
        "def initialize():\n",
        "  global WW, bb\n",
        "  WW = {}\n",
        "  bb = {}\n",
        "  for l in range(1,no_of_layers+1):\n",
        "    WW['W'+str(l)] = np.random.randn(nodes[l], nodes[l-1])*np.sqrt(2/nodes[l-1])\n",
        "    bb['b'+str(l)] = np.zeros((nodes[l],1))"
      ],
      "execution_count": 133,
      "outputs": []
    },
    {
      "cell_type": "code",
      "metadata": {
        "colab": {
          "base_uri": "https://localhost:8080/"
        },
        "id": "izW1U12ix7pU",
        "outputId": "0fd76c42-91e5-43ad-e128-97232b05844d"
      },
      "source": [
        "list(range(1,no_of_layers+1))"
      ],
      "execution_count": 134,
      "outputs": [
        {
          "output_type": "execute_result",
          "data": {
            "text/plain": [
              "[1, 2, 3, 4]"
            ]
          },
          "metadata": {
            "tags": []
          },
          "execution_count": 134
        }
      ]
    },
    {
      "cell_type": "code",
      "metadata": {
        "id": "05S-PZnWx802"
      },
      "source": [
        "initialize()"
      ],
      "execution_count": 135,
      "outputs": []
    },
    {
      "cell_type": "code",
      "metadata": {
        "colab": {
          "base_uri": "https://localhost:8080/"
        },
        "id": "etzHnhyiywhj",
        "outputId": "a09c104d-e800-4e81-b89d-7f1397fb1db5"
      },
      "source": [
        "WW['W1'].shape, WW['W2'].shape,WW['W3'].shape, WW['W4'].shape"
      ],
      "execution_count": 136,
      "outputs": [
        {
          "output_type": "execute_result",
          "data": {
            "text/plain": [
              "((512, 784), (128, 512), (32, 128), (10, 32))"
            ]
          },
          "metadata": {
            "tags": []
          },
          "execution_count": 136
        }
      ]
    },
    {
      "cell_type": "code",
      "metadata": {
        "colab": {
          "base_uri": "https://localhost:8080/"
        },
        "id": "wr1QOUezyx4z",
        "outputId": "f7bb8971-3175-4087-cc3c-2211fd96243c"
      },
      "source": [
        "bb['b1'].shape, bb['b2'].shape,bb['b3'].shape, bb['b4'].shape"
      ],
      "execution_count": 137,
      "outputs": [
        {
          "output_type": "execute_result",
          "data": {
            "text/plain": [
              "((512, 1), (128, 1), (32, 1), (10, 1))"
            ]
          },
          "metadata": {
            "tags": []
          },
          "execution_count": 137
        }
      ]
    },
    {
      "cell_type": "code",
      "metadata": {
        "id": "XBl5RbTZzN_E"
      },
      "source": [
        "def relu(z):\n",
        "  a = np.maximum(0,z)\n",
        "  return a\n",
        "\n",
        "def softmax(z):\n",
        "  t = np.exp(z)\n",
        "  a = t / (np.sum(t, keepdims=True, axis=0))\n",
        "  return a  #+ 1e-08\n",
        "\n",
        "def derivative_relu(da,z):\n",
        "  dz = np.array(da, copy=True)\n",
        "  dz[z<=0] = 0\n",
        "  dz[z>0] = 1\n",
        "  return dz\n"
      ],
      "execution_count": 138,
      "outputs": []
    },
    {
      "cell_type": "code",
      "metadata": {
        "id": "nNg7xCVP0Og-"
      },
      "source": [
        "def forward():\n",
        "  global ZZ, AA\n",
        "  ZZ={}\n",
        "  AA={}\n",
        "  AA['A'+str(0)] = X\n",
        "  for l in range(1,no_of_layers):\n",
        "    ZZ['Z'+str(l)] = np.dot(WW['W'+str(l)], AA['A'+str(l-1)]) +  bb['b'+str(l)]\n",
        "    AA['A'+str(l)] = relu(ZZ['Z'+str(l)])\n",
        "\n",
        "  ZZ['Z'+str(no_of_layers)] = np.dot(WW['W'+str(no_of_layers)], AA['A'+str(no_of_layers-1)]) +  bb['b'+str(no_of_layers)]\n",
        "  AA['A'+str(no_of_layers)] = softmax(ZZ['Z'+str(no_of_layers)])"
      ],
      "execution_count": 139,
      "outputs": []
    },
    {
      "cell_type": "code",
      "metadata": {
        "id": "dZ0xbPh20OlQ"
      },
      "source": [
        "forward()"
      ],
      "execution_count": 140,
      "outputs": []
    },
    {
      "cell_type": "code",
      "metadata": {
        "colab": {
          "base_uri": "https://localhost:8080/"
        },
        "id": "oM1Vz_ti-UCI",
        "outputId": "eb3a0fda-9f6b-4289-9a42-c10d0355f731"
      },
      "source": [
        "[(z[0],z[1].shape) for z in ZZ.items()], [(a[0],a[1].shape) for a in AA.items()]"
      ],
      "execution_count": 141,
      "outputs": [
        {
          "output_type": "execute_result",
          "data": {
            "text/plain": [
              "([('Z1', (512, 60000)),\n",
              "  ('Z2', (128, 60000)),\n",
              "  ('Z3', (32, 60000)),\n",
              "  ('Z4', (10, 60000))],\n",
              " [('A0', (784, 60000)),\n",
              "  ('A1', (512, 60000)),\n",
              "  ('A2', (128, 60000)),\n",
              "  ('A3', (32, 60000)),\n",
              "  ('A4', (10, 60000))])"
            ]
          },
          "metadata": {
            "tags": []
          },
          "execution_count": 141
        }
      ]
    },
    {
      "cell_type": "code",
      "metadata": {
        "id": "0Nh_ayDu-blE"
      },
      "source": [
        "def cost():\n",
        "  global L,J\n",
        "  L = -np.sum(Y_hot*np.log(AA['A'+str(no_of_layers)]), keepdims=True, axis=0)\n",
        "  J = np.sum(L, keepdims=True, axis=1)*(1/m)\n",
        "  # J = -np.sum(Y_hot*np.log(AA['A'+str(no_of_layers)]), keepdims=True) / m"
      ],
      "execution_count": 142,
      "outputs": []
    },
    {
      "cell_type": "code",
      "metadata": {
        "id": "-JX4eS0PANr7"
      },
      "source": [
        "cost()"
      ],
      "execution_count": 143,
      "outputs": []
    },
    {
      "cell_type": "code",
      "metadata": {
        "colab": {
          "base_uri": "https://localhost:8080/"
        },
        "id": "LRC3doBuDeac",
        "outputId": "98391641-f473-482e-e9d1-6dc020cf895b"
      },
      "source": [
        "L.shape , J.shape"
      ],
      "execution_count": 144,
      "outputs": [
        {
          "output_type": "execute_result",
          "data": {
            "text/plain": [
              "((1, 60000), (1, 1))"
            ]
          },
          "metadata": {
            "tags": []
          },
          "execution_count": 144
        }
      ]
    },
    {
      "cell_type": "code",
      "metadata": {
        "id": "FqGE93RyD5Yn"
      },
      "source": [
        "def backward():\n",
        "  global dAA, dZZ, dWW, dbb\n",
        "  dAA = {}\n",
        "  dZZ = {}\n",
        "  dWW = {}\n",
        "  dbb = {}\n",
        "  dZZ['dZ'+str(no_of_layers)] = AA['A'+str(no_of_layers)] - Y_hot\n",
        "  dWW['dW'+str(no_of_layers)] = np.dot(dZZ['dZ'+str(no_of_layers)], AA['A'+str(no_of_layers-1)].T) / m\n",
        "  dbb['db'+str(no_of_layers)] = np.sum(dZZ['dZ'+str(no_of_layers)], axis=1, keepdims=True) / m\n",
        "  dAA['dA'+str(no_of_layers-1)] = np.dot(WW['W'+str(no_of_layers)].T, dZZ['dZ'+str(no_of_layers)])\n",
        "\n",
        "  for l in range(no_of_layers-1,0,-1):\n",
        "    dZZ['dZ'+str(l)] = np.multiply(dAA['dA'+str(l)] , derivative_relu(dAA['dA'+str(l)], ZZ['Z'+str(l)]))\n",
        "    dWW['dW'+str(l)] = np.dot(dZZ['dZ'+str(l)], AA['A'+str(l-1)].T) / m\n",
        "    dbb['db'+str(l)] = np.sum(dZZ['dZ'+str(l)], axis=1, keepdims=True) / m\n",
        "    dAA['dA'+str(l-1)] = np.dot(WW['W'+str(l)].T, dZZ['dZ'+str(l)])"
      ],
      "execution_count": 145,
      "outputs": []
    },
    {
      "cell_type": "code",
      "metadata": {
        "id": "rYADjsrGENo6"
      },
      "source": [
        "backward()"
      ],
      "execution_count": 146,
      "outputs": []
    },
    {
      "cell_type": "code",
      "metadata": {
        "colab": {
          "base_uri": "https://localhost:8080/"
        },
        "id": "3p9E3N6BHWrH",
        "outputId": "269d3d38-9862-4d37-a091-25cf2f3e3b85"
      },
      "source": [
        "[(dz[0],dz[1].shape) for dz in dZZ.items()], [(da[0],da[1].shape) for da in dAA.items()]"
      ],
      "execution_count": 147,
      "outputs": [
        {
          "output_type": "execute_result",
          "data": {
            "text/plain": [
              "([('dZ4', (10, 60000)),\n",
              "  ('dZ3', (32, 60000)),\n",
              "  ('dZ2', (128, 60000)),\n",
              "  ('dZ1', (512, 60000))],\n",
              " [('dA3', (32, 60000)),\n",
              "  ('dA2', (128, 60000)),\n",
              "  ('dA1', (512, 60000)),\n",
              "  ('dA0', (784, 60000))])"
            ]
          },
          "metadata": {
            "tags": []
          },
          "execution_count": 147
        }
      ]
    },
    {
      "cell_type": "code",
      "metadata": {
        "colab": {
          "base_uri": "https://localhost:8080/"
        },
        "id": "omzv56EAmITm",
        "outputId": "2f9a58e9-9b85-4a44-eba7-22dda629d7dd"
      },
      "source": [
        "[(dw[0],dw[1].shape) for dw in dWW.items()], [(db[0],db[1].shape) for db in dbb.items()]"
      ],
      "execution_count": 148,
      "outputs": [
        {
          "output_type": "execute_result",
          "data": {
            "text/plain": [
              "([('dW4', (10, 32)),\n",
              "  ('dW3', (32, 128)),\n",
              "  ('dW2', (128, 512)),\n",
              "  ('dW1', (512, 784))],\n",
              " [('db4', (10, 1)), ('db3', (32, 1)), ('db2', (128, 1)), ('db1', (512, 1))])"
            ]
          },
          "metadata": {
            "tags": []
          },
          "execution_count": 148
        }
      ]
    },
    {
      "cell_type": "code",
      "metadata": {
        "id": "H_ioOyXqmJaO"
      },
      "source": [
        "initialize()"
      ],
      "execution_count": 153,
      "outputs": []
    },
    {
      "cell_type": "markdown",
      "metadata": {
        "id": "YoFoZqiku3_3"
      },
      "source": [
        ""
      ]
    },
    {
      "cell_type": "code",
      "metadata": {
        "colab": {
          "base_uri": "https://localhost:8080/",
          "height": 1000
        },
        "id": "EvEAG2q7qmtF",
        "outputId": "6e2076d0-f536-40ea-e5ee-9ba77b6ed52f"
      },
      "source": [
        "#optimise\n",
        "alpha = 0.09\n",
        "iterations = 2000\n",
        "global costs\n",
        "costs=[]\n",
        "for i in range(iterations):\n",
        "    forward()\n",
        "    if i%4 ==0:\n",
        "      cost()\n",
        "      costs.append(J)\n",
        "      print(f'Cost at {i}th loop = {J}')\n",
        "    backward()\n",
        "    for l in range(1,no_of_layers+1):\n",
        "      WW['W'+str(l)] = WW['W'+str(l)] - (alpha*dWW['dW'+str(l)])\n",
        "      bb['b'+str(l)] = bb['b'+str(l)] - (alpha*dbb['db'+str(l)])"
      ],
      "execution_count": 156,
      "outputs": [
        {
          "output_type": "stream",
          "text": [
            "Cost at 0th loop = [[2.28321651]]\n",
            "Cost at 4th loop = [[2.03666816]]\n",
            "Cost at 8th loop = [[1.76247568]]\n",
            "Cost at 12th loop = [[1.48769251]]\n",
            "Cost at 16th loop = [[1.22769608]]\n",
            "Cost at 20th loop = [[1.01176634]]\n",
            "Cost at 24th loop = [[0.86459433]]\n",
            "Cost at 28th loop = [[1.35444147]]\n",
            "Cost at 32th loop = [[0.73854994]]\n",
            "Cost at 36th loop = [[0.70439051]]\n",
            "Cost at 40th loop = [[0.72213432]]\n",
            "Cost at 44th loop = [[0.59578099]]\n",
            "Cost at 48th loop = [[0.53900403]]\n",
            "Cost at 52th loop = [[0.51405383]]\n",
            "Cost at 56th loop = [[0.50499407]]\n",
            "Cost at 60th loop = [[0.49396985]]\n",
            "Cost at 64th loop = [[0.46429806]]\n",
            "Cost at 68th loop = [[0.43741638]]\n",
            "Cost at 72th loop = [[0.42106529]]\n",
            "Cost at 76th loop = [[0.41222283]]\n",
            "Cost at 80th loop = [[0.41066064]]\n",
            "Cost at 84th loop = [[0.41685988]]\n",
            "Cost at 88th loop = [[0.42108976]]\n",
            "Cost at 92th loop = [[0.39920119]]\n",
            "Cost at 96th loop = [[0.36790863]]\n",
            "Cost at 100th loop = [[0.35116894]]\n",
            "Cost at 104th loop = [[0.34219294]]\n",
            "Cost at 108th loop = [[0.33555229]]\n",
            "Cost at 112th loop = [[0.32978417]]\n",
            "Cost at 116th loop = [[0.32448974]]\n",
            "Cost at 120th loop = [[0.31954838]]\n",
            "Cost at 124th loop = [[0.31490859]]\n",
            "Cost at 128th loop = [[0.31055007]]\n",
            "Cost at 132th loop = [[0.30647702]]\n",
            "Cost at 136th loop = [[0.30270647]]\n",
            "Cost at 140th loop = [[0.29936442]]\n",
            "Cost at 144th loop = [[0.29668991]]\n",
            "Cost at 148th loop = [[0.29510504]]\n",
            "Cost at 152th loop = [[0.2954217]]\n",
            "Cost at 156th loop = [[0.29876624]]\n",
            "Cost at 160th loop = [[0.3045162]]\n",
            "Cost at 164th loop = [[0.30367713]]\n",
            "Cost at 168th loop = [[0.28703389]]\n",
            "Cost at 172th loop = [[0.27478604]]\n",
            "Cost at 176th loop = [[0.26978841]]\n",
            "Cost at 180th loop = [[0.26658868]]\n",
            "Cost at 184th loop = [[0.26379768]]\n",
            "Cost at 188th loop = [[0.26115264]]\n",
            "Cost at 192th loop = [[0.25860246]]\n",
            "Cost at 196th loop = [[0.25612878]]\n",
            "Cost at 200th loop = [[0.25372334]]\n",
            "Cost at 204th loop = [[0.25138431]]\n",
            "Cost at 208th loop = [[0.24910524]]\n",
            "Cost at 212th loop = [[0.24688048]]\n",
            "Cost at 216th loop = [[0.24471037]]\n",
            "Cost at 220th loop = [[0.24259065]]\n",
            "Cost at 224th loop = [[0.24051943]]\n",
            "Cost at 228th loop = [[0.23849473]]\n",
            "Cost at 232th loop = [[0.23651543]]\n",
            "Cost at 236th loop = [[0.23458113]]\n",
            "Cost at 240th loop = [[0.23268455]]\n",
            "Cost at 244th loop = [[0.23082486]]\n",
            "Cost at 248th loop = [[0.22900131]]\n",
            "Cost at 252th loop = [[0.22721268]]\n",
            "Cost at 256th loop = [[0.22545706]]\n",
            "Cost at 260th loop = [[0.22373343]]\n",
            "Cost at 264th loop = [[0.22204233]]\n",
            "Cost at 268th loop = [[0.22038369]]\n",
            "Cost at 272th loop = [[0.21875492]]\n",
            "Cost at 276th loop = [[0.217155]]\n",
            "Cost at 280th loop = [[0.21558271]]\n",
            "Cost at 284th loop = [[0.21403776]]\n",
            "Cost at 288th loop = [[0.21251979]]\n",
            "Cost at 292th loop = [[0.21102723]]\n",
            "Cost at 296th loop = [[0.2095576]]\n",
            "Cost at 300th loop = [[0.20811219]]\n",
            "Cost at 304th loop = [[0.20669055]]\n",
            "Cost at 308th loop = [[0.20529052]]\n",
            "Cost at 312th loop = [[0.20391186]]\n",
            "Cost at 316th loop = [[0.20255295]]\n",
            "Cost at 320th loop = [[0.20121398]]\n",
            "Cost at 324th loop = [[0.19989499]]\n",
            "Cost at 328th loop = [[0.1985955]]\n",
            "Cost at 332th loop = [[0.19731399]]\n",
            "Cost at 336th loop = [[0.19604997]]\n",
            "Cost at 340th loop = [[0.19480263]]\n",
            "Cost at 344th loop = [[0.19357269]]\n",
            "Cost at 348th loop = [[0.19235977]]\n",
            "Cost at 352th loop = [[0.19116255]]\n",
            "Cost at 356th loop = [[0.1899811]]\n",
            "Cost at 360th loop = [[0.1888158]]\n",
            "Cost at 364th loop = [[0.18766694]]\n",
            "Cost at 368th loop = [[0.18653269]]\n",
            "Cost at 372th loop = [[0.18541205]]\n",
            "Cost at 376th loop = [[0.18430612]]\n",
            "Cost at 380th loop = [[0.18321451]]\n",
            "Cost at 384th loop = [[0.18213624]]\n",
            "Cost at 388th loop = [[0.18107114]]\n",
            "Cost at 392th loop = [[0.18001837]]\n",
            "Cost at 396th loop = [[0.17897849]]\n",
            "Cost at 400th loop = [[0.17795132]]\n",
            "Cost at 404th loop = [[0.17693638]]\n",
            "Cost at 408th loop = [[0.17593243]]\n",
            "Cost at 412th loop = [[0.17493974]]\n",
            "Cost at 416th loop = [[0.17395712]]\n",
            "Cost at 420th loop = [[0.17298662]]\n",
            "Cost at 424th loop = [[0.17202659]]\n",
            "Cost at 428th loop = [[0.17107619]]\n",
            "Cost at 432th loop = [[0.17013707]]\n",
            "Cost at 436th loop = [[0.16920851]]\n",
            "Cost at 440th loop = [[0.16829056]]\n",
            "Cost at 444th loop = [[0.16738179]]\n",
            "Cost at 448th loop = [[0.16648322]]\n",
            "Cost at 452th loop = [[0.16559418]]\n",
            "Cost at 456th loop = [[0.16471546]]\n",
            "Cost at 460th loop = [[0.1638474]]\n"
          ],
          "name": "stdout"
        },
        {
          "output_type": "error",
          "ename": "KeyboardInterrupt",
          "evalue": "ignored",
          "traceback": [
            "\u001b[0;31m---------------------------------------------------------------------------\u001b[0m",
            "\u001b[0;31mKeyboardInterrupt\u001b[0m                         Traceback (most recent call last)",
            "\u001b[0;32m<ipython-input-156-2427da2778bd>\u001b[0m in \u001b[0;36m<module>\u001b[0;34m()\u001b[0m\n\u001b[1;32m      5\u001b[0m \u001b[0mcosts\u001b[0m\u001b[0;34m=\u001b[0m\u001b[0;34m[\u001b[0m\u001b[0;34m]\u001b[0m\u001b[0;34m\u001b[0m\u001b[0;34m\u001b[0m\u001b[0m\n\u001b[1;32m      6\u001b[0m \u001b[0;32mfor\u001b[0m \u001b[0mi\u001b[0m \u001b[0;32min\u001b[0m \u001b[0mrange\u001b[0m\u001b[0;34m(\u001b[0m\u001b[0miterations\u001b[0m\u001b[0;34m)\u001b[0m\u001b[0;34m:\u001b[0m\u001b[0;34m\u001b[0m\u001b[0;34m\u001b[0m\u001b[0m\n\u001b[0;32m----> 7\u001b[0;31m     \u001b[0mforward\u001b[0m\u001b[0;34m(\u001b[0m\u001b[0;34m)\u001b[0m\u001b[0;34m\u001b[0m\u001b[0;34m\u001b[0m\u001b[0m\n\u001b[0m\u001b[1;32m      8\u001b[0m     \u001b[0;32mif\u001b[0m \u001b[0mi\u001b[0m\u001b[0;34m%\u001b[0m\u001b[0;36m4\u001b[0m \u001b[0;34m==\u001b[0m\u001b[0;36m0\u001b[0m\u001b[0;34m:\u001b[0m\u001b[0;34m\u001b[0m\u001b[0;34m\u001b[0m\u001b[0m\n\u001b[1;32m      9\u001b[0m       \u001b[0mcost\u001b[0m\u001b[0;34m(\u001b[0m\u001b[0;34m)\u001b[0m\u001b[0;34m\u001b[0m\u001b[0;34m\u001b[0m\u001b[0m\n",
            "\u001b[0;32m<ipython-input-139-c8aab6bab326>\u001b[0m in \u001b[0;36mforward\u001b[0;34m()\u001b[0m\n\u001b[1;32m      5\u001b[0m   \u001b[0mAA\u001b[0m\u001b[0;34m[\u001b[0m\u001b[0;34m'A'\u001b[0m\u001b[0;34m+\u001b[0m\u001b[0mstr\u001b[0m\u001b[0;34m(\u001b[0m\u001b[0;36m0\u001b[0m\u001b[0;34m)\u001b[0m\u001b[0;34m]\u001b[0m \u001b[0;34m=\u001b[0m \u001b[0mX\u001b[0m\u001b[0;34m\u001b[0m\u001b[0;34m\u001b[0m\u001b[0m\n\u001b[1;32m      6\u001b[0m   \u001b[0;32mfor\u001b[0m \u001b[0ml\u001b[0m \u001b[0;32min\u001b[0m \u001b[0mrange\u001b[0m\u001b[0;34m(\u001b[0m\u001b[0;36m1\u001b[0m\u001b[0;34m,\u001b[0m\u001b[0mno_of_layers\u001b[0m\u001b[0;34m)\u001b[0m\u001b[0;34m:\u001b[0m\u001b[0;34m\u001b[0m\u001b[0;34m\u001b[0m\u001b[0m\n\u001b[0;32m----> 7\u001b[0;31m     \u001b[0mZZ\u001b[0m\u001b[0;34m[\u001b[0m\u001b[0;34m'Z'\u001b[0m\u001b[0;34m+\u001b[0m\u001b[0mstr\u001b[0m\u001b[0;34m(\u001b[0m\u001b[0ml\u001b[0m\u001b[0;34m)\u001b[0m\u001b[0;34m]\u001b[0m \u001b[0;34m=\u001b[0m \u001b[0mnp\u001b[0m\u001b[0;34m.\u001b[0m\u001b[0mdot\u001b[0m\u001b[0;34m(\u001b[0m\u001b[0mWW\u001b[0m\u001b[0;34m[\u001b[0m\u001b[0;34m'W'\u001b[0m\u001b[0;34m+\u001b[0m\u001b[0mstr\u001b[0m\u001b[0;34m(\u001b[0m\u001b[0ml\u001b[0m\u001b[0;34m)\u001b[0m\u001b[0;34m]\u001b[0m\u001b[0;34m,\u001b[0m \u001b[0mAA\u001b[0m\u001b[0;34m[\u001b[0m\u001b[0;34m'A'\u001b[0m\u001b[0;34m+\u001b[0m\u001b[0mstr\u001b[0m\u001b[0;34m(\u001b[0m\u001b[0ml\u001b[0m\u001b[0;34m-\u001b[0m\u001b[0;36m1\u001b[0m\u001b[0;34m)\u001b[0m\u001b[0;34m]\u001b[0m\u001b[0;34m)\u001b[0m \u001b[0;34m+\u001b[0m  \u001b[0mbb\u001b[0m\u001b[0;34m[\u001b[0m\u001b[0;34m'b'\u001b[0m\u001b[0;34m+\u001b[0m\u001b[0mstr\u001b[0m\u001b[0;34m(\u001b[0m\u001b[0ml\u001b[0m\u001b[0;34m)\u001b[0m\u001b[0;34m]\u001b[0m\u001b[0;34m\u001b[0m\u001b[0;34m\u001b[0m\u001b[0m\n\u001b[0m\u001b[1;32m      8\u001b[0m     \u001b[0mAA\u001b[0m\u001b[0;34m[\u001b[0m\u001b[0;34m'A'\u001b[0m\u001b[0;34m+\u001b[0m\u001b[0mstr\u001b[0m\u001b[0;34m(\u001b[0m\u001b[0ml\u001b[0m\u001b[0;34m)\u001b[0m\u001b[0;34m]\u001b[0m \u001b[0;34m=\u001b[0m \u001b[0mrelu\u001b[0m\u001b[0;34m(\u001b[0m\u001b[0mZZ\u001b[0m\u001b[0;34m[\u001b[0m\u001b[0;34m'Z'\u001b[0m\u001b[0;34m+\u001b[0m\u001b[0mstr\u001b[0m\u001b[0;34m(\u001b[0m\u001b[0ml\u001b[0m\u001b[0;34m)\u001b[0m\u001b[0;34m]\u001b[0m\u001b[0;34m)\u001b[0m\u001b[0;34m\u001b[0m\u001b[0;34m\u001b[0m\u001b[0m\n\u001b[1;32m      9\u001b[0m \u001b[0;34m\u001b[0m\u001b[0m\n",
            "\u001b[0;32m<__array_function__ internals>\u001b[0m in \u001b[0;36mdot\u001b[0;34m(*args, **kwargs)\u001b[0m\n",
            "\u001b[0;31mKeyboardInterrupt\u001b[0m: "
          ]
        }
      ]
    },
    {
      "cell_type": "code",
      "metadata": {
        "id": "J7FkJReoqtB_",
        "colab": {
          "base_uri": "https://localhost:8080/",
          "height": 296
        },
        "outputId": "21d03e69-d59a-4aee-a13e-66b8c3efd354"
      },
      "source": [
        "plt.plot(np.arange(0,462,4), np.array(costs).reshape(len(costs),1))\n",
        "plt.ylabel('cost')\n",
        "plt.xlabel('iterations')\n",
        "plt.show()\n",
        "len(costs),i"
      ],
      "execution_count": 160,
      "outputs": [
        {
          "output_type": "display_data",
          "data": {
            "image/png": "[encoded data removed]",
            "text/plain": [
              "<Figure size 432x288 with 1 Axes>"
            ]
          },
          "metadata": {
            "tags": [],
            "needs_background": "light"
          }
        },
        {
          "output_type": "execute_result",
          "data": {
            "text/plain": [
              "(116, 462)"
            ]
          },
          "metadata": {
            "tags": []
          },
          "execution_count": 160
        }
      ]
    },
    {
      "cell_type": "code",
      "metadata": {
        "colab": {
          "base_uri": "https://localhost:8080/"
        },
        "id": "8z84GL-9HOnx",
        "outputId": "37ddb9d9-176c-4aec-a079-561f5b2431e4"
      },
      "source": [
        "forward()\n",
        "a = np.abs(AA['A4']- Y_hot)\n",
        "print(f'Accuracy : {100 - np.mean(a)*100} on Train Set')"
      ],
      "execution_count": 171,
      "outputs": [
        {
          "output_type": "stream",
          "text": [
            "Accuracy : 98.22282767108223 on Train Set\n"
          ],
          "name": "stdout"
        }
      ]
    },
    {
      "cell_type": "code",
      "metadata": {
        "colab": {
          "base_uri": "https://localhost:8080/"
        },
        "id": "dnFNcTksYnQO",
        "outputId": "332b2c12-b292-4d98-e4ac-3e4c11428936"
      },
      "source": [
        "# A[:,0].max() == A[:,0]\n",
        "O = (np.max(AA['A4'],axis=0) == AA['A4']).T * np.array([0,1,2,3,4,5,6,7,8,9]).T\n",
        "\n",
        "F = np.sum(O,axis=1)\n",
        "F,train_labels\n",
        "\n",
        "print(f'{np.sum(F==train_labels)} images correctly labeled out of {train_labels.shape[0]} for Train Set')"
      ],
      "execution_count": 172,
      "outputs": [
        {
          "output_type": "stream",
          "text": [
            "57248 images correctly labeled out of 60000 for Train Set\n"
          ],
          "name": "stdout"
        }
      ]
    },
    {
      "cell_type": "code",
      "metadata": {
        "id": "E2yrH7uL8yf4"
      },
      "source": [
        "# test\n",
        "ZZ_test={}\n",
        "AA_test={}\n",
        "AA_test['A'+str(0)] = X_test\n",
        "for l in range(1,no_of_layers):\n",
        "  ZZ_test['Z'+str(l)] = np.dot(WW['W'+str(l)], AA_test['A'+str(l-1)]) +  bb['b'+str(l)]\n",
        "  AA_test['A'+str(l)] = relu(ZZ_test['Z'+str(l)])\n",
        "\n",
        "ZZ_test['Z'+str(no_of_layers)] = np.dot(WW['W'+str(no_of_layers)], AA_test['A'+str(no_of_layers-1)]) +  bb['b'+str(no_of_layers)]\n",
        "AA_test['A'+str(no_of_layers)] = softmax(ZZ_test['Z'+str(no_of_layers)])"
      ],
      "execution_count": 176,
      "outputs": []
    },
    {
      "cell_type": "code",
      "metadata": {
        "colab": {
          "base_uri": "https://localhost:8080/"
        },
        "id": "D8hfxdYR-BgF",
        "outputId": "7d3dbb37-ffb4-4983-d1ef-193ffe585066"
      },
      "source": [
        "O = (np.max(AA_test['A4'],axis=0) == AA_test['A4']).T * np.array([0,1,2,3,4,5,6,7,8,9]).T\n",
        "\n",
        "F_test = np.sum(O,axis=1)\n",
        "F_test,train_labels\n",
        "\n",
        "print(f'{np.sum(F_test==test_labels)} images correctly labeled out of {test_labels.shape[0]} for Test Set')"
      ],
      "execution_count": 177,
      "outputs": [
        {
          "output_type": "stream",
          "text": [
            "9508 images correctly labeled out of 10000 for Test Set\n"
          ],
          "name": "stdout"
        }
      ]
    },
    {
      "cell_type": "code",
      "metadata": {
        "colab": {
          "base_uri": "https://localhost:8080/"
        },
        "id": "jpFbZ4mq-C2Y",
        "outputId": "bebcb8ff-e746-4573-c584-192816ecf449"
      },
      "source": [
        "a_test = np.abs(AA_test['A4']- Y_test_hot)\n",
        "print(f'Accuracy : {100 - np.mean(a_test)*100} on Test Set')"
      ],
      "execution_count": 179,
      "outputs": [
        {
          "output_type": "stream",
          "text": [
            "Accuracy : 98.21170529034849 on Test Set\n"
          ],
          "name": "stdout"
        }
      ]
    },
    {
      "cell_type": "code",
      "metadata": {
        "colab": {
          "base_uri": "https://localhost:8080/",
          "height": 282
        },
        "id": "AZ6QQuuN--yD",
        "outputId": "1a22a2c5-f6ac-4297-b6de-d2119fa62aa6"
      },
      "source": [
        "image = 5246   # 0-9999\n",
        "plt.imshow(test_images[image])\n",
        "print(f'The image no. is {test_labels[image]} and my Model predicts {F_test[image]}')"
      ],
      "execution_count": 181,
      "outputs": [
        {
          "output_type": "stream",
          "text": [
            "The image no. is 7 and my Model predicts 7\n"
          ],
          "name": "stdout"
        },
        {
          "output_type": "display_data",
          "data": {
            "image/png": "[encoded data removed]",
            "text/plain": [
              "<Figure size 432x288 with 1 Axes>"
            ]
          },
          "metadata": {
            "tags": [],
            "needs_background": "light"
          }
        }
      ]
    },
    {
      "cell_type": "code",
      "metadata": {
        "id": "VSZ16C8-_P4D"
      },
      "source": [
        ""
      ],
      "execution_count": null,
      "outputs": []
    }
  ]
}