{
  "nbformat": 4,
  "nbformat_minor": 0,
  "metadata": {
    "colab": {
      "name": "MNIST Using Multi Layer.ipynb",
      "provenance": [],
      "collapsed_sections": [],
      "mount_file_id": "1_pEtElvQceHQjDbWBjqBsFZiRIBSYajc",
      "authorship_tag": "ABX9TyP6mPByY2bbshmDcb2U5A5M",
      "include_colab_link": true
    },
    "kernelspec": {
      "name": "python3",
      "display_name": "Python 3"
    }
  },
  "cells": [
    {
      "cell_type": "markdown",
      "metadata": {
        "id": "view-in-github",
        "colab_type": "text"
      },
      "source": [
        "<a href=\"https://colab.research.google.com/github/ABD-01/MNIST/blob/main/MNIST_Using_Multi_Layer.ipynb\" target=\"_parent\"><img src=\"https://colab.research.google.com/assets/colab-badge.svg\" alt=\"Open In Colab\"/></a>"
      ]
    },
    {
      "cell_type": "code",
      "metadata": {
        "colab": {
          "base_uri": "https://localhost:8080/"
        },
        "id": "iaqI_A_uFcu2",
        "outputId": "bbacdfef-b60c-4c9e-af98-3cf625cd8969"
      },
      "source": [
        "!pip install idx2numpy"
      ],
      "execution_count": 2,
      "outputs": [
        {
          "output_type": "stream",
          "text": [
            "Collecting idx2numpy\n",
            "  Downloading https://files.pythonhosted.org/packages/7e/6b/80628f6cc2f44d80b27f1ef7b57b257ed4c73766113b77d13ad110c091b4/idx2numpy-1.2.3.tar.gz\n",
            "Requirement already satisfied: numpy in /usr/local/lib/python3.6/dist-packages (from idx2numpy) (1.18.5)\n",
            "Requirement already satisfied: six in /usr/local/lib/python3.6/dist-packages (from idx2numpy) (1.15.0)\n",
            "Building wheels for collected packages: idx2numpy\n",
            "  Building wheel for idx2numpy (setup.py) ... \u001b[?25l\u001b[?25hdone\n",
            "  Created wheel for idx2numpy: filename=idx2numpy-1.2.3-cp36-none-any.whl size=7905 sha256=758be74ed7ac537f5a5290ed3d24e0cfd9e1890b7f804101e0ea930814d71cdd\n",
            "  Stored in directory: /root/.cache/pip/wheels/7a/c1/da/284ce80a748fab898b8d1fa95468a386e7cf3b81da18511f9d\n",
            "Successfully built idx2numpy\n",
            "Installing collected packages: idx2numpy\n",
            "Successfully installed idx2numpy-1.2.3\n"
          ],
          "name": "stdout"
        }
      ]
    },
    {
      "cell_type": "code",
      "metadata": {
        "id": "fNcOOmvI4xMD"
      },
      "source": [
        "import matplotlib.pyplot as plt\n",
        "import numpy as np\n",
        "import idx2numpy\n",
        "from tqdm import tqdm\n",
        "import os"
      ],
      "execution_count": 4,
      "outputs": []
    },
    {
      "cell_type": "code",
      "metadata": {
        "id": "fwAi4pFHARq8"
      },
      "source": [
        "test_images = idx2numpy.convert_from_file('/content/drive/MyDrive/Colab Notebooks/t10k-images.idx3-ubyte')\n",
        "test_labels = idx2numpy.convert_from_file('/content/drive/MyDrive/Colab Notebooks/t10k-labels.idx1-ubyte')\n",
        "train_images = idx2numpy.convert_from_file('/content/drive/MyDrive/Colab Notebooks/train-images.idx3-ubyte')\n",
        "train_labels = idx2numpy.convert_from_file('/content/drive/MyDrive/Colab Notebooks/train-labels.idx1-ubyte')"
      ],
      "execution_count": 5,
      "outputs": []
    },
    {
      "cell_type": "code",
      "metadata": {
        "colab": {
          "base_uri": "https://localhost:8080/"
        },
        "id": "NkeaeqVdQRkT",
        "outputId": "83becc1d-f985-4c27-94a4-2224b675f6f7"
      },
      "source": [
        "print(test_images.shape)\n",
        "print(test_labels.shape)\n",
        "print(train_images.shape)\n",
        "print(train_labels.shape)"
      ],
      "execution_count": 6,
      "outputs": [
        {
          "output_type": "stream",
          "text": [
            "(10000, 28, 28)\n",
            "(10000,)\n",
            "(60000, 28, 28)\n",
            "(60000,)\n"
          ],
          "name": "stdout"
        }
      ]
    },
    {
      "cell_type": "code",
      "metadata": {
        "id": "pHQax7Q3YdxG"
      },
      "source": [
        "train_images_flat=train_images.reshape(train_images.shape[0], -1).T\n",
        "test_images_flat=test_images.reshape(test_images.shape[0], -1).T"
      ],
      "execution_count": 7,
      "outputs": []
    },
    {
      "cell_type": "code",
      "metadata": {
        "colab": {
          "base_uri": "https://localhost:8080/"
        },
        "id": "H1a01P5UYfVs",
        "outputId": "fbac87fb-8014-4568-a34c-fb38b7e528da"
      },
      "source": [
        "m = train_images_flat.shape[1]\n",
        "m_test = test_images_flat.shape[1]\n",
        "print(f\"Train Examples(m)={m}\")\n",
        "print(f\"Test Examples(m_test)={m_test}\")\n",
        "X = train_images_flat/255\n",
        "X_test = test_images_flat/255\n",
        "print('X.shape=',X.shape)\n",
        "print('X_test.shape=',X_test.shape)"
      ],
      "execution_count": 8,
      "outputs": [
        {
          "output_type": "stream",
          "text": [
            "Train Examples(m)=60000\n",
            "Test Examples(m_test)=10000\n",
            "X.shape= (784, 60000)\n",
            "X_test.shape= (784, 10000)\n"
          ],
          "name": "stdout"
        }
      ]
    },
    {
      "cell_type": "code",
      "metadata": {
        "id": "DU8gKiyBYkaX"
      },
      "source": [
        "def one_hot(row_vector, no_classes):\n",
        "    one_hot_vector = np.eye(no_classes)[row_vector.reshape(-1)]\n",
        "    return one_hot_vector.T"
      ],
      "execution_count": 9,
      "outputs": []
    },
    {
      "cell_type": "code",
      "metadata": {
        "colab": {
          "base_uri": "https://localhost:8080/"
        },
        "id": "_w9oxkQqYluQ",
        "outputId": "8fb547f9-6197-4429-d04b-3177faa1b07b"
      },
      "source": [
        "C = train_labels.max()+1\n",
        "print(f\"No. of Classes={C}\")\n",
        "Y_hot = one_hot(train_labels,no_classes=C)\n",
        "Y_test_hot = one_hot(test_labels,no_classes=C)\n",
        "print('Y_hot.shape=',Y_hot.shape) #Y_hot.shape is (C,m)\n",
        "print('Y_test_hot.shape=',Y_test_hot.shape) #Y_hot.shape is (C,m)"
      ],
      "execution_count": 10,
      "outputs": [
        {
          "output_type": "stream",
          "text": [
            "No. of Classes=10\n",
            "Y_hot.shape= (10, 60000)\n",
            "Y_test_hot.shape= (10, 10000)\n"
          ],
          "name": "stdout"
        }
      ]
    },
    {
      "cell_type": "code",
      "metadata": {
        "colab": {
          "base_uri": "https://localhost:8080/"
        },
        "id": "odldvdgZagll",
        "outputId": "78d36788-81e9-40a6-ada7-42b28139c650"
      },
      "source": [
        "no_of_layers = 4\n",
        "nodes = [X.shape[0], 512, 128, 32, 10]   # 4 layers with size 512, 128, 32, 10\n",
        "nodes"
      ],
      "execution_count": 11,
      "outputs": [
        {
          "output_type": "execute_result",
          "data": {
            "text/plain": [
              "[784, 512, 128, 32, 10]"
            ]
          },
          "metadata": {
            "tags": []
          },
          "execution_count": 11
        }
      ]
    },
    {
      "cell_type": "code",
      "metadata": {
        "id": "_Fj2-ZzFYm9m"
      },
      "source": [
        "def initialize():\n",
        "  global WW, bb\n",
        "  WW = {}\n",
        "  bb = {}\n",
        "  for l in range(1,no_of_layers+1):\n",
        "    WW['W'+str(l)] = np.random.randn(nodes[l], nodes[l-1])*np.sqrt(2/nodes[l-1])\n",
        "    bb['b'+str(l)] = np.zeros((nodes[l],1))"
      ],
      "execution_count": 12,
      "outputs": []
    },
    {
      "cell_type": "code",
      "metadata": {
        "colab": {
          "base_uri": "https://localhost:8080/"
        },
        "id": "izW1U12ix7pU",
        "outputId": "f94f32cd-1cc8-4d1b-ba3e-c0cf35b303df"
      },
      "source": [
        "list(range(1,no_of_layers+1))"
      ],
      "execution_count": 13,
      "outputs": [
        {
          "output_type": "execute_result",
          "data": {
            "text/plain": [
              "[1, 2, 3, 4]"
            ]
          },
          "metadata": {
            "tags": []
          },
          "execution_count": 13
        }
      ]
    },
    {
      "cell_type": "code",
      "metadata": {
        "id": "05S-PZnWx802"
      },
      "source": [
        "initialize()"
      ],
      "execution_count": 14,
      "outputs": []
    },
    {
      "cell_type": "code",
      "metadata": {
        "colab": {
          "base_uri": "https://localhost:8080/"
        },
        "id": "etzHnhyiywhj",
        "outputId": "f2b29f3d-d81e-4db6-9f91-076ce9c213b9"
      },
      "source": [
        "WW['W1'].shape, WW['W2'].shape,WW['W3'].shape, WW['W4'].shape"
      ],
      "execution_count": 15,
      "outputs": [
        {
          "output_type": "execute_result",
          "data": {
            "text/plain": [
              "((512, 784), (128, 512), (32, 128), (10, 32))"
            ]
          },
          "metadata": {
            "tags": []
          },
          "execution_count": 15
        }
      ]
    },
    {
      "cell_type": "code",
      "metadata": {
        "colab": {
          "base_uri": "https://localhost:8080/"
        },
        "id": "wr1QOUezyx4z",
        "outputId": "73e5a75d-0d75-4c99-9de3-27285c1a8b39"
      },
      "source": [
        "bb['b1'].shape, bb['b2'].shape,bb['b3'].shape, bb['b4'].shape"
      ],
      "execution_count": 16,
      "outputs": [
        {
          "output_type": "execute_result",
          "data": {
            "text/plain": [
              "((512, 1), (128, 1), (32, 1), (10, 1))"
            ]
          },
          "metadata": {
            "tags": []
          },
          "execution_count": 16
        }
      ]
    },
    {
      "cell_type": "code",
      "metadata": {
        "id": "XBl5RbTZzN_E"
      },
      "source": [
        "def relu(z):\n",
        "  a = np.maximum(0,z)\n",
        "  return a\n",
        "\n",
        "def softmax(z):\n",
        "  t = np.exp(z)\n",
        "  a = t / (np.sum(t, keepdims=True, axis=0))\n",
        "  return a  #+ 1e-08\n",
        "\n",
        "def derivative_relu(da,z):\n",
        "  dz = np.array(da, copy=True)\n",
        "  dz[z <= 0] = 0\n",
        "  return dz\n"
      ],
      "execution_count": 17,
      "outputs": []
    },
    {
      "cell_type": "code",
      "metadata": {
        "id": "nNg7xCVP0Og-"
      },
      "source": [
        "def forward():\n",
        "  global ZZ, AA\n",
        "  ZZ={}\n",
        "  AA={}\n",
        "  AA['A'+str(0)] = X\n",
        "  for l in range(1,no_of_layers):\n",
        "    ZZ['Z'+str(l)] = np.dot(WW['W'+str(l)], AA['A'+str(l-1)]) +  bb['b'+str(l)]\n",
        "    AA['A'+str(l)] = relu(ZZ['Z'+str(l)])\n",
        "\n",
        "  ZZ['Z'+str(no_of_layers)] = np.dot(WW['W'+str(no_of_layers)], AA['A'+str(no_of_layers-1)]) +  bb['b'+str(no_of_layers)]\n",
        "  AA['A'+str(no_of_layers)] = softmax(ZZ['Z'+str(no_of_layers)])"
      ],
      "execution_count": 18,
      "outputs": []
    },
    {
      "cell_type": "code",
      "metadata": {
        "id": "dZ0xbPh20OlQ"
      },
      "source": [
        "forward()"
      ],
      "execution_count": 19,
      "outputs": []
    },
    {
      "cell_type": "code",
      "metadata": {
        "colab": {
          "base_uri": "https://localhost:8080/"
        },
        "id": "oM1Vz_ti-UCI",
        "outputId": "28bb7eae-10e3-478d-8b71-2999f2671ed5"
      },
      "source": [
        "[(z[0],z[1].shape) for z in ZZ.items()], [(a[0],a[1].shape) for a in AA.items()]"
      ],
      "execution_count": 20,
      "outputs": [
        {
          "output_type": "execute_result",
          "data": {
            "text/plain": [
              "([('Z1', (512, 60000)),\n",
              "  ('Z2', (128, 60000)),\n",
              "  ('Z3', (32, 60000)),\n",
              "  ('Z4', (10, 60000))],\n",
              " [('A0', (784, 60000)),\n",
              "  ('A1', (512, 60000)),\n",
              "  ('A2', (128, 60000)),\n",
              "  ('A3', (32, 60000)),\n",
              "  ('A4', (10, 60000))])"
            ]
          },
          "metadata": {
            "tags": []
          },
          "execution_count": 20
        }
      ]
    },
    {
      "cell_type": "code",
      "metadata": {
        "id": "0Nh_ayDu-blE"
      },
      "source": [
        "def cost():\n",
        "  global L,J\n",
        "  L = -np.sum(Y_hot*np.log(AA['A'+str(no_of_layers)]), keepdims=True, axis=0)\n",
        "  J = np.sum(L, keepdims=True, axis=1)*(1/m)"
      ],
      "execution_count": 21,
      "outputs": []
    },
    {
      "cell_type": "code",
      "metadata": {
        "id": "-JX4eS0PANr7"
      },
      "source": [
        "cost()"
      ],
      "execution_count": 22,
      "outputs": []
    },
    {
      "cell_type": "code",
      "metadata": {
        "colab": {
          "base_uri": "https://localhost:8080/"
        },
        "id": "LRC3doBuDeac",
        "outputId": "489feeb5-bf42-46aa-b2ae-db31de1af178"
      },
      "source": [
        "L.shape , J.shape"
      ],
      "execution_count": 23,
      "outputs": [
        {
          "output_type": "execute_result",
          "data": {
            "text/plain": [
              "((1, 60000), (1, 1))"
            ]
          },
          "metadata": {
            "tags": []
          },
          "execution_count": 23
        }
      ]
    },
    {
      "cell_type": "code",
      "metadata": {
        "id": "FqGE93RyD5Yn"
      },
      "source": [
        "def backward():\n",
        "  global dAA, dZZ, dWW, dbb\n",
        "  dAA = {}\n",
        "  dZZ = {}\n",
        "  dWW = {}\n",
        "  dbb = {}\n",
        "  dZZ['dZ'+str(no_of_layers)] = AA['A'+str(no_of_layers)] - Y_hot\n",
        "  dWW['dW'+str(no_of_layers)] = np.dot(dZZ['dZ'+str(no_of_layers)], AA['A'+str(no_of_layers-1)].T) / m\n",
        "  dbb['db'+str(no_of_layers)] = np.sum(dZZ['dZ'+str(no_of_layers)], axis=1, keepdims=True) / m\n",
        "  dAA['dA'+str(no_of_layers-1)] = np.dot(WW['W'+str(no_of_layers)].T, dZZ['dZ'+str(no_of_layers)])\n",
        "\n",
        "  for l in range(no_of_layers-1,0,-1):\n",
        "    dZZ['dZ'+str(l)] = np.multiply(dAA['dA'+str(l)] , derivative_relu(dAA['dA'+str(l)], ZZ['Z'+str(l)]))\n",
        "    dWW['dW'+str(l)] = np.dot(dZZ['dZ'+str(l)], AA['A'+str(l-1)].T) / m\n",
        "    dbb['db'+str(l)] = np.sum(dZZ['dZ'+str(l)], axis=1, keepdims=True) / m\n",
        "    dAA['dA'+str(l-1)] = np.dot(WW['W'+str(l)].T, dZZ['dZ'+str(l)])"
      ],
      "execution_count": 41,
      "outputs": []
    },
    {
      "cell_type": "code",
      "metadata": {
        "id": "rYADjsrGENo6"
      },
      "source": [
        "backward()"
      ],
      "execution_count": 42,
      "outputs": []
    },
    {
      "cell_type": "code",
      "metadata": {
        "colab": {
          "base_uri": "https://localhost:8080/"
        },
        "id": "3p9E3N6BHWrH",
        "outputId": "d460202b-8602-4daa-f116-22b24d4e5802"
      },
      "source": [
        "[(dz[0],dz[1].shape) for dz in dZZ.items()], [(da[0],da[1].shape) for da in dAA.items()]"
      ],
      "execution_count": 43,
      "outputs": [
        {
          "output_type": "execute_result",
          "data": {
            "text/plain": [
              "([('dZ4', (10, 60000)),\n",
              "  ('dZ3', (32, 60000)),\n",
              "  ('dZ2', (128, 60000)),\n",
              "  ('dZ1', (512, 60000))],\n",
              " [('dA3', (32, 60000)),\n",
              "  ('dA2', (128, 60000)),\n",
              "  ('dA1', (512, 60000)),\n",
              "  ('dA0', (784, 60000))])"
            ]
          },
          "metadata": {
            "tags": []
          },
          "execution_count": 43
        }
      ]
    },
    {
      "cell_type": "code",
      "metadata": {
        "colab": {
          "base_uri": "https://localhost:8080/"
        },
        "id": "omzv56EAmITm",
        "outputId": "cee4e6b3-d46b-4b5b-c1eb-5f90ad1b8941"
      },
      "source": [
        "[(dw[0],dw[1].shape) for dw in dWW.items()], [(db[0],db[1].shape) for db in dbb.items()]"
      ],
      "execution_count": 44,
      "outputs": [
        {
          "output_type": "execute_result",
          "data": {
            "text/plain": [
              "([('dW4', (10, 32)),\n",
              "  ('dW3', (32, 128)),\n",
              "  ('dW2', (128, 512)),\n",
              "  ('dW1', (512, 784))],\n",
              " [('db4', (10, 1)), ('db3', (32, 1)), ('db2', (128, 1)), ('db1', (512, 1))])"
            ]
          },
          "metadata": {
            "tags": []
          },
          "execution_count": 44
        }
      ]
    },
    {
      "cell_type": "code",
      "metadata": {
        "id": "H_ioOyXqmJaO"
      },
      "source": [
        "initialize()"
      ],
      "execution_count": 60,
      "outputs": []
    },
    {
      "cell_type": "code",
      "metadata": {
        "colab": {
          "base_uri": "https://localhost:8080/"
        },
        "id": "EvEAG2q7qmtF",
        "outputId": "535ff965-a678-4b49-e3fb-c1049b713576"
      },
      "source": [
        "#optimise\n",
        "alpha = 0.09\n",
        "iterations = 40\n",
        "global costs\n",
        "costs=[]\n",
        "for i in range(iterations):\n",
        "    forward()\n",
        "    if i%1 ==0:\n",
        "      cost()\n",
        "      costs.append(J)\n",
        "      print(f'Cost at {i}th loop = {J}')\n",
        "    backward()\n",
        "    for l in range(1,no_of_layers+1):\n",
        "      WW['W'+str(l)] = WW['W'+str(l)] - (alpha*dWW['dW'+str(l)])\n",
        "      bb['b'+str(l)] = bb['b'+str(l)] - (alpha*dbb['db'+str(l)])"
      ],
      "execution_count": 61,
      "outputs": [
        {
          "output_type": "stream",
          "text": [
            "Cost at 0th loop = [[2.42494645]]\n",
            "Cost at 1th loop = [[2.40419697]]\n",
            "Cost at 2th loop = [[2.38842501]]\n",
            "Cost at 3th loop = [[2.37624161]]\n",
            "Cost at 4th loop = [[2.36675428]]\n",
            "Cost at 5th loop = [[2.35933497]]\n",
            "Cost at 6th loop = [[2.35354729]]\n",
            "Cost at 7th loop = [[2.34897766]]\n",
            "Cost at 8th loop = [[2.34531877]]\n",
            "Cost at 9th loop = [[2.34234931]]\n",
            "Cost at 10th loop = [[2.33987994]]\n",
            "Cost at 11th loop = [[2.33775244]]\n",
            "Cost at 12th loop = [[2.33585656]]\n",
            "Cost at 13th loop = [[2.33414256]]\n",
            "Cost at 14th loop = [[2.33256585]]\n",
            "Cost at 15th loop = [[2.33109545]]\n",
            "Cost at 16th loop = [[2.32971266]]\n",
            "Cost at 17th loop = [[2.32841092]]\n",
            "Cost at 18th loop = [[2.32718378]]\n",
            "Cost at 19th loop = [[2.32603416]]\n",
            "Cost at 20th loop = [[2.32495341]]\n",
            "Cost at 21th loop = [[2.32394311]]\n",
            "Cost at 22th loop = [[2.32299338]]\n",
            "Cost at 23th loop = [[2.32209523]]\n",
            "Cost at 24th loop = [[2.32124441]]\n",
            "Cost at 25th loop = [[2.32044462]]\n",
            "Cost at 26th loop = [[2.31969276]]\n",
            "Cost at 27th loop = [[2.31898585]]\n",
            "Cost at 28th loop = [[2.31832037]]\n",
            "Cost at 29th loop = [[2.31769414]]\n",
            "Cost at 30th loop = [[2.31710152]]\n",
            "Cost at 31th loop = [[2.31654362]]\n",
            "Cost at 32th loop = [[2.31601605]]\n",
            "Cost at 33th loop = [[2.3155188]]\n",
            "Cost at 34th loop = [[2.31504967]]\n",
            "Cost at 35th loop = [[2.31460572]]\n",
            "Cost at 36th loop = [[2.31418294]]\n",
            "Cost at 37th loop = [[2.31377974]]\n",
            "Cost at 38th loop = [[2.31339604]]\n",
            "Cost at 39th loop = [[2.3130301]]\n"
          ],
          "name": "stdout"
        }
      ]
    },
    {
      "cell_type": "code",
      "metadata": {
        "id": "J7FkJReoqtB_",
        "colab": {
          "base_uri": "https://localhost:8080/",
          "height": 296
        },
        "outputId": "2f242b62-0521-452b-d794-5f11820f5bdf"
      },
      "source": [
        "plt.plot(np.arange(0,40,1), np.array(costs).reshape(len(costs),1))\n",
        "plt.ylabel('cost')\n",
        "plt.xlabel('iterations')\n",
        "plt.show()\n",
        "len(costs)"
      ],
      "execution_count": 62,
      "outputs": [
        {
          "output_type": "display_data",
          "data": {
            "image/png": "[encoded data removed]",
            "text/plain": [
              "<Figure size 432x288 with 1 Axes>"
            ]
          },
          "metadata": {
            "tags": [],
            "needs_background": "light"
          }
        },
        {
          "output_type": "execute_result",
          "data": {
            "text/plain": [
              "40"
            ]
          },
          "metadata": {
            "tags": []
          },
          "execution_count": 62
        }
      ]
    },
    {
      "cell_type": "code",
      "metadata": {
        "colab": {
          "base_uri": "https://localhost:8080/"
        },
        "id": "8z84GL-9HOnx",
        "outputId": "6ffb0447-b166-4b1a-ed37-14f5e690cb6f"
      },
      "source": [
        "a = np.abs(AA['A4']- Y_hot)\n",
        "print(f'Accuracy : {100 - np.mean(a)*100} on Train Set')"
      ],
      "execution_count": 66,
      "outputs": [
        {
          "output_type": "stream",
          "text": [
            "Accuracy : 81.98320546987658 on Train Set\n"
          ],
          "name": "stdout"
        }
      ]
    },
    {
      "cell_type": "code",
      "metadata": {
        "id": "dnFNcTksYnQO"
      },
      "source": [
        ""
      ],
      "execution_count": null,
      "outputs": []
    }
  ]
}