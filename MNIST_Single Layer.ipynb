{
 "cells": [
  {
   "cell_type": "code",
   "execution_count": 2,
   "metadata": {},
   "outputs": [],
   "source": [
    "import matplotlib.pyplot as plt\n",
    "import numpy as np\n",
    "import idx2numpy\n",
    "from tqdm import tqdm"
   ]
  },
  {
   "cell_type": "code",
   "execution_count": 3,
   "metadata": {},
   "outputs": [],
   "source": [
    "test_images = idx2numpy.convert_from_file('t10k-images.idx3-ubyte')\n",
    "test_labels = idx2numpy.convert_from_file('t10k-labels.idx1-ubyte')\n",
    "train_images = idx2numpy.convert_from_file('train-images.idx3-ubyte')\n",
    "train_labels = idx2numpy.convert_from_file('train-labels.idx1-ubyte')"
   ]
  },
  {
   "cell_type": "code",
   "execution_count": 4,
   "metadata": {},
   "outputs": [
    {
     "name": "stdout",
     "output_type": "stream",
     "text": [
      "(10000, 28, 28)\n",
      "(10000,)\n",
      "(60000, 28, 28)\n",
      "(60000,)\n"
     ]
    }
   ],
   "source": [
    "print(test_images.shape)\n",
    "print(test_labels.shape)\n",
    "print(train_images.shape)\n",
    "print(train_labels.shape)"
   ]
  },
  {
   "cell_type": "code",
   "execution_count": 5,
   "metadata": {},
   "outputs": [],
   "source": [
    "train_images_flat=train_images.reshape(train_images.shape[0], -1).T\n",
    "test_images_flat=test_images.reshape(test_images.shape[0], -1).T"
   ]
  },
  {
   "cell_type": "code",
   "execution_count": 6,
   "metadata": {},
   "outputs": [
    {
     "name": "stdout",
     "output_type": "stream",
     "text": [
      "(784, 60000)\n",
      "(784, 10000)\n",
      "Train Examples=60000\n",
      "Test Examples=10000\n"
     ]
    }
   ],
   "source": [
    "print(train_images_flat.shape)\n",
    "print(test_images_flat.shape)\n",
    "m = train_images_flat.shape[1]\n",
    "m_test = test_images_flat.shape[1]\n",
    "print(f\"Train Examples={m}\")\n",
    "print(f\"Test Examples={m_test}\")\n",
    "X = train_images_flat/255\n",
    "X_test = test_images_flat/255"
   ]
  },
  {
   "cell_type": "code",
   "execution_count": 7,
   "metadata": {},
   "outputs": [],
   "source": [
    "# Y = train_labels.reshape(train_labels.shape[0],1).T # Y.shape is (1, m)\n",
    "# Y.shape"
   ]
  },
  {
   "cell_type": "code",
   "execution_count": 8,
   "metadata": {},
   "outputs": [],
   "source": [
    "def one_hot(row_vector, no_classes):\n",
    "    one_hot_vector = np.eye(no_classes)[row_vector.reshape(-1)]\n",
    "    return one_hot_vector.T"
   ]
  },
  {
   "cell_type": "code",
   "execution_count": 9,
   "metadata": {},
   "outputs": [
    {
     "name": "stdout",
     "output_type": "stream",
     "text": [
      "No. of Classes=10\n",
      "(10, 60000)\n",
      "(10, 10000)\n"
     ]
    }
   ],
   "source": [
    "C = train_labels.max()+1\n",
    "print(f\"No. of Classes={C}\")\n",
    "Y_hot = one_hot(train_labels,no_classes=C)\n",
    "Y_test_hot = one_hot(test_labels,no_classes=C)\n",
    "print(Y_hot.shape) #Y_hot.shape is (C,m)\n",
    "print(Y_test_hot.shape) #Y_hot.shape is (C,m)"
   ]
  },
  {
   "cell_type": "code",
   "execution_count": 10,
   "metadata": {},
   "outputs": [],
   "source": [
    "def initialize():\n",
    "    global W,b\n",
    "    W = np.random.randn(train_images_flat.shape[0], C)*0.001 # W.shape is (n_x,1)\n",
    "    b = np.zeros((1,m)) #b.shape is (1,m)\n",
    "initialize()"
   ]
  },
  {
   "cell_type": "code",
   "execution_count": 11,
   "metadata": {},
   "outputs": [
    {
     "name": "stdout",
     "output_type": "stream",
     "text": [
      "(784, 10)\n",
      "(1, 60000)\n"
     ]
    }
   ],
   "source": [
    "print(W.shape)\n",
    "print(b.shape)"
   ]
  },
  {
   "cell_type": "code",
   "execution_count": 12,
   "metadata": {},
   "outputs": [],
   "source": [
    "def softmax(z):\n",
    "    t = np.exp(z)\n",
    "    a = t / np.sum(t, keepdims=True, axis=0)\n",
    "    return a"
   ]
  },
  {
   "cell_type": "code",
   "execution_count": 13,
   "metadata": {},
   "outputs": [],
   "source": [
    "def forward():\n",
    "    global Z,A\n",
    "    Z = np.dot(W.T, X) + b # Z.shape is (C,m)\n",
    "    A = softmax(Z)  # A.shape is (C,m)"
   ]
  },
  {
   "cell_type": "code",
   "execution_count": 14,
   "metadata": {},
   "outputs": [],
   "source": [
    "def cost():\n",
    "    global L,J\n",
    "# Calculate Loss\n",
    "    L = -np.sum(Y_hot*np.log(A), keepdims=True, axis=0) # L.shape is (1,m)   '''NO BROADCASTING GOING ON HERE'''\n",
    "    #calculate Cost\n",
    "    J = np.sum(L, keepdims=True, axis=1)*(1/m) # J.shape is (1,1) "
   ]
  },
  {
   "cell_type": "code",
   "execution_count": 15,
   "metadata": {},
   "outputs": [],
   "source": [
    "# deivatives\n",
    "def backward():\n",
    "    global dZ, dW, db\n",
    "    #dJ/dZ\n",
    "    dZ = A-Y_hot  # dZ.shape is (C,m)   '''BROADCASTING GOING ON HERE'''\n",
    "\n",
    "    #dJ/dW = sum(dL/dW)/m  which is equivalent to np.dot(X,dZ.T)/m\n",
    "    '''\n",
    "    dLdW = X*dZ  # dLdW.shape is (n_x, m)\n",
    "    dW = np.sum(dLdW, keepdims=True, axis=1)/m  #dW.shape is (n_x,1) [same as W.shape]\n",
    "    '''\n",
    "    dW = np.dot(X, dZ.T) / m\n",
    "    #dJ/db\n",
    "    db = np.sum(dZ, keepdims=True, axis=1)/m  # db.shape = (1,1)"
   ]
  },
  {
   "cell_type": "code",
   "execution_count": 16,
   "metadata": {},
   "outputs": [
    {
     "data": {
      "text/plain": [
       "((10, 60000),\n",
       " (10, 60000),\n",
       " (1, 60000),\n",
       " (1, 1),\n",
       " (10, 60000),\n",
       " (10, 60000),\n",
       " (784, 10),\n",
       " (784, 10),\n",
       " (10, 1))"
      ]
     },
     "execution_count": 16,
     "metadata": {},
     "output_type": "execute_result"
    }
   ],
   "source": [
    "forward()\n",
    "cost()\n",
    "backward()\n",
    "A.shape, Y_hot.shape, L.shape, J.shape,Z.shape, dZ.shape, W.shape, dW.shape, db.shape"
   ]
  },
  {
   "cell_type": "code",
   "execution_count": 17,
   "metadata": {},
   "outputs": [],
   "source": [
    "initialize()"
   ]
  },
  {
   "cell_type": "code",
   "execution_count": 18,
   "metadata": {
    "scrolled": true
   },
   "outputs": [
    {
     "name": "stdout",
     "output_type": "stream",
     "text": [
      "Cost at 0th loop = [[2.30451276]]\n",
      "Cost at 4th loop = [[2.26606778]]\n",
      "Cost at 8th loop = [[2.22888639]]\n",
      "Cost at 12th loop = [[2.19285648]]\n",
      "Cost at 16th loop = [[2.15789258]]\n",
      "Cost at 20th loop = [[2.12392841]]\n",
      "Cost at 24th loop = [[2.09091147]]\n",
      "Cost at 28th loop = [[2.05879925]]\n",
      "Cost at 32th loop = [[2.02755635]]\n",
      "Cost at 36th loop = [[1.99715255]]\n",
      "Cost at 40th loop = [[1.96756129]]\n",
      "Cost at 44th loop = [[1.93875863]]\n",
      "Cost at 48th loop = [[1.91072252]]\n",
      "Cost at 52th loop = [[1.88343225]]\n",
      "Cost at 56th loop = [[1.85686809]]\n",
      "Cost at 60th loop = [[1.83101101]]\n",
      "Cost at 64th loop = [[1.80584255]]\n",
      "Cost at 68th loop = [[1.78134463]]\n",
      "Cost at 72th loop = [[1.75749955]]\n",
      "Cost at 76th loop = [[1.7342899]]\n",
      "Cost at 80th loop = [[1.71169856]]\n",
      "Cost at 84th loop = [[1.68970864]]\n",
      "Cost at 88th loop = [[1.66830354]]\n",
      "Cost at 92th loop = [[1.64746691]]\n",
      "Cost at 96th loop = [[1.62718269]]\n",
      "Cost at 100th loop = [[1.60743507]]\n",
      "Cost at 104th loop = [[1.58820854]]\n",
      "Cost at 108th loop = [[1.56948791]]\n",
      "Cost at 112th loop = [[1.55125828]]\n",
      "Cost at 116th loop = [[1.53350505]]\n",
      "Cost at 120th loop = [[1.51621399]]\n",
      "Cost at 124th loop = [[1.49937116]]\n",
      "Cost at 128th loop = [[1.48296297]]\n",
      "Cost at 132th loop = [[1.46697617]]\n",
      "Cost at 136th loop = [[1.45139786]]\n",
      "Cost at 140th loop = [[1.43621548]]\n",
      "Cost at 144th loop = [[1.4214168]]\n",
      "Cost at 148th loop = [[1.40698996]]\n",
      "Cost at 152th loop = [[1.39292341]]\n",
      "Cost at 156th loop = [[1.37920596]]\n",
      "Cost at 160th loop = [[1.36582676]]\n",
      "Cost at 164th loop = [[1.35277527]]\n",
      "Cost at 168th loop = [[1.34004129]]\n",
      "Cost at 172th loop = [[1.32761494]]\n",
      "Cost at 176th loop = [[1.31548665]]\n",
      "Cost at 180th loop = [[1.30364716]]\n",
      "Cost at 184th loop = [[1.29208752]]\n",
      "Cost at 188th loop = [[1.28079905]]\n",
      "Cost at 192th loop = [[1.26977339]]\n",
      "Cost at 196th loop = [[1.25900243]]\n",
      "Cost at 200th loop = [[1.24847835]]\n",
      "Cost at 204th loop = [[1.23819358]]\n",
      "Cost at 208th loop = [[1.22814082]]\n",
      "Cost at 212th loop = [[1.21831302]]\n",
      "Cost at 216th loop = [[1.20870335]]\n",
      "Cost at 220th loop = [[1.19930524]]\n",
      "Cost at 224th loop = [[1.19011233]]\n",
      "Cost at 228th loop = [[1.18111848]]\n",
      "Cost at 232th loop = [[1.17231776]]\n",
      "Cost at 236th loop = [[1.16370446]]\n",
      "Cost at 240th loop = [[1.15527305]]\n",
      "Cost at 244th loop = [[1.1470182]]\n",
      "Cost at 248th loop = [[1.13893475]]\n",
      "Cost at 252th loop = [[1.13101774]]\n",
      "Cost at 256th loop = [[1.12326235]]\n",
      "Cost at 260th loop = [[1.11566396]]\n",
      "Cost at 264th loop = [[1.10821808]]\n",
      "Cost at 268th loop = [[1.10092039]]\n",
      "Cost at 272th loop = [[1.09376671]]\n",
      "Cost at 276th loop = [[1.08675301]]\n",
      "Cost at 280th loop = [[1.07987538]]\n",
      "Cost at 284th loop = [[1.07313007]]\n",
      "Cost at 288th loop = [[1.06651342]]\n",
      "Cost at 292th loop = [[1.06002192]]\n",
      "Cost at 296th loop = [[1.05365217]]\n",
      "Cost at 300th loop = [[1.04740089]]\n",
      "Cost at 304th loop = [[1.04126489]]\n",
      "Cost at 308th loop = [[1.03524111]]\n",
      "Cost at 312th loop = [[1.02932657]]\n",
      "Cost at 316th loop = [[1.0235184]]\n",
      "Cost at 320th loop = [[1.01781382]]\n",
      "Cost at 324th loop = [[1.01221014]]\n",
      "Cost at 328th loop = [[1.00670475]]\n",
      "Cost at 332th loop = [[1.00129515]]\n",
      "Cost at 336th loop = [[0.99597888]]\n",
      "Cost at 340th loop = [[0.9907536]]\n",
      "Cost at 344th loop = [[0.98561701]]\n",
      "Cost at 348th loop = [[0.98056691]]\n",
      "Cost at 352th loop = [[0.97560114]]\n",
      "Cost at 356th loop = [[0.97071764]]\n",
      "Cost at 360th loop = [[0.96591439]]\n",
      "Cost at 364th loop = [[0.96118944]]\n",
      "Cost at 368th loop = [[0.9565409]]\n",
      "Cost at 372th loop = [[0.95196694]]\n",
      "Cost at 376th loop = [[0.94746579]]\n",
      "Cost at 380th loop = [[0.94303573]]\n",
      "Cost at 384th loop = [[0.93867508]]\n",
      "Cost at 388th loop = [[0.93438222]]\n",
      "Cost at 392th loop = [[0.93015558]]\n",
      "Cost at 396th loop = [[0.92599364]]\n",
      "Cost at 400th loop = [[0.92189492]]\n",
      "Cost at 404th loop = [[0.91785798]]\n",
      "Cost at 408th loop = [[0.91388143]]\n",
      "Cost at 412th loop = [[0.90996391]]\n",
      "Cost at 416th loop = [[0.9061041]]\n",
      "Cost at 420th loop = [[0.90230074]]\n",
      "Cost at 424th loop = [[0.89855257]]\n",
      "Cost at 428th loop = [[0.8948584]]\n",
      "Cost at 432th loop = [[0.89121705]]\n",
      "Cost at 436th loop = [[0.88762738]]\n",
      "Cost at 440th loop = [[0.88408828]]\n",
      "Cost at 444th loop = [[0.88059869]]\n",
      "Cost at 448th loop = [[0.87715755]]\n",
      "Cost at 452th loop = [[0.87376384]]\n",
      "Cost at 456th loop = [[0.87041657]]\n",
      "Cost at 460th loop = [[0.86711479]]\n",
      "Cost at 464th loop = [[0.86385755]]\n",
      "Cost at 468th loop = [[0.86064394]]\n",
      "Cost at 472th loop = [[0.85747307]]\n",
      "Cost at 476th loop = [[0.85434409]]\n",
      "Cost at 480th loop = [[0.85125614]]\n",
      "Cost at 484th loop = [[0.84820841]]\n",
      "Cost at 488th loop = [[0.8452001]]\n",
      "Cost at 492th loop = [[0.84223043]]\n",
      "Cost at 496th loop = [[0.83929865]]\n",
      "Cost at 500th loop = [[0.83640401]]\n",
      "Cost at 504th loop = [[0.83354581]]\n",
      "Cost at 508th loop = [[0.83072333]]\n",
      "Cost at 512th loop = [[0.8279359]]\n",
      "Cost at 516th loop = [[0.82518284]]\n",
      "Cost at 520th loop = [[0.82246351]]\n",
      "Cost at 524th loop = [[0.81977728]]\n",
      "Cost at 528th loop = [[0.81712353]]\n",
      "Cost at 532th loop = [[0.81450166]]\n",
      "Cost at 536th loop = [[0.81191107]]\n",
      "Cost at 540th loop = [[0.80935119]]\n",
      "Cost at 544th loop = [[0.80682147]]\n",
      "Cost at 548th loop = [[0.80432136]]\n",
      "Cost at 552th loop = [[0.80185033]]\n",
      "Cost at 556th loop = [[0.79940785]]\n",
      "Cost at 560th loop = [[0.79699341]]\n",
      "Cost at 564th loop = [[0.79460653]]\n",
      "Cost at 568th loop = [[0.79224672]]\n",
      "Cost at 572th loop = [[0.78991349]]\n",
      "Cost at 576th loop = [[0.7876064]]\n",
      "Cost at 580th loop = [[0.78532498]]\n",
      "Cost at 584th loop = [[0.7830688]]\n",
      "Cost at 588th loop = [[0.78083743]]\n",
      "Cost at 592th loop = [[0.77863044]]\n",
      "Cost at 596th loop = [[0.77644742]]\n",
      "Cost at 600th loop = [[0.77428797]]\n",
      "Cost at 604th loop = [[0.77215169]]\n",
      "Cost at 608th loop = [[0.77003821]]\n",
      "Cost at 612th loop = [[0.76794713]]\n",
      "Cost at 616th loop = [[0.7658781]]\n",
      "Cost at 620th loop = [[0.76383076]]\n",
      "Cost at 624th loop = [[0.76180475]]\n",
      "Cost at 628th loop = [[0.75979972]]\n",
      "Cost at 632th loop = [[0.75781534]]\n",
      "Cost at 636th loop = [[0.75585129]]\n",
      "Cost at 640th loop = [[0.75390722]]\n",
      "Cost at 644th loop = [[0.75198284]]\n",
      "Cost at 648th loop = [[0.75007783]]\n",
      "Cost at 652th loop = [[0.74819188]]\n",
      "Cost at 656th loop = [[0.7463247]]\n",
      "Cost at 660th loop = [[0.744476]]\n",
      "Cost at 664th loop = [[0.7426455]]\n",
      "Cost at 668th loop = [[0.74083291]]\n",
      "Cost at 672th loop = [[0.73903796]]\n",
      "Cost at 676th loop = [[0.73726039]]\n",
      "Cost at 680th loop = [[0.73549992]]\n",
      "Cost at 684th loop = [[0.73375632]]\n",
      "Cost at 688th loop = [[0.73202931]]\n",
      "Cost at 692th loop = [[0.73031866]]\n",
      "Cost at 696th loop = [[0.72862413]]\n",
      "Cost at 700th loop = [[0.72694548]]\n",
      "Cost at 704th loop = [[0.72528247]]\n",
      "Cost at 708th loop = [[0.72363487]]\n",
      "Cost at 712th loop = [[0.72200248]]\n",
      "Cost at 716th loop = [[0.72038505]]\n",
      "Cost at 720th loop = [[0.71878239]]\n",
      "Cost at 724th loop = [[0.71719427]]\n",
      "Cost at 728th loop = [[0.7156205]]\n",
      "Cost at 732th loop = [[0.71406087]]\n",
      "Cost at 736th loop = [[0.71251518]]\n",
      "Cost at 740th loop = [[0.71098324]]\n",
      "Cost at 744th loop = [[0.70946484]]\n",
      "Cost at 748th loop = [[0.70795982]]\n",
      "Cost at 752th loop = [[0.70646798]]\n",
      "Cost at 756th loop = [[0.70498914]]\n",
      "Cost at 760th loop = [[0.70352312]]\n",
      "Cost at 764th loop = [[0.70206975]]\n",
      "Cost at 768th loop = [[0.70062886]]\n",
      "Cost at 772th loop = [[0.69920028]]\n",
      "Cost at 776th loop = [[0.69778384]]\n",
      "Cost at 780th loop = [[0.69637938]]\n",
      "Cost at 784th loop = [[0.69498675]]\n",
      "Cost at 788th loop = [[0.69360579]]\n",
      "Cost at 792th loop = [[0.69223633]]\n",
      "Cost at 796th loop = [[0.69087825]]\n",
      "Cost at 800th loop = [[0.68953137]]\n",
      "Cost at 804th loop = [[0.68819556]]\n",
      "Cost at 808th loop = [[0.68687068]]\n",
      "Cost at 812th loop = [[0.68555658]]\n",
      "Cost at 816th loop = [[0.68425313]]\n",
      "Cost at 820th loop = [[0.68296019]]\n",
      "Cost at 824th loop = [[0.68167763]]\n",
      "Cost at 828th loop = [[0.68040532]]\n",
      "Cost at 832th loop = [[0.67914312]]\n",
      "Cost at 836th loop = [[0.67789091]]\n",
      "Cost at 840th loop = [[0.67664857]]\n",
      "Cost at 844th loop = [[0.67541597]]\n",
      "Cost at 848th loop = [[0.674193]]\n",
      "Cost at 852th loop = [[0.67297953]]\n",
      "Cost at 856th loop = [[0.67177545]]\n",
      "Cost at 860th loop = [[0.67058064]]\n",
      "Cost at 864th loop = [[0.66939499]]\n",
      "Cost at 868th loop = [[0.6682184]]\n",
      "Cost at 872th loop = [[0.66705074]]\n",
      "Cost at 876th loop = [[0.66589192]]\n",
      "Cost at 880th loop = [[0.66474183]]\n",
      "Cost at 884th loop = [[0.66360036]]\n",
      "Cost at 888th loop = [[0.66246741]]\n",
      "Cost at 892th loop = [[0.66134289]]\n",
      "Cost at 896th loop = [[0.66022669]]\n",
      "Cost at 900th loop = [[0.65911871]]\n",
      "Cost at 904th loop = [[0.65801886]]\n",
      "Cost at 908th loop = [[0.65692705]]\n",
      "Cost at 912th loop = [[0.65584319]]\n"
     ]
    },
    {
     "name": "stdout",
     "output_type": "stream",
     "text": [
      "Cost at 916th loop = [[0.65476717]]\n",
      "Cost at 920th loop = [[0.65369891]]\n",
      "Cost at 924th loop = [[0.65263833]]\n",
      "Cost at 928th loop = [[0.65158533]]\n",
      "Cost at 932th loop = [[0.65053984]]\n",
      "Cost at 936th loop = [[0.64950176]]\n",
      "Cost at 940th loop = [[0.64847101]]\n",
      "Cost at 944th loop = [[0.6474475]]\n",
      "Cost at 948th loop = [[0.64643117]]\n",
      "Cost at 952th loop = [[0.64542193]]\n",
      "Cost at 956th loop = [[0.6444197]]\n",
      "Cost at 960th loop = [[0.64342441]]\n",
      "Cost at 964th loop = [[0.64243597]]\n",
      "Cost at 968th loop = [[0.64145431]]\n",
      "Cost at 972th loop = [[0.64047937]]\n",
      "Cost at 976th loop = [[0.63951106]]\n",
      "Cost at 980th loop = [[0.63854931]]\n",
      "Cost at 984th loop = [[0.63759406]]\n",
      "Cost at 988th loop = [[0.63664524]]\n",
      "Cost at 992th loop = [[0.63570277]]\n",
      "Cost at 996th loop = [[0.63476659]]\n",
      "Cost at 1000th loop = [[0.63383663]]\n",
      "Cost at 1004th loop = [[0.63291283]]\n",
      "Cost at 1008th loop = [[0.63199512]]\n",
      "Cost at 1012th loop = [[0.63108343]]\n",
      "Cost at 1016th loop = [[0.63017772]]\n",
      "Cost at 1020th loop = [[0.6292779]]\n",
      "Cost at 1024th loop = [[0.62838393]]\n",
      "Cost at 1028th loop = [[0.62749574]]\n",
      "Cost at 1032th loop = [[0.62661327]]\n",
      "Cost at 1036th loop = [[0.62573646]]\n",
      "Cost at 1040th loop = [[0.62486526]]\n",
      "Cost at 1044th loop = [[0.62399961]]\n",
      "Cost at 1048th loop = [[0.62313945]]\n",
      "Cost at 1052th loop = [[0.62228473]]\n",
      "Cost at 1056th loop = [[0.6214354]]\n",
      "Cost at 1060th loop = [[0.62059139]]\n",
      "Cost at 1064th loop = [[0.61975265]]\n",
      "Cost at 1068th loop = [[0.61891914]]\n",
      "Cost at 1072th loop = [[0.6180908]]\n",
      "Cost at 1076th loop = [[0.61726758]]\n",
      "Cost at 1080th loop = [[0.61644943]]\n",
      "Cost at 1084th loop = [[0.6156363]]\n",
      "Cost at 1088th loop = [[0.61482814]]\n",
      "Cost at 1092th loop = [[0.6140249]]\n",
      "Cost at 1096th loop = [[0.61322654]]\n",
      "Cost at 1100th loop = [[0.61243301]]\n",
      "Cost at 1104th loop = [[0.61164425]]\n",
      "Cost at 1108th loop = [[0.61086023]]\n",
      "Cost at 1112th loop = [[0.6100809]]\n",
      "Cost at 1116th loop = [[0.60930622]]\n",
      "Cost at 1120th loop = [[0.60853614]]\n",
      "Cost at 1124th loop = [[0.60777061]]\n",
      "Cost at 1128th loop = [[0.6070096]]\n",
      "Cost at 1132th loop = [[0.60625307]]\n",
      "Cost at 1136th loop = [[0.60550096]]\n",
      "Cost at 1140th loop = [[0.60475324]]\n",
      "Cost at 1144th loop = [[0.60400987]]\n",
      "Cost at 1148th loop = [[0.6032708]]\n",
      "Cost at 1152th loop = [[0.602536]]\n",
      "Cost at 1156th loop = [[0.60180543]]\n",
      "Cost at 1160th loop = [[0.60107906]]\n",
      "Cost at 1164th loop = [[0.60035683]]\n",
      "Cost at 1168th loop = [[0.59963871]]\n",
      "Cost at 1172th loop = [[0.59892467]]\n",
      "Cost at 1176th loop = [[0.59821467]]\n",
      "Cost at 1180th loop = [[0.59750867]]\n",
      "Cost at 1184th loop = [[0.59680664]]\n",
      "Cost at 1188th loop = [[0.59610854]]\n",
      "Cost at 1192th loop = [[0.59541433]]\n",
      "Cost at 1196th loop = [[0.59472399]]\n",
      "Cost at 1200th loop = [[0.59403747]]\n",
      "Cost at 1204th loop = [[0.59335474]]\n",
      "Cost at 1208th loop = [[0.59267578]]\n",
      "Cost at 1212th loop = [[0.59200054]]\n",
      "Cost at 1216th loop = [[0.59132899]]\n",
      "Cost at 1220th loop = [[0.5906611]]\n",
      "Cost at 1224th loop = [[0.58999684]]\n",
      "Cost at 1228th loop = [[0.58933618]]\n",
      "Cost at 1232th loop = [[0.58867909]]\n",
      "Cost at 1236th loop = [[0.58802553]]\n",
      "Cost at 1240th loop = [[0.58737547]]\n",
      "Cost at 1244th loop = [[0.58672889]]\n",
      "Cost at 1248th loop = [[0.58608576]]\n",
      "Cost at 1252th loop = [[0.58544604]]\n",
      "Cost at 1256th loop = [[0.58480971]]\n",
      "Cost at 1260th loop = [[0.58417673]]\n",
      "Cost at 1264th loop = [[0.58354709]]\n",
      "Cost at 1268th loop = [[0.58292074]]\n",
      "Cost at 1272th loop = [[0.58229767]]\n",
      "Cost at 1276th loop = [[0.58167785]]\n",
      "Cost at 1280th loop = [[0.58106125]]\n",
      "Cost at 1284th loop = [[0.58044784]]\n",
      "Cost at 1288th loop = [[0.57983759]]\n",
      "Cost at 1292th loop = [[0.57923048]]\n",
      "Cost at 1296th loop = [[0.57862649]]\n",
      "Cost at 1300th loop = [[0.57802559]]\n",
      "Cost at 1304th loop = [[0.57742775]]\n",
      "Cost at 1308th loop = [[0.57683294]]\n",
      "Cost at 1312th loop = [[0.57624115]]\n",
      "Cost at 1316th loop = [[0.57565235]]\n",
      "Cost at 1320th loop = [[0.57506651]]\n",
      "Cost at 1324th loop = [[0.57448362]]\n",
      "Cost at 1328th loop = [[0.57390364]]\n",
      "Cost at 1332th loop = [[0.57332655]]\n",
      "Cost at 1336th loop = [[0.57275233]]\n",
      "Cost at 1340th loop = [[0.57218096]]\n",
      "Cost at 1344th loop = [[0.57161242]]\n",
      "Cost at 1348th loop = [[0.57104668]]\n",
      "Cost at 1352th loop = [[0.57048371]]\n",
      "Cost at 1356th loop = [[0.56992351]]\n",
      "Cost at 1360th loop = [[0.56936604]]\n",
      "Cost at 1364th loop = [[0.56881129]]\n",
      "Cost at 1368th loop = [[0.56825923]]\n",
      "Cost at 1372th loop = [[0.56770984]]\n",
      "Cost at 1376th loop = [[0.5671631]]\n",
      "Cost at 1380th loop = [[0.566619]]\n",
      "Cost at 1384th loop = [[0.5660775]]\n",
      "Cost at 1388th loop = [[0.5655386]]\n",
      "Cost at 1392th loop = [[0.56500227]]\n",
      "Cost at 1396th loop = [[0.56446848]]\n",
      "Cost at 1400th loop = [[0.56393723]]\n",
      "Cost at 1404th loop = [[0.5634085]]\n",
      "Cost at 1408th loop = [[0.56288225]]\n",
      "Cost at 1412th loop = [[0.56235848]]\n",
      "Cost at 1416th loop = [[0.56183717]]\n",
      "Cost at 1420th loop = [[0.56131829]]\n",
      "Cost at 1424th loop = [[0.56080183]]\n",
      "Cost at 1428th loop = [[0.56028777]]\n",
      "Cost at 1432th loop = [[0.55977609]]\n",
      "Cost at 1436th loop = [[0.55926678]]\n",
      "Cost at 1440th loop = [[0.55875981]]\n",
      "Cost at 1444th loop = [[0.55825518]]\n",
      "Cost at 1448th loop = [[0.55775286]]\n",
      "Cost at 1452th loop = [[0.55725283]]\n",
      "Cost at 1456th loop = [[0.55675508]]\n",
      "Cost at 1460th loop = [[0.55625959]]\n",
      "Cost at 1464th loop = [[0.55576635]]\n",
      "Cost at 1468th loop = [[0.55527534]]\n",
      "Cost at 1472th loop = [[0.55478654]]\n",
      "Cost at 1476th loop = [[0.55429993]]\n",
      "Cost at 1480th loop = [[0.55381551]]\n",
      "Cost at 1484th loop = [[0.55333325]]\n",
      "Cost at 1488th loop = [[0.55285314]]\n",
      "Cost at 1492th loop = [[0.55237516]]\n",
      "Cost at 1496th loop = [[0.55189931]]\n",
      "Cost at 1500th loop = [[0.55142555]]\n",
      "Cost at 1504th loop = [[0.55095389]]\n",
      "Cost at 1508th loop = [[0.55048429]]\n",
      "Cost at 1512th loop = [[0.55001676]]\n",
      "Cost at 1516th loop = [[0.54955127]]\n",
      "Cost at 1520th loop = [[0.54908781]]\n",
      "Cost at 1524th loop = [[0.54862637]]\n",
      "Cost at 1528th loop = [[0.54816693]]\n",
      "Cost at 1532th loop = [[0.54770947]]\n",
      "Cost at 1536th loop = [[0.54725399]]\n",
      "Cost at 1540th loop = [[0.54680047]]\n",
      "Cost at 1544th loop = [[0.54634889]]\n",
      "Cost at 1548th loop = [[0.54589925]]\n",
      "Cost at 1552th loop = [[0.54545153]]\n",
      "Cost at 1556th loop = [[0.54500571]]\n",
      "Cost at 1560th loop = [[0.54456179]]\n",
      "Cost at 1564th loop = [[0.54411974]]\n",
      "Cost at 1568th loop = [[0.54367956]]\n",
      "Cost at 1572th loop = [[0.54324124]]\n",
      "Cost at 1576th loop = [[0.54280476]]\n",
      "Cost at 1580th loop = [[0.54237011]]\n",
      "Cost at 1584th loop = [[0.54193727]]\n",
      "Cost at 1588th loop = [[0.54150624]]\n",
      "Cost at 1592th loop = [[0.54107701]]\n",
      "Cost at 1596th loop = [[0.54064955]]\n",
      "Cost at 1600th loop = [[0.54022386]]\n",
      "Cost at 1604th loop = [[0.53979993]]\n",
      "Cost at 1608th loop = [[0.53937774]]\n",
      "Cost at 1612th loop = [[0.53895728]]\n",
      "Cost at 1616th loop = [[0.53853855]]\n",
      "Cost at 1620th loop = [[0.53812153]]\n",
      "Cost at 1624th loop = [[0.53770621]]\n",
      "Cost at 1628th loop = [[0.53729257]]\n",
      "Cost at 1632th loop = [[0.53688061]]\n",
      "Cost at 1636th loop = [[0.53647032]]\n",
      "Cost at 1640th loop = [[0.53606168]]\n",
      "Cost at 1644th loop = [[0.53565469]]\n",
      "Cost at 1648th loop = [[0.53524933]]\n",
      "Cost at 1652th loop = [[0.53484559]]\n",
      "Cost at 1656th loop = [[0.53444346]]\n",
      "Cost at 1660th loop = [[0.53404294]]\n",
      "Cost at 1664th loop = [[0.53364401]]\n",
      "Cost at 1668th loop = [[0.53324666]]\n",
      "Cost at 1672th loop = [[0.53285088]]\n",
      "Cost at 1676th loop = [[0.53245666]]\n",
      "Cost at 1680th loop = [[0.53206399]]\n",
      "Cost at 1684th loop = [[0.53167286]]\n",
      "Cost at 1688th loop = [[0.53128327]]\n",
      "Cost at 1692th loop = [[0.53089519]]\n",
      "Cost at 1696th loop = [[0.53050863]]\n",
      "Cost at 1700th loop = [[0.53012357]]\n",
      "Cost at 1704th loop = [[0.52974001]]\n",
      "Cost at 1708th loop = [[0.52935792]]\n",
      "Cost at 1712th loop = [[0.52897731]]\n",
      "Cost at 1716th loop = [[0.52859817]]\n",
      "Cost at 1720th loop = [[0.52822048]]\n",
      "Cost at 1724th loop = [[0.52784424]]\n",
      "Cost at 1728th loop = [[0.52746944]]\n",
      "Cost at 1732th loop = [[0.52709607]]\n",
      "Cost at 1736th loop = [[0.52672411]]\n",
      "Cost at 1740th loop = [[0.52635357]]\n",
      "Cost at 1744th loop = [[0.52598443]]\n",
      "Cost at 1748th loop = [[0.52561669]]\n",
      "Cost at 1752th loop = [[0.52525033]]\n",
      "Cost at 1756th loop = [[0.52488534]]\n",
      "Cost at 1760th loop = [[0.52452173]]\n",
      "Cost at 1764th loop = [[0.52415948]]\n",
      "Cost at 1768th loop = [[0.52379857]]\n",
      "Cost at 1772th loop = [[0.52343902]]\n",
      "Cost at 1776th loop = [[0.52308079]]\n",
      "Cost at 1780th loop = [[0.5227239]]\n",
      "Cost at 1784th loop = [[0.52236833]]\n",
      "Cost at 1788th loop = [[0.52201406]]\n",
      "Cost at 1792th loop = [[0.5216611]]\n",
      "Cost at 1796th loop = [[0.52130944]]\n",
      "Cost at 1800th loop = [[0.52095907]]\n",
      "Cost at 1804th loop = [[0.52060997]]\n"
     ]
    },
    {
     "name": "stdout",
     "output_type": "stream",
     "text": [
      "Cost at 1808th loop = [[0.52026215]]\n",
      "Cost at 1812th loop = [[0.5199156]]\n",
      "Cost at 1816th loop = [[0.5195703]]\n",
      "Cost at 1820th loop = [[0.51922626]]\n",
      "Cost at 1824th loop = [[0.51888345]]\n",
      "Cost at 1828th loop = [[0.51854189]]\n",
      "Cost at 1832th loop = [[0.51820155]]\n",
      "Cost at 1836th loop = [[0.51786243]]\n",
      "Cost at 1840th loop = [[0.51752453]]\n",
      "Cost at 1844th loop = [[0.51718784]]\n",
      "Cost at 1848th loop = [[0.51685234]]\n",
      "Cost at 1852th loop = [[0.51651804]]\n",
      "Cost at 1856th loop = [[0.51618493]]\n",
      "Cost at 1860th loop = [[0.51585299]]\n",
      "Cost at 1864th loop = [[0.51552223]]\n",
      "Cost at 1868th loop = [[0.51519264]]\n",
      "Cost at 1872th loop = [[0.5148642]]\n",
      "Cost at 1876th loop = [[0.51453692]]\n",
      "Cost at 1880th loop = [[0.51421078]]\n",
      "Cost at 1884th loop = [[0.51388578]]\n",
      "Cost at 1888th loop = [[0.51356192]]\n",
      "Cost at 1892th loop = [[0.51323918]]\n",
      "Cost at 1896th loop = [[0.51291757]]\n",
      "Cost at 1900th loop = [[0.51259706]]\n",
      "Cost at 1904th loop = [[0.51227767]]\n",
      "Cost at 1908th loop = [[0.51195938]]\n",
      "Cost at 1912th loop = [[0.51164218]]\n",
      "Cost at 1916th loop = [[0.51132607]]\n",
      "Cost at 1920th loop = [[0.51101104]]\n",
      "Cost at 1924th loop = [[0.5106971]]\n",
      "Cost at 1928th loop = [[0.51038422]]\n",
      "Cost at 1932th loop = [[0.51007241]]\n",
      "Cost at 1936th loop = [[0.50976165]]\n",
      "Cost at 1940th loop = [[0.50945196]]\n",
      "Cost at 1944th loop = [[0.5091433]]\n",
      "Cost at 1948th loop = [[0.50883569]]\n",
      "Cost at 1952th loop = [[0.50852912]]\n",
      "Cost at 1956th loop = [[0.50822358]]\n",
      "Cost at 1960th loop = [[0.50791906]]\n",
      "Cost at 1964th loop = [[0.50761556]]\n",
      "Cost at 1968th loop = [[0.50731307]]\n",
      "Cost at 1972th loop = [[0.5070116]]\n",
      "Cost at 1976th loop = [[0.50671112]]\n",
      "Cost at 1980th loop = [[0.50641164]]\n",
      "Cost at 1984th loop = [[0.50611316]]\n",
      "Cost at 1988th loop = [[0.50581566]]\n",
      "Cost at 1992th loop = [[0.50551914]]\n",
      "Cost at 1996th loop = [[0.50522359]]\n"
     ]
    }
   ],
   "source": [
    "#optimise\n",
    "alpha = 0.009\n",
    "iterations = 2000\n",
    "global costs\n",
    "costs=[]\n",
    "for i in range(iterations):\n",
    "    forward()\n",
    "    if i%4 ==0:\n",
    "        cost()\n",
    "        costs.append(J)\n",
    "        print(f'Cost at {i}th loop = {J}')\n",
    "    backward()\n",
    "    W = W - alpha*dW\n",
    "    b = b - alpha*db"
   ]
  },
  {
   "cell_type": "code",
   "execution_count": 36,
   "metadata": {},
   "outputs": [
    {
     "data": {
      "image/png": "[encoded data removed]",
      "text/plain": [
       "<Figure size 432x288 with 1 Axes>"
      ]
     },
     "metadata": {
      "needs_background": "light"
     },
     "output_type": "display_data"
    },
    {
     "data": {
      "text/plain": [
       "500"
      ]
     },
     "execution_count": 36,
     "metadata": {},
     "output_type": "execute_result"
    }
   ],
   "source": [
    "plt.plot(np.arange(0,2000,4), np.array(costs).reshape(len(costs),1))\n",
    "plt.ylabel('cost')\n",
    "plt.xlabel('iterations')\n",
    "plt.show()\n",
    "len(costs)\n"
   ]
  },
  {
   "cell_type": "code",
   "execution_count": 50,
   "metadata": {},
   "outputs": [],
   "source": [
    "# A[:,0].max() == A[:,0]\n",
    "O = (np.max(A,axis=0) == A).T * np.array([0,1,2,3,4,5,6,7,8,9]).T"
   ]
  },
  {
   "cell_type": "code",
   "execution_count": 51,
   "metadata": {},
   "outputs": [
    {
     "data": {
      "text/plain": [
       "(array([5, 0, 4, ..., 5, 6, 8]), array([5, 0, 4, ..., 5, 6, 8], dtype=uint8))"
      ]
     },
     "execution_count": 51,
     "metadata": {},
     "output_type": "execute_result"
    }
   ],
   "source": [
    "F = np.sum(O,axis=1)\n",
    "F,train_labels"
   ]
  },
  {
   "cell_type": "code",
   "execution_count": 52,
   "metadata": {},
   "outputs": [
    {
     "name": "stdout",
     "output_type": "stream",
     "text": [
      "52499 images correctly labeled out of 60000 for Train Set\n"
     ]
    }
   ],
   "source": [
    "print(f'{np.sum(F==train_labels)} images correctly labeled out of {train_labels.shape[0]} for Train Set')"
   ]
  },
  {
   "cell_type": "code",
   "execution_count": 53,
   "metadata": {},
   "outputs": [
    {
     "name": "stdout",
     "output_type": "stream",
     "text": [
      "Accuracy : 93.98212438905531 on Train Set\n"
     ]
    }
   ],
   "source": [
    "print(f'Accuracy : {100 - np.mean(np.abs(A- Y_hot))*100} on Train Set')"
   ]
  },
  {
   "cell_type": "code",
   "execution_count": 54,
   "metadata": {},
   "outputs": [
    {
     "name": "stdout",
     "output_type": "stream",
     "text": [
      "Cost for training was [[0.50522359]]\n"
     ]
    }
   ],
   "source": [
    "print(f'Cost for training was {J}')"
   ]
  },
  {
   "cell_type": "code",
   "execution_count": 55,
   "metadata": {},
   "outputs": [],
   "source": [
    "# test\n",
    "Z_test = np.dot(W.T, X_test) + b[:,:10000]\n",
    "A_test = softmax(Z_test)\n",
    "L_test = -np.sum(Y_test_hot*np.log(A_test), keepdims=True, axis=0)\n",
    "J_test = np.sum(L_test, keepdims=True, axis=1)*(1/m)"
   ]
  },
  {
   "cell_type": "code",
   "execution_count": 56,
   "metadata": {},
   "outputs": [
    {
     "data": {
      "text/plain": [
       "(array([7, 2, 1, ..., 4, 8, 6]), array([7, 2, 1, ..., 4, 5, 6], dtype=uint8))"
      ]
     },
     "execution_count": 56,
     "metadata": {},
     "output_type": "execute_result"
    }
   ],
   "source": [
    "O_test = (np.max(A_test,axis=0) == A_test).T * np.array([0,1,2,3,4,5,6,7,8,9]).T\n",
    "F_test = np.sum(O_test,axis=1)\n",
    "F_test, test_labels"
   ]
  },
  {
   "cell_type": "code",
   "execution_count": 57,
   "metadata": {},
   "outputs": [
    {
     "name": "stdout",
     "output_type": "stream",
     "text": [
      "8831 images correctly labeled out of 10000 for Test Set\n"
     ]
    }
   ],
   "source": [
    "print(f'{np.sum(F_test==test_labels)} images correctly labeled out of {test_labels.shape[0]} for Test Set')"
   ]
  },
  {
   "cell_type": "code",
   "execution_count": 58,
   "metadata": {},
   "outputs": [
    {
     "name": "stdout",
     "output_type": "stream",
     "text": [
      "Accuracy : 94.18112873549983 on Test Set\n"
     ]
    }
   ],
   "source": [
    "print(f'Accuracy : {100 - np.mean(np.abs(A_test- Y_test_hot))*100} on Test Set')"
   ]
  },
  {
   "cell_type": "code",
   "execution_count": 59,
   "metadata": {},
   "outputs": [
    {
     "name": "stdout",
     "output_type": "stream",
     "text": [
      "Cost for training was [[0.08025776]]\n"
     ]
    }
   ],
   "source": [
    "print(f'Cost for training was {J_test}')"
   ]
  },
  {
   "cell_type": "code",
   "execution_count": 70,
   "metadata": {},
   "outputs": [
    {
     "name": "stdout",
     "output_type": "stream",
     "text": [
      "The image no. is 3 and my Model predicts 3\n"
     ]
    },
    {
     "data": {
      "image/png": "[encoded data removed]",
      "text/plain": [
       "<Figure size 432x288 with 1 Axes>"
      ]
     },
     "metadata": {
      "needs_background": "light"
     },
     "output_type": "display_data"
    }
   ],
   "source": [
    "image = 782   # 0-9999\n",
    "plt.imshow(test_images[image])\n",
    "print(f'The image no. is {test_labels[image]} and my Model predicts {F_test[image]}')"
   ]
  },
  {
   "cell_type": "code",
   "execution_count": 31,
   "metadata": {},
   "outputs": [],
   "source": [
    "import pandas as pd"
   ]
  },
  {
   "cell_type": "code",
   "execution_count": 41,
   "metadata": {},
   "outputs": [],
   "source": [
    "Cost = pd.DataFrame([cost[0][0] for cost in costs], columns=['Cost'], index=np.arange(0,2000,4))"
   ]
  },
  {
   "cell_type": "code",
   "execution_count": 45,
   "metadata": {},
   "outputs": [],
   "source": [
    "res_W = pd.DataFrame(W)"
   ]
  },
  {
   "cell_type": "code",
   "execution_count": 46,
   "metadata": {},
   "outputs": [],
   "source": [
    "res_b = pd.DataFrame(b)"
   ]
  },
  {
   "cell_type": "code",
   "execution_count": 47,
   "metadata": {},
   "outputs": [],
   "source": [
    "Cost.to_csv('Cost.csv')"
   ]
  },
  {
   "cell_type": "code",
   "execution_count": 48,
   "metadata": {},
   "outputs": [],
   "source": [
    "res_W.to_csv('res_W.csv')"
   ]
  },
  {
   "cell_type": "code",
   "execution_count": 49,
   "metadata": {},
   "outputs": [],
   "source": [
    "res_b.to_csv('res_b.csv')"
   ]
  },
  {
   "cell_type": "code",
   "execution_count": null,
   "metadata": {},
   "outputs": [],
   "source": []
  }
 ],
 "metadata": {
  "kernelspec": {
   "display_name": "Python 3",
   "language": "python",
   "name": "python3"
  },
  "language_info": {
   "codemirror_mode": {
    "name": "ipython",
    "version": 3
   },
   "file_extension": ".py",
   "mimetype": "text/x-python",
   "name": "python",
   "nbconvert_exporter": "python",
   "pygments_lexer": "ipython3",
   "version": "3.8.3"
  }
 },
 "nbformat": 4,
 "nbformat_minor": 4
}
