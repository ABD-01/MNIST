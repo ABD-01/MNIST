{
 "cells": [
  {
   "cell_type": "code",
   "execution_count": 1,
   "metadata": {},
   "outputs": [],
   "source": [
    "import matplotlib.pyplot as plt\n",
    "import numpy as np\n",
    "import idx2numpy\n",
    "from tqdm import tqdm"
   ]
  },
  {
   "cell_type": "code",
   "execution_count": 2,
   "metadata": {},
   "outputs": [],
   "source": [
    "test_images = idx2numpy.convert_from_file('t10k-images.idx3-ubyte')\n",
    "test_labels = idx2numpy.convert_from_file('t10k-labels.idx1-ubyte')\n",
    "train_images = idx2numpy.convert_from_file('train-images.idx3-ubyte')\n",
    "train_labels = idx2numpy.convert_from_file('train-labels.idx1-ubyte')"
   ]
  },
  {
   "cell_type": "code",
   "execution_count": 3,
   "metadata": {},
   "outputs": [
    {
     "name": "stdout",
     "output_type": "stream",
     "text": [
      "(10000, 28, 28)\n",
      "(10000,)\n",
      "(60000, 28, 28)\n",
      "(60000,)\n"
     ]
    }
   ],
   "source": [
    "print(test_images.shape)\n",
    "print(test_labels.shape)\n",
    "print(train_images.shape)\n",
    "print(train_labels.shape)"
   ]
  },
  {
   "cell_type": "code",
   "execution_count": 4,
   "metadata": {},
   "outputs": [],
   "source": [
    "train_images_flat=train_images.reshape(train_images.shape[0], -1).T\n",
    "test_images_flat=test_images.reshape(test_images.shape[0], -1).T"
   ]
  },
  {
   "cell_type": "code",
   "execution_count": 5,
   "metadata": {},
   "outputs": [
    {
     "name": "stdout",
     "output_type": "stream",
     "text": [
      "(784, 60000)\n",
      "(784, 10000)\n",
      "Train Examples=60000\n",
      "Test Examples=10000\n"
     ]
    }
   ],
   "source": [
    "print(train_images_flat.shape)\n",
    "print(test_images_flat.shape)\n",
    "m = train_images_flat.shape[1]\n",
    "m_test = test_images_flat.shape[1]\n",
    "print(f\"Train Examples={m}\")\n",
    "print(f\"Test Examples={m_test}\")\n",
    "X = train_images_flat/255\n",
    "X_test = test_images_flat/255"
   ]
  },
  {
   "cell_type": "code",
   "execution_count": 8,
   "metadata": {},
   "outputs": [
    {
     "data": {
      "text/plain": [
       "(1, 60000)"
      ]
     },
     "execution_count": 8,
     "metadata": {},
     "output_type": "execute_result"
    }
   ],
   "source": [
    "# Y = train_labels.reshape(train_labels.shape[0],1).T # Y.shape is (1, m)\n",
    "# Y.shape"
   ]
  },
  {
   "cell_type": "code",
   "execution_count": 6,
   "metadata": {},
   "outputs": [],
   "source": [
    "def one_hot(row_vector, no_classes):\n",
    "    one_hot_vector = np.eye(no_classes)[row_vector.reshape(-1)]\n",
    "    return one_hot_vector.T"
   ]
  },
  {
   "cell_type": "code",
   "execution_count": 152,
   "metadata": {},
   "outputs": [
    {
     "name": "stdout",
     "output_type": "stream",
     "text": [
      "No. of Classes=10\n",
      "(10, 60000)\n",
      "(10, 10000)\n"
     ]
    }
   ],
   "source": [
    "C = train_labels.max()+1\n",
    "print(f\"No. of Classes={C}\")\n",
    "Y_hot = one_hot(train_labels,no_classes=C)\n",
    "Y_test_hot = one_hot(test_labels,no_classes=C)\n",
    "print(Y_hot.shape) #Y_hot.shape is (C,m)\n",
    "print(Y_test_hot.shape) #Y_hot.shape is (C,m)"
   ]
  },
  {
   "cell_type": "code",
   "execution_count": 64,
   "metadata": {},
   "outputs": [],
   "source": [
    "def initialize():\n",
    "    global W,b\n",
    "    W = np.random.randn(train_images_flat.shape[0], C)*0.001 # W.shape is (n_x,1)\n",
    "    b = np.zeros((1,m)) #b.shape is (1,m)\n",
    "initialize()"
   ]
  },
  {
   "cell_type": "code",
   "execution_count": 65,
   "metadata": {},
   "outputs": [
    {
     "name": "stdout",
     "output_type": "stream",
     "text": [
      "(784, 10)\n",
      "(1, 60000)\n"
     ]
    }
   ],
   "source": [
    "print(W.shape)\n",
    "print(b.shape)"
   ]
  },
  {
   "cell_type": "code",
   "execution_count": 66,
   "metadata": {},
   "outputs": [],
   "source": [
    "def softmax(z):\n",
    "    t = np.exp(z)\n",
    "    a = t / np.sum(t)\n",
    "    return a"
   ]
  },
  {
   "cell_type": "code",
   "execution_count": 67,
   "metadata": {},
   "outputs": [],
   "source": [
    "def forward():\n",
    "    global Z,A\n",
    "    Z = np.dot(W.T, X) + b # Z.shape is (C,m)\n",
    "    A = softmax(Z)  # A.shape is (C,m)"
   ]
  },
  {
   "cell_type": "code",
   "execution_count": 68,
   "metadata": {},
   "outputs": [],
   "source": [
    "def cost():\n",
    "    global L,J\n",
    "# Calculate Loss\n",
    "    L = -np.sum(Y_hot*np.log(A), keepdims=True, axis=0) # L.shape is (1,m)   '''NO BROADCASTING GOING ON HERE'''\n",
    "    #calculate Cost\n",
    "    J = np.sum(L, keepdims=True, axis=1)*(1/m) # J.shape is (1,1) "
   ]
  },
  {
   "cell_type": "code",
   "execution_count": 69,
   "metadata": {},
   "outputs": [],
   "source": [
    "# deivatives\n",
    "def backward():\n",
    "    global dZ, dW, db\n",
    "    #dJ/dZ\n",
    "    dZ = A-Y_hot  # dZ.shape is (C,m)   '''BROADCASTING GOING ON HERE'''\n",
    "\n",
    "    #dJ/dW = sum(dL/dW)/m  which is equivalent to np.dot(X,dZ.T)/m\n",
    "    '''\n",
    "    dLdW = X*dZ  # dLdW.shape is (n_x, m)\n",
    "    dW = np.sum(dLdW, keepdims=True, axis=1)/m  #dW.shape is (n_x,1) [same as W.shape]\n",
    "    '''\n",
    "    dW = np.dot(X, dZ.T) / m\n",
    "    #dJ/db\n",
    "    db = np.sum(dZ, keepdims=True, axis=1)/m  # db.shape = (1,1)"
   ]
  },
  {
   "cell_type": "code",
   "execution_count": 189,
   "metadata": {},
   "outputs": [
    {
     "data": {
      "text/plain": [
       "((10, 60000),\n",
       " (10, 60000),\n",
       " (1, 60000),\n",
       " (1, 1),\n",
       " (10, 60000),\n",
       " (10, 60000),\n",
       " (784, 10),\n",
       " (784, 10),\n",
       " (10, 1))"
      ]
     },
     "execution_count": 189,
     "metadata": {},
     "output_type": "execute_result"
    }
   ],
   "source": [
    "forward()\n",
    "cost()\n",
    "backward()\n",
    "A.shape, Y_hot.shape, L.shape, J.shape,Z.shape, dZ.shape, W.shape, dW.shape, db.shape"
   ]
  },
  {
   "cell_type": "code",
   "execution_count": 194,
   "metadata": {},
   "outputs": [],
   "source": [
    "initialize()"
   ]
  },
  {
   "cell_type": "code",
   "execution_count": 196,
   "metadata": {
    "scrolled": true
   },
   "outputs": [
    {
     "name": "stdout",
     "output_type": "stream",
     "text": [
      "Cost at 0th loop = [[13.28388876]]\n",
      "Cost at 4th loop = [[13.2796916]]\n",
      "Cost at 8th loop = [[13.27552016]]\n",
      "Cost at 12th loop = [[13.27137453]]\n",
      "Cost at 16th loop = [[13.26725481]]\n",
      "Cost at 20th loop = [[13.26316109]]\n",
      "Cost at 24th loop = [[13.25909349]]\n",
      "Cost at 28th loop = [[13.25505209]]\n",
      "Cost at 32th loop = [[13.251037]]\n",
      "Cost at 36th loop = [[13.24704832]]\n",
      "Cost at 40th loop = [[13.24308616]]\n",
      "Cost at 44th loop = [[13.23915061]]\n",
      "Cost at 48th loop = [[13.23524178]]\n",
      "Cost at 52th loop = [[13.23135978]]\n",
      "Cost at 56th loop = [[13.22750471]]\n",
      "Cost at 60th loop = [[13.22367667]]\n",
      "Cost at 64th loop = [[13.21987578]]\n",
      "Cost at 68th loop = [[13.21610214]]\n",
      "Cost at 72th loop = [[13.21235587]]\n",
      "Cost at 76th loop = [[13.20863706]]\n",
      "Cost at 80th loop = [[13.20494584]]\n",
      "Cost at 84th loop = [[13.20128231]]\n",
      "Cost at 88th loop = [[13.19764658]]\n",
      "Cost at 92th loop = [[13.19403877]]\n",
      "Cost at 96th loop = [[13.190459]]\n",
      "Cost at 100th loop = [[13.18690737]]\n",
      "Cost at 104th loop = [[13.183384]]\n",
      "Cost at 108th loop = [[13.17988902]]\n",
      "Cost at 112th loop = [[13.17642253]]\n",
      "Cost at 116th loop = [[13.17298465]]\n",
      "Cost at 120th loop = [[13.16957551]]\n",
      "Cost at 124th loop = [[13.16619523]]\n",
      "Cost at 128th loop = [[13.16284392]]\n",
      "Cost at 132th loop = [[13.15952171]]\n",
      "Cost at 136th loop = [[13.15622873]]\n",
      "Cost at 140th loop = [[13.15296509]]\n",
      "Cost at 144th loop = [[13.14973092]]\n",
      "Cost at 148th loop = [[13.14652635]]\n",
      "Cost at 152th loop = [[13.1433515]]\n",
      "Cost at 156th loop = [[13.14020651]]\n",
      "Cost at 160th loop = [[13.13709151]]\n",
      "Cost at 164th loop = [[13.13400661]]\n",
      "Cost at 168th loop = [[13.13095196]]\n",
      "Cost at 172th loop = [[13.12792769]]\n",
      "Cost at 176th loop = [[13.12493393]]\n",
      "Cost at 180th loop = [[13.12197082]]\n",
      "Cost at 184th loop = [[13.11903848]]\n",
      "Cost at 188th loop = [[13.11613707]]\n",
      "Cost at 192th loop = [[13.11326672]]\n",
      "Cost at 196th loop = [[13.11042756]]\n",
      "Cost at 200th loop = [[13.10761974]]\n",
      "Cost at 204th loop = [[13.10484339]]\n",
      "Cost at 208th loop = [[13.10209868]]\n",
      "Cost at 212th loop = [[13.09938572]]\n",
      "Cost at 216th loop = [[13.09670468]]\n",
      "Cost at 220th loop = [[13.0940557]]\n",
      "Cost at 224th loop = [[13.09143892]]\n",
      "Cost at 228th loop = [[13.08885449]]\n",
      "Cost at 232th loop = [[13.08630258]]\n",
      "Cost at 236th loop = [[13.08378331]]\n",
      "Cost at 240th loop = [[13.08129686]]\n",
      "Cost at 244th loop = [[13.07884337]]\n",
      "Cost at 248th loop = [[13.07642301]]\n",
      "Cost at 252th loop = [[13.07403592]]\n",
      "Cost at 256th loop = [[13.07168226]]\n",
      "Cost at 260th loop = [[13.06936219]]\n",
      "Cost at 264th loop = [[13.06707589]]\n",
      "Cost at 268th loop = [[13.0648235]]\n",
      "Cost at 272th loop = [[13.06260519]]\n",
      "Cost at 276th loop = [[13.06042113]]\n",
      "Cost at 280th loop = [[13.05827148]]\n",
      "Cost at 284th loop = [[13.05615641]]\n",
      "Cost at 288th loop = [[13.05407609]]\n",
      "Cost at 292th loop = [[13.0520307]]\n",
      "Cost at 296th loop = [[13.05002039]]\n",
      "Cost at 300th loop = [[13.04804536]]\n",
      "Cost at 304th loop = [[13.04610577]]\n",
      "Cost at 308th loop = [[13.0442018]]\n",
      "Cost at 312th loop = [[13.04233363]]\n",
      "Cost at 316th loop = [[13.04050144]]\n",
      "Cost at 320th loop = [[13.03870542]]\n",
      "Cost at 324th loop = [[13.03694573]]\n",
      "Cost at 328th loop = [[13.03522258]]\n",
      "Cost at 332th loop = [[13.03353614]]\n",
      "Cost at 336th loop = [[13.03188661]]\n",
      "Cost at 340th loop = [[13.03027417]]\n",
      "Cost at 344th loop = [[13.02869901]]\n",
      "Cost at 348th loop = [[13.02716134]]\n",
      "Cost at 352th loop = [[13.02566133]]\n",
      "Cost at 356th loop = [[13.0241992]]\n",
      "Cost at 360th loop = [[13.02277514]]\n",
      "Cost at 364th loop = [[13.02138934]]\n",
      "Cost at 368th loop = [[13.02004201]]\n",
      "Cost at 372th loop = [[13.01873336]]\n",
      "Cost at 376th loop = [[13.01746359]]\n",
      "Cost at 380th loop = [[13.0162329]]\n",
      "Cost at 384th loop = [[13.01504151]]\n",
      "Cost at 388th loop = [[13.01388962]]\n",
      "Cost at 392th loop = [[13.01277745]]\n",
      "Cost at 396th loop = [[13.01170521]]\n",
      "Cost at 400th loop = [[13.01067312]]\n",
      "Cost at 404th loop = [[13.00968139]]\n",
      "Cost at 408th loop = [[13.00873025]]\n",
      "Cost at 412th loop = [[13.00781992]]\n",
      "Cost at 416th loop = [[13.00695062]]\n",
      "Cost at 420th loop = [[13.00612258]]\n",
      "Cost at 424th loop = [[13.00533602]]\n",
      "Cost at 428th loop = [[13.00459118]]\n",
      "Cost at 432th loop = [[13.00388828]]\n",
      "Cost at 436th loop = [[13.00322756]]\n",
      "Cost at 440th loop = [[13.00260925]]\n",
      "Cost at 444th loop = [[13.00203359]]\n",
      "Cost at 448th loop = [[13.00150083]]\n",
      "Cost at 452th loop = [[13.0010112]]\n",
      "Cost at 456th loop = [[13.00056494]]\n",
      "Cost at 460th loop = [[13.0001623]]\n",
      "Cost at 464th loop = [[12.99980353]]\n",
      "Cost at 468th loop = [[12.99948887]]\n",
      "Cost at 472th loop = [[12.99921859]]\n",
      "Cost at 476th loop = [[12.99899292]]\n",
      "Cost at 480th loop = [[12.99881214]]\n",
      "Cost at 484th loop = [[12.99867648]]\n",
      "Cost at 488th loop = [[12.99858623]]\n",
      "Cost at 492th loop = [[12.99854162]]\n",
      "Cost at 496th loop = [[12.99854294]]\n",
      "Cost at 500th loop = [[12.99859045]]\n",
      "Cost at 504th loop = [[12.9986844]]\n",
      "Cost at 508th loop = [[12.99882508]]\n",
      "Cost at 512th loop = [[12.99901276]]\n",
      "Cost at 516th loop = [[12.9992477]]\n",
      "Cost at 520th loop = [[12.9995302]]\n",
      "Cost at 524th loop = [[12.99986051]]\n",
      "Cost at 528th loop = [[13.00023893]]\n",
      "Cost at 532th loop = [[13.00066574]]\n",
      "Cost at 536th loop = [[13.00114123]]\n",
      "Cost at 540th loop = [[13.00166567]]\n",
      "Cost at 544th loop = [[13.00223936]]\n",
      "Cost at 548th loop = [[13.00286259]]\n",
      "Cost at 552th loop = [[13.00353565]]\n",
      "Cost at 556th loop = [[13.00425884]]\n",
      "Cost at 560th loop = [[13.00503245]]\n",
      "Cost at 564th loop = [[13.00585679]]\n",
      "Cost at 568th loop = [[13.00673216]]\n",
      "Cost at 572th loop = [[13.00765885]]\n",
      "Cost at 576th loop = [[13.00863718]]\n",
      "Cost at 580th loop = [[13.00966745]]\n",
      "Cost at 584th loop = [[13.01074997]]\n",
      "Cost at 588th loop = [[13.01188506]]\n",
      "Cost at 592th loop = [[13.01307303]]\n",
      "Cost at 596th loop = [[13.01431418]]\n",
      "Cost at 600th loop = [[13.01560885]]\n",
      "Cost at 604th loop = [[13.01695735]]\n",
      "Cost at 608th loop = [[13.01836]]\n",
      "Cost at 612th loop = [[13.01981713]]\n",
      "Cost at 616th loop = [[13.02132906]]\n",
      "Cost at 620th loop = [[13.02289611]]\n",
      "Cost at 624th loop = [[13.02451862]]\n",
      "Cost at 628th loop = [[13.02619692]]\n",
      "Cost at 632th loop = [[13.02793135]]\n",
      "Cost at 636th loop = [[13.02972223]]\n",
      "Cost at 640th loop = [[13.0315699]]\n",
      "Cost at 644th loop = [[13.0334747]]\n",
      "Cost at 648th loop = [[13.03543697]]\n",
      "Cost at 652th loop = [[13.03745705]]\n",
      "Cost at 656th loop = [[13.03953529]]\n",
      "Cost at 660th loop = [[13.04167203]]\n",
      "Cost at 664th loop = [[13.04386762]]\n",
      "Cost at 668th loop = [[13.0461224]]\n",
      "Cost at 672th loop = [[13.04843672]]\n",
      "Cost at 676th loop = [[13.05081094]]\n",
      "Cost at 680th loop = [[13.05324541]]\n",
      "Cost at 684th loop = [[13.05574048]]\n",
      "Cost at 688th loop = [[13.0582965]]\n",
      "Cost at 692th loop = [[13.06091384]]\n",
      "Cost at 696th loop = [[13.06359285]]\n",
      "Cost at 700th loop = [[13.06633389]]\n",
      "Cost at 704th loop = [[13.06913732]]\n",
      "Cost at 708th loop = [[13.0720035]]\n",
      "Cost at 712th loop = [[13.0749328]]\n",
      "Cost at 716th loop = [[13.07792557]]\n",
      "Cost at 720th loop = [[13.08098218]]\n",
      "Cost at 724th loop = [[13.084103]]\n",
      "Cost at 728th loop = [[13.0872884]]\n",
      "Cost at 732th loop = [[13.09053873]]\n",
      "Cost at 736th loop = [[13.09385437]]\n",
      "Cost at 740th loop = [[13.09723569]]\n",
      "Cost at 744th loop = [[13.10068305]]\n",
      "Cost at 748th loop = [[13.10419682]]\n",
      "Cost at 752th loop = [[13.10777737]]\n",
      "Cost at 756th loop = [[13.11142508]]\n",
      "Cost at 760th loop = [[13.11514032]]\n",
      "Cost at 764th loop = [[13.11892344]]\n",
      "Cost at 768th loop = [[13.12277484]]\n",
      "Cost at 772th loop = [[13.12669486]]\n",
      "Cost at 776th loop = [[13.1306839]]\n",
      "Cost at 780th loop = [[13.13474231]]\n",
      "Cost at 784th loop = [[13.13887048]]\n",
      "Cost at 788th loop = [[13.14306876]]\n",
      "Cost at 792th loop = [[13.14733753]]\n",
      "Cost at 796th loop = [[13.15167716]]\n",
      "Cost at 800th loop = [[13.15608801]]\n",
      "Cost at 804th loop = [[13.16057047]]\n",
      "Cost at 808th loop = [[13.16512488]]\n",
      "Cost at 812th loop = [[13.16975163]]\n",
      "Cost at 816th loop = [[13.17445108]]\n",
      "Cost at 820th loop = [[13.17922359]]\n",
      "Cost at 824th loop = [[13.18406953]]\n",
      "Cost at 828th loop = [[13.18898926]]\n",
      "Cost at 832th loop = [[13.19398314]]\n",
      "Cost at 836th loop = [[13.19905153]]\n",
      "Cost at 840th loop = [[13.20419479]]\n",
      "Cost at 844th loop = [[13.20941329]]\n",
      "Cost at 848th loop = [[13.21470736]]\n",
      "Cost at 852th loop = [[13.22007738]]\n",
      "Cost at 856th loop = [[13.22552369]]\n",
      "Cost at 860th loop = [[13.23104664]]\n",
      "Cost at 864th loop = [[13.23664658]]\n",
      "Cost at 868th loop = [[13.24232385]]\n",
      "Cost at 872th loop = [[13.2480788]]\n",
      "Cost at 876th loop = [[13.25391177]]\n",
      "Cost at 880th loop = [[13.25982309]]\n",
      "Cost at 884th loop = [[13.26581311]]\n",
      "Cost at 888th loop = [[13.27188216]]\n",
      "Cost at 892th loop = [[13.27803056]]\n"
     ]
    },
    {
     "name": "stdout",
     "output_type": "stream",
     "text": [
      "Cost at 896th loop = [[13.28425865]]\n",
      "Cost at 900th loop = [[13.29056674]]\n",
      "Cost at 904th loop = [[13.29695516]]\n",
      "Cost at 908th loop = [[13.30342423]]\n",
      "Cost at 912th loop = [[13.30997426]]\n",
      "Cost at 916th loop = [[13.31660555]]\n",
      "Cost at 920th loop = [[13.32331842]]\n",
      "Cost at 924th loop = [[13.33011318]]\n",
      "Cost at 928th loop = [[13.33699011]]\n",
      "Cost at 932th loop = [[13.34394951]]\n",
      "Cost at 936th loop = [[13.35099168]]\n",
      "Cost at 940th loop = [[13.35811689]]\n",
      "Cost at 944th loop = [[13.36532544]]\n",
      "Cost at 948th loop = [[13.3726176]]\n",
      "Cost at 952th loop = [[13.37999364]]\n",
      "Cost at 956th loop = [[13.38745383]]\n",
      "Cost at 960th loop = [[13.39499844]]\n",
      "Cost at 964th loop = [[13.40262772]]\n",
      "Cost at 968th loop = [[13.41034192]]\n",
      "Cost at 972th loop = [[13.4181413]]\n",
      "Cost at 976th loop = [[13.42602609]]\n",
      "Cost at 980th loop = [[13.43399654]]\n",
      "Cost at 984th loop = [[13.44205287]]\n",
      "Cost at 988th loop = [[13.45019531]]\n",
      "Cost at 992th loop = [[13.45842409]]\n",
      "Cost at 996th loop = [[13.46673941]]\n",
      "Cost at 1000th loop = [[13.47514149]]\n",
      "Cost at 1004th loop = [[13.48363052]]\n",
      "Cost at 1008th loop = [[13.49220671]]\n",
      "Cost at 1012th loop = [[13.50087025]]\n",
      "Cost at 1016th loop = [[13.50962132]]\n",
      "Cost at 1020th loop = [[13.51846009]]\n",
      "Cost at 1024th loop = [[13.52738674]]\n",
      "Cost at 1028th loop = [[13.53640144]]\n",
      "Cost at 1032th loop = [[13.54550434]]\n",
      "Cost at 1036th loop = [[13.55469559]]\n",
      "Cost at 1040th loop = [[13.56397534]]\n",
      "Cost at 1044th loop = [[13.57334372]]\n",
      "Cost at 1048th loop = [[13.58280087]]\n",
      "Cost at 1052th loop = [[13.59234691]]\n",
      "Cost at 1056th loop = [[13.60198195]]\n",
      "Cost at 1060th loop = [[13.61170611]]\n",
      "Cost at 1064th loop = [[13.62151948]]\n",
      "Cost at 1068th loop = [[13.63142217]]\n",
      "Cost at 1072th loop = [[13.64141426]]\n",
      "Cost at 1076th loop = [[13.65149583]]\n",
      "Cost at 1080th loop = [[13.66166695]]\n",
      "Cost at 1084th loop = [[13.67192768]]\n",
      "Cost at 1088th loop = [[13.6822781]]\n",
      "Cost at 1092th loop = [[13.69271824]]\n",
      "Cost at 1096th loop = [[13.70324814]]\n",
      "Cost at 1100th loop = [[13.71386785]]\n",
      "Cost at 1104th loop = [[13.72457739]]\n",
      "Cost at 1108th loop = [[13.73537678]]\n",
      "Cost at 1112th loop = [[13.74626603]]\n",
      "Cost at 1116th loop = [[13.75724514]]\n",
      "Cost at 1120th loop = [[13.76831412]]\n",
      "Cost at 1124th loop = [[13.77947294]]\n",
      "Cost at 1128th loop = [[13.79072159]]\n",
      "Cost at 1132th loop = [[13.80206005]]\n",
      "Cost at 1136th loop = [[13.81348827]]\n",
      "Cost at 1140th loop = [[13.82500622]]\n",
      "Cost at 1144th loop = [[13.83661385]]\n",
      "Cost at 1148th loop = [[13.84831108]]\n",
      "Cost at 1152th loop = [[13.86009787]]\n",
      "Cost at 1156th loop = [[13.87197414]]\n",
      "Cost at 1160th loop = [[13.8839398]]\n",
      "Cost at 1164th loop = [[13.89599476]]\n",
      "Cost at 1168th loop = [[13.90813893]]\n",
      "Cost at 1172th loop = [[13.92037221]]\n",
      "Cost at 1176th loop = [[13.93269447]]\n",
      "Cost at 1180th loop = [[13.94510561]]\n",
      "Cost at 1184th loop = [[13.95760549]]\n",
      "Cost at 1188th loop = [[13.97019398]]\n",
      "Cost at 1192th loop = [[13.98287093]]\n",
      "Cost at 1196th loop = [[13.9956362]]\n",
      "Cost at 1200th loop = [[14.00848963]]\n",
      "Cost at 1204th loop = [[14.02143106]]\n",
      "Cost at 1208th loop = [[14.0344603]]\n",
      "Cost at 1212th loop = [[14.0475772]]\n",
      "Cost at 1216th loop = [[14.06078155]]\n",
      "Cost at 1220th loop = [[14.07407316]]\n",
      "Cost at 1224th loop = [[14.08745184]]\n",
      "Cost at 1228th loop = [[14.10091738]]\n",
      "Cost at 1232th loop = [[14.11446956]]\n",
      "Cost at 1236th loop = [[14.12810817]]\n",
      "Cost at 1240th loop = [[14.14183297]]\n",
      "Cost at 1244th loop = [[14.15564374]]\n",
      "Cost at 1248th loop = [[14.16954023]]\n",
      "Cost at 1252th loop = [[14.1835222]]\n",
      "Cost at 1256th loop = [[14.19758939]]\n",
      "Cost at 1260th loop = [[14.21174154]]\n",
      "Cost at 1264th loop = [[14.2259784]]\n",
      "Cost at 1268th loop = [[14.24029968]]\n",
      "Cost at 1272th loop = [[14.25470512]]\n",
      "Cost at 1276th loop = [[14.26919442]]\n",
      "Cost at 1280th loop = [[14.2837673]]\n",
      "Cost at 1284th loop = [[14.29842347]]\n",
      "Cost at 1288th loop = [[14.31316263]]\n",
      "Cost at 1292th loop = [[14.32798446]]\n",
      "Cost at 1296th loop = [[14.34288866]]\n",
      "Cost at 1300th loop = [[14.35787492]]\n",
      "Cost at 1304th loop = [[14.37294292]]\n",
      "Cost at 1308th loop = [[14.38809232]]\n",
      "Cost at 1312th loop = [[14.4033228]]\n",
      "Cost at 1316th loop = [[14.41863402]]\n",
      "Cost at 1320th loop = [[14.43402565]]\n",
      "Cost at 1324th loop = [[14.44949734]]\n",
      "Cost at 1328th loop = [[14.46504874]]\n",
      "Cost at 1332th loop = [[14.48067949]]\n",
      "Cost at 1336th loop = [[14.49638925]]\n",
      "Cost at 1340th loop = [[14.51217765]]\n",
      "Cost at 1344th loop = [[14.52804432]]\n",
      "Cost at 1348th loop = [[14.5439889]]\n",
      "Cost at 1352th loop = [[14.56001102]]\n",
      "Cost at 1356th loop = [[14.57611029]]\n",
      "Cost at 1360th loop = [[14.59228635]]\n",
      "Cost at 1364th loop = [[14.6085388]]\n",
      "Cost at 1368th loop = [[14.62486727]]\n",
      "Cost at 1372th loop = [[14.64127135]]\n",
      "Cost at 1376th loop = [[14.65775068]]\n",
      "Cost at 1380th loop = [[14.67430484]]\n",
      "Cost at 1384th loop = [[14.69093344]]\n",
      "Cost at 1388th loop = [[14.70763608]]\n",
      "Cost at 1392th loop = [[14.72441237]]\n",
      "Cost at 1396th loop = [[14.74126189]]\n",
      "Cost at 1400th loop = [[14.75818424]]\n",
      "Cost at 1404th loop = [[14.77517901]]\n",
      "Cost at 1408th loop = [[14.79224579]]\n",
      "Cost at 1412th loop = [[14.80938417]]\n",
      "Cost at 1416th loop = [[14.82659373]]\n",
      "Cost at 1420th loop = [[14.84387406]]\n",
      "Cost at 1424th loop = [[14.86122474]]\n",
      "Cost at 1428th loop = [[14.87864535]]\n",
      "Cost at 1432th loop = [[14.89613547]]\n",
      "Cost at 1436th loop = [[14.91369468]]\n",
      "Cost at 1440th loop = [[14.93132257]]\n",
      "Cost at 1444th loop = [[14.94901869]]\n",
      "Cost at 1448th loop = [[14.96678264]]\n",
      "Cost at 1452th loop = [[14.98461398]]\n",
      "Cost at 1456th loop = [[15.00251229]]\n",
      "Cost at 1460th loop = [[15.02047715]]\n",
      "Cost at 1464th loop = [[15.03850812]]\n",
      "Cost at 1468th loop = [[15.05660478]]\n",
      "Cost at 1472th loop = [[15.0747667]]\n",
      "Cost at 1476th loop = [[15.09299346]]\n",
      "Cost at 1480th loop = [[15.11128462]]\n",
      "Cost at 1484th loop = [[15.12963976]]\n",
      "Cost at 1488th loop = [[15.14805845]]\n",
      "Cost at 1492th loop = [[15.16654027]]\n",
      "Cost at 1496th loop = [[15.18508478]]\n",
      "Cost at 1500th loop = [[15.20369156]]\n",
      "Cost at 1504th loop = [[15.22236018]]\n",
      "Cost at 1508th loop = [[15.24109022]]\n",
      "Cost at 1512th loop = [[15.25988124]]\n",
      "Cost at 1516th loop = [[15.27873284]]\n",
      "Cost at 1520th loop = [[15.29764457]]\n",
      "Cost at 1524th loop = [[15.31661602]]\n",
      "Cost at 1528th loop = [[15.33564677]]\n",
      "Cost at 1532th loop = [[15.35473639]]\n",
      "Cost at 1536th loop = [[15.37388446]]\n",
      "Cost at 1540th loop = [[15.39309056]]\n",
      "Cost at 1544th loop = [[15.41235428]]\n",
      "Cost at 1548th loop = [[15.4316752]]\n",
      "Cost at 1552th loop = [[15.45105289]]\n",
      "Cost at 1556th loop = [[15.47048696]]\n",
      "Cost at 1560th loop = [[15.48997697]]\n",
      "Cost at 1564th loop = [[15.50952253]]\n",
      "Cost at 1568th loop = [[15.52912322]]\n",
      "Cost at 1572th loop = [[15.54877863]]\n",
      "Cost at 1576th loop = [[15.56848835]]\n",
      "Cost at 1580th loop = [[15.58825198]]\n",
      "Cost at 1584th loop = [[15.60806912]]\n",
      "Cost at 1588th loop = [[15.62793936]]\n",
      "Cost at 1592th loop = [[15.6478623]]\n",
      "Cost at 1596th loop = [[15.66783754]]\n",
      "Cost at 1600th loop = [[15.68786469]]\n",
      "Cost at 1604th loop = [[15.70794335]]\n",
      "Cost at 1608th loop = [[15.72807313]]\n",
      "Cost at 1612th loop = [[15.74825364]]\n",
      "Cost at 1616th loop = [[15.76848448]]\n",
      "Cost at 1620th loop = [[15.78876528]]\n",
      "Cost at 1624th loop = [[15.80909564]]\n",
      "Cost at 1628th loop = [[15.82947519]]\n",
      "Cost at 1632th loop = [[15.84990354]]\n",
      "Cost at 1636th loop = [[15.87038031]]\n",
      "Cost at 1640th loop = [[15.89090513]]\n",
      "Cost at 1644th loop = [[15.91147763]]\n",
      "Cost at 1648th loop = [[15.93209743]]\n",
      "Cost at 1652th loop = [[15.95276416]]\n",
      "Cost at 1656th loop = [[15.97347746]]\n",
      "Cost at 1660th loop = [[15.99423696]]\n",
      "Cost at 1664th loop = [[16.01504229]]\n",
      "Cost at 1668th loop = [[16.03589311]]\n",
      "Cost at 1672th loop = [[16.05678904]]\n",
      "Cost at 1676th loop = [[16.07772974]]\n",
      "Cost at 1680th loop = [[16.09871486]]\n",
      "Cost at 1684th loop = [[16.11974403]]\n",
      "Cost at 1688th loop = [[16.14081691]]\n",
      "Cost at 1692th loop = [[16.16193316]]\n",
      "Cost at 1696th loop = [[16.18309244]]\n",
      "Cost at 1700th loop = [[16.2042944]]\n",
      "Cost at 1704th loop = [[16.2255387]]\n",
      "Cost at 1708th loop = [[16.24682501]]\n",
      "Cost at 1712th loop = [[16.26815299]]\n",
      "Cost at 1716th loop = [[16.28952232]]\n",
      "Cost at 1720th loop = [[16.31093266]]\n",
      "Cost at 1724th loop = [[16.33238369]]\n",
      "Cost at 1728th loop = [[16.35387509]]\n",
      "Cost at 1732th loop = [[16.37540654]]\n",
      "Cost at 1736th loop = [[16.3969777]]\n",
      "Cost at 1740th loop = [[16.41858828]]\n",
      "Cost at 1744th loop = [[16.44023796]]\n",
      "Cost at 1748th loop = [[16.46192642]]\n",
      "Cost at 1752th loop = [[16.48365336]]\n",
      "Cost at 1756th loop = [[16.50541847]]\n",
      "Cost at 1760th loop = [[16.52722144]]\n"
     ]
    },
    {
     "name": "stdout",
     "output_type": "stream",
     "text": [
      "Cost at 1764th loop = [[16.54906199]]\n",
      "Cost at 1768th loop = [[16.5709398]]\n",
      "Cost at 1772th loop = [[16.59285458]]\n",
      "Cost at 1776th loop = [[16.61480604]]\n",
      "Cost at 1780th loop = [[16.63679389]]\n",
      "Cost at 1784th loop = [[16.65881784]]\n",
      "Cost at 1788th loop = [[16.6808776]]\n",
      "Cost at 1792th loop = [[16.70297289]]\n",
      "Cost at 1796th loop = [[16.72510343]]\n",
      "Cost at 1800th loop = [[16.74726894]]\n",
      "Cost at 1804th loop = [[16.76946914]]\n",
      "Cost at 1808th loop = [[16.79170375]]\n",
      "Cost at 1812th loop = [[16.81397252]]\n",
      "Cost at 1816th loop = [[16.83627516]]\n",
      "Cost at 1820th loop = [[16.85861141]]\n",
      "Cost at 1824th loop = [[16.88098101]]\n",
      "Cost at 1828th loop = [[16.9033837]]\n",
      "Cost at 1832th loop = [[16.92581921]]\n",
      "Cost at 1836th loop = [[16.94828728]]\n",
      "Cost at 1840th loop = [[16.97078767]]\n",
      "Cost at 1844th loop = [[16.99332012]]\n",
      "Cost at 1848th loop = [[17.01588438]]\n",
      "Cost at 1852th loop = [[17.0384802]]\n",
      "Cost at 1856th loop = [[17.06110734]]\n",
      "Cost at 1860th loop = [[17.08376554]]\n",
      "Cost at 1864th loop = [[17.10645458]]\n",
      "Cost at 1868th loop = [[17.12917421]]\n",
      "Cost at 1872th loop = [[17.1519242]]\n",
      "Cost at 1876th loop = [[17.17470431]]\n",
      "Cost at 1880th loop = [[17.1975143]]\n",
      "Cost at 1884th loop = [[17.22035395]]\n",
      "Cost at 1888th loop = [[17.24322303]]\n",
      "Cost at 1892th loop = [[17.26612132]]\n",
      "Cost at 1896th loop = [[17.28904858]]\n",
      "Cost at 1900th loop = [[17.3120046]]\n",
      "Cost at 1904th loop = [[17.33498917]]\n",
      "Cost at 1908th loop = [[17.35800205]]\n",
      "Cost at 1912th loop = [[17.38104304]]\n",
      "Cost at 1916th loop = [[17.40411192]]\n",
      "Cost at 1920th loop = [[17.42720848]]\n",
      "Cost at 1924th loop = [[17.45033252]]\n",
      "Cost at 1928th loop = [[17.47348381]]\n",
      "Cost at 1932th loop = [[17.49666217]]\n",
      "Cost at 1936th loop = [[17.51986739]]\n",
      "Cost at 1940th loop = [[17.54309926]]\n",
      "Cost at 1944th loop = [[17.56635758]]\n",
      "Cost at 1948th loop = [[17.58964216]]\n",
      "Cost at 1952th loop = [[17.61295281]]\n",
      "Cost at 1956th loop = [[17.63628932]]\n",
      "Cost at 1960th loop = [[17.65965151]]\n",
      "Cost at 1964th loop = [[17.68303919]]\n",
      "Cost at 1968th loop = [[17.70645217]]\n",
      "Cost at 1972th loop = [[17.72989025]]\n",
      "Cost at 1976th loop = [[17.75335327]]\n",
      "Cost at 1980th loop = [[17.77684103]]\n",
      "Cost at 1984th loop = [[17.80035336]]\n",
      "Cost at 1988th loop = [[17.82389008]]\n",
      "Cost at 1992th loop = [[17.847451]]\n",
      "Cost at 1996th loop = [[17.87103595]]\n"
     ]
    }
   ],
   "source": [
    "#optimise\n",
    "alpha = 0.001\n",
    "iterations = 2000\n",
    "global costs\n",
    "costs=[]\n",
    "for i in range(iterations):\n",
    "    forward()\n",
    "    if i%4 ==0:\n",
    "        cost()\n",
    "        costs.append(J)\n",
    "        print(f'Cost at {i}th loop = {J}')\n",
    "    backward()\n",
    "    W = W - alpha*dW\n",
    "    b = b - alpha*db"
   ]
  },
  {
   "cell_type": "code",
   "execution_count": 199,
   "metadata": {},
   "outputs": [
    {
     "data": {
      "image/png": "[encoded data removed]",
      "text/plain": [
       "<Figure size 432x288 with 1 Axes>"
      ]
     },
     "metadata": {
      "needs_background": "light"
     },
     "output_type": "display_data"
    },
    {
     "data": {
      "text/plain": [
       "500"
      ]
     },
     "execution_count": 199,
     "metadata": {},
     "output_type": "execute_result"
    }
   ],
   "source": [
    "plt.plot(np.arange(0,2000,4), np.array(costs).reshape(len(costs),1))\n",
    "plt.ylabel('cost')\n",
    "plt.xlabel('iterations')\n",
    "plt.show()\n",
    "len(costs)\n"
   ]
  },
  {
   "cell_type": "code",
   "execution_count": 200,
   "metadata": {},
   "outputs": [],
   "source": [
    "# A[:,0].max() == A[:,0]\n",
    "O = (np.max(A,axis=0) == A).T * np.array([0,1,2,3,4,5,6,7,8,9]).T"
   ]
  },
  {
   "cell_type": "code",
   "execution_count": 201,
   "metadata": {},
   "outputs": [
    {
     "data": {
      "text/plain": [
       "(array([3, 0, 4, ..., 8, 0, 8]), array([5, 0, 4, ..., 5, 6, 8], dtype=uint8))"
      ]
     },
     "execution_count": 201,
     "metadata": {},
     "output_type": "execute_result"
    }
   ],
   "source": [
    "F = np.sum(O,axis=1)\n",
    "F,train_labels"
   ]
  },
  {
   "cell_type": "code",
   "execution_count": 202,
   "metadata": {},
   "outputs": [
    {
     "name": "stdout",
     "output_type": "stream",
     "text": [
      "40390 images correctly labeled out of 60000 for Train Set\n"
     ]
    }
   ],
   "source": [
    "print(f'{np.sum(F==train_labels)} images correctly labeled out of {train_labels.shape[0]} for Train Set')"
   ]
  },
  {
   "cell_type": "code",
   "execution_count": 203,
   "metadata": {},
   "outputs": [
    {
     "name": "stdout",
     "output_type": "stream",
     "text": [
      "Accuracy : 90.0001457656297 on Train Set\n"
     ]
    }
   ],
   "source": [
    "print(f'Accuracy : {100 - np.mean(np.abs(A- Y_hot))*100} on Train Set')"
   ]
  },
  {
   "cell_type": "code",
   "execution_count": 204,
   "metadata": {},
   "outputs": [
    {
     "name": "stdout",
     "output_type": "stream",
     "text": [
      "Cost for training was [[17.87103595]]\n"
     ]
    }
   ],
   "source": [
    "print(f'Cost for training was {J}')"
   ]
  },
  {
   "cell_type": "code",
   "execution_count": 205,
   "metadata": {},
   "outputs": [],
   "source": [
    "# test\n",
    "Z_test = np.dot(W.T, X_test) + b[:,:10000]\n",
    "A_test = softmax(Z_test)\n",
    "L_test = -np.sum(Y_test_hot*np.log(A_test), keepdims=True, axis=0)\n",
    "J_test = np.sum(L_test, keepdims=True, axis=1)*(1/m)"
   ]
  },
  {
   "cell_type": "code",
   "execution_count": 206,
   "metadata": {},
   "outputs": [
    {
     "data": {
      "text/plain": [
       "(array([7, 3, 1, ..., 8, 8, 6]), array([7, 2, 1, ..., 4, 5, 6], dtype=uint8))"
      ]
     },
     "execution_count": 206,
     "metadata": {},
     "output_type": "execute_result"
    }
   ],
   "source": [
    "O_test = (np.max(A_test,axis=0) == A_test).T * np.array([0,1,2,3,4,5,6,7,8,9]).T\n",
    "F_test = np.sum(O_test,axis=1)\n",
    "F_test, test_labels"
   ]
  },
  {
   "cell_type": "code",
   "execution_count": 207,
   "metadata": {},
   "outputs": [
    {
     "name": "stdout",
     "output_type": "stream",
     "text": [
      "6814 images correctly labeled out of 10000 for Test Set\n"
     ]
    }
   ],
   "source": [
    "print(f'{np.sum(F_test==test_labels)} images correctly labeled out of {test_labels.shape[0]} for Test Set')"
   ]
  },
  {
   "cell_type": "code",
   "execution_count": 208,
   "metadata": {},
   "outputs": [
    {
     "name": "stdout",
     "output_type": "stream",
     "text": [
      "Accuracy : 90.00084644323799 on Test Set\n"
     ]
    }
   ],
   "source": [
    "print(f'Accuracy : {100 - np.mean(np.abs(A_test- Y_test_hot))*100} on Test Set')"
   ]
  },
  {
   "cell_type": "code",
   "execution_count": 209,
   "metadata": {},
   "outputs": [
    {
     "name": "stdout",
     "output_type": "stream",
     "text": [
      "Cost for training was [[2.7277507]]\n"
     ]
    }
   ],
   "source": [
    "print(f'Cost for training was {J_test}')"
   ]
  },
  {
   "cell_type": "code",
   "execution_count": 211,
   "metadata": {},
   "outputs": [
    {
     "name": "stdout",
     "output_type": "stream",
     "text": [
      "The image no. is 2 and my Model predicts 3\n"
     ]
    },
    {
     "data": {
      "image/png": "[encoded data removed]",
      "text/plain": [
       "<Figure size 432x288 with 1 Axes>"
      ]
     },
     "metadata": {
      "needs_background": "light"
     },
     "output_type": "display_data"
    }
   ],
   "source": [
    "image = 1 #5247\n",
    "plt.imshow(test_images[image])\n",
    "print(f'The image no. is {test_labels[image]} and my Model predicts {F_test[image]}')"
   ]
  },
  {
   "cell_type": "code",
   "execution_count": 165,
   "metadata": {},
   "outputs": [
    {
     "data": {
      "text/plain": [
       "(10, 10000)"
      ]
     },
     "execution_count": 165,
     "metadata": {},
     "output_type": "execute_result"
    }
   ],
   "source": [
    "b[:,:10000].shape"
   ]
  },
  {
   "cell_type": "code",
   "execution_count": null,
   "metadata": {},
   "outputs": [],
   "source": []
  },
  {
   "cell_type": "code",
   "execution_count": null,
   "metadata": {},
   "outputs": [],
   "source": []
  }
 ],
 "metadata": {
  "kernelspec": {
   "display_name": "Python 3",
   "language": "python",
   "name": "python3"
  },
  "language_info": {
   "codemirror_mode": {
    "name": "ipython",
    "version": 3
   },
   "file_extension": ".py",
   "mimetype": "text/x-python",
   "name": "python",
   "nbconvert_exporter": "python",
   "pygments_lexer": "ipython3",
   "version": "3.8.3"
  }
 },
 "nbformat": 4,
 "nbformat_minor": 4
}
