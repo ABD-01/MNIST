{
 "cells": [
  {
   "cell_type": "code",
   "execution_count": 1,
   "metadata": {},
   "outputs": [],
   "source": [
    "import matplotlib.pyplot as plt\n",
    "import numpy as np\n",
    "import idx2numpy\n",
    "from tqdm import tqdm"
   ]
  },
  {
   "cell_type": "code",
   "execution_count": 2,
   "metadata": {},
   "outputs": [],
   "source": [
    "test_images = idx2numpy.convert_from_file('t10k-images.idx3-ubyte')\n",
    "test_labels = idx2numpy.convert_from_file('t10k-labels.idx1-ubyte')\n",
    "train_images = idx2numpy.convert_from_file('train-images.idx3-ubyte')\n",
    "train_labels = idx2numpy.convert_from_file('train-labels.idx1-ubyte')"
   ]
  },
  {
   "cell_type": "code",
   "execution_count": 3,
   "metadata": {},
   "outputs": [
    {
     "name": "stdout",
     "output_type": "stream",
     "text": [
      "(10000, 28, 28)\n",
      "(10000,)\n",
      "(60000, 28, 28)\n",
      "(60000,)\n"
     ]
    }
   ],
   "source": [
    "print(test_images.shape)\n",
    "print(test_labels.shape)\n",
    "print(train_images.shape)\n",
    "print(train_labels.shape)"
   ]
  },
  {
   "cell_type": "code",
   "execution_count": 4,
   "metadata": {},
   "outputs": [],
   "source": [
    "train_images_flat=train_images.reshape(train_images.shape[0], -1).T\n",
    "test_images_flat=test_images.reshape(test_images.shape[0], -1).T"
   ]
  },
  {
   "cell_type": "code",
   "execution_count": 5,
   "metadata": {},
   "outputs": [
    {
     "name": "stdout",
     "output_type": "stream",
     "text": [
      "(784, 60000)\n",
      "(784, 10000)\n",
      "Train Examples=60000\n",
      "Test Examples=10000\n"
     ]
    }
   ],
   "source": [
    "print(train_images_flat.shape)\n",
    "print(test_images_flat.shape)\n",
    "m = train_images_flat.shape[1]\n",
    "m_test = test_images_flat.shape[1]\n",
    "print(f\"Train Examples={m}\")\n",
    "print(f\"Test Examples={m_test}\")\n",
    "X = train_images_flat/255\n",
    "X_test = test_images_flat/255"
   ]
  },
  {
   "cell_type": "code",
   "execution_count": 8,
   "metadata": {},
   "outputs": [
    {
     "data": {
      "text/plain": [
       "(1, 60000)"
      ]
     },
     "execution_count": 8,
     "metadata": {},
     "output_type": "execute_result"
    }
   ],
   "source": [
    "# Y = train_labels.reshape(train_labels.shape[0],1).T # Y.shape is (1, m)\n",
    "# Y.shape"
   ]
  },
  {
   "cell_type": "code",
   "execution_count": 6,
   "metadata": {},
   "outputs": [],
   "source": [
    "def one_hot(row_vector, no_classes):\n",
    "    one_hot_vector = np.eye(no_classes)[row_vector.reshape(-1)]\n",
    "    return one_hot_vector.T"
   ]
  },
  {
   "cell_type": "code",
   "execution_count": 152,
   "metadata": {},
   "outputs": [
    {
     "name": "stdout",
     "output_type": "stream",
     "text": [
      "No. of Classes=10\n",
      "(10, 60000)\n",
      "(10, 10000)\n"
     ]
    }
   ],
   "source": [
    "C = train_labels.max()+1\n",
    "print(f\"No. of Classes={C}\")\n",
    "Y_hot = one_hot(train_labels,no_classes=C)\n",
    "Y_test_hot = one_hot(test_labels,no_classes=C)\n",
    "print(Y_hot.shape) #Y_hot.shape is (C,m)\n",
    "print(Y_test_hot.shape) #Y_hot.shape is (C,m)"
   ]
  },
  {
   "cell_type": "code",
   "execution_count": 212,
   "metadata": {},
   "outputs": [],
   "source": [
    "def initialize():\n",
    "    global W,b\n",
    "    W = np.random.randn(train_images_flat.shape[0], C)*0.001 # W.shape is (n_x,1)\n",
    "    b = np.zeros((1,m)) #b.shape is (1,m)\n",
    "initialize()"
   ]
  },
  {
   "cell_type": "code",
   "execution_count": 213,
   "metadata": {},
   "outputs": [
    {
     "name": "stdout",
     "output_type": "stream",
     "text": [
      "(784, 10)\n",
      "(1, 60000)\n"
     ]
    }
   ],
   "source": [
    "print(W.shape)\n",
    "print(b.shape)"
   ]
  },
  {
   "cell_type": "code",
   "execution_count": 214,
   "metadata": {},
   "outputs": [],
   "source": [
    "def softmax(z):\n",
    "    t = np.exp(z)\n",
    "    a = t / np.sum(t, keepdims=True, axis=0)\n",
    "    return a"
   ]
  },
  {
   "cell_type": "code",
   "execution_count": 215,
   "metadata": {},
   "outputs": [],
   "source": [
    "def forward():\n",
    "    global Z,A\n",
    "    Z = np.dot(W.T, X) + b # Z.shape is (C,m)\n",
    "    A = softmax(Z)  # A.shape is (C,m)"
   ]
  },
  {
   "cell_type": "code",
   "execution_count": 216,
   "metadata": {},
   "outputs": [],
   "source": [
    "def cost():\n",
    "    global L,J\n",
    "# Calculate Loss\n",
    "    L = -np.sum(Y_hot*np.log(A), keepdims=True, axis=0) # L.shape is (1,m)   '''NO BROADCASTING GOING ON HERE'''\n",
    "    #calculate Cost\n",
    "    J = np.sum(L, keepdims=True, axis=1)*(1/m) # J.shape is (1,1) "
   ]
  },
  {
   "cell_type": "code",
   "execution_count": 217,
   "metadata": {},
   "outputs": [],
   "source": [
    "# deivatives\n",
    "def backward():\n",
    "    global dZ, dW, db\n",
    "    #dJ/dZ\n",
    "    dZ = A-Y_hot  # dZ.shape is (C,m)   '''BROADCASTING GOING ON HERE'''\n",
    "\n",
    "    #dJ/dW = sum(dL/dW)/m  which is equivalent to np.dot(X,dZ.T)/m\n",
    "    '''\n",
    "    dLdW = X*dZ  # dLdW.shape is (n_x, m)\n",
    "    dW = np.sum(dLdW, keepdims=True, axis=1)/m  #dW.shape is (n_x,1) [same as W.shape]\n",
    "    '''\n",
    "    dW = np.dot(X, dZ.T) / m\n",
    "    #dJ/db\n",
    "    db = np.sum(dZ, keepdims=True, axis=1)/m  # db.shape = (1,1)"
   ]
  },
  {
   "cell_type": "code",
   "execution_count": 218,
   "metadata": {},
   "outputs": [
    {
     "data": {
      "text/plain": [
       "((10, 60000),\n",
       " (10, 60000),\n",
       " (1, 60000),\n",
       " (1, 1),\n",
       " (10, 60000),\n",
       " (10, 60000),\n",
       " (784, 10),\n",
       " (784, 10),\n",
       " (10, 1))"
      ]
     },
     "execution_count": 218,
     "metadata": {},
     "output_type": "execute_result"
    }
   ],
   "source": [
    "forward()\n",
    "cost()\n",
    "backward()\n",
    "A.shape, Y_hot.shape, L.shape, J.shape,Z.shape, dZ.shape, W.shape, dW.shape, db.shape"
   ]
  },
  {
   "cell_type": "code",
   "execution_count": 226,
   "metadata": {},
   "outputs": [],
   "source": [
    "initialize()"
   ]
  },
  {
   "cell_type": "code",
   "execution_count": 227,
   "metadata": {
    "scrolled": true
   },
   "outputs": [
    {
     "name": "stdout",
     "output_type": "stream",
     "text": [
      "Cost at 0th loop = [[2.30249531]]\n",
      "Cost at 4th loop = [[2.29817456]]\n",
      "Cost at 8th loop = [[2.29387058]]\n",
      "Cost at 12th loop = [[2.28958317]]\n",
      "Cost at 16th loop = [[2.28531212]]\n",
      "Cost at 20th loop = [[2.28105725]]\n",
      "Cost at 24th loop = [[2.27681835]]\n",
      "Cost at 28th loop = [[2.27259525]]\n",
      "Cost at 32th loop = [[2.26838777]]\n",
      "Cost at 36th loop = [[2.26419574]]\n",
      "Cost at 40th loop = [[2.26001899]]\n",
      "Cost at 44th loop = [[2.25585736]]\n",
      "Cost at 48th loop = [[2.2517107]]\n",
      "Cost at 52th loop = [[2.24757885]]\n",
      "Cost at 56th loop = [[2.24346166]]\n",
      "Cost at 60th loop = [[2.239359]]\n",
      "Cost at 64th loop = [[2.23527072]]\n",
      "Cost at 68th loop = [[2.2311967]]\n",
      "Cost at 72th loop = [[2.22713679]]\n",
      "Cost at 76th loop = [[2.22309088]]\n",
      "Cost at 80th loop = [[2.21905884]]\n",
      "Cost at 84th loop = [[2.21504054]]\n",
      "Cost at 88th loop = [[2.21103589]]\n",
      "Cost at 92th loop = [[2.20704475]]\n",
      "Cost at 96th loop = [[2.20306703]]\n",
      "Cost at 100th loop = [[2.19910261]]\n",
      "Cost at 104th loop = [[2.19515139]]\n",
      "Cost at 108th loop = [[2.19121327]]\n",
      "Cost at 112th loop = [[2.18728816]]\n",
      "Cost at 116th loop = [[2.18337596]]\n",
      "Cost at 120th loop = [[2.17947657]]\n",
      "Cost at 124th loop = [[2.1755899]]\n",
      "Cost at 128th loop = [[2.17171587]]\n",
      "Cost at 132th loop = [[2.16785439]]\n",
      "Cost at 136th loop = [[2.16400538]]\n",
      "Cost at 140th loop = [[2.16016875]]\n",
      "Cost at 144th loop = [[2.15634443]]\n",
      "Cost at 148th loop = [[2.15253234]]\n",
      "Cost at 152th loop = [[2.1487324]]\n",
      "Cost at 156th loop = [[2.14494454]]\n",
      "Cost at 160th loop = [[2.14116869]]\n",
      "Cost at 164th loop = [[2.13740477]]\n",
      "Cost at 168th loop = [[2.13365273]]\n",
      "Cost at 172th loop = [[2.12991248]]\n",
      "Cost at 176th loop = [[2.12618398]]\n",
      "Cost at 180th loop = [[2.12246715]]\n",
      "Cost at 184th loop = [[2.11876192]]\n",
      "Cost at 188th loop = [[2.11506825]]\n",
      "Cost at 192th loop = [[2.11138607]]\n",
      "Cost at 196th loop = [[2.10771532]]\n",
      "Cost at 200th loop = [[2.10405594]]\n",
      "Cost at 204th loop = [[2.10040788]]\n",
      "Cost at 208th loop = [[2.09677109]]\n",
      "Cost at 212th loop = [[2.09314551]]\n",
      "Cost at 216th loop = [[2.08953108]]\n",
      "Cost at 220th loop = [[2.08592776]]\n",
      "Cost at 224th loop = [[2.08233549]]\n",
      "Cost at 228th loop = [[2.07875423]]\n",
      "Cost at 232th loop = [[2.07518392]]\n",
      "Cost at 236th loop = [[2.07162452]]\n",
      "Cost at 240th loop = [[2.06807599]]\n",
      "Cost at 244th loop = [[2.06453827]]\n",
      "Cost at 248th loop = [[2.06101132]]\n",
      "Cost at 252th loop = [[2.05749509]]\n",
      "Cost at 256th loop = [[2.05398955]]\n",
      "Cost at 260th loop = [[2.05049465]]\n",
      "Cost at 264th loop = [[2.04701034]]\n",
      "Cost at 268th loop = [[2.04353659]]\n",
      "Cost at 272th loop = [[2.04007335]]\n",
      "Cost at 276th loop = [[2.03662058]]\n",
      "Cost at 280th loop = [[2.03317825]]\n",
      "Cost at 284th loop = [[2.02974631]]\n",
      "Cost at 288th loop = [[2.02632472]]\n",
      "Cost at 292th loop = [[2.02291346]]\n",
      "Cost at 296th loop = [[2.01951247]]\n",
      "Cost at 300th loop = [[2.01612172]]\n",
      "Cost at 304th loop = [[2.01274118]]\n",
      "Cost at 308th loop = [[2.00937081]]\n",
      "Cost at 312th loop = [[2.00601057]]\n",
      "Cost at 316th loop = [[2.00266043]]\n",
      "Cost at 320th loop = [[1.99932035]]\n",
      "Cost at 324th loop = [[1.9959903]]\n",
      "Cost at 328th loop = [[1.99267025]]\n",
      "Cost at 332th loop = [[1.98936015]]\n",
      "Cost at 336th loop = [[1.98605999]]\n",
      "Cost at 340th loop = [[1.98276971]]\n",
      "Cost at 344th loop = [[1.9794893]]\n",
      "Cost at 348th loop = [[1.97621872]]\n",
      "Cost at 352th loop = [[1.97295793]]\n",
      "Cost at 356th loop = [[1.96970691]]\n",
      "Cost at 360th loop = [[1.96646562]]\n",
      "Cost at 364th loop = [[1.96323403]]\n",
      "Cost at 368th loop = [[1.96001211]]\n",
      "Cost at 372th loop = [[1.95679984]]\n",
      "Cost at 376th loop = [[1.95359717]]\n",
      "Cost at 380th loop = [[1.95040409]]\n",
      "Cost at 384th loop = [[1.94722055]]\n",
      "Cost at 388th loop = [[1.94404653]]\n",
      "Cost at 392th loop = [[1.940882]]\n",
      "Cost at 396th loop = [[1.93772694]]\n",
      "Cost at 400th loop = [[1.9345813]]\n",
      "Cost at 404th loop = [[1.93144507]]\n",
      "Cost at 408th loop = [[1.92831821]]\n",
      "Cost at 412th loop = [[1.9252007]]\n",
      "Cost at 416th loop = [[1.9220925]]\n",
      "Cost at 420th loop = [[1.91899359]]\n",
      "Cost at 424th loop = [[1.91590395]]\n",
      "Cost at 428th loop = [[1.91282353]]\n",
      "Cost at 432th loop = [[1.90975232]]\n",
      "Cost at 436th loop = [[1.90669029]]\n",
      "Cost at 440th loop = [[1.90363741]]\n",
      "Cost at 444th loop = [[1.90059365]]\n",
      "Cost at 448th loop = [[1.89755898]]\n",
      "Cost at 452th loop = [[1.89453338]]\n",
      "Cost at 456th loop = [[1.89151682]]\n",
      "Cost at 460th loop = [[1.88850928]]\n",
      "Cost at 464th loop = [[1.88551072]]\n",
      "Cost at 468th loop = [[1.88252113]]\n",
      "Cost at 472th loop = [[1.87954047]]\n",
      "Cost at 476th loop = [[1.87656871]]\n",
      "Cost at 480th loop = [[1.87360584]]\n",
      "Cost at 484th loop = [[1.87065182]]\n",
      "Cost at 488th loop = [[1.86770664]]\n",
      "Cost at 492th loop = [[1.86477025]]\n",
      "Cost at 496th loop = [[1.86184264]]\n",
      "Cost at 500th loop = [[1.85892379]]\n",
      "Cost at 504th loop = [[1.85601365]]\n",
      "Cost at 508th loop = [[1.85311222]]\n",
      "Cost at 512th loop = [[1.85021947]]\n",
      "Cost at 516th loop = [[1.84733536]]\n",
      "Cost at 520th loop = [[1.84445987]]\n",
      "Cost at 524th loop = [[1.84159298]]\n",
      "Cost at 528th loop = [[1.83873467]]\n",
      "Cost at 532th loop = [[1.8358849]]\n",
      "Cost at 536th loop = [[1.83304365]]\n",
      "Cost at 540th loop = [[1.83021091]]\n",
      "Cost at 544th loop = [[1.82738663]]\n",
      "Cost at 548th loop = [[1.8245708]]\n",
      "Cost at 552th loop = [[1.82176339]]\n",
      "Cost at 556th loop = [[1.81896438]]\n",
      "Cost at 560th loop = [[1.81617374]]\n",
      "Cost at 564th loop = [[1.81339145]]\n",
      "Cost at 568th loop = [[1.81061749]]\n",
      "Cost at 572th loop = [[1.80785182]]\n",
      "Cost at 576th loop = [[1.80509442]]\n",
      "Cost at 580th loop = [[1.80234528]]\n",
      "Cost at 584th loop = [[1.79960436]]\n",
      "Cost at 588th loop = [[1.79687164]]\n",
      "Cost at 592th loop = [[1.7941471]]\n",
      "Cost at 596th loop = [[1.7914307]]\n",
      "Cost at 600th loop = [[1.78872244]]\n",
      "Cost at 604th loop = [[1.78602228]]\n",
      "Cost at 608th loop = [[1.7833302]]\n",
      "Cost at 612th loop = [[1.78064617]]\n",
      "Cost at 616th loop = [[1.77797018]]\n",
      "Cost at 620th loop = [[1.77530219]]\n",
      "Cost at 624th loop = [[1.77264219]]\n",
      "Cost at 628th loop = [[1.76999015]]\n",
      "Cost at 632th loop = [[1.76734604]]\n",
      "Cost at 636th loop = [[1.76470984]]\n",
      "Cost at 640th loop = [[1.76208153]]\n",
      "Cost at 644th loop = [[1.75946109]]\n",
      "Cost at 648th loop = [[1.75684848]]\n",
      "Cost at 652th loop = [[1.75424369]]\n",
      "Cost at 656th loop = [[1.7516467]]\n",
      "Cost at 660th loop = [[1.74905747]]\n",
      "Cost at 664th loop = [[1.74647599]]\n",
      "Cost at 668th loop = [[1.74390224]]\n",
      "Cost at 672th loop = [[1.74133618]]\n",
      "Cost at 676th loop = [[1.7387778]]\n",
      "Cost at 680th loop = [[1.73622707]]\n",
      "Cost at 684th loop = [[1.73368397]]\n",
      "Cost at 688th loop = [[1.73114848]]\n",
      "Cost at 692th loop = [[1.72862057]]\n",
      "Cost at 696th loop = [[1.72610022]]\n",
      "Cost at 700th loop = [[1.7235874]]\n",
      "Cost at 704th loop = [[1.7210821]]\n",
      "Cost at 708th loop = [[1.71858429]]\n",
      "Cost at 712th loop = [[1.71609394]]\n",
      "Cost at 716th loop = [[1.71361104]]\n",
      "Cost at 720th loop = [[1.71113556]]\n",
      "Cost at 724th loop = [[1.70866748]]\n",
      "Cost at 728th loop = [[1.70620677]]\n",
      "Cost at 732th loop = [[1.70375342]]\n",
      "Cost at 736th loop = [[1.7013074]]\n",
      "Cost at 740th loop = [[1.69886868]]\n",
      "Cost at 744th loop = [[1.69643725]]\n",
      "Cost at 748th loop = [[1.69401308]]\n",
      "Cost at 752th loop = [[1.69159615]]\n",
      "Cost at 756th loop = [[1.68918643]]\n",
      "Cost at 760th loop = [[1.68678391]]\n",
      "Cost at 764th loop = [[1.68438856]]\n",
      "Cost at 768th loop = [[1.68200036]]\n",
      "Cost at 772th loop = [[1.67961928]]\n",
      "Cost at 776th loop = [[1.67724532]]\n",
      "Cost at 780th loop = [[1.67487843]]\n",
      "Cost at 784th loop = [[1.6725186]]\n",
      "Cost at 788th loop = [[1.67016581]]\n",
      "Cost at 792th loop = [[1.66782003]]\n",
      "Cost at 796th loop = [[1.66548125]]\n",
      "Cost at 800th loop = [[1.66314944]]\n",
      "Cost at 804th loop = [[1.66082457]]\n",
      "Cost at 808th loop = [[1.65850664]]\n",
      "Cost at 812th loop = [[1.6561956]]\n",
      "Cost at 816th loop = [[1.65389146]]\n",
      "Cost at 820th loop = [[1.65159417]]\n",
      "Cost at 824th loop = [[1.64930372]]\n",
      "Cost at 828th loop = [[1.64702008]]\n",
      "Cost at 832th loop = [[1.64474325]]\n",
      "Cost at 836th loop = [[1.64247318]]\n",
      "Cost at 840th loop = [[1.64020987]]\n",
      "Cost at 844th loop = [[1.63795329]]\n",
      "Cost at 848th loop = [[1.63570342]]\n",
      "Cost at 852th loop = [[1.63346023]]\n",
      "Cost at 856th loop = [[1.63122371]]\n",
      "Cost at 860th loop = [[1.62899384]]\n",
      "Cost at 864th loop = [[1.62677058]]\n",
      "Cost at 868th loop = [[1.62455393]]\n",
      "Cost at 872th loop = [[1.62234386]]\n",
      "Cost at 876th loop = [[1.62014034]]\n",
      "Cost at 880th loop = [[1.61794337]]\n",
      "Cost at 884th loop = [[1.61575291]]\n",
      "Cost at 888th loop = [[1.61356894]]\n",
      "Cost at 892th loop = [[1.61139145]]\n",
      "Cost at 896th loop = [[1.60922041]]\n",
      "Cost at 900th loop = [[1.6070558]]\n",
      "Cost at 904th loop = [[1.60489761]]\n",
      "Cost at 908th loop = [[1.6027458]]\n",
      "Cost at 912th loop = [[1.60060036]]\n",
      "Cost at 916th loop = [[1.59846127]]\n"
     ]
    },
    {
     "name": "stdout",
     "output_type": "stream",
     "text": [
      "Cost at 920th loop = [[1.59632851]]\n",
      "Cost at 924th loop = [[1.59420205]]\n",
      "Cost at 928th loop = [[1.59208188]]\n",
      "Cost at 932th loop = [[1.58996798]]\n",
      "Cost at 936th loop = [[1.58786032]]\n",
      "Cost at 940th loop = [[1.58575888]]\n",
      "Cost at 944th loop = [[1.58366364]]\n",
      "Cost at 948th loop = [[1.58157459]]\n",
      "Cost at 952th loop = [[1.5794917]]\n",
      "Cost at 956th loop = [[1.57741496]]\n",
      "Cost at 960th loop = [[1.57534433]]\n",
      "Cost at 964th loop = [[1.57327981]]\n",
      "Cost at 968th loop = [[1.57122137]]\n",
      "Cost at 972th loop = [[1.56916898]]\n",
      "Cost at 976th loop = [[1.56712264]]\n",
      "Cost at 980th loop = [[1.56508232]]\n",
      "Cost at 984th loop = [[1.56304801]]\n",
      "Cost at 988th loop = [[1.56101967]]\n",
      "Cost at 992th loop = [[1.55899729]]\n",
      "Cost at 996th loop = [[1.55698085]]\n",
      "Cost at 1000th loop = [[1.55497034]]\n",
      "Cost at 1004th loop = [[1.55296572]]\n",
      "Cost at 1008th loop = [[1.55096699]]\n",
      "Cost at 1012th loop = [[1.54897412]]\n",
      "Cost at 1016th loop = [[1.54698709]]\n",
      "Cost at 1020th loop = [[1.54500588]]\n",
      "Cost at 1024th loop = [[1.54303048]]\n",
      "Cost at 1028th loop = [[1.54106086]]\n",
      "Cost at 1032th loop = [[1.539097]]\n",
      "Cost at 1036th loop = [[1.53713889]]\n",
      "Cost at 1040th loop = [[1.5351865]]\n",
      "Cost at 1044th loop = [[1.53323982]]\n",
      "Cost at 1048th loop = [[1.53129883]]\n",
      "Cost at 1052th loop = [[1.5293635]]\n",
      "Cost at 1056th loop = [[1.52743383]]\n",
      "Cost at 1060th loop = [[1.52550978]]\n",
      "Cost at 1064th loop = [[1.52359134]]\n",
      "Cost at 1068th loop = [[1.52167849]]\n",
      "Cost at 1072th loop = [[1.51977121]]\n",
      "Cost at 1076th loop = [[1.51786949]]\n",
      "Cost at 1080th loop = [[1.5159733]]\n",
      "Cost at 1084th loop = [[1.51408263]]\n",
      "Cost at 1088th loop = [[1.51219746]]\n",
      "Cost at 1092th loop = [[1.51031776]]\n",
      "Cost at 1096th loop = [[1.50844352]]\n",
      "Cost at 1100th loop = [[1.50657473]]\n",
      "Cost at 1104th loop = [[1.50471135]]\n",
      "Cost at 1108th loop = [[1.50285338]]\n",
      "Cost at 1112th loop = [[1.5010008]]\n",
      "Cost at 1116th loop = [[1.49915358]]\n",
      "Cost at 1120th loop = [[1.49731171]]\n",
      "Cost at 1124th loop = [[1.49547517]]\n",
      "Cost at 1128th loop = [[1.49364395]]\n",
      "Cost at 1132th loop = [[1.49181801]]\n",
      "Cost at 1136th loop = [[1.48999736]]\n",
      "Cost at 1140th loop = [[1.48818196]]\n",
      "Cost at 1144th loop = [[1.4863718]]\n",
      "Cost at 1148th loop = [[1.48456686]]\n",
      "Cost at 1152th loop = [[1.48276713]]\n",
      "Cost at 1156th loop = [[1.48097258]]\n",
      "Cost at 1160th loop = [[1.4791832]]\n",
      "Cost at 1164th loop = [[1.47739897]]\n",
      "Cost at 1168th loop = [[1.47561988]]\n",
      "Cost at 1172th loop = [[1.4738459]]\n",
      "Cost at 1176th loop = [[1.47207701]]\n",
      "Cost at 1180th loop = [[1.47031321]]\n",
      "Cost at 1184th loop = [[1.46855447]]\n",
      "Cost at 1188th loop = [[1.46680077]]\n",
      "Cost at 1192th loop = [[1.4650521]]\n",
      "Cost at 1196th loop = [[1.46330844]]\n",
      "Cost at 1200th loop = [[1.46156978]]\n",
      "Cost at 1204th loop = [[1.45983609]]\n",
      "Cost at 1208th loop = [[1.45810736]]\n",
      "Cost at 1212th loop = [[1.45638356]]\n",
      "Cost at 1216th loop = [[1.4546647]]\n",
      "Cost at 1220th loop = [[1.45295074]]\n",
      "Cost at 1224th loop = [[1.45124167]]\n",
      "Cost at 1228th loop = [[1.44953747]]\n",
      "Cost at 1232th loop = [[1.44783813]]\n",
      "Cost at 1236th loop = [[1.44614363]]\n",
      "Cost at 1240th loop = [[1.44445395]]\n",
      "Cost at 1244th loop = [[1.44276908]]\n",
      "Cost at 1248th loop = [[1.441089]]\n",
      "Cost at 1252th loop = [[1.43941369]]\n",
      "Cost at 1256th loop = [[1.43774314]]\n",
      "Cost at 1260th loop = [[1.43607732]]\n",
      "Cost at 1264th loop = [[1.43441623]]\n",
      "Cost at 1268th loop = [[1.43275984]]\n",
      "Cost at 1272th loop = [[1.43110815]]\n",
      "Cost at 1276th loop = [[1.42946113]]\n",
      "Cost at 1280th loop = [[1.42781877]]\n",
      "Cost at 1284th loop = [[1.42618105]]\n",
      "Cost at 1288th loop = [[1.42454795]]\n",
      "Cost at 1292th loop = [[1.42291946]]\n",
      "Cost at 1296th loop = [[1.42129557]]\n",
      "Cost at 1300th loop = [[1.41967626]]\n",
      "Cost at 1304th loop = [[1.4180615]]\n",
      "Cost at 1308th loop = [[1.41645129]]\n",
      "Cost at 1312th loop = [[1.41484561]]\n",
      "Cost at 1316th loop = [[1.41324444]]\n",
      "Cost at 1320th loop = [[1.41164778]]\n",
      "Cost at 1324th loop = [[1.41005559]]\n",
      "Cost at 1328th loop = [[1.40846787]]\n",
      "Cost at 1332th loop = [[1.4068846]]\n",
      "Cost at 1336th loop = [[1.40530577]]\n",
      "Cost at 1340th loop = [[1.40373136]]\n",
      "Cost at 1344th loop = [[1.40216135]]\n",
      "Cost at 1348th loop = [[1.40059573]]\n",
      "Cost at 1352th loop = [[1.39903449]]\n",
      "Cost at 1356th loop = [[1.3974776]]\n",
      "Cost at 1360th loop = [[1.39592506]]\n",
      "Cost at 1364th loop = [[1.39437684]]\n",
      "Cost at 1368th loop = [[1.39283294]]\n",
      "Cost at 1372th loop = [[1.39129334]]\n",
      "Cost at 1376th loop = [[1.38975802]]\n",
      "Cost at 1380th loop = [[1.38822696]]\n",
      "Cost at 1384th loop = [[1.38670016]]\n",
      "Cost at 1388th loop = [[1.3851776]]\n",
      "Cost at 1392th loop = [[1.38365926]]\n",
      "Cost at 1396th loop = [[1.38214514]]\n",
      "Cost at 1400th loop = [[1.3806352]]\n",
      "Cost at 1404th loop = [[1.37912944]]\n",
      "Cost at 1408th loop = [[1.37762785]]\n",
      "Cost at 1412th loop = [[1.37613041]]\n",
      "Cost at 1416th loop = [[1.3746371]]\n",
      "Cost at 1420th loop = [[1.37314792]]\n",
      "Cost at 1424th loop = [[1.37166284]]\n",
      "Cost at 1428th loop = [[1.37018185]]\n",
      "Cost at 1432th loop = [[1.36870494]]\n",
      "Cost at 1436th loop = [[1.3672321]]\n",
      "Cost at 1440th loop = [[1.3657633]]\n",
      "Cost at 1444th loop = [[1.36429854]]\n",
      "Cost at 1448th loop = [[1.3628378]]\n",
      "Cost at 1452th loop = [[1.36138107]]\n",
      "Cost at 1456th loop = [[1.35992833]]\n",
      "Cost at 1460th loop = [[1.35847957]]\n",
      "Cost at 1464th loop = [[1.35703477]]\n",
      "Cost at 1468th loop = [[1.35559393]]\n",
      "Cost at 1472th loop = [[1.35415702]]\n",
      "Cost at 1476th loop = [[1.35272404]]\n",
      "Cost at 1480th loop = [[1.35129496]]\n",
      "Cost at 1484th loop = [[1.34986978]]\n",
      "Cost at 1488th loop = [[1.34844849]]\n",
      "Cost at 1492th loop = [[1.34703106]]\n",
      "Cost at 1496th loop = [[1.34561749]]\n",
      "Cost at 1500th loop = [[1.34420776]]\n",
      "Cost at 1504th loop = [[1.34280186]]\n",
      "Cost at 1508th loop = [[1.34139978]]\n",
      "Cost at 1512th loop = [[1.34000149]]\n",
      "Cost at 1516th loop = [[1.338607]]\n",
      "Cost at 1520th loop = [[1.33721628]]\n",
      "Cost at 1524th loop = [[1.33582932]]\n",
      "Cost at 1528th loop = [[1.33444611]]\n",
      "Cost at 1532th loop = [[1.33306663]]\n",
      "Cost at 1536th loop = [[1.33169088]]\n",
      "Cost at 1540th loop = [[1.33031884]]\n",
      "Cost at 1544th loop = [[1.32895049]]\n",
      "Cost at 1548th loop = [[1.32758583]]\n",
      "Cost at 1552th loop = [[1.32622484]]\n",
      "Cost at 1556th loop = [[1.32486751]]\n",
      "Cost at 1560th loop = [[1.32351382]]\n",
      "Cost at 1564th loop = [[1.32216376]]\n",
      "Cost at 1568th loop = [[1.32081733]]\n",
      "Cost at 1572th loop = [[1.3194745]]\n",
      "Cost at 1576th loop = [[1.31813527]]\n",
      "Cost at 1580th loop = [[1.31679961]]\n",
      "Cost at 1584th loop = [[1.31546753]]\n",
      "Cost at 1588th loop = [[1.314139]]\n",
      "Cost at 1592th loop = [[1.31281402]]\n",
      "Cost at 1596th loop = [[1.31149257]]\n",
      "Cost at 1600th loop = [[1.31017464]]\n",
      "Cost at 1604th loop = [[1.30886022]]\n",
      "Cost at 1608th loop = [[1.3075493]]\n",
      "Cost at 1612th loop = [[1.30624185]]\n",
      "Cost at 1616th loop = [[1.30493788]]\n",
      "Cost at 1620th loop = [[1.30363737]]\n",
      "Cost at 1624th loop = [[1.3023403]]\n",
      "Cost at 1628th loop = [[1.30104667]]\n",
      "Cost at 1632th loop = [[1.29975646]]\n",
      "Cost at 1636th loop = [[1.29846966]]\n",
      "Cost at 1640th loop = [[1.29718626]]\n",
      "Cost at 1644th loop = [[1.29590625]]\n",
      "Cost at 1648th loop = [[1.29462962]]\n",
      "Cost at 1652th loop = [[1.29335634]]\n",
      "Cost at 1656th loop = [[1.29208642]]\n",
      "Cost at 1660th loop = [[1.29081984]]\n",
      "Cost at 1664th loop = [[1.28955659]]\n",
      "Cost at 1668th loop = [[1.28829666]]\n",
      "Cost at 1672th loop = [[1.28704003]]\n",
      "Cost at 1676th loop = [[1.28578669]]\n",
      "Cost at 1680th loop = [[1.28453664]]\n",
      "Cost at 1684th loop = [[1.28328986]]\n",
      "Cost at 1688th loop = [[1.28204634]]\n",
      "Cost at 1692th loop = [[1.28080607]]\n",
      "Cost at 1696th loop = [[1.27956903]]\n",
      "Cost at 1700th loop = [[1.27833522]]\n",
      "Cost at 1704th loop = [[1.27710463]]\n",
      "Cost at 1708th loop = [[1.27587724]]\n",
      "Cost at 1712th loop = [[1.27465304]]\n",
      "Cost at 1716th loop = [[1.27343203]]\n",
      "Cost at 1720th loop = [[1.27221418]]\n",
      "Cost at 1724th loop = [[1.27099949]]\n",
      "Cost at 1728th loop = [[1.26978796]]\n",
      "Cost at 1732th loop = [[1.26857956]]\n",
      "Cost at 1736th loop = [[1.26737429]]\n",
      "Cost at 1740th loop = [[1.26617213]]\n",
      "Cost at 1744th loop = [[1.26497308]]\n",
      "Cost at 1748th loop = [[1.26377712]]\n",
      "Cost at 1752th loop = [[1.26258425]]\n",
      "Cost at 1756th loop = [[1.26139445]]\n",
      "Cost at 1760th loop = [[1.26020771]]\n",
      "Cost at 1764th loop = [[1.25902403]]\n",
      "Cost at 1768th loop = [[1.25784339]]\n",
      "Cost at 1772th loop = [[1.25666577]]\n",
      "Cost at 1776th loop = [[1.25549118]]\n",
      "Cost at 1780th loop = [[1.2543196]]\n",
      "Cost at 1784th loop = [[1.25315102]]\n",
      "Cost at 1788th loop = [[1.25198543]]\n",
      "Cost at 1792th loop = [[1.25082282]]\n",
      "Cost at 1796th loop = [[1.24966317]]\n",
      "Cost at 1800th loop = [[1.24850649]]\n",
      "Cost at 1804th loop = [[1.24735275]]\n",
      "Cost at 1808th loop = [[1.24620195]]\n"
     ]
    },
    {
     "name": "stdout",
     "output_type": "stream",
     "text": [
      "Cost at 1812th loop = [[1.24505408]]\n",
      "Cost at 1816th loop = [[1.24390913]]\n",
      "Cost at 1820th loop = [[1.24276709]]\n",
      "Cost at 1824th loop = [[1.24162794]]\n",
      "Cost at 1828th loop = [[1.24049168]]\n",
      "Cost at 1832th loop = [[1.23935831]]\n",
      "Cost at 1836th loop = [[1.2382278]]\n",
      "Cost at 1840th loop = [[1.23710014]]\n",
      "Cost at 1844th loop = [[1.23597534]]\n",
      "Cost at 1848th loop = [[1.23485338]]\n",
      "Cost at 1852th loop = [[1.23373424]]\n",
      "Cost at 1856th loop = [[1.23261793]]\n",
      "Cost at 1860th loop = [[1.23150443]]\n",
      "Cost at 1864th loop = [[1.23039372]]\n",
      "Cost at 1868th loop = [[1.22928581]]\n",
      "Cost at 1872th loop = [[1.22818068]]\n",
      "Cost at 1876th loop = [[1.22707832]]\n",
      "Cost at 1880th loop = [[1.22597872]]\n",
      "Cost at 1884th loop = [[1.22488188]]\n",
      "Cost at 1888th loop = [[1.22378778]]\n",
      "Cost at 1892th loop = [[1.22269641]]\n",
      "Cost at 1896th loop = [[1.22160777]]\n",
      "Cost at 1900th loop = [[1.22052184]]\n",
      "Cost at 1904th loop = [[1.21943862]]\n",
      "Cost at 1908th loop = [[1.2183581]]\n",
      "Cost at 1912th loop = [[1.21728027]]\n",
      "Cost at 1916th loop = [[1.21620511]]\n",
      "Cost at 1920th loop = [[1.21513263]]\n",
      "Cost at 1924th loop = [[1.2140628]]\n",
      "Cost at 1928th loop = [[1.21299563]]\n",
      "Cost at 1932th loop = [[1.2119311]]\n",
      "Cost at 1936th loop = [[1.21086921]]\n",
      "Cost at 1940th loop = [[1.20980993]]\n",
      "Cost at 1944th loop = [[1.20875328]]\n",
      "Cost at 1948th loop = [[1.20769923]]\n",
      "Cost at 1952th loop = [[1.20664778]]\n",
      "Cost at 1956th loop = [[1.20559892]]\n",
      "Cost at 1960th loop = [[1.20455264]]\n",
      "Cost at 1964th loop = [[1.20350893]]\n",
      "Cost at 1968th loop = [[1.20246779]]\n",
      "Cost at 1972th loop = [[1.2014292]]\n",
      "Cost at 1976th loop = [[1.20039316]]\n",
      "Cost at 1980th loop = [[1.19935965]]\n",
      "Cost at 1984th loop = [[1.19832867]]\n",
      "Cost at 1988th loop = [[1.19730021]]\n",
      "Cost at 1992th loop = [[1.19627427]]\n",
      "Cost at 1996th loop = [[1.19525083]]\n"
     ]
    }
   ],
   "source": [
    "#optimise\n",
    "alpha = 0.001\n",
    "iterations = 2000\n",
    "global costs\n",
    "costs=[]\n",
    "for i in range(iterations):\n",
    "    forward()\n",
    "    if i%4 ==0:\n",
    "        cost()\n",
    "        costs.append(J)\n",
    "        print(f'Cost at {i}th loop = {J}')\n",
    "    backward()\n",
    "    W = W - alpha*dW\n",
    "    b = b - alpha*db"
   ]
  },
  {
   "cell_type": "code",
   "execution_count": 228,
   "metadata": {},
   "outputs": [
    {
     "data": {
      "image/png": "[encoded data removed]",
      "text/plain": [
       "<Figure size 432x288 with 1 Axes>"
      ]
     },
     "metadata": {
      "needs_background": "light"
     },
     "output_type": "display_data"
    },
    {
     "data": {
      "text/plain": [
       "500"
      ]
     },
     "execution_count": 228,
     "metadata": {},
     "output_type": "execute_result"
    }
   ],
   "source": [
    "plt.plot(np.arange(0,2000,4), np.array(costs).reshape(len(costs),1))\n",
    "plt.ylabel('cost')\n",
    "plt.xlabel('iterations')\n",
    "plt.show()\n",
    "len(costs)\n"
   ]
  },
  {
   "cell_type": "code",
   "execution_count": 229,
   "metadata": {},
   "outputs": [],
   "source": [
    "# A[:,0].max() == A[:,0]\n",
    "O = (np.max(A,axis=0) == A).T * np.array([0,1,2,3,4,5,6,7,8,9]).T"
   ]
  },
  {
   "cell_type": "code",
   "execution_count": 230,
   "metadata": {},
   "outputs": [
    {
     "data": {
      "text/plain": [
       "(array([3, 0, 4, ..., 5, 6, 8]), array([5, 0, 4, ..., 5, 6, 8], dtype=uint8))"
      ]
     },
     "execution_count": 230,
     "metadata": {},
     "output_type": "execute_result"
    }
   ],
   "source": [
    "F = np.sum(O,axis=1)\n",
    "F,train_labels"
   ]
  },
  {
   "cell_type": "code",
   "execution_count": 231,
   "metadata": {},
   "outputs": [
    {
     "name": "stdout",
     "output_type": "stream",
     "text": [
      "48495 images correctly labeled out of 60000 for Train Set\n"
     ]
    }
   ],
   "source": [
    "print(f'{np.sum(F==train_labels)} images correctly labeled out of {train_labels.shape[0]} for Train Set')"
   ]
  },
  {
   "cell_type": "code",
   "execution_count": 232,
   "metadata": {},
   "outputs": [
    {
     "name": "stdout",
     "output_type": "stream",
     "text": [
      "Accuracy : 86.8419144048125 on Train Set\n"
     ]
    }
   ],
   "source": [
    "print(f'Accuracy : {100 - np.mean(np.abs(A- Y_hot))*100} on Train Set')"
   ]
  },
  {
   "cell_type": "code",
   "execution_count": 233,
   "metadata": {},
   "outputs": [
    {
     "name": "stdout",
     "output_type": "stream",
     "text": [
      "Cost for training was [[1.19525083]]\n"
     ]
    }
   ],
   "source": [
    "print(f'Cost for training was {J}')"
   ]
  },
  {
   "cell_type": "code",
   "execution_count": 234,
   "metadata": {},
   "outputs": [],
   "source": [
    "# test\n",
    "Z_test = np.dot(W.T, X_test) + b[:,:10000]\n",
    "A_test = softmax(Z_test)\n",
    "L_test = -np.sum(Y_test_hot*np.log(A_test), keepdims=True, axis=0)\n",
    "J_test = np.sum(L_test, keepdims=True, axis=1)*(1/m)"
   ]
  },
  {
   "cell_type": "code",
   "execution_count": 235,
   "metadata": {},
   "outputs": [
    {
     "data": {
      "text/plain": [
       "(array([7, 2, 1, ..., 4, 8, 6]), array([7, 2, 1, ..., 4, 5, 6], dtype=uint8))"
      ]
     },
     "execution_count": 235,
     "metadata": {},
     "output_type": "execute_result"
    }
   ],
   "source": [
    "O_test = (np.max(A_test,axis=0) == A_test).T * np.array([0,1,2,3,4,5,6,7,8,9]).T\n",
    "F_test = np.sum(O_test,axis=1)\n",
    "F_test, test_labels"
   ]
  },
  {
   "cell_type": "code",
   "execution_count": 236,
   "metadata": {},
   "outputs": [
    {
     "name": "stdout",
     "output_type": "stream",
     "text": [
      "8192 images correctly labeled out of 10000 for Test Set\n"
     ]
    }
   ],
   "source": [
    "print(f'{np.sum(F_test==test_labels)} images correctly labeled out of {test_labels.shape[0]} for Test Set')"
   ]
  },
  {
   "cell_type": "code",
   "execution_count": 237,
   "metadata": {},
   "outputs": [
    {
     "name": "stdout",
     "output_type": "stream",
     "text": [
      "Accuracy : 86.95809842664818 on Test Set\n"
     ]
    }
   ],
   "source": [
    "print(f'Accuracy : {100 - np.mean(np.abs(A_test- Y_test_hot))*100} on Test Set')"
   ]
  },
  {
   "cell_type": "code",
   "execution_count": 238,
   "metadata": {},
   "outputs": [
    {
     "name": "stdout",
     "output_type": "stream",
     "text": [
      "Cost for training was [[0.19557206]]\n"
     ]
    }
   ],
   "source": [
    "print(f'Cost for training was {J_test}')"
   ]
  },
  {
   "cell_type": "code",
   "execution_count": 241,
   "metadata": {},
   "outputs": [
    {
     "name": "stdout",
     "output_type": "stream",
     "text": [
      "The image no. is 7 and my Model predicts 2\n"
     ]
    },
    {
     "data": {
      "image/png": "[encoded data removed]",
      "text/plain": [
       "<Figure size 432x288 with 1 Axes>"
      ]
     },
     "metadata": {
      "needs_background": "light"
     },
     "output_type": "display_data"
    }
   ],
   "source": [
    "image = 5246\n",
    "plt.imshow(test_images[image])\n",
    "print(f'The image no. is {test_labels[image]} and my Model predicts {F_test[image]}')"
   ]
  },
  {
   "cell_type": "code",
   "execution_count": 165,
   "metadata": {},
   "outputs": [
    {
     "data": {
      "text/plain": [
       "(10, 10000)"
      ]
     },
     "execution_count": 165,
     "metadata": {},
     "output_type": "execute_result"
    }
   ],
   "source": [
    "b[:,:10000].shape"
   ]
  },
  {
   "cell_type": "code",
   "execution_count": null,
   "metadata": {},
   "outputs": [],
   "source": []
  },
  {
   "cell_type": "code",
   "execution_count": null,
   "metadata": {},
   "outputs": [],
   "source": []
  }
 ],
 "metadata": {
  "kernelspec": {
   "display_name": "Python 3",
   "language": "python",
   "name": "python3"
  },
  "language_info": {
   "codemirror_mode": {
    "name": "ipython",
    "version": 3
   },
   "file_extension": ".py",
   "mimetype": "text/x-python",
   "name": "python",
   "nbconvert_exporter": "python",
   "pygments_lexer": "ipython3",
   "version": "3.8.3"
  }
 },
 "nbformat": 4,
 "nbformat_minor": 4
}
